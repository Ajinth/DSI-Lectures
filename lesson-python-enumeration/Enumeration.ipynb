{
 "cells": [
  {
   "cell_type": "markdown",
   "metadata": {},
   "source": [
    "# Introduction: for and while loops (10 mins)\n",
    "---\n",
    "The **for** statement is used to **iterate** over the elements of a sequence. It's \n",
    "used when you have a piece of code which you want to repeat n number of times. \n",
    "You can use any object (such as strings, arrays, lists, tuples, dict and so on) \n",
    "in a for loop in Python.\n",
    "\n",
    "The **while** loop tells the computer to do something as long as a condition is met. \n",
    "A while loop consists of a block of code and a condition. The condition \n",
    "is evaluated, and if the condition is true, the code within the\n",
    "block is executed. This repeats until the condition becomes false. \n",
    "\n",
    "[for and while loops](http://www.pythonforbeginners.com/control-flow-2/python-for-and-while-loops)\n",
    "[for and while loops](http://www.cyberciti.biz/faq/python-for-loop-examples-statements/)"
   ]
  },
  {
   "cell_type": "markdown",
   "metadata": {},
   "source": [
    "# While Loops\n",
    "---\n",
    "```python\n",
    "truth_test = True\n",
    "while truth_test:\n",
    "    print 'hello'\n",
    "```\n",
    "This is an example of a **while** loop. While loops continue to run until the expression after `while` evaluates to `False`. In the example above, the loop will continue to run ad infinitum because we never change `truth_test` be `False` in our block.\n",
    "\n",
    "Now it's time for some practice. We'll create a `while` loop in conjunction with the `input` function to create the following program:\n",
    "![](http://snag.gy/WsiZu.jpg)"
   ]
  },
  {
   "cell_type": "code",
<<<<<<< HEAD
   "execution_count": null,
   "metadata": {
    "collapsed": true,
    "scrolled": true
   },
   "outputs": [],
   "source": [
    "input('what is your name?')"
   ]
  },
  {
   "cell_type": "code",
   "execution_count": null,
   "metadata": {
    "collapsed": true,
    "scrolled": true
   },
   "outputs": [],
   "source": [
    "print(name)"
   ]
  },
  {
   "cell_type": "code",
   "execution_count": null,
   "metadata": {
    "collapsed": true
   },
   "outputs": [],
   "source": [
    "snake_bite_status = 'No'\n",
    "while snake_bite_status == 'No':\n",
    "    print('poke the snake with a stick')\n",
    "    snake_bite_status = input('Did the snake bit you?')\n",
    "print('Go to the hospital')"
   ]
  },
  {
   "cell_type": "code",
   "execution_count": null,
   "metadata": {
    "collapsed": true
   },
   "outputs": [],
   "source": [
    "snake_bite_status = False\n",
    "while snake_bite_status == False:\n",
    "    print('poke the snake with a stick')\n",
    "    snake_bite_status = input('Did the snake bit you?') == 'Yes'\n",
    "print('Go to the hospital')"
=======
   "execution_count": 5,
   "metadata": {},
   "outputs": [
    {
     "name": "stdout",
     "output_type": "stream",
     "text": [
      "Poke the snake with a stick\n",
      "Did the snake bit you?No\n",
      "Poke the snake with a stick\n",
      "Did the snake bit you?No\n",
      "Poke the snake with a stick\n",
      "Did the snake bit you?Yes\n",
      "Go to the hospital\n"
     ]
    }
   ],
   "source": [
    "snake_bit_status = False\n",
    "while snake_bit_status == False:\n",
    "    print(\"Poke the snake with a stick\")\n",
    "    snake_bit_status = input(\"Did the snake bit you?\") == \"Yes\"\n",
    "print(\"Go to the hospital\")"
>>>>>>> 41adb4e49840bd7f56248c36bea80438a198fb05
   ]
  },
  {
   "cell_type": "markdown",
   "metadata": {},
   "source": [
    "Remember, a while loop runs until the expression is `False`. The problem is, sometimes they don't stop. To avoid this, here are some rules to follow:\n",
    "\n",
    "1. Make sure that you use while loops sparingly. Usually a for loop is better.\n",
    "2. Review your while statements and make sure that the boolean test will become False at some point.\n",
    "3. When in doubt, print out your test variable at the top and bottom of the while-loop to see what it's doing.\n"
   ]
  },
  {
   "cell_type": "markdown",
   "metadata": {},
   "source": [
    "# For Loops\n",
    "---\n",
    "```python\n",
    "for count in [1, 2, 3]: \n",
    "    print(count) \n",
    "    print('Yes' * count) \n",
    "```\n",
    "\n",
    "This is a **for** loop. It has the heading starting with **for**, followed by a \n",
    "variable name (count in this case), the word **in**, some sequence, and a final colon. \n",
    "As with function definitions and other heading lines, the **colon** at the end of \n",
    "the line indicates that a consistently **indented block** of statements follows \n",
    "to complete the for loop."
   ]
  },
  {
   "cell_type": "code",
<<<<<<< HEAD
   "execution_count": null,
   "metadata": {
    "collapsed": true
   },
   "outputs": [],
   "source": [
    "for count in [1, 2, 3]: \n",
    "    print(count) \n",
    "    print('Yes' * count)"
=======
   "execution_count": 7,
   "metadata": {},
   "outputs": [
    {
     "name": "stdout",
     "output_type": "stream",
     "text": [
      "1\n",
      "Yes\n",
      "\n",
      "2\n",
      "YesYes\n",
      "\n",
      "3\n",
      "YesYesYes\n",
      "\n"
     ]
    }
   ],
   "source": [
    "for count in [1, 2, 3]: \n",
    "    print(count) \n",
    "    print('Yes' * count)\n",
    "    print('')\n"
>>>>>>> 41adb4e49840bd7f56248c36bea80438a198fb05
   ]
  },
  {
   "cell_type": "markdown",
   "metadata": {},
   "source": [
    "Let's try a simple repeat **for** loop. A repeat loop is for when you just want to repeat the exact same \n",
    "thing a specific number of times. In that case only the length of the sequence, \n",
    "not the individual elements are important. For this, we can use use the `range` function to create our sequence. \n",
    "\n",
    "In the block below, use `range` to create a for loop that prints **Hello** 100 times."
   ]
  },
  {
   "cell_type": "code",
<<<<<<< HEAD
   "execution_count": 1,
=======
   "execution_count": 9,
>>>>>>> 41adb4e49840bd7f56248c36bea80438a198fb05
   "metadata": {},
   "outputs": [
    {
     "name": "stdout",
     "output_type": "stream",
     "text": [
      "Hello\n",
      "Hello\n",
      "Hello\n",
      "Hello\n",
      "Hello\n",
      "Hello\n",
      "Hello\n",
      "Hello\n",
      "Hello\n",
      "Hello\n",
      "Hello\n",
      "Hello\n",
      "Hello\n",
      "Hello\n",
      "Hello\n",
      "Hello\n",
      "Hello\n",
      "Hello\n",
      "Hello\n",
      "Hello\n",
      "Hello\n",
      "Hello\n",
      "Hello\n",
      "Hello\n",
      "Hello\n",
      "Hello\n",
      "Hello\n",
      "Hello\n",
      "Hello\n",
      "Hello\n",
      "Hello\n",
      "Hello\n",
      "Hello\n",
      "Hello\n",
      "Hello\n",
      "Hello\n",
      "Hello\n",
      "Hello\n",
      "Hello\n",
      "Hello\n",
      "Hello\n",
      "Hello\n",
      "Hello\n",
      "Hello\n",
      "Hello\n",
      "Hello\n",
      "Hello\n",
      "Hello\n",
      "Hello\n",
      "Hello\n",
      "Hello\n",
      "Hello\n",
      "Hello\n",
      "Hello\n",
      "Hello\n",
      "Hello\n",
      "Hello\n",
      "Hello\n",
      "Hello\n",
      "Hello\n",
      "Hello\n",
      "Hello\n",
      "Hello\n",
      "Hello\n",
      "Hello\n",
      "Hello\n",
      "Hello\n",
      "Hello\n",
      "Hello\n",
      "Hello\n",
      "Hello\n",
      "Hello\n",
      "Hello\n",
      "Hello\n",
      "Hello\n",
      "Hello\n",
      "Hello\n",
      "Hello\n",
      "Hello\n",
      "Hello\n",
      "Hello\n",
      "Hello\n",
      "Hello\n",
      "Hello\n",
      "Hello\n",
      "Hello\n",
      "Hello\n",
      "Hello\n",
      "Hello\n",
      "Hello\n",
      "Hello\n",
      "Hello\n",
      "Hello\n",
      "Hello\n",
      "Hello\n",
      "Hello\n",
      "Hello\n",
      "Hello\n",
      "Hello\n",
      "Hello\n"
     ]
    }
   ],
   "source": [
<<<<<<< HEAD
    "for i in range(100):\n",
=======
    "for _ in range(100):\n",
>>>>>>> 41adb4e49840bd7f56248c36bea80438a198fb05
    "    print('Hello')"
   ]
  },
  {
   "cell_type": "markdown",
   "metadata": {},
   "source": [
    "We've mostly played it safe with list sequences.  Let's try looping through the letters in a word:\n",
    "\n",
    "```python\n",
    "word = \"computer\"\n",
    "```\n",
    "\n",
    "How do we do this?"
   ]
  },
  {
   "cell_type": "code",
<<<<<<< HEAD
   "execution_count": 2,
=======
   "execution_count": 10,
>>>>>>> 41adb4e49840bd7f56248c36bea80438a198fb05
   "metadata": {},
   "outputs": [
    {
     "name": "stdout",
     "output_type": "stream",
     "text": [
      "c\n",
      "o\n",
      "m\n",
      "p\n",
      "u\n",
      "t\n",
      "e\n",
      "r\n"
     ]
    }
   ],
   "source": [
<<<<<<< HEAD
    "word = 'computer'\n",
=======
    "word = \"computer\"\n",
>>>>>>> 41adb4e49840bd7f56248c36bea80438a198fb05
    "for letter in word:\n",
    "    print(letter)"
   ]
  },
  {
   "cell_type": "markdown",
   "metadata": {},
   "source": [
    "## Looping through dictionaries\n",
    "\n",
    "You can also loop through the key/value pairs in a dictionary. \n",
    "\n",
    "To see this in action, create a dictionary called `user` with the keys `'first_name'` and `'last_name'`"
   ]
  },
  {
   "cell_type": "code",
<<<<<<< HEAD
   "execution_count": 5,
=======
   "execution_count": 15,
>>>>>>> 41adb4e49840bd7f56248c36bea80438a198fb05
   "metadata": {},
   "outputs": [
    {
     "data": {
      "text/plain": [
<<<<<<< HEAD
       "{'first_name': 'Mark', 'last_name': 'Parayil'}"
      ]
     },
     "execution_count": 5,
=======
       "{'first_name': 'Riley', 'last_name': 'Dallas'}"
      ]
     },
     "execution_count": 15,
>>>>>>> 41adb4e49840bd7f56248c36bea80438a198fb05
     "metadata": {},
     "output_type": "execute_result"
    }
   ],
   "source": [
<<<<<<< HEAD
    "user = {'first_name':'Mark', 'last_name':'Parayil'}\n",
    "user"
=======
    "me = {\n",
    "    'first_name': 'Riley',\n",
    "    'last_name': 'Dallas'\n",
    "}\n",
    "\n",
    "me"
>>>>>>> 41adb4e49840bd7f56248c36bea80438a198fb05
   ]
  },
  {
   "cell_type": "markdown",
   "metadata": {},
   "source": [
    "Dictionaries have a method called `items()` specifically for looping. We'll use that in conjunction with a for loop to iterate over the key/value pairs in our `user` dictionary."
   ]
  },
  {
   "cell_type": "code",
<<<<<<< HEAD
   "execution_count": 6,
   "metadata": {
    "scrolled": true
   },
=======
   "execution_count": 18,
   "metadata": {},
>>>>>>> 41adb4e49840bd7f56248c36bea80438a198fb05
   "outputs": [
    {
     "name": "stdout",
     "output_type": "stream",
     "text": [
<<<<<<< HEAD
      "first_name\n",
      "Mark\n",
      "\n",
      "last_name\n",
      "Parayil\n",
=======
      "key first_name\n",
      "value Riley\n",
      "\n",
      "key last_name\n",
      "value Dallas\n",
>>>>>>> 41adb4e49840bd7f56248c36bea80438a198fb05
      "\n"
     ]
    }
   ],
   "source": [
<<<<<<< HEAD
    "for key, value in user.items():\n",
    "    print(key)\n",
    "    print(value)\n",
    "    print('')"
   ]
  },
  {
   "cell_type": "code",
   "execution_count": 28,
   "metadata": {},
   "outputs": [
    {
     "name": "stdout",
     "output_type": "stream",
     "text": [
      "key\n",
      "key\n"
     ]
    }
   ],
   "source": [
    "for k, v in user.items():\n",
    "    print('key')"
   ]
=======
    "for k, v in me.items():\n",
    "    print('key', k)\n",
    "    print('value', v)\n",
    "    print('')"
   ]
>>>>>>> 41adb4e49840bd7f56248c36bea80438a198fb05
  },
  {
   "cell_type": "markdown",
   "metadata": {},
   "source": [
    "# Mapping\n",
    "---\n",
    "Mapping is when you have a list, but you need to make changes to the items in that list. In python, we'll use list comprehension to do this.\n",
    "\n",
    "To illustrate mapping, let's create an array of strings for each person in the classroom: 'student' and 'teacher'. Your code should look something like this:\n",
    "\n",
    "```python\n",
    "classroom = ['student', 'student', 'teacher', 'student', ...]\n",
    "```"
   ]
  },
  {
   "cell_type": "code",
<<<<<<< HEAD
   "execution_count": 7,
=======
   "execution_count": 19,
>>>>>>> 41adb4e49840bd7f56248c36bea80438a198fb05
   "metadata": {
    "collapsed": true
   },
   "outputs": [],
   "source": [
<<<<<<< HEAD
    "classroom = ['student', 'student', 'teacher', 'student', 'teacher', 'student', 'student', 'teacher', 'student', 'teacher']"
=======
    "classroom = ['student', 'student', 'teacher', 'student', 'student', 'student', 'teacher']"
>>>>>>> 41adb4e49840bd7f56248c36bea80438a198fb05
   ]
  },
  {
   "cell_type": "markdown",
   "metadata": {},
   "source": [
    "In machine learning, we'll need to convert strings into numbers. Let's create a function that accepts a string. Return 1 if the string is 'student' and 0 if the string is 'teacher'."
   ]
  },
  {
   "cell_type": "code",
<<<<<<< HEAD
   "execution_count": 8,
   "metadata": {
    "scrolled": true
   },
   "outputs": [
    {
     "ename": "SyntaxError",
     "evalue": "invalid syntax (<ipython-input-8-23ec61d11786>, line 1)",
     "output_type": "error",
     "traceback": [
      "\u001b[1;36m  File \u001b[1;32m\"<ipython-input-8-23ec61d11786>\"\u001b[1;36m, line \u001b[1;32m1\u001b[0m\n\u001b[1;33m    def class(student, teacher):\u001b[0m\n\u001b[1;37m            ^\u001b[0m\n\u001b[1;31mSyntaxError\u001b[0m\u001b[1;31m:\u001b[0m invalid syntax\n"
     ]
    }
   ],
   "source": [
    "def class(student, teacher):\n",
    "    for i in classroom:\n",
    "        student == 1\n",
    "    for i in classroom:\n",
    "        teacher == 0\n",
    "print(student)"
   ]
  },
  {
   "cell_type": "code",
   "execution_count": 10,
=======
   "execution_count": 23,
>>>>>>> 41adb4e49840bd7f56248c36bea80438a198fb05
   "metadata": {},
   "outputs": [
    {
     "data": {
      "text/plain": [
<<<<<<< HEAD
       "1"
      ]
     },
     "execution_count": 10,
=======
       "0"
      ]
     },
     "execution_count": 23,
>>>>>>> 41adb4e49840bd7f56248c36bea80438a198fb05
     "metadata": {},
     "output_type": "execute_result"
    }
   ],
   "source": [
    "def is_student(student_or_teacher):\n",
    "    if student_or_teacher == 'student':\n",
    "        return 1\n",
    "    else:\n",
    "        return 0\n",
    "    \n",
<<<<<<< HEAD
    "is_student('student')"
=======
    "is_student('teacher')"
>>>>>>> 41adb4e49840bd7f56248c36bea80438a198fb05
   ]
  },
  {
   "cell_type": "markdown",
   "metadata": {},
   "source": [
    "Now let's use list comprehension along with our function to convert our array of strings into an array of 1's and 0's."
   ]
  },
  {
   "cell_type": "code",
<<<<<<< HEAD
   "execution_count": 11,
=======
   "execution_count": 26,
>>>>>>> 41adb4e49840bd7f56248c36bea80438a198fb05
   "metadata": {},
   "outputs": [
    {
     "data": {
      "text/plain": [
<<<<<<< HEAD
       "[1, 1, 0, 1, 0, 1, 1, 0, 1, 0]"
      ]
     },
     "execution_count": 11,
=======
       "[1, 1, 0, 1, 1, 1, 0]"
      ]
     },
     "execution_count": 26,
>>>>>>> 41adb4e49840bd7f56248c36bea80438a198fb05
     "metadata": {},
     "output_type": "execute_result"
    }
   ],
   "source": [
<<<<<<< HEAD
    "# list comprehension is a for loop crammed into a list\n",
    "[is_student(person) for person in classroom]"
   ]
  },
  {
   "cell_type": "code",
   "execution_count": null,
   "metadata": {
    "collapsed": true
   },
   "outputs": [],
   "source": []
=======
    "[is_student(person) for person in classroom]"
   ]
>>>>>>> 41adb4e49840bd7f56248c36bea80438a198fb05
  },
  {
   "cell_type": "markdown",
   "metadata": {},
   "source": [
    "## Mapping practice: odds and evens\n",
    "\n",
    "1. Create an array of integers, 1 through 100\n",
    "2. Create a function that accepts a single integer as a parameter and returns `'odd'` or `'even'`, depending on the input.\n",
    "3. Use list comprehension to map through your array of integers and retun an array of odd/even strings"
   ]
  },
  {
   "cell_type": "code",
<<<<<<< HEAD
   "execution_count": 14,
=======
   "execution_count": 27,
>>>>>>> 41adb4e49840bd7f56248c36bea80438a198fb05
   "metadata": {
    "collapsed": true
   },
   "outputs": [],
   "source": [
    "# create an array of integers: 1-100\n",
<<<<<<< HEAD
    "numbers = list(range(1,101))"
=======
    "numbers = list(range(1, 101))"
>>>>>>> 41adb4e49840bd7f56248c36bea80438a198fb05
   ]
  },
  {
   "cell_type": "code",
<<<<<<< HEAD
   "execution_count": 15,
   "metadata": {
    "scrolled": true
   },
   "outputs": [
    {
     "data": {
      "text/plain": [
       "'even'"
      ]
     },
     "execution_count": 15,
     "metadata": {},
     "output_type": "execute_result"
    }
   ],
   "source": [
    "# create a function that accepts a single integer, and returns the string 'odd' or 'even', depending on the integer\n",
    "def odd_or_even(number):\n",
    "    if number % 2 == 0:\n",
    "        return 'even'\n",
    "    else:\n",
    "        return 'odd'\n",
    "\n",
    "odd_or_even(2)"
   ]
  },
  {
   "cell_type": "code",
   "execution_count": 17,
=======
   "execution_count": 29,
>>>>>>> 41adb4e49840bd7f56248c36bea80438a198fb05
   "metadata": {},
   "outputs": [
    {
     "data": {
      "text/plain": [
<<<<<<< HEAD
       "[1,\n",
       " 2,\n",
       " 3,\n",
       " 4,\n",
       " 5,\n",
       " 6,\n",
       " 7,\n",
       " 8,\n",
       " 9,\n",
       " 10,\n",
       " 11,\n",
       " 12,\n",
       " 13,\n",
       " 14,\n",
       " 15,\n",
       " 16,\n",
       " 17,\n",
       " 18,\n",
       " 19,\n",
       " 20,\n",
       " 21,\n",
       " 22,\n",
       " 23,\n",
       " 24,\n",
       " 25,\n",
       " 26,\n",
       " 27,\n",
       " 28,\n",
       " 29,\n",
       " 30,\n",
       " 31,\n",
       " 32,\n",
       " 33,\n",
       " 34,\n",
       " 35,\n",
       " 36,\n",
       " 37,\n",
       " 38,\n",
       " 39,\n",
       " 40,\n",
       " 41,\n",
       " 42,\n",
       " 43,\n",
       " 44,\n",
       " 45,\n",
       " 46,\n",
       " 47,\n",
       " 48,\n",
       " 49,\n",
       " 50,\n",
       " 51,\n",
       " 52,\n",
       " 53,\n",
       " 54,\n",
       " 55,\n",
       " 56,\n",
       " 57,\n",
       " 58,\n",
       " 59,\n",
       " 60,\n",
       " 61,\n",
       " 62,\n",
       " 63,\n",
       " 64,\n",
       " 65,\n",
       " 66,\n",
       " 67,\n",
       " 68,\n",
       " 69,\n",
       " 70,\n",
       " 71,\n",
       " 72,\n",
       " 73,\n",
       " 74,\n",
       " 75,\n",
       " 76,\n",
       " 77,\n",
       " 78,\n",
       " 79,\n",
       " 80,\n",
       " 81,\n",
       " 82,\n",
       " 83,\n",
       " 84,\n",
       " 85,\n",
       " 86,\n",
       " 87,\n",
       " 88,\n",
       " 89,\n",
       " 90,\n",
       " 91,\n",
       " 92,\n",
       " 93,\n",
       " 94,\n",
       " 95,\n",
       " 96,\n",
       " 97,\n",
       " 98,\n",
       " 99,\n",
       " 100]"
      ]
     },
     "execution_count": 17,
=======
       "'even'"
      ]
     },
     "execution_count": 29,
>>>>>>> 41adb4e49840bd7f56248c36bea80438a198fb05
     "metadata": {},
     "output_type": "execute_result"
    }
   ],
   "source": [
<<<<<<< HEAD
    "[num for num in numbers]"
=======
    "# create a function that accepts a single integer, and returns the string 'odd' or 'even', depending on the integer\n",
    "def odd_or_even(number):\n",
    "    if number % 2 == 0:\n",
    "        return 'even'\n",
    "    else:\n",
    "        return 'odd'\n",
    "    \n",
    "odd_or_even(2)"
>>>>>>> 41adb4e49840bd7f56248c36bea80438a198fb05
   ]
  },
  {
   "cell_type": "code",
<<<<<<< HEAD
   "execution_count": 16,
   "metadata": {
    "scrolled": true
   },
=======
   "execution_count": 31,
   "metadata": {},
>>>>>>> 41adb4e49840bd7f56248c36bea80438a198fb05
   "outputs": [
    {
     "data": {
      "text/plain": [
       "['odd',\n",
       " 'even',\n",
       " 'odd',\n",
       " 'even',\n",
       " 'odd',\n",
       " 'even',\n",
       " 'odd',\n",
       " 'even',\n",
       " 'odd',\n",
       " 'even',\n",
       " 'odd',\n",
       " 'even',\n",
       " 'odd',\n",
       " 'even',\n",
       " 'odd',\n",
       " 'even',\n",
       " 'odd',\n",
       " 'even',\n",
       " 'odd',\n",
       " 'even',\n",
       " 'odd',\n",
       " 'even',\n",
       " 'odd',\n",
       " 'even',\n",
       " 'odd',\n",
       " 'even',\n",
       " 'odd',\n",
       " 'even',\n",
       " 'odd',\n",
       " 'even',\n",
       " 'odd',\n",
       " 'even',\n",
       " 'odd',\n",
       " 'even',\n",
       " 'odd',\n",
       " 'even',\n",
       " 'odd',\n",
       " 'even',\n",
       " 'odd',\n",
       " 'even',\n",
       " 'odd',\n",
       " 'even',\n",
       " 'odd',\n",
       " 'even',\n",
       " 'odd',\n",
       " 'even',\n",
       " 'odd',\n",
       " 'even',\n",
       " 'odd',\n",
       " 'even',\n",
       " 'odd',\n",
       " 'even',\n",
       " 'odd',\n",
       " 'even',\n",
       " 'odd',\n",
       " 'even',\n",
       " 'odd',\n",
       " 'even',\n",
       " 'odd',\n",
       " 'even',\n",
       " 'odd',\n",
       " 'even',\n",
       " 'odd',\n",
       " 'even',\n",
       " 'odd',\n",
       " 'even',\n",
       " 'odd',\n",
       " 'even',\n",
       " 'odd',\n",
       " 'even',\n",
       " 'odd',\n",
       " 'even',\n",
       " 'odd',\n",
       " 'even',\n",
       " 'odd',\n",
       " 'even',\n",
       " 'odd',\n",
       " 'even',\n",
       " 'odd',\n",
       " 'even',\n",
       " 'odd',\n",
       " 'even',\n",
       " 'odd',\n",
       " 'even',\n",
       " 'odd',\n",
       " 'even',\n",
       " 'odd',\n",
       " 'even',\n",
       " 'odd',\n",
       " 'even',\n",
       " 'odd',\n",
       " 'even',\n",
       " 'odd',\n",
       " 'even',\n",
       " 'odd',\n",
       " 'even',\n",
       " 'odd',\n",
       " 'even',\n",
       " 'odd',\n",
       " 'even']"
      ]
     },
<<<<<<< HEAD
     "execution_count": 16,
=======
     "execution_count": 31,
>>>>>>> 41adb4e49840bd7f56248c36bea80438a198fb05
     "metadata": {},
     "output_type": "execute_result"
    }
   ],
   "source": [
    "# use list comprehension to convert your array of integers to an array of odd/even strings\n",
    "[odd_or_even(num) for num in numbers]"
   ]
  },
  {
   "cell_type": "markdown",
   "metadata": {},
   "source": [
    "## Mapping practice: square the numbers\n",
    "\n",
    "1. Create an array of integers, 1 through 10\n",
    "2. Use list comprehension to create an array that squares each number in the original array"
   ]
  },
  {
   "cell_type": "code",
<<<<<<< HEAD
   "execution_count": 23,
=======
   "execution_count": 32,
>>>>>>> 41adb4e49840bd7f56248c36bea80438a198fb05
   "metadata": {
    "collapsed": true
   },
   "outputs": [],
   "source": [
    "# create an array of integers: 1-10\n",
<<<<<<< HEAD
    "numbers = list(range(1,11))"
=======
    "numbers = list(range(1, 11))"
>>>>>>> 41adb4e49840bd7f56248c36bea80438a198fb05
   ]
  },
  {
   "cell_type": "code",
<<<<<<< HEAD
   "execution_count": 27,
=======
   "execution_count": 35,
>>>>>>> 41adb4e49840bd7f56248c36bea80438a198fb05
   "metadata": {},
   "outputs": [
    {
     "ename": "NameError",
     "evalue": "name 'sqaure_num' is not defined",
     "output_type": "error",
     "traceback": [
      "\u001b[1;31m---------------------------------------------------------------------------\u001b[0m",
      "\u001b[1;31mNameError\u001b[0m                                 Traceback (most recent call last)",
      "\u001b[1;32m<ipython-input-27-3a7e48384c61>\u001b[0m in \u001b[0;36m<module>\u001b[1;34m()\u001b[0m\n\u001b[0;32m      6\u001b[0m \u001b[1;33m\u001b[0m\u001b[0m\n\u001b[0;32m      7\u001b[0m \u001b[1;33m\u001b[0m\u001b[0m\n\u001b[1;32m----> 8\u001b[1;33m \u001b[0msqaure_num\u001b[0m\u001b[1;33m(\u001b[0m\u001b[1;36m5\u001b[0m\u001b[1;33m)\u001b[0m\u001b[1;33m\u001b[0m\u001b[0m\n\u001b[0m",
      "\u001b[1;31mNameError\u001b[0m: name 'sqaure_num' is not defined"
     ]
    }
   ],
   "source": [
    "# map through the array, squaring each number in the original array. Output should look like below.\n",
    "def square_num(number):\n",
    "    for num in numbers:\n",
    "        square_number = numbers[num] ** 2\n",
    "        return square_number\n",
    "\n",
    "    \n",
    "sqaure_num(5)"
   ]
  },
  {
   "cell_type": "code",
   "execution_count": 33,
   "metadata": {
    "scrolled": true
   },
   "outputs": [
    {
     "data": {
      "text/plain": [
       "[1, 4, 9, 16, 25, 36, 49, 64, 81, 100]"
      ]
     },
<<<<<<< HEAD
     "execution_count": 33,
=======
     "execution_count": 35,
>>>>>>> 41adb4e49840bd7f56248c36bea80438a198fb05
     "metadata": {},
     "output_type": "execute_result"
    }
   ],
   "source": [
<<<<<<< HEAD
=======
    "# map through the array, squaring each number in the original array. Output should look like below.\n",
>>>>>>> 41adb4e49840bd7f56248c36bea80438a198fb05
    "[num ** 2 for num in numbers]"
   ]
  },
  {
   "cell_type": "code",
<<<<<<< HEAD
   "execution_count": 37,
=======
   "execution_count": 36,
>>>>>>> 41adb4e49840bd7f56248c36bea80438a198fb05
   "metadata": {},
   "outputs": [
    {
     "data": {
      "text/plain": [
       "[1, 4, 9, 16, 25, 36, 49, 64, 81, 100]"
      ]
     },
<<<<<<< HEAD
     "execution_count": 37,
=======
     "execution_count": 36,
>>>>>>> 41adb4e49840bd7f56248c36bea80438a198fb05
     "metadata": {},
     "output_type": "execute_result"
    }
   ],
   "source": [
<<<<<<< HEAD
    "[num ** 2 for num in list(range(1,11))]"
=======
    "[n ** 2 for n in list(range(1, 11))]"
>>>>>>> 41adb4e49840bd7f56248c36bea80438a198fb05
   ]
  },
  {
   "cell_type": "markdown",
   "metadata": {},
   "source": [
    "## Mapping practice: lowercase names\n",
    "\n",
    "1. Create a list of everyone's names in the classroom\n",
    "2. Use list comprehension to return an array of lowercase names"
   ]
  },
  {
   "cell_type": "code",
<<<<<<< HEAD
   "execution_count": 38,
=======
   "execution_count": 37,
>>>>>>> 41adb4e49840bd7f56248c36bea80438a198fb05
   "metadata": {},
   "outputs": [
    {
     "data": {
      "text/plain": [
<<<<<<< HEAD
       "['riley', 'richard', 'jensen']"
      ]
     },
     "execution_count": 38,
=======
       "['riley', 'richard', 'justin']"
      ]
     },
     "execution_count": 37,
>>>>>>> 41adb4e49840bd7f56248c36bea80438a198fb05
     "metadata": {},
     "output_type": "execute_result"
    }
   ],
   "source": [
<<<<<<< HEAD
    "names = ['Riley', 'Richard', 'Jensen']\n",
=======
    "names = ['Riley', 'Richard', 'Justin']\n",
>>>>>>> 41adb4e49840bd7f56248c36bea80438a198fb05
    "[n.lower() for n in names]"
   ]
  },
  {
   "cell_type": "markdown",
   "metadata": {},
   "source": [
    "# Filtering\n",
    "---\n",
    "\n",
    "If you have a list of items, but only need a subset of items that meet a certain condition, that's called filtering. \n",
    "\n",
    "To illustrate this, let's create a list of dictionaries, one for each person in the classroom. It should look like the following:\n",
    "\n",
    "```python\n",
    "classroom = [\n",
    "    {'name': 'Teacher McTeacherson', 'role': 'teacher'},\n",
    "    {'name': 'Student McStudentson', 'role': 'student'},\n",
    "    ...\n",
    "]\n",
    "```"
   ]
  },
  {
   "cell_type": "code",
<<<<<<< HEAD
   "execution_count": 42,
   "metadata": {},
=======
   "execution_count": 38,
   "metadata": {
    "collapsed": true
   },
>>>>>>> 41adb4e49840bd7f56248c36bea80438a198fb05
   "outputs": [],
   "source": [
    "classroom = [\n",
    "    {'name': 'Teacher McTeacherson', 'role': 'teacher'},\n",
    "    {'name': 'Student McStudentson', 'role': 'student'},\n",
    "    {'name': 'Teacher McTeacherson', 'role': 'teacher'},\n",
    "    {'name': 'Student McStudentson', 'role': 'student'},\n",
    "    {'name': 'Teacher McTeacherson', 'role': 'teacher'},\n",
    "    {'name': 'Student McStudentson', 'role': 'student'},\n",
    "    {'name': 'Teacher McTeacherson', 'role': 'teacher'},\n",
<<<<<<< HEAD
    "    {'name': 'Student McStudentson', 'role': 'student'}]"
=======
    "    {'name': 'Student McStudentson', 'role': 'student'},\n",
    "]"
>>>>>>> 41adb4e49840bd7f56248c36bea80438a198fb05
   ]
  },
  {
   "cell_type": "markdown",
   "metadata": {},
   "source": [
    "Now let's use list comprehension to filter our list to be students only."
   ]
  },
  {
   "cell_type": "code",
<<<<<<< HEAD
   "execution_count": 49,
=======
   "execution_count": 41,
>>>>>>> 41adb4e49840bd7f56248c36bea80438a198fb05
   "metadata": {},
   "outputs": [
    {
     "data": {
      "text/plain": [
       "[{'name': 'Student McStudentson', 'role': 'student'},\n",
       " {'name': 'Student McStudentson', 'role': 'student'},\n",
       " {'name': 'Student McStudentson', 'role': 'student'},\n",
       " {'name': 'Student McStudentson', 'role': 'student'}]"
      ]
     },
<<<<<<< HEAD
     "execution_count": 49,
=======
     "execution_count": 41,
>>>>>>> 41adb4e49840bd7f56248c36bea80438a198fb05
     "metadata": {},
     "output_type": "execute_result"
    }
   ],
   "source": [
    "[person for person in classroom if person['role'] == 'student']"
   ]
  },
  {
   "cell_type": "markdown",
   "metadata": {},
   "source": [
    "Repeat the step above, but this time for the instructors"
   ]
  },
  {
   "cell_type": "code",
<<<<<<< HEAD
   "execution_count": 47,
=======
   "execution_count": 42,
>>>>>>> 41adb4e49840bd7f56248c36bea80438a198fb05
   "metadata": {},
   "outputs": [
    {
     "data": {
      "text/plain": [
       "[{'name': 'Teacher McTeacherson', 'role': 'teacher'},\n",
       " {'name': 'Teacher McTeacherson', 'role': 'teacher'},\n",
       " {'name': 'Teacher McTeacherson', 'role': 'teacher'},\n",
       " {'name': 'Teacher McTeacherson', 'role': 'teacher'}]"
      ]
     },
<<<<<<< HEAD
     "execution_count": 47,
=======
     "execution_count": 42,
>>>>>>> 41adb4e49840bd7f56248c36bea80438a198fb05
     "metadata": {},
     "output_type": "execute_result"
    }
   ],
   "source": [
    "[person for person in classroom if person['role'] == 'teacher']"
   ]
  },
  {
   "cell_type": "code",
<<<<<<< HEAD
   "execution_count": 50,
=======
   "execution_count": 44,
>>>>>>> 41adb4e49840bd7f56248c36bea80438a198fb05
   "metadata": {},
   "outputs": [
    {
     "data": {
      "text/plain": [
       "[2, 4, 6, 8, 10]"
      ]
     },
<<<<<<< HEAD
     "execution_count": 50,
=======
     "execution_count": 44,
>>>>>>> 41adb4e49840bd7f56248c36bea80438a198fb05
     "metadata": {},
     "output_type": "execute_result"
    }
   ],
   "source": [
<<<<<<< HEAD
    "[num for num in list(range(1,11)) if num %2 == 0]\n",
    "# mapping occurs o nthe left, filteing on the right"
=======
    "[num for num in list(range(1, 11)) if num % 2 == 0]"
>>>>>>> 41adb4e49840bd7f56248c36bea80438a198fb05
   ]
  },
  {
   "cell_type": "markdown",
   "metadata": {},
   "source": [
    "# Mapping Dictionaries\n",
    "---\n",
    "\n",
    "Mapping is not exclusive to lists. We can also map over dictionaries, but with a subtle difference: we'll wrap our list comprehension in `{}` instead of `[]` to retain the dictionary type.\n",
    "\n",
    "Let's say we have a dictionary of users with their corresponding emails:\n",
    "\n",
    "```python\n",
    "users = {\n",
    "    'user1': 'FOO@BAR.COM',\n",
    "    'user2': 'JOHN@DOE.COM',\n",
    "    'user3': 'YOURGRANDMOTHER@AOL.COM'\n",
    "}\n",
    "```\n",
    "\n",
    "As a precaution, we might want to downcase all the email addresses before saving them to a database. In the block below, map through the `users` dictionary and return the same dictionary, but with all the emails downcased."
   ]
  },
  {
   "cell_type": "code",
<<<<<<< HEAD
   "execution_count": 61,
   "metadata": {},
   "outputs": [],
   "source": [
    "users =  {'user1': 'FOO@BAR.COM',\n",
    "    'user2': 'JOHN@DOE.COM',\n",
    "    'user3': 'YOURGRANDMOTHER@AOL.COM'}\n",
    "\n",
    "users = {user_id:value.lower() for user_id, email in users.items()}"
=======
   "execution_count": 59,
   "metadata": {},
   "outputs": [],
   "source": [
    "users = {\n",
    "    'user1': 'FOO@BAR.COM',\n",
    "    'user2': 'JOHN@DOE.COM',\n",
    "    'user3': 'YOURGRANDMOTHER@AOL.COM'\n",
    "}\n",
    "\n",
    "users = {user_id: email.lower() for user_id, email in users.items()}"
   ]
  },
  {
   "cell_type": "code",
   "execution_count": 60,
   "metadata": {},
   "outputs": [
    {
     "data": {
      "text/plain": [
       "{'user1': 'foo@bar.com',\n",
       " 'user2': 'john@doe.com',\n",
       " 'user3': 'yourgrandmother@aol.com'}"
      ]
     },
     "execution_count": 60,
     "metadata": {},
     "output_type": "execute_result"
    }
   ],
   "source": [
    "users"
>>>>>>> 41adb4e49840bd7f56248c36bea80438a198fb05
   ]
  },
  {
   "cell_type": "markdown",
   "metadata": {},
   "source": [
    "# Filtering Dictionaries\n",
    "---\n",
    "\n",
    "If we can map dictionaries, we can also filter them. In our `users` dictionary above, let's use list comprehension to filter only users who have an AOL account."
   ]
  },
  {
   "cell_type": "code",
<<<<<<< HEAD
   "execution_count": 64,
=======
   "execution_count": 56,
>>>>>>> 41adb4e49840bd7f56248c36bea80438a198fb05
   "metadata": {},
   "outputs": [
    {
     "data": {
      "text/plain": [
<<<<<<< HEAD
       "{'user4': 'yourgrandfather@aol.com'}"
      ]
     },
     "execution_count": 64,
=======
       "{'user3': 'YOURGRANDMOTHER@AOL.COM', 'user4': 'yourgrandfather@aol.com'}"
      ]
     },
     "execution_count": 56,
>>>>>>> 41adb4e49840bd7f56248c36bea80438a198fb05
     "metadata": {},
     "output_type": "execute_result"
    }
   ],
   "source": [
    "users['user4'] = 'yourgrandfather@aol.com'\n",
    "\n",
<<<<<<< HEAD
    "{k: v for k, v in users.items() if 'AOL.COM' in v.upper()}"
=======
    "{k: v for k, v in users.items() if 'aol.com' in v.lower() }"
>>>>>>> 41adb4e49840bd7f56248c36bea80438a198fb05
   ]
  },
  {
   "cell_type": "code",
   "execution_count": null,
   "metadata": {
    "collapsed": true
   },
   "outputs": [],
   "source": []
  },
  {
   "cell_type": "code",
   "execution_count": null,
   "metadata": {
    "collapsed": true
   },
   "outputs": [],
   "source": []
  }
 ],
 "metadata": {
  "anaconda-cloud": {},
  "kernelspec": {
   "display_name": "Python 3",
   "language": "python",
   "name": "python3"
  },
  "language_info": {
   "codemirror_mode": {
    "name": "ipython",
    "version": 3
   },
   "file_extension": ".py",
   "mimetype": "text/x-python",
   "name": "python",
   "nbconvert_exporter": "python",
   "pygments_lexer": "ipython3",
   "version": "3.6.2"
  }
 },
 "nbformat": 4,
 "nbformat_minor": 1
}
