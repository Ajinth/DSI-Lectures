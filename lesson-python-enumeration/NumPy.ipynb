{
 "cells": [
  {
   "cell_type": "markdown",
   "metadata": {},
   "source": [
    "# Intro to NumPy\n",
    "\n",
    "NumPy is a python library for performing linear algebra calculations. It's also the foundation for many other libraries we'll be using in this course.\n",
    "\n",
    "The first step to using a library is to import it:"
   ]
  },
  {
   "cell_type": "code",
<<<<<<< HEAD
   "execution_count": 28,
=======
   "execution_count": 1,
>>>>>>> 41adb4e49840bd7f56248c36bea80438a198fb05
   "metadata": {
    "collapsed": true
   },
   "outputs": [],
   "source": [
    "import numpy as np"
   ]
  },
  {
   "cell_type": "markdown",
   "metadata": {},
   "source": [
    "Once it's imported, we'll use `np.array` to create a numpy array, which is like a python list, but with added functionality."
   ]
  },
  {
   "cell_type": "code",
<<<<<<< HEAD
   "execution_count": 29,
=======
   "execution_count": 2,
>>>>>>> 41adb4e49840bd7f56248c36bea80438a198fb05
   "metadata": {
    "collapsed": true
   },
   "outputs": [],
   "source": [
<<<<<<< HEAD
    "numbers = [2,4,5,6,7,8]"
=======
    "numbers = [5, 2, 8, 10, 34, 2]"
>>>>>>> 41adb4e49840bd7f56248c36bea80438a198fb05
   ]
  },
  {
   "cell_type": "code",
<<<<<<< HEAD
   "execution_count": 30,
=======
   "execution_count": 4,
>>>>>>> 41adb4e49840bd7f56248c36bea80438a198fb05
   "metadata": {},
   "outputs": [
    {
     "data": {
      "text/plain": [
<<<<<<< HEAD
       "array([2, 4, 5, 6, 7, 8])"
      ]
     },
     "execution_count": 30,
=======
       "array([ 5,  2,  8, 10, 34,  2])"
      ]
     },
     "execution_count": 4,
>>>>>>> 41adb4e49840bd7f56248c36bea80438a198fb05
     "metadata": {},
     "output_type": "execute_result"
    }
   ],
   "source": [
<<<<<<< HEAD
    "numpy_numbers = np.array(numbers)\n",
    "numpy_numbers"
=======
    "np_numbers = np.array(numbers)\n",
    "\n",
    "np_numbers"
>>>>>>> 41adb4e49840bd7f56248c36bea80438a198fb05
   ]
  },
  {
   "cell_type": "markdown",
   "metadata": {},
   "source": [
    "## Convenience methods"
   ]
  },
  {
   "cell_type": "markdown",
   "metadata": {},
   "source": [
    "We can use `min()` and `max()` to grab the smallest and largest numbers in the array, respectively."
   ]
  },
  {
   "cell_type": "code",
<<<<<<< HEAD
   "execution_count": 20,
=======
   "execution_count": 5,
>>>>>>> 41adb4e49840bd7f56248c36bea80438a198fb05
   "metadata": {},
   "outputs": [
    {
     "data": {
      "text/plain": [
       "2"
      ]
     },
<<<<<<< HEAD
     "execution_count": 20,
=======
     "execution_count": 5,
>>>>>>> 41adb4e49840bd7f56248c36bea80438a198fb05
     "metadata": {},
     "output_type": "execute_result"
    }
   ],
   "source": [
<<<<<<< HEAD
    "numpy_numbers.min()"
=======
    "np_numbers.min()"
>>>>>>> 41adb4e49840bd7f56248c36bea80438a198fb05
   ]
  },
  {
   "cell_type": "code",
<<<<<<< HEAD
   "execution_count": 21,
=======
   "execution_count": 6,
>>>>>>> 41adb4e49840bd7f56248c36bea80438a198fb05
   "metadata": {},
   "outputs": [
    {
     "data": {
      "text/plain": [
<<<<<<< HEAD
       "8"
      ]
     },
     "execution_count": 21,
=======
       "34"
      ]
     },
     "execution_count": 6,
>>>>>>> 41adb4e49840bd7f56248c36bea80438a198fb05
     "metadata": {},
     "output_type": "execute_result"
    }
   ],
   "source": [
<<<<<<< HEAD
    "numpy_numbers.max()"
=======
    "np_numbers.max()"
>>>>>>> 41adb4e49840bd7f56248c36bea80438a198fb05
   ]
  },
  {
   "cell_type": "markdown",
   "metadata": {},
   "source": [
    "`argmin()` and `argmax()` will give you the **index** of the smallest and largest numbers in the array, respectively."
   ]
  },
  {
   "cell_type": "code",
<<<<<<< HEAD
   "execution_count": 22,
=======
   "execution_count": 9,
>>>>>>> 41adb4e49840bd7f56248c36bea80438a198fb05
   "metadata": {},
   "outputs": [
    {
     "data": {
      "text/plain": [
<<<<<<< HEAD
       "0"
      ]
     },
     "execution_count": 22,
=======
       "2"
      ]
     },
     "execution_count": 9,
>>>>>>> 41adb4e49840bd7f56248c36bea80438a198fb05
     "metadata": {},
     "output_type": "execute_result"
    }
   ],
   "source": [
<<<<<<< HEAD
    "numpy_numbers.argmin()\n",
    "# provides the index of the first occurence of the smallest number in your list"
=======
    "np_numbers[np_numbers.argmin()]"
>>>>>>> 41adb4e49840bd7f56248c36bea80438a198fb05
   ]
  },
  {
   "cell_type": "code",
<<<<<<< HEAD
   "execution_count": 23,
=======
   "execution_count": 10,
>>>>>>> 41adb4e49840bd7f56248c36bea80438a198fb05
   "metadata": {},
   "outputs": [
    {
     "data": {
      "text/plain": [
<<<<<<< HEAD
       "2"
      ]
     },
     "execution_count": 23,
=======
       "4"
      ]
     },
     "execution_count": 10,
>>>>>>> 41adb4e49840bd7f56248c36bea80438a198fb05
     "metadata": {},
     "output_type": "execute_result"
    }
   ],
   "source": [
<<<<<<< HEAD
    "numpy_numbers[numpy_numbers.argmin()]"
   ]
  },
  {
   "cell_type": "code",
   "execution_count": 24,
   "metadata": {},
   "outputs": [
    {
     "data": {
      "text/plain": [
       "5"
      ]
     },
     "execution_count": 24,
     "metadata": {},
     "output_type": "execute_result"
    }
   ],
   "source": [
    "numpy_numbers.argmax()"
=======
    "np_numbers.argmax()"
>>>>>>> 41adb4e49840bd7f56248c36bea80438a198fb05
   ]
  },
  {
   "cell_type": "markdown",
   "metadata": {},
   "source": [
    "Numpy has a method for creating arrays from ranges of numbers: `np.arange`. It works like `range`, except it returns a numpy array as opposed to a vanilla python list."
   ]
  },
  {
   "cell_type": "code",
<<<<<<< HEAD
   "execution_count": 25,
=======
   "execution_count": 12,
>>>>>>> 41adb4e49840bd7f56248c36bea80438a198fb05
   "metadata": {},
   "outputs": [
    {
     "data": {
      "text/plain": [
       "array([1, 2, 3, 4, 5, 6, 7, 8, 9])"
      ]
     },
<<<<<<< HEAD
     "execution_count": 25,
=======
     "execution_count": 12,
>>>>>>> 41adb4e49840bd7f56248c36bea80438a198fb05
     "metadata": {},
     "output_type": "execute_result"
    }
   ],
   "source": [
<<<<<<< HEAD
    "np.arange(1,10)"
=======
    "np.arange(1, 10)"
>>>>>>> 41adb4e49840bd7f56248c36bea80438a198fb05
   ]
  },
  {
   "cell_type": "code",
<<<<<<< HEAD
   "execution_count": 26,
=======
   "execution_count": 19,
>>>>>>> 41adb4e49840bd7f56248c36bea80438a198fb05
   "metadata": {},
   "outputs": [
    {
     "data": {
      "text/plain": [
<<<<<<< HEAD
       "array([2, 1])"
      ]
     },
     "execution_count": 26,
=======
       "array([1, 2])"
      ]
     },
     "execution_count": 19,
>>>>>>> 41adb4e49840bd7f56248c36bea80438a198fb05
     "metadata": {},
     "output_type": "execute_result"
    }
   ],
   "source": [
<<<<<<< HEAD
    "np.random.choice([1,2,3], 2, replace=False)\n",
    "# gives random choice and second parameter gives you the # of numbers that it spits out randomly"
=======
    "np.random.choice([1, 2, 3], 2, replace=False, )"
>>>>>>> 41adb4e49840bd7f56248c36bea80438a198fb05
   ]
  },
  {
   "cell_type": "markdown",
   "metadata": {},
   "source": [
    "# Broadcasting / Scalar Math\n",
    "\n",
    "Exercise: Write a for loop to add 1 to each item in your array"
   ]
  },
  {
   "cell_type": "code",
<<<<<<< HEAD
   "execution_count": 31,
   "metadata": {},
   "outputs": [
    {
     "ename": "NameError",
     "evalue": "name 'numpy_number' is not defined",
     "output_type": "error",
     "traceback": [
      "\u001b[1;31m---------------------------------------------------------------------------\u001b[0m",
      "\u001b[1;31mNameError\u001b[0m                                 Traceback (most recent call last)",
      "\u001b[1;32m<ipython-input-31-fc00ab7a6cbc>\u001b[0m in \u001b[0;36m<module>\u001b[1;34m()\u001b[0m\n\u001b[1;32m----> 1\u001b[1;33m \u001b[0mnumpy_number\u001b[0m\u001b[1;33m\u001b[0m\u001b[0m\n\u001b[0m",
      "\u001b[1;31mNameError\u001b[0m: name 'numpy_number' is not defined"
     ]
    }
   ],
   "source": [
    "numpy_number"
=======
   "execution_count": 23,
   "metadata": {},
   "outputs": [
    {
     "data": {
      "text/plain": [
       "array([ 6,  3,  9, 11, 35,  3])"
      ]
     },
     "execution_count": 23,
     "metadata": {},
     "output_type": "execute_result"
    }
   ],
   "source": [
    "# Hard way don't do it\n",
    "np.array([num + 1 for num in np_numbers])"
   ]
  },
  {
   "cell_type": "code",
   "execution_count": 26,
   "metadata": {},
   "outputs": [
    {
     "data": {
      "text/plain": [
       "array([ 5,  2,  8, 10, 34,  2])"
      ]
     },
     "execution_count": 26,
     "metadata": {},
     "output_type": "execute_result"
    }
   ],
   "source": [
    "np_numbers"
>>>>>>> 41adb4e49840bd7f56248c36bea80438a198fb05
   ]
  },
  {
   "cell_type": "code",
<<<<<<< HEAD
   "execution_count": 32,
=======
   "execution_count": 25,
>>>>>>> 41adb4e49840bd7f56248c36bea80438a198fb05
   "metadata": {},
   "outputs": [
    {
     "data": {
      "text/plain": [
<<<<<<< HEAD
       "array([3, 5, 6, 7, 8, 9])"
      ]
     },
     "execution_count": 32,
=======
       "array([ 6,  3,  9, 11, 35,  3])"
      ]
     },
     "execution_count": 25,
>>>>>>> 41adb4e49840bd7f56248c36bea80438a198fb05
     "metadata": {},
     "output_type": "execute_result"
    }
   ],
   "source": [
<<<<<<< HEAD
    "numpy_numbers + 1"
=======
    "np_numbers + 1"
>>>>>>> 41adb4e49840bd7f56248c36bea80438a198fb05
   ]
  },
  {
   "cell_type": "markdown",
   "metadata": {},
   "source": [
    "With numpy, we no longer have to code for loops to do these types of calculations. We can simply broadcast our arithmetic operations across the entire array:"
   ]
  },
  {
   "cell_type": "code",
<<<<<<< HEAD
   "execution_count": 33,
=======
   "execution_count": 32,
>>>>>>> 41adb4e49840bd7f56248c36bea80438a198fb05
   "metadata": {},
   "outputs": [
    {
     "data": {
      "text/plain": [
       "3"
      ]
     },
<<<<<<< HEAD
     "execution_count": 33,
=======
     "execution_count": 32,
>>>>>>> 41adb4e49840bd7f56248c36bea80438a198fb05
     "metadata": {},
     "output_type": "execute_result"
    }
   ],
   "source": [
<<<<<<< HEAD
    "np.random.choice(range(1,7), p=[.1, .1, .5, .1, .1, .1])"
=======
    "np.random.choice(range(1, 7), p=[.1, .1, .5, .1, .1, .1])"
>>>>>>> 41adb4e49840bd7f56248c36bea80438a198fb05
   ]
  },
  {
   "cell_type": "markdown",
   "metadata": {},
   "source": [
    "We can also use broadcasting over a subset of an array:"
   ]
  },
  {
   "cell_type": "code",
<<<<<<< HEAD
   "execution_count": 34,
=======
   "execution_count": 33,
>>>>>>> 41adb4e49840bd7f56248c36bea80438a198fb05
   "metadata": {},
   "outputs": [
    {
     "data": {
      "text/plain": [
<<<<<<< HEAD
       "array([3, 5, 6])"
      ]
     },
     "execution_count": 34,
=======
       "array([6, 3, 9])"
      ]
     },
     "execution_count": 33,
>>>>>>> 41adb4e49840bd7f56248c36bea80438a198fb05
     "metadata": {},
     "output_type": "execute_result"
    }
   ],
   "source": [
<<<<<<< HEAD
    "numpy_numbers[:3] + 1"
=======
    "np_numbers[:3] + 1"
>>>>>>> 41adb4e49840bd7f56248c36bea80438a198fb05
   ]
  },
  {
   "cell_type": "markdown",
   "metadata": {},
   "source": [
    "# Matrices vs Vectors\n",
    "\n",
    "Linear Algebra (and Data Science as an extension) uses vectors and matrices extensively. You can think of a **matrix** as an excel spreadsheet. A **vector** is a special kind of matrix in that it is a single column (or row)of data.\n",
    "\n",
    "Stated differently, matrix = many columns, vector = single column.\n",
    "\n",
    "We can can use the `reshape()` method to create a matrix from an array."
   ]
  },
  {
   "cell_type": "code",
   "execution_count": 35,
   "metadata": {},
   "outputs": [
    {
     "data": {
      "text/plain": [
       "array([[  1,   2,   3,   4,   5,   6,   7,   8,   9,  10],\n",
       "       [ 11,  12,  13,  14,  15,  16,  17,  18,  19,  20],\n",
       "       [ 21,  22,  23,  24,  25,  26,  27,  28,  29,  30],\n",
       "       [ 31,  32,  33,  34,  35,  36,  37,  38,  39,  40],\n",
       "       [ 41,  42,  43,  44,  45,  46,  47,  48,  49,  50],\n",
       "       [ 51,  52,  53,  54,  55,  56,  57,  58,  59,  60],\n",
       "       [ 61,  62,  63,  64,  65,  66,  67,  68,  69,  70],\n",
       "       [ 71,  72,  73,  74,  75,  76,  77,  78,  79,  80],\n",
       "       [ 81,  82,  83,  84,  85,  86,  87,  88,  89,  90],\n",
       "       [ 91,  92,  93,  94,  95,  96,  97,  98,  99, 100]])"
      ]
     },
     "execution_count": 35,
     "metadata": {},
     "output_type": "execute_result"
    }
   ],
   "source": [
<<<<<<< HEAD
    "matr = np.arange(1,101).reshape(10,10)\n",
=======
    "matr = np.arange(1, 101).reshape(10, 10)\n",
>>>>>>> 41adb4e49840bd7f56248c36bea80438a198fb05
    "\n",
    "matr"
   ]
  },
  {
   "cell_type": "markdown",
   "metadata": {},
   "source": [
    "# Transposing Matrices\n",
    "\n",
    "Transposing is when a matrix is flipped along it's top-left to bottom-right diagonal. We use `T` on a numpy array to accomplish this task."
   ]
  },
  {
   "cell_type": "code",
   "execution_count": 36,
   "metadata": {},
   "outputs": [
    {
     "data": {
      "text/plain": [
       "array([[  1,  11,  21,  31,  41,  51,  61,  71,  81,  91],\n",
       "       [  2,  12,  22,  32,  42,  52,  62,  72,  82,  92],\n",
       "       [  3,  13,  23,  33,  43,  53,  63,  73,  83,  93],\n",
       "       [  4,  14,  24,  34,  44,  54,  64,  74,  84,  94],\n",
       "       [  5,  15,  25,  35,  45,  55,  65,  75,  85,  95],\n",
       "       [  6,  16,  26,  36,  46,  56,  66,  76,  86,  96],\n",
       "       [  7,  17,  27,  37,  47,  57,  67,  77,  87,  97],\n",
       "       [  8,  18,  28,  38,  48,  58,  68,  78,  88,  98],\n",
       "       [  9,  19,  29,  39,  49,  59,  69,  79,  89,  99],\n",
       "       [ 10,  20,  30,  40,  50,  60,  70,  80,  90, 100]])"
      ]
     },
     "execution_count": 36,
     "metadata": {},
     "output_type": "execute_result"
    }
   ],
   "source": [
<<<<<<< HEAD
    "matr.transpose()\n"
=======
    "matr.T"
   ]
  },
  {
   "cell_type": "code",
   "execution_count": 37,
   "metadata": {},
   "outputs": [
    {
     "data": {
      "text/plain": [
       "array([[  1,   2,   3,   4,   5,   6,   7,   8,   9,  10],\n",
       "       [ 11,  12,  13,  14,  15,  16,  17,  18,  19,  20],\n",
       "       [ 21,  22,  23,  24,  25,  26,  27,  28,  29,  30],\n",
       "       [ 31,  32,  33,  34,  35,  36,  37,  38,  39,  40],\n",
       "       [ 41,  42,  43,  44,  45,  46,  47,  48,  49,  50],\n",
       "       [ 51,  52,  53,  54,  55,  56,  57,  58,  59,  60],\n",
       "       [ 61,  62,  63,  64,  65,  66,  67,  68,  69,  70],\n",
       "       [ 71,  72,  73,  74,  75,  76,  77,  78,  79,  80],\n",
       "       [ 81,  82,  83,  84,  85,  86,  87,  88,  89,  90],\n",
       "       [ 91,  92,  93,  94,  95,  96,  97,  98,  99, 100]])"
      ]
     },
     "execution_count": 37,
     "metadata": {},
     "output_type": "execute_result"
    }
   ],
   "source": [
    "matr"
>>>>>>> 41adb4e49840bd7f56248c36bea80438a198fb05
   ]
  },
  {
   "cell_type": "markdown",
   "metadata": {},
   "source": [
    "# Slicing\n",
    "\n",
    "Slicing numpy arrays is similar to slicing lists. We can get a single item by using bracket notation. \n",
    "\n",
    "**Practice:** Create a numpy array and grab the second item from that array."
   ]
  },
  {
   "cell_type": "code",
<<<<<<< HEAD
   "execution_count": 37,
=======
   "execution_count": 41,
>>>>>>> 41adb4e49840bd7f56248c36bea80438a198fb05
   "metadata": {},
   "outputs": [
    {
     "data": {
      "text/plain": [
<<<<<<< HEAD
       "array([7, 8])"
      ]
     },
     "execution_count": 37,
=======
       "array([34,  2])"
      ]
     },
     "execution_count": 41,
>>>>>>> 41adb4e49840bd7f56248c36bea80438a198fb05
     "metadata": {},
     "output_type": "execute_result"
    }
   ],
   "source": [
<<<<<<< HEAD
    "numpy_numbers[-2:]\n"
=======
    "np_numbers[-2:]"
>>>>>>> 41adb4e49840bd7f56248c36bea80438a198fb05
   ]
  },
  {
   "cell_type": "code",
<<<<<<< HEAD
   "execution_count": 38,
=======
   "execution_count": 43,
>>>>>>> 41adb4e49840bd7f56248c36bea80438a198fb05
   "metadata": {},
   "outputs": [
    {
     "data": {
      "text/plain": [
       "array([[ 1,  2,  3],\n",
       "       [11, 12, 13],\n",
       "       [21, 22, 23]])"
      ]
     },
<<<<<<< HEAD
     "execution_count": 38,
=======
     "execution_count": 43,
>>>>>>> 41adb4e49840bd7f56248c36bea80438a198fb05
     "metadata": {},
     "output_type": "execute_result"
    }
   ],
   "source": [
<<<<<<< HEAD
    "matr[:3, :3]"
   ]
  },
  {
   "cell_type": "markdown",
   "metadata": {},
   "source": [
    "numpy_numbers[11:41, 12"
=======
    "matr[:3,:3]"
>>>>>>> 41adb4e49840bd7f56248c36bea80438a198fb05
   ]
  },
  {
   "cell_type": "markdown",
   "metadata": {},
   "source": [
    "You can also slice an array using a range of indices.\n",
    "\n",
    "**Practice:** Grab the second through fifth items from your array."
   ]
  },
  {
   "cell_type": "code",
<<<<<<< HEAD
   "execution_count": 39,
=======
   "execution_count": 45,
>>>>>>> 41adb4e49840bd7f56248c36bea80438a198fb05
   "metadata": {},
   "outputs": [
    {
     "data": {
      "text/plain": [
       "array([[23, 24, 25, 26],\n",
       "       [33, 34, 35, 36],\n",
       "       [43, 44, 45, 46],\n",
       "       [53, 54, 55, 56]])"
      ]
     },
<<<<<<< HEAD
     "execution_count": 39,
=======
     "execution_count": 45,
>>>>>>> 41adb4e49840bd7f56248c36bea80438a198fb05
     "metadata": {},
     "output_type": "execute_result"
    }
   ],
   "source": [
<<<<<<< HEAD
    "matr[2:6, 2:6]"
=======
    "matr[2:6,2:6]"
>>>>>>> 41adb4e49840bd7f56248c36bea80438a198fb05
   ]
  },
  {
   "cell_type": "markdown",
   "metadata": {},
   "source": [
    "# Slicing Matrices\n",
    "\n",
    "We still use bracket notation for slicing matrices, only now we separate our row slicing from column slicing with a comma."
   ]
  },
  {
   "cell_type": "code",
<<<<<<< HEAD
   "execution_count": 40,
   "metadata": {},
   "outputs": [
    {
     "data": {
      "text/plain": [
       "array([[  1,   2,   3,   4,   5,   6,   7,   8,   9,  10],\n",
       "       [ 11,  12,  13,  14,  15,  16,  17,  18,  19,  20],\n",
       "       [ 21,  22,  23,  24,  25,  26,  27,  28,  29,  30],\n",
       "       [ 31,  32,  33,  34,  35,  36,  37,  38,  39,  40],\n",
       "       [ 41,  42,  43,  44,  45,  46,  47,  48,  49,  50],\n",
       "       [ 51,  52,  53,  54,  55,  56,  57,  58,  59,  60],\n",
       "       [ 61,  62,  63,  64,  65,  66,  67,  68,  69,  70],\n",
       "       [ 71,  72,  73,  74,  75,  76,  77,  78,  79,  80],\n",
       "       [ 81,  82,  83,  84,  85,  86,  87,  88,  89,  90],\n",
       "       [ 91,  92,  93,  94,  95,  96,  97,  98,  99, 100]])"
      ]
     },
     "execution_count": 40,
     "metadata": {},
     "output_type": "execute_result"
    }
   ],
   "source": [
    "matr"
   ]
  },
  {
   "cell_type": "code",
   "execution_count": 42,
=======
   "execution_count": 49,
>>>>>>> 41adb4e49840bd7f56248c36bea80438a198fb05
   "metadata": {},
   "outputs": [
    {
     "data": {
      "text/plain": [
       "array([[  8,   9,  10],\n",
       "       [ 18,  19,  20],\n",
       "       [ 28,  29,  30],\n",
       "       [ 38,  39,  40],\n",
       "       [ 48,  49,  50],\n",
       "       [ 58,  59,  60],\n",
       "       [ 68,  69,  70],\n",
       "       [ 78,  79,  80],\n",
       "       [ 88,  89,  90],\n",
       "       [ 98,  99, 100]])"
      ]
     },
<<<<<<< HEAD
     "execution_count": 42,
=======
     "execution_count": 49,
>>>>>>> 41adb4e49840bd7f56248c36bea80438a198fb05
     "metadata": {},
     "output_type": "execute_result"
    }
   ],
   "source": [
    "matr[:, -3:]"
   ]
  },
  {
   "cell_type": "code",
<<<<<<< HEAD
   "execution_count": 41,
=======
   "execution_count": 51,
>>>>>>> 41adb4e49840bd7f56248c36bea80438a198fb05
   "metadata": {},
   "outputs": [
    {
     "data": {
      "text/plain": [
       "array([[31, 32, 33, 34, 35, 36, 37, 38, 39, 40],\n",
       "       [41, 42, 43, 44, 45, 46, 47, 48, 49, 50],\n",
       "       [51, 52, 53, 54, 55, 56, 57, 58, 59, 60],\n",
       "       [61, 62, 63, 64, 65, 66, 67, 68, 69, 70]])"
      ]
     },
<<<<<<< HEAD
     "execution_count": 41,
=======
     "execution_count": 51,
>>>>>>> 41adb4e49840bd7f56248c36bea80438a198fb05
     "metadata": {},
     "output_type": "execute_result"
    }
   ],
   "source": [
<<<<<<< HEAD
    "matr[3:-3,:]"
=======
    "matr[3:7, :]"
>>>>>>> 41adb4e49840bd7f56248c36bea80438a198fb05
   ]
  },
  {
   "cell_type": "code",
<<<<<<< HEAD
   "execution_count": 43,
=======
   "execution_count": 52,
>>>>>>> 41adb4e49840bd7f56248c36bea80438a198fb05
   "metadata": {},
   "outputs": [
    {
     "data": {
      "text/plain": [
       "array([32, 42, 52, 62])"
      ]
     },
<<<<<<< HEAD
     "execution_count": 43,
=======
     "execution_count": 52,
>>>>>>> 41adb4e49840bd7f56248c36bea80438a198fb05
     "metadata": {},
     "output_type": "execute_result"
    }
   ],
   "source": [
    "matr[3:7, 1]"
   ]
<<<<<<< HEAD
  },
  {
   "cell_type": "markdown",
   "metadata": {},
   "source": []
=======
>>>>>>> 41adb4e49840bd7f56248c36bea80438a198fb05
  },
  {
   "cell_type": "markdown",
   "metadata": {},
   "source": [
    "# Boolean Selection\n",
    "\n",
    "We can broadcast a boolean expression to filter a numpy array:"
   ]
  },
  {
   "cell_type": "code",
<<<<<<< HEAD
   "execution_count": 44,
=======
   "execution_count": 56,
>>>>>>> 41adb4e49840bd7f56248c36bea80438a198fb05
   "metadata": {},
   "outputs": [
    {
     "data": {
      "text/plain": [
<<<<<<< HEAD
       "array([ True,  True, False,  True, False,  True], dtype=bool)"
      ]
     },
     "execution_count": 44,
=======
       "array([False,  True,  True,  True,  True,  True], dtype=bool)"
      ]
     },
     "execution_count": 56,
>>>>>>> 41adb4e49840bd7f56248c36bea80438a198fb05
     "metadata": {},
     "output_type": "execute_result"
    }
   ],
   "source": [
<<<<<<< HEAD
    "numpy_numbers % 2 == 0"
=======
    "np_numbers % 2 == 0"
>>>>>>> 41adb4e49840bd7f56248c36bea80438a198fb05
   ]
  },
  {
   "cell_type": "code",
<<<<<<< HEAD
   "execution_count": 46,
   "metadata": {
    "scrolled": false
   },
=======
   "execution_count": 55,
   "metadata": {},
>>>>>>> 41adb4e49840bd7f56248c36bea80438a198fb05
   "outputs": [
    {
     "data": {
      "text/plain": [
<<<<<<< HEAD
       "array([2, 4, 6, 8])"
      ]
     },
     "execution_count": 46,
=======
       "array([ 2,  8, 10, 34,  2])"
      ]
     },
     "execution_count": 55,
>>>>>>> 41adb4e49840bd7f56248c36bea80438a198fb05
     "metadata": {},
     "output_type": "execute_result"
    }
   ],
   "source": [
<<<<<<< HEAD
    "numpy_numbers[numpy_numbers % 2 == 0]"
=======
    "np_numbers[np_numbers % 2 == 0]"
>>>>>>> 41adb4e49840bd7f56248c36bea80438a198fb05
   ]
  },
  {
   "cell_type": "code",
<<<<<<< HEAD
   "execution_count": 45,
=======
   "execution_count": 57,
>>>>>>> 41adb4e49840bd7f56248c36bea80438a198fb05
   "metadata": {},
   "outputs": [
    {
     "data": {
      "text/plain": [
       "array([  2,   4,   6,   8,  10,  12,  14,  16,  18,  20,  22,  24,  26,\n",
       "        28,  30,  32,  34,  36,  38,  40,  42,  44,  46,  48,  50,  52,\n",
       "        54,  56,  58,  60,  62,  64,  66,  68,  70,  72,  74,  76,  78,\n",
       "        80,  82,  84,  86,  88,  90,  92,  94,  96,  98, 100])"
      ]
     },
<<<<<<< HEAD
     "execution_count": 45,
=======
     "execution_count": 57,
>>>>>>> 41adb4e49840bd7f56248c36bea80438a198fb05
     "metadata": {},
     "output_type": "execute_result"
    }
   ],
   "source": [
    "matr[matr % 2 == 0]"
   ]
  },
  {
   "cell_type": "markdown",
   "metadata": {},
   "source": [
    "# Views vs Copy"
   ]
  },
  {
   "cell_type": "code",
<<<<<<< HEAD
   "execution_count": 47,
=======
   "execution_count": 61,
>>>>>>> 41adb4e49840bd7f56248c36bea80438a198fb05
   "metadata": {},
   "outputs": [
    {
     "data": {
      "text/plain": [
       "array([[ 1,  2,  3],\n",
       "       [11, 12, 13],\n",
       "       [21, 22, 23]])"
      ]
     },
<<<<<<< HEAD
     "execution_count": 47,
=======
     "execution_count": 61,
>>>>>>> 41adb4e49840bd7f56248c36bea80438a198fb05
     "metadata": {},
     "output_type": "execute_result"
    }
   ],
   "source": [
<<<<<<< HEAD
    "subset = matr[:3, :3]\n",
=======
    "subset = matr[:3, :3].copy()\n",
>>>>>>> 41adb4e49840bd7f56248c36bea80438a198fb05
    "subset"
   ]
  },
  {
   "cell_type": "code",
<<<<<<< HEAD
   "execution_count": 48,
=======
   "execution_count": 62,
>>>>>>> 41adb4e49840bd7f56248c36bea80438a198fb05
   "metadata": {},
   "outputs": [
    {
     "data": {
      "text/plain": [
       "array([[ 2,  3,  4],\n",
       "       [12, 13, 14],\n",
       "       [22, 23, 24]])"
      ]
     },
<<<<<<< HEAD
     "execution_count": 48,
=======
     "execution_count": 62,
>>>>>>> 41adb4e49840bd7f56248c36bea80438a198fb05
     "metadata": {},
     "output_type": "execute_result"
    }
   ],
   "source": [
    "subset += 1\n",
    "subset"
   ]
  },
  {
   "cell_type": "code",
<<<<<<< HEAD
   "execution_count": 49,
=======
   "execution_count": 63,
>>>>>>> 41adb4e49840bd7f56248c36bea80438a198fb05
   "metadata": {},
   "outputs": [
    {
     "data": {
      "text/plain": [
       "array([[  2,   3,   4,   4,   5,   6,   7,   8,   9,  10],\n",
       "       [ 12,  13,  14,  14,  15,  16,  17,  18,  19,  20],\n",
       "       [ 22,  23,  24,  24,  25,  26,  27,  28,  29,  30],\n",
       "       [ 31,  32,  33,  34,  35,  36,  37,  38,  39,  40],\n",
       "       [ 41,  42,  43,  44,  45,  46,  47,  48,  49,  50],\n",
       "       [ 51,  52,  53,  54,  55,  56,  57,  58,  59,  60],\n",
       "       [ 61,  62,  63,  64,  65,  66,  67,  68,  69,  70],\n",
       "       [ 71,  72,  73,  74,  75,  76,  77,  78,  79,  80],\n",
       "       [ 81,  82,  83,  84,  85,  86,  87,  88,  89,  90],\n",
       "       [ 91,  92,  93,  94,  95,  96,  97,  98,  99, 100]])"
      ]
     },
<<<<<<< HEAD
     "execution_count": 49,
=======
     "execution_count": 63,
>>>>>>> 41adb4e49840bd7f56248c36bea80438a198fb05
     "metadata": {},
     "output_type": "execute_result"
    }
   ],
   "source": [
    "matr"
   ]
  },
  {
   "cell_type": "code",
<<<<<<< HEAD
   "execution_count": 111,
   "metadata": {
    "scrolled": true
   },
   "outputs": [],
   "source": [
    "one_column = np.random.choice(range(1,16), size=5, replace=False)\n",
    "second_column = np.random.choice(range(16,31), size=5, replace=False)\n",
    "third_column = np.random.choice(range(31,46), size=5, replace=False)\n",
    "fourth_column = np.random.choice(range(46,61), size=5, replace=False)\n",
    "fifth_column = np.random.choice(range(61,76), size=5, replace=False)\n",
    "card = np.column_stack((one_column, second_column, third_column, fourth_column, fifth_column))"
   ]
  },
  {
   "cell_type": "code",
   "execution_count": 110,
   "metadata": {},
   "outputs": [
    {
     "data": {
      "text/plain": [
       "array([[13, 29, 37, 47, 62],\n",
       "       [11, 18, 40, 49, 74],\n",
       "       [11, 28, 31, 60, 72],\n",
       "       [ 4, 23, 39, 51, 65],\n",
       "       [15, 21, 41, 57, 61]])"
      ]
     },
     "execution_count": 110,
     "metadata": {},
     "output_type": "execute_result"
    }
   ],
   "source": [
    "card"
   ]
  },
  {
   "cell_type": "code",
   "execution_count": 83,
   "metadata": {},
   "outputs": [
    {
     "data": {
      "text/plain": [
       "array([ 1,  1, 10,  4,  3])"
      ]
     },
     "execution_count": 83,
     "metadata": {},
     "output_type": "execute_result"
    }
   ],
   "source": [
    "one_column"
   ]
  },
  {
   "cell_type": "code",
   "execution_count": 68,
   "metadata": {},
   "outputs": [
    {
     "data": {
      "text/plain": [
       "array([21, 24, 26, 27, 24])"
      ]
     },
     "execution_count": 68,
     "metadata": {},
     "output_type": "execute_result"
    }
   ],
   "source": [
    "second_column"
   ]
  },
  {
   "cell_type": "code",
   "execution_count": 69,
   "metadata": {
    "collapsed": true
   },
   "outputs": [],
   "source": [
    "card = [one_column + second_column + third_column + fourth_column + fifth_column]"
   ]
  },
  {
   "cell_type": "code",
   "execution_count": 70,
   "metadata": {},
   "outputs": [
    {
     "data": {
      "text/plain": [
       "[array([189, 194, 194, 186, 186])]"
      ]
     },
     "execution_count": 70,
     "metadata": {},
     "output_type": "execute_result"
    }
   ],
   "source": [
    "card"
   ]
  },
  {
   "cell_type": "code",
   "execution_count": 80,
   "metadata": {},
   "outputs": [
    {
     "data": {
      "text/plain": [
       "array([[ 9, 23, 38, 56, 68],\n",
       "       [10, 28, 42, 53, 61],\n",
       "       [ 6, 17, 45, 58, 70],\n",
       "       [ 1, 23, 40, 57, 74],\n",
       "       [ 5, 18, 41, 58, 66]])"
      ]
     },
     "execution_count": 80,
     "metadata": {},
     "output_type": "execute_result"
    }
   ],
   "source": [
    "np.column_stack((one_column, second_column, third_column, fourth_column, fifth_column))"
   ]
  },
  {
   "cell_type": "code",
   "execution_count": 95,
=======
   "execution_count": 73,
>>>>>>> 41adb4e49840bd7f56248c36bea80438a198fb05
   "metadata": {},
   "outputs": [
    {
     "data": {
      "text/plain": [
<<<<<<< HEAD
       "array([[ 8, 29, 39, 52, 65],\n",
       "       [ 1, 21, 41, 60, 64],\n",
       "       [ 5, 20, 40, 58, 68],\n",
       "       [ 7, 26, 31, 46, 71],\n",
       "       [ 9, 25, 34, 53, 66]])"
      ]
     },
     "execution_count": 95,
=======
       "array([[ 3, 27, 38, 46, 74],\n",
       "       [ 2, 25, 37, 56, 63],\n",
       "       [ 6, 26, 43, 59, 68],\n",
       "       [15, 22, 33, 47, 67],\n",
       "       [ 5, 29, 32, 49, 64]])"
      ]
     },
     "execution_count": 73,
>>>>>>> 41adb4e49840bd7f56248c36bea80438a198fb05
     "metadata": {},
     "output_type": "execute_result"
    }
   ],
   "source": [
<<<<<<< HEAD
=======
    "b = np.random.choice(range(1, 16), size=5, replace=False)\n",
    "i = np.random.choice(range(16, 31), size=5, replace=False)\n",
    "n = np.random.choice(range(31, 46), size=5, replace=False)\n",
    "g = np.random.choice(range(46, 61), size=5, replace=False)\n",
    "o = np.random.choice(range(61, 76), size=5, replace=False)\n",
    "\n",
    "card = np.column_stack([b, i, n, g, o])\n",
>>>>>>> 41adb4e49840bd7f56248c36bea80438a198fb05
    "card"
   ]
  },
  {
   "cell_type": "code",
<<<<<<< HEAD
   "execution_count": 102,
   "metadata": {
    "collapsed": true
   },
   "outputs": [],
   "source": [
    "dauber = np.zeros((5,5))"
   ]
  },
  {
   "cell_type": "code",
   "execution_count": 98,
=======
   "execution_count": 76,
>>>>>>> 41adb4e49840bd7f56248c36bea80438a198fb05
   "metadata": {},
   "outputs": [
    {
     "data": {
      "text/plain": [
<<<<<<< HEAD
       "array([[ 1.,  0.,  0.,  0.,  0.],\n",
=======
       "array([[ 1.,  0.,  1.,  0.,  0.],\n",
>>>>>>> 41adb4e49840bd7f56248c36bea80438a198fb05
       "       [ 0.,  0.,  0.,  0.,  0.],\n",
       "       [ 0.,  0.,  0.,  0.,  0.],\n",
       "       [ 0.,  0.,  0.,  0.,  0.],\n",
       "       [ 0.,  0.,  0.,  0.,  0.]])"
      ]
     },
<<<<<<< HEAD
     "execution_count": 98,
=======
     "execution_count": 76,
>>>>>>> 41adb4e49840bd7f56248c36bea80438a198fb05
     "metadata": {},
     "output_type": "execute_result"
    }
   ],
   "source": [
<<<<<<< HEAD
=======
    "dauber = np.zeros((5, 5))\n",
    "dauber[0, 0] = 1\n",
    "dauber[0, 2] = 1\n",
>>>>>>> 41adb4e49840bd7f56248c36bea80438a198fb05
    "dauber"
   ]
  },
  {
   "cell_type": "code",
<<<<<<< HEAD
   "execution_count": 103,
   "metadata": {},
   "outputs": [
    {
     "ename": "IndexError",
     "evalue": "index 5 is out of bounds for axis 0 with size 5",
     "output_type": "error",
     "traceback": [
      "\u001b[1;31m---------------------------------------------------------------------------\u001b[0m",
      "\u001b[1;31mIndexError\u001b[0m                                Traceback (most recent call last)",
      "\u001b[1;32m<ipython-input-103-4a111b17bb09>\u001b[0m in \u001b[0;36m<module>\u001b[1;34m()\u001b[0m\n\u001b[0;32m      1\u001b[0m \u001b[0mdauber\u001b[0m\u001b[1;33m[\u001b[0m\u001b[1;36m2\u001b[0m\u001b[1;33m,\u001b[0m\u001b[1;36m2\u001b[0m\u001b[1;33m]\u001b[0m \u001b[1;33m=\u001b[0m \u001b[1;36m1\u001b[0m\u001b[1;33m\u001b[0m\u001b[0m\n\u001b[1;32m----> 2\u001b[1;33m \u001b[0mdauber\u001b[0m\u001b[1;33m[\u001b[0m\u001b[1;36m5\u001b[0m\u001b[1;33m,\u001b[0m\u001b[1;36m5\u001b[0m\u001b[1;33m]\u001b[0m \u001b[1;33m=\u001b[0m \u001b[1;36m1\u001b[0m\u001b[1;33m\u001b[0m\u001b[0m\n\u001b[0m",
      "\u001b[1;31mIndexError\u001b[0m: index 5 is out of bounds for axis 0 with size 5"
     ]
    }
   ],
   "source": [
    "dauber[2,2] = 1\n",
    "dauber[5,5] = 1"
   ]
  },
  {
   "cell_type": "code",
   "execution_count": 112,
   "metadata": {},
   "outputs": [
    {
     "data": {
      "text/plain": [
       "array([[  9.,  27.,  33.,  54.,  67.],\n",
       "       [  4.,  24.,  41.,  53.,  60.],\n",
       "       [  0.,  26.,  36.,  52.,  66.],\n",
       "       [  5.,  19.,  38.,  56.,  65.],\n",
       "       [  8.,  21.,  34.,  46.,  73.]])"
      ]
     },
     "execution_count": 112,
     "metadata": {},
     "output_type": "execute_result"
    }
   ],
   "source": [
    "card = np.zeros([5,5])\n",
    "for i, j in zip(range(1,6),range(0,5)):\n",
    "    val = np.random.choice(range(15*(i-1),15*i), size=5, replace=False)\n",
    "    card[:,j] = val\n",
    "card"
   ]
=======
   "execution_count": null,
   "metadata": {
    "collapsed": true
   },
   "outputs": [],
   "source": []
>>>>>>> 41adb4e49840bd7f56248c36bea80438a198fb05
  },
  {
   "cell_type": "code",
   "execution_count": null,
   "metadata": {
    "collapsed": true
   },
   "outputs": [],
   "source": []
  }
 ],
 "metadata": {
  "anaconda-cloud": {},
  "kernelspec": {
   "display_name": "Python 3",
   "language": "python",
   "name": "python3"
  },
  "language_info": {
   "codemirror_mode": {
    "name": "ipython",
    "version": 3
   },
   "file_extension": ".py",
   "mimetype": "text/x-python",
   "name": "python",
   "nbconvert_exporter": "python",
   "pygments_lexer": "ipython3",
   "version": "3.6.2"
  }
 },
 "nbformat": 4,
 "nbformat_minor": 1
}
