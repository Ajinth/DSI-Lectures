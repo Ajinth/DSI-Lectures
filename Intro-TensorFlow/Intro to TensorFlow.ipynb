{
 "cells": [
  {
   "cell_type": "code",
   "execution_count": 30,
   "metadata": {},
   "outputs": [
    {
     "name": "stderr",
     "output_type": "stream",
     "text": [
      "Using TensorFlow backend.\n"
     ]
    }
   ],
   "source": [
    "import tensorflow as tf\n",
    "from sklearn.datasets import load_boston, load_iris\n",
    "from sklearn.model_selection import train_test_split\n",
    "from sklearn.preprocessing import StandardScaler\n",
    "from sklearn.metrics import r2_score, accuracy_score, confusion_matrix\n",
    "\n",
    "import matplotlib.pyplot as plt\n",
    "%matplotlib inline\n",
    "\n",
    "from keras.utils.np_utils import to_categorical\n"
   ]
  },
  {
   "cell_type": "code",
   "execution_count": 2,
   "metadata": {},
   "outputs": [],
   "source": [
    "a = tf.Variable(3, name='a')\n",
    "b = tf.Variable(4, name='b')\n",
    "f = tf.multiply(a, b)"
   ]
  },
  {
   "cell_type": "code",
   "execution_count": 3,
   "metadata": {},
   "outputs": [
    {
     "name": "stdout",
     "output_type": "stream",
     "text": [
      "12\n"
     ]
    }
   ],
   "source": [
    "init = tf.global_variables_initializer()\n",
    "\n",
    "with tf.Session() as sess:\n",
    "    init.run()\n",
    "    result = f.eval()\n",
    "    print(result)"
   ]
  },
  {
   "cell_type": "markdown",
   "metadata": {},
   "source": [
    "## Train Test Split plus Scale"
   ]
  },
  {
   "cell_type": "code",
   "execution_count": 4,
   "metadata": {},
   "outputs": [],
   "source": [
    "data = load_boston()\n",
    "\n",
    "X_train, X_test, y_train, y_test = train_test_split(data.data, data.target)\n",
    "\n",
    "y_train = y_train.reshape(-1, 1)\n",
    "y_test = y_test.reshape(-1, 1)\n",
    "\n",
    "ss = StandardScaler()\n",
    "X_train = ss.fit_transform(X_train)\n",
    "X_test = ss.transform(X_test)"
   ]
  },
  {
   "cell_type": "code",
   "execution_count": null,
   "metadata": {},
   "outputs": [],
   "source": []
  },
  {
   "cell_type": "code",
   "execution_count": 5,
   "metadata": {},
   "outputs": [],
   "source": [
    "tf.reset_default_graph()\n",
    "\n",
    "X = tf.placeholder(dtype=tf.float32, shape=(None, X_train.shape[1]), name='X')\n",
    "y = tf.placeholder(dtype=tf.float32, shape=(None), name='y')\n",
    "\n",
    "h1 = tf.layers.dense(X, 13, name='hidden1', activation=tf.nn.relu)\n",
    "y_hat = tf.layers.dense(h1, 1, activation=None)\n",
    "\n",
    "loss = tf.losses.mean_squared_error(y, y_hat)\n",
    "\n",
    "optimizer = tf.train.AdamOptimizer(.01)\n",
    "training_op = optimizer.minimize(loss)"
   ]
  },
  {
   "cell_type": "code",
   "execution_count": 6,
   "metadata": {
    "scrolled": true
   },
   "outputs": [
    {
     "name": "stdout",
     "output_type": "stream",
     "text": [
      "epoch 1 training loss 554.03 test loss 660.347\n",
      "epoch 2 training loss 546.125 test loss 650.015\n",
      "epoch 3 training loss 538.345 test loss 639.951\n",
      "epoch 4 training loss 530.715 test loss 630.128\n",
      "epoch 5 training loss 523.258 test loss 620.418\n",
      "epoch 6 training loss 515.852 test loss 610.932\n",
      "epoch 7 training loss 508.469 test loss 601.485\n",
      "epoch 8 training loss 501.074 test loss 592.059\n",
      "epoch 9 training loss 493.63 test loss 582.599\n",
      "epoch 10 training loss 486.078 test loss 573.072\n",
      "epoch 11 training loss 478.41 test loss 563.432\n",
      "epoch 12 training loss 470.622 test loss 553.555\n",
      "epoch 13 training loss 462.719 test loss 543.555\n",
      "epoch 14 training loss 454.694 test loss 533.454\n",
      "epoch 15 training loss 446.522 test loss 523.237\n",
      "epoch 16 training loss 438.201 test loss 512.876\n",
      "epoch 17 training loss 429.72 test loss 502.347\n",
      "epoch 18 training loss 421.08 test loss 491.704\n",
      "epoch 19 training loss 412.291 test loss 480.924\n",
      "epoch 20 training loss 403.354 test loss 470.028\n",
      "epoch 21 training loss 394.295 test loss 459.024\n",
      "epoch 22 training loss 385.1 test loss 447.94\n",
      "epoch 23 training loss 375.791 test loss 436.746\n",
      "epoch 24 training loss 366.389 test loss 425.444\n",
      "epoch 25 training loss 356.9 test loss 414.072\n",
      "epoch 26 training loss 347.339 test loss 402.582\n",
      "epoch 27 training loss 337.71 test loss 390.981\n",
      "epoch 28 training loss 328.052 test loss 379.401\n",
      "epoch 29 training loss 318.377 test loss 367.816\n",
      "epoch 30 training loss 308.679 test loss 356.244\n",
      "epoch 31 training loss 298.952 test loss 344.725\n",
      "epoch 32 training loss 289.255 test loss 333.243\n",
      "epoch 33 training loss 279.641 test loss 321.856\n",
      "epoch 34 training loss 270.133 test loss 310.631\n",
      "epoch 35 training loss 260.751 test loss 299.603\n",
      "epoch 36 training loss 251.522 test loss 288.782\n",
      "epoch 37 training loss 242.472 test loss 278.214\n",
      "epoch 38 training loss 233.624 test loss 267.929\n",
      "epoch 39 training loss 224.999 test loss 257.94\n",
      "epoch 40 training loss 216.615 test loss 248.274\n",
      "epoch 41 training loss 208.485 test loss 238.934\n",
      "epoch 42 training loss 200.633 test loss 229.934\n",
      "epoch 43 training loss 193.075 test loss 221.291\n",
      "epoch 44 training loss 185.821 test loss 213.027\n",
      "epoch 45 training loss 178.882 test loss 205.149\n",
      "epoch 46 training loss 172.255 test loss 197.657\n",
      "epoch 47 training loss 165.944 test loss 190.537\n",
      "epoch 48 training loss 159.94 test loss 183.783\n",
      "epoch 49 training loss 154.244 test loss 177.389\n",
      "epoch 50 training loss 148.848 test loss 171.345\n",
      "epoch 51 training loss 143.742 test loss 165.629\n",
      "epoch 52 training loss 138.915 test loss 160.224\n",
      "epoch 53 training loss 134.353 test loss 155.101\n",
      "epoch 54 training loss 130.029 test loss 150.246\n",
      "epoch 55 training loss 125.925 test loss 145.626\n",
      "epoch 56 training loss 122.013 test loss 141.212\n",
      "epoch 57 training loss 118.288 test loss 136.987\n",
      "epoch 58 training loss 114.736 test loss 132.928\n",
      "epoch 59 training loss 111.333 test loss 129.003\n",
      "epoch 60 training loss 108.065 test loss 125.179\n",
      "epoch 61 training loss 104.912 test loss 121.473\n",
      "epoch 62 training loss 101.859 test loss 117.859\n",
      "epoch 63 training loss 98.8994 test loss 114.333\n",
      "epoch 64 training loss 96.007 test loss 110.891\n",
      "epoch 65 training loss 93.1809 test loss 107.51\n",
      "epoch 66 training loss 90.4085 test loss 104.171\n",
      "epoch 67 training loss 87.7002 test loss 100.882\n",
      "epoch 68 training loss 85.0532 test loss 97.6453\n",
      "epoch 69 training loss 82.4718 test loss 94.4572\n",
      "epoch 70 training loss 79.9461 test loss 91.2996\n",
      "epoch 71 training loss 77.4835 test loss 88.1844\n",
      "epoch 72 training loss 75.0685 test loss 85.1264\n",
      "epoch 73 training loss 72.7139 test loss 82.1256\n",
      "epoch 74 training loss 70.4152 test loss 79.1461\n",
      "epoch 75 training loss 68.1743 test loss 76.2156\n",
      "epoch 76 training loss 65.9977 test loss 73.3574\n",
      "epoch 77 training loss 63.8892 test loss 70.5791\n",
      "epoch 78 training loss 61.8489 test loss 67.8869\n",
      "epoch 79 training loss 59.8788 test loss 65.2866\n",
      "epoch 80 training loss 57.9842 test loss 62.7768\n",
      "epoch 81 training loss 56.1585 test loss 60.3544\n",
      "epoch 82 training loss 54.4013 test loss 58.0217\n",
      "epoch 83 training loss 52.713 test loss 55.7838\n",
      "epoch 84 training loss 51.1011 test loss 53.6393\n",
      "epoch 85 training loss 49.5606 test loss 51.5916\n",
      "epoch 86 training loss 48.0916 test loss 49.6341\n",
      "epoch 87 training loss 46.6897 test loss 47.7553\n",
      "epoch 88 training loss 45.3581 test loss 45.9705\n",
      "epoch 89 training loss 44.0921 test loss 44.266\n",
      "epoch 90 training loss 42.8897 test loss 42.65\n",
      "epoch 91 training loss 41.7508 test loss 41.1145\n",
      "epoch 92 training loss 40.6723 test loss 39.6693\n",
      "epoch 93 training loss 39.6537 test loss 38.3109\n",
      "epoch 94 training loss 38.6926 test loss 37.0399\n",
      "epoch 95 training loss 37.7886 test loss 35.8473\n",
      "epoch 96 training loss 36.938 test loss 34.7275\n",
      "epoch 97 training loss 36.1366 test loss 33.6862\n",
      "epoch 98 training loss 35.3846 test loss 32.7185\n",
      "epoch 99 training loss 34.6771 test loss 31.8133\n",
      "epoch 100 training loss 34.015 test loss 30.9687\n"
     ]
    }
   ],
   "source": [
    "init = tf.global_variables_initializer()\n",
    "\n",
    "with tf.Session() as sess:\n",
    "    init.run()\n",
    "    \n",
    "    for epoch in range(100):\n",
    "        sess.run(training_op, feed_dict={X: X_train, y: y_train})\n",
    "        train_loss = sess.run(loss, feed_dict={X: X_train, y: y_train})\n",
    "        test_loss = sess.run(loss, feed_dict={X: X_test, y: y_test})\n",
    "        print('epoch', epoch+1, 'training loss', train_loss, 'test loss', test_loss)\n",
    "    pred = sess.run(y_hat, feed_dict={X: X_test})"
   ]
  },
  {
   "cell_type": "code",
   "execution_count": 7,
   "metadata": {},
   "outputs": [
    {
     "data": {
      "text/plain": [
       "array([[ 36.91612625],\n",
       "       [ 22.91326904],\n",
       "       [ 29.00703812],\n",
       "       [ 42.83797455],\n",
       "       [ 31.58760643],\n",
       "       [ 34.35962296],\n",
       "       [ 37.6284256 ],\n",
       "       [ 25.71767616],\n",
       "       [ 12.26983547],\n",
       "       [ 38.49637985],\n",
       "       [ 12.13676548],\n",
       "       [ 20.50205421],\n",
       "       [ 28.50057602],\n",
       "       [ 20.01791573],\n",
       "       [ 21.5471859 ],\n",
       "       [ 30.89517784],\n",
       "       [ 25.99125862],\n",
       "       [ 29.81637955],\n",
       "       [ 12.47265625],\n",
       "       [ 21.9564724 ],\n",
       "       [ 22.21447754],\n",
       "       [ 17.50271797],\n",
       "       [ 20.00486374],\n",
       "       [ 18.71997643],\n",
       "       [ 28.09650612],\n",
       "       [ 15.83062077],\n",
       "       [ 19.50211716],\n",
       "       [ 20.39822197],\n",
       "       [ 19.14417267],\n",
       "       [  6.69225264],\n",
       "       [ 29.35415649],\n",
       "       [  8.26340485],\n",
       "       [ 24.61723328],\n",
       "       [ 24.11224365],\n",
       "       [ 12.37150288],\n",
       "       [ 17.03974724],\n",
       "       [ 36.50586319],\n",
       "       [ 20.70164871],\n",
       "       [ 35.28701019],\n",
       "       [ 27.78705788],\n",
       "       [ 16.18810844],\n",
       "       [ 20.72973633],\n",
       "       [  9.17477417],\n",
       "       [ 11.71132755],\n",
       "       [ 18.42204666],\n",
       "       [  8.9950285 ],\n",
       "       [ 32.88703156],\n",
       "       [ 24.4557724 ],\n",
       "       [ 37.56399536],\n",
       "       [ 11.94325638],\n",
       "       [  9.41144371],\n",
       "       [ 39.69208908],\n",
       "       [ 18.93451309],\n",
       "       [ 18.69366264],\n",
       "       [ 31.22319794],\n",
       "       [ 20.38993073],\n",
       "       [ 13.1420393 ],\n",
       "       [ 21.75897598],\n",
       "       [ 17.06016731],\n",
       "       [ 31.4749794 ],\n",
       "       [ 23.26998138],\n",
       "       [ 23.28782272],\n",
       "       [ 16.80228233],\n",
       "       [ 26.1597805 ],\n",
       "       [ 20.49015427],\n",
       "       [ 29.21730423],\n",
       "       [ 22.08388519],\n",
       "       [ 29.3413887 ],\n",
       "       [ 34.46862793],\n",
       "       [ 36.54528427],\n",
       "       [ 27.95502663],\n",
       "       [ 22.76467514],\n",
       "       [ 25.29859161],\n",
       "       [  4.49012804],\n",
       "       [ 22.71916199],\n",
       "       [ 13.87017536],\n",
       "       [ 18.43342972],\n",
       "       [ 24.24428749],\n",
       "       [ 33.91735077],\n",
       "       [ 11.7982769 ],\n",
       "       [ 32.80805969],\n",
       "       [ 10.52316761],\n",
       "       [ 17.35842705],\n",
       "       [ 16.78900146],\n",
       "       [ 32.60554123],\n",
       "       [ 21.98793983],\n",
       "       [ 17.06280899],\n",
       "       [ 42.22925568],\n",
       "       [ 17.90313721],\n",
       "       [ 28.6231823 ],\n",
       "       [ 18.14130402],\n",
       "       [ 18.82979965],\n",
       "       [ 22.91292191],\n",
       "       [ 28.36461067],\n",
       "       [ 22.18075943],\n",
       "       [ 14.59926891],\n",
       "       [ 20.91571236],\n",
       "       [ 13.26221848],\n",
       "       [ 26.96029282],\n",
       "       [ 17.1760006 ],\n",
       "       [ 26.07105064],\n",
       "       [ 24.37817955],\n",
       "       [ 18.43231773],\n",
       "       [ 18.25209808],\n",
       "       [ 27.44763565],\n",
       "       [ 36.87473679],\n",
       "       [ 37.58386993],\n",
       "       [ 19.04965591],\n",
       "       [ 22.37788391],\n",
       "       [ 14.03449535],\n",
       "       [ 18.24231529],\n",
       "       [ 13.78902054],\n",
       "       [ 20.92767334],\n",
       "       [ 29.7412262 ],\n",
       "       [ 24.83613586],\n",
       "       [ 32.22198105],\n",
       "       [ 25.02539825],\n",
       "       [  7.49524164],\n",
       "       [ 12.84056187],\n",
       "       [ 20.47509003],\n",
       "       [ 27.57567787],\n",
       "       [ 13.98686695],\n",
       "       [ 14.34543514],\n",
       "       [ 32.06830597],\n",
       "       [ 26.95456696],\n",
       "       [ 29.37797546],\n",
       "       [ 16.53203011]], dtype=float32)"
      ]
     },
     "execution_count": 7,
     "metadata": {},
     "output_type": "execute_result"
    }
   ],
   "source": [
    "pred"
   ]
  },
  {
   "cell_type": "code",
   "execution_count": 8,
   "metadata": {},
   "outputs": [
    {
     "data": {
      "text/plain": [
       "0.68085729461108702"
      ]
     },
     "execution_count": 8,
     "metadata": {},
     "output_type": "execute_result"
    }
   ],
   "source": [
    "r2_score(y_test[:, 0], pred[:, 0])"
   ]
  },
  {
   "cell_type": "markdown",
   "metadata": {},
   "source": [
    "# Binary Classification"
   ]
  },
  {
   "cell_type": "code",
   "execution_count": 9,
   "metadata": {},
   "outputs": [],
   "source": [
    "data = load_boston()\n",
    "\n",
    "target = data.target * -1 + 1\n",
    "target = target.reshape(-1,1)\n",
    "\n",
    "X_train, X_test, y_train, y_test = train_test_split(data.data, target)\n",
    "\n",
    "ss = StandardScaler()\n",
    "X_train = ss.fit_transform(X_train)\n",
    "X_test = ss.transform(X_test)"
   ]
  },
  {
   "cell_type": "code",
   "execution_count": 10,
   "metadata": {},
   "outputs": [],
   "source": [
    "tf.reset_default_graph()\n",
    "\n",
    "X = tf.placeholder(dtype=tf.float32, shape=(None, X_train.shape[1]), name='X')\n",
    "y = tf.placeholder(dtype=tf.float32, shape=(None), name='y')\n",
    "\n",
    "h1 = tf.layers.dense(X, 30, name='hidden1', activation=tf.nn.relu)\n",
    "y_hat = tf.layers.dense(h1, 1, name='y_hat', activation=tf.nn.sigmoid)\n",
    "\n",
    "loss = tf.losses.log_loss(y, y_hat)\n",
    "\n",
    "optimizer = tf.train.AdamOptimizer(.01)\n",
    "training_op = optimizer.minimize(loss)"
   ]
  },
  {
   "cell_type": "code",
   "execution_count": null,
   "metadata": {},
   "outputs": [],
   "source": []
  },
  {
   "cell_type": "code",
   "execution_count": 11,
   "metadata": {},
   "outputs": [
    {
     "data": {
      "text/plain": [
       "<matplotlib.legend.Legend at 0x192685bdd30>"
      ]
     },
     "execution_count": 11,
     "metadata": {},
     "output_type": "execute_result"
    },
    {
     "data": {
      "image/png": "[encoded data removed]",
      "text/plain": [
       "<matplotlib.figure.Figure at 0x1926832d4e0>"
      ]
     },
     "metadata": {},
     "output_type": "display_data"
    }
   ],
   "source": [
    "init = tf.global_variables_initializer()\n",
    "\n",
    "with tf.Session() as sess:\n",
    "    init.run()\n",
    "    epochs = list(range(1,101))\n",
    "    training_losses = []\n",
    "    test_losses = []\n",
    "    for epoch in epochs:\n",
    "        sess.run(training_op, feed_dict={X: X_train, y: y_train})\n",
    "        training_loss = sess.run(loss, feed_dict={X: X_train, y: y_train})\n",
    "        training_losses.append(training_loss)\n",
    "        \n",
    "        test_loss = sess.run(loss, feed_dict={X: X_test, y: y_test})\n",
    "        test_losses.append(test_loss)\n",
    "        \n",
    "plt.plot(training_losses, label='train loss')\n",
    "plt.plot(test_losses, label='test loss')\n",
    "plt.legend()"
   ]
  },
  {
   "cell_type": "markdown",
   "metadata": {},
   "source": [
    "# Batches"
   ]
  },
  {
   "cell_type": "code",
   "execution_count": 12,
   "metadata": {},
   "outputs": [],
   "source": [
    "from sklearn.model_selection import KFold\n",
    "kf = KFold(4, shuffle=True, random_state=2003)"
   ]
  },
  {
   "cell_type": "code",
   "execution_count": 13,
   "metadata": {},
   "outputs": [
    {
     "data": {
      "text/plain": [
       "4"
      ]
     },
     "execution_count": 13,
     "metadata": {},
     "output_type": "execute_result"
    }
   ],
   "source": [
    "batches = []\n",
    "for train,test in kf.split(X_train, y_train):\n",
    "    batches.append(test)\n",
    "len(batches)"
   ]
  },
  {
   "cell_type": "code",
   "execution_count": 14,
   "metadata": {},
   "outputs": [],
   "source": [
    "kf = KFold(4, shuffle=True, random_state=2003)\n",
    "\n",
    "batches = [test for _,test in kf.split(X_train, y_train)]"
   ]
  },
  {
   "cell_type": "code",
   "execution_count": 15,
   "metadata": {},
   "outputs": [
    {
     "data": {
      "text/plain": [
       "<matplotlib.legend.Legend at 0x192685707f0>"
      ]
     },
     "execution_count": 15,
     "metadata": {},
     "output_type": "execute_result"
    },
    {
     "data": {
      "image/png": "[encoded data removed]",
      "text/plain": [
       "<matplotlib.figure.Figure at 0x192683de898>"
      ]
     },
     "metadata": {},
     "output_type": "display_data"
    }
   ],
   "source": [
    "init = tf.global_variables_initializer()\n",
    "\n",
    "with tf.Session() as sess:\n",
    "    init.run()\n",
    "    epochs = list(range(1,101))\n",
    "    training_losses = []\n",
    "    test_losses = []\n",
    "    for epoch in epochs:\n",
    "        for batch in batches:\n",
    "            X_batch = X_train[batch]\n",
    "            y_batch = y_train[batch]\n",
    "            sess.run(training_op, feed_dict={X: X_batch, y: y_batch})\n",
    "        \n",
    "        training_loss = sess.run(loss, feed_dict={X: X_train, y: y_train})\n",
    "        training_losses.append(training_loss)\n",
    "        \n",
    "        test_loss = sess.run(loss, feed_dict={X: X_test, y: y_test})\n",
    "        test_losses.append(test_loss)\n",
    "        \n",
    "plt.plot(training_losses, label='train loss')\n",
    "plt.plot(test_losses, label='test loss')\n",
    "plt.legend()"
   ]
  },
  {
   "cell_type": "code",
   "execution_count": 16,
   "metadata": {},
   "outputs": [
    {
     "data": {
      "text/plain": [
       "<matplotlib.legend.Legend at 0x19268c30ac8>"
      ]
     },
     "execution_count": 16,
     "metadata": {},
     "output_type": "execute_result"
    },
    {
     "data": {
      "image/png": "[encoded data removed]",
      "text/plain": [
       "<matplotlib.figure.Figure at 0x19266c72518>"
      ]
     },
     "metadata": {},
     "output_type": "display_data"
    }
   ],
   "source": [
    "tf.reset_default_graph()\n",
    "\n",
    "X = tf.placeholder(dtype=tf.float32, shape=(None, X_train.shape[1]), name='X')\n",
    "y = tf.placeholder(dtype=tf.float32, shape=(None), name='y')\n",
    "\n",
    "h1 = tf.layers.dense(X, 30, name='hidden1', activation=tf.nn.relu)\n",
    "h2 = tf.layers.dense(h1, 30, name='hidden2', activation=tf.nn.relu)\n",
    "h3 = tf.layers.dense(h2, 30, name='hidden3', activation=tf.nn.relu)\n",
    "y_hat = tf.layers.dense(h3, 1, name='y_hat', activation=tf.nn.sigmoid)\n",
    "\n",
    "loss = tf.losses.log_loss(y, y_hat)\n",
    "\n",
    "optimizer = tf.train.AdamOptimizer(.001)\n",
    "\n",
    "training_op = optimizer.minimize(loss)\n",
    "\n",
    "\n",
    "init = tf.global_variables_initializer()\n",
    "\n",
    "with tf.Session() as sess:\n",
    "    init.run()\n",
    "    epochs = list(range(1,100))\n",
    "    training_losses = []\n",
    "    test_losses = []\n",
    "    for epoch in epochs:\n",
    "        for batch in batches:\n",
    "            X_batch = X_train[batch]\n",
    "            y_batch = y_train[batch]\n",
    "            sess.run(training_op, feed_dict={X: X_batch, y: y_batch})\n",
    "        \n",
    "        training_loss = sess.run(loss, feed_dict={X: X_train, y: y_train})\n",
    "        training_losses.append(training_loss)\n",
    "        \n",
    "        test_loss = sess.run(loss, feed_dict={X: X_test, y: y_test})\n",
    "        test_losses.append(test_loss)\n",
    "        \n",
    "plt.plot(training_losses, label='train loss')\n",
    "plt.plot(test_losses, label='test loss')\n",
    "plt.legend()"
   ]
  },
  {
   "cell_type": "code",
   "execution_count": 17,
   "metadata": {},
   "outputs": [
    {
     "data": {
      "text/plain": [
       "<matplotlib.legend.Legend at 0x19268db1e80>"
      ]
     },
     "execution_count": 17,
     "metadata": {},
     "output_type": "execute_result"
    },
    {
     "data": {
      "image/png": "[encoded data removed]",
      "text/plain": [
       "<matplotlib.figure.Figure at 0x19266d02a90>"
      ]
     },
     "metadata": {},
     "output_type": "display_data"
    }
   ],
   "source": [
    "tf.reset_default_graph()\n",
    "\n",
    "X = tf.placeholder(dtype=tf.float32, shape=(None, X_train.shape[1]), name='X')\n",
    "y = tf.placeholder(dtype=tf.float32, shape=(None), name='y')\n",
    "\n",
    "h1 = tf.layers.dense(X, 30, name='hidden1', activation=tf.nn.relu)\n",
    "h2 = tf.layers.dense(h1, 30, name='hidden2', activation=tf.nn.relu)\n",
    "h3 = tf.layers.dense(h2, 30, name='hidden3', activation=tf.nn.relu)\n",
    "y_hat = tf.layers.dense(h3, 1, name='y_hat', activation=tf.nn.sigmoid)\n",
    "\n",
    "loss = tf.losses.log_loss(y, y_hat)\n",
    "\n",
    "optimizer = tf.train.AdamOptimizer(.001)\n",
    "\n",
    "training_op = optimizer.minimize(loss)\n",
    "\n",
    "\n",
    "init = tf.global_variables_initializer()\n",
    "\n",
    "with tf.Session() as sess:\n",
    "    init.run()\n",
    "    epochs = list(range(1,100))\n",
    "    training_losses = []\n",
    "    test_losses = []\n",
    "    for epoch in epochs:\n",
    "        for batch in batches:\n",
    "            X_batch = X_train[batch]\n",
    "            y_batch = y_train[batch]\n",
    "            sess.run(training_op, feed_dict={X: X_batch, y: y_batch})\n",
    "        \n",
    "        training_loss = sess.run(loss, feed_dict={X: X_train, y: y_train})\n",
    "        training_losses.append(training_loss)\n",
    "        \n",
    "        test_loss = sess.run(loss, feed_dict={X: X_test, y: y_test})\n",
    "        test_losses.append(test_loss)\n",
    "        \n",
    "plt.plot(training_losses, label='train loss')\n",
    "plt.plot(test_losses, label='test loss')\n",
    "plt.legend()"
   ]
  },
  {
   "cell_type": "code",
   "execution_count": 26,
   "metadata": {},
   "outputs": [
    {
     "ename": "RuntimeError",
     "evalue": "Attempted to use a closed Session.",
     "output_type": "error",
     "traceback": [
      "\u001b[1;31m---------------------------------------------------------------------------\u001b[0m",
      "\u001b[1;31mRuntimeError\u001b[0m                              Traceback (most recent call last)",
      "\u001b[1;32m<ipython-input-26-4fe50f7707e0>\u001b[0m in \u001b[0;36m<module>\u001b[1;34m()\u001b[0m\n\u001b[0;32m      2\u001b[0m \u001b[0mpred\u001b[0m \u001b[1;33m=\u001b[0m \u001b[0mpred\u001b[0m \u001b[1;33m>\u001b[0m \u001b[1;36m.5\u001b[0m\u001b[1;33m\u001b[0m\u001b[0m\n\u001b[0;32m      3\u001b[0m \u001b[0mpred\u001b[0m \u001b[1;33m=\u001b[0m \u001b[0mpred\u001b[0m\u001b[1;33m.\u001b[0m\u001b[0mastype\u001b[0m\u001b[1;33m(\u001b[0m\u001b[0mint\u001b[0m\u001b[1;33m)\u001b[0m\u001b[1;33m\u001b[0m\u001b[0m\n\u001b[1;32m----> 4\u001b[1;33m \u001b[0mpred\u001b[0m \u001b[1;33m=\u001b[0m \u001b[0msess\u001b[0m\u001b[1;33m.\u001b[0m\u001b[0mrun\u001b[0m\u001b[1;33m(\u001b[0m\u001b[0my_hat\u001b[0m\u001b[1;33m,\u001b[0m \u001b[0mfeed_dict\u001b[0m\u001b[1;33m=\u001b[0m\u001b[1;33m{\u001b[0m\u001b[0mX\u001b[0m\u001b[1;33m:\u001b[0m \u001b[0mX_test\u001b[0m\u001b[1;33m}\u001b[0m\u001b[1;33m)\u001b[0m\u001b[1;33m\u001b[0m\u001b[0m\n\u001b[0m",
      "\u001b[1;32mC:\\ProgramData\\Anaconda3\\lib\\site-packages\\tensorflow\\python\\client\\session.py\u001b[0m in \u001b[0;36mrun\u001b[1;34m(self, fetches, feed_dict, options, run_metadata)\u001b[0m\n\u001b[0;32m    893\u001b[0m     \u001b[1;32mtry\u001b[0m\u001b[1;33m:\u001b[0m\u001b[1;33m\u001b[0m\u001b[0m\n\u001b[0;32m    894\u001b[0m       result = self._run(None, fetches, feed_dict, options_ptr,\n\u001b[1;32m--> 895\u001b[1;33m                          run_metadata_ptr)\n\u001b[0m\u001b[0;32m    896\u001b[0m       \u001b[1;32mif\u001b[0m \u001b[0mrun_metadata\u001b[0m\u001b[1;33m:\u001b[0m\u001b[1;33m\u001b[0m\u001b[0m\n\u001b[0;32m    897\u001b[0m         \u001b[0mproto_data\u001b[0m \u001b[1;33m=\u001b[0m \u001b[0mtf_session\u001b[0m\u001b[1;33m.\u001b[0m\u001b[0mTF_GetBuffer\u001b[0m\u001b[1;33m(\u001b[0m\u001b[0mrun_metadata_ptr\u001b[0m\u001b[1;33m)\u001b[0m\u001b[1;33m\u001b[0m\u001b[0m\n",
      "\u001b[1;32mC:\\ProgramData\\Anaconda3\\lib\\site-packages\\tensorflow\\python\\client\\session.py\u001b[0m in \u001b[0;36m_run\u001b[1;34m(self, handle, fetches, feed_dict, options, run_metadata)\u001b[0m\n\u001b[0;32m   1049\u001b[0m     \u001b[1;31m# Check session.\u001b[0m\u001b[1;33m\u001b[0m\u001b[1;33m\u001b[0m\u001b[0m\n\u001b[0;32m   1050\u001b[0m     \u001b[1;32mif\u001b[0m \u001b[0mself\u001b[0m\u001b[1;33m.\u001b[0m\u001b[0m_closed\u001b[0m\u001b[1;33m:\u001b[0m\u001b[1;33m\u001b[0m\u001b[0m\n\u001b[1;32m-> 1051\u001b[1;33m       \u001b[1;32mraise\u001b[0m \u001b[0mRuntimeError\u001b[0m\u001b[1;33m(\u001b[0m\u001b[1;34m'Attempted to use a closed Session.'\u001b[0m\u001b[1;33m)\u001b[0m\u001b[1;33m\u001b[0m\u001b[0m\n\u001b[0m\u001b[0;32m   1052\u001b[0m     \u001b[1;32mif\u001b[0m \u001b[0mself\u001b[0m\u001b[1;33m.\u001b[0m\u001b[0mgraph\u001b[0m\u001b[1;33m.\u001b[0m\u001b[0mversion\u001b[0m \u001b[1;33m==\u001b[0m \u001b[1;36m0\u001b[0m\u001b[1;33m:\u001b[0m\u001b[1;33m\u001b[0m\u001b[0m\n\u001b[0;32m   1053\u001b[0m       raise RuntimeError('The Session graph is empty.  Add operations to the '\n",
      "\u001b[1;31mRuntimeError\u001b[0m: Attempted to use a closed Session."
     ]
    }
   ],
   "source": [
    "pred = (pred > .5).astype(int)\n",
    "pred = pred > .5\n",
    "pred = pred.astype(int)\n",
    "pred = sess.run(y_hat, feed_dict={X: X_test})"
   ]
  },
  {
   "cell_type": "code",
   "execution_count": 25,
   "metadata": {},
   "outputs": [
    {
     "ename": "ValueError",
     "evalue": "Classification metrics can't handle a mix of continuous and binary targets",
     "output_type": "error",
     "traceback": [
      "\u001b[1;31m---------------------------------------------------------------------------\u001b[0m",
      "\u001b[1;31mValueError\u001b[0m                                Traceback (most recent call last)",
      "\u001b[1;32m<ipython-input-25-71228fa26b60>\u001b[0m in \u001b[0;36m<module>\u001b[1;34m()\u001b[0m\n\u001b[1;32m----> 1\u001b[1;33m \u001b[0maccuracy_score\u001b[0m\u001b[1;33m(\u001b[0m\u001b[0my_test\u001b[0m\u001b[1;33m,\u001b[0m \u001b[0mpred\u001b[0m\u001b[1;33m)\u001b[0m\u001b[1;33m\u001b[0m\u001b[0m\n\u001b[0m",
      "\u001b[1;32mC:\\ProgramData\\Anaconda3\\lib\\site-packages\\sklearn\\metrics\\classification.py\u001b[0m in \u001b[0;36maccuracy_score\u001b[1;34m(y_true, y_pred, normalize, sample_weight)\u001b[0m\n\u001b[0;32m    174\u001b[0m \u001b[1;33m\u001b[0m\u001b[0m\n\u001b[0;32m    175\u001b[0m     \u001b[1;31m# Compute accuracy for each possible representation\u001b[0m\u001b[1;33m\u001b[0m\u001b[1;33m\u001b[0m\u001b[0m\n\u001b[1;32m--> 176\u001b[1;33m     \u001b[0my_type\u001b[0m\u001b[1;33m,\u001b[0m \u001b[0my_true\u001b[0m\u001b[1;33m,\u001b[0m \u001b[0my_pred\u001b[0m \u001b[1;33m=\u001b[0m \u001b[0m_check_targets\u001b[0m\u001b[1;33m(\u001b[0m\u001b[0my_true\u001b[0m\u001b[1;33m,\u001b[0m \u001b[0my_pred\u001b[0m\u001b[1;33m)\u001b[0m\u001b[1;33m\u001b[0m\u001b[0m\n\u001b[0m\u001b[0;32m    177\u001b[0m     \u001b[1;32mif\u001b[0m \u001b[0my_type\u001b[0m\u001b[1;33m.\u001b[0m\u001b[0mstartswith\u001b[0m\u001b[1;33m(\u001b[0m\u001b[1;34m'multilabel'\u001b[0m\u001b[1;33m)\u001b[0m\u001b[1;33m:\u001b[0m\u001b[1;33m\u001b[0m\u001b[0m\n\u001b[0;32m    178\u001b[0m         \u001b[0mdiffering_labels\u001b[0m \u001b[1;33m=\u001b[0m \u001b[0mcount_nonzero\u001b[0m\u001b[1;33m(\u001b[0m\u001b[0my_true\u001b[0m \u001b[1;33m-\u001b[0m \u001b[0my_pred\u001b[0m\u001b[1;33m,\u001b[0m \u001b[0maxis\u001b[0m\u001b[1;33m=\u001b[0m\u001b[1;36m1\u001b[0m\u001b[1;33m)\u001b[0m\u001b[1;33m\u001b[0m\u001b[0m\n",
      "\u001b[1;32mC:\\ProgramData\\Anaconda3\\lib\\site-packages\\sklearn\\metrics\\classification.py\u001b[0m in \u001b[0;36m_check_targets\u001b[1;34m(y_true, y_pred)\u001b[0m\n\u001b[0;32m     79\u001b[0m     \u001b[1;32mif\u001b[0m \u001b[0mlen\u001b[0m\u001b[1;33m(\u001b[0m\u001b[0my_type\u001b[0m\u001b[1;33m)\u001b[0m \u001b[1;33m>\u001b[0m \u001b[1;36m1\u001b[0m\u001b[1;33m:\u001b[0m\u001b[1;33m\u001b[0m\u001b[0m\n\u001b[0;32m     80\u001b[0m         raise ValueError(\"Classification metrics can't handle a mix of {0} \"\n\u001b[1;32m---> 81\u001b[1;33m                          \"and {1} targets\".format(type_true, type_pred))\n\u001b[0m\u001b[0;32m     82\u001b[0m \u001b[1;33m\u001b[0m\u001b[0m\n\u001b[0;32m     83\u001b[0m     \u001b[1;31m# We can't have more than one value on y_type => The set is no more needed\u001b[0m\u001b[1;33m\u001b[0m\u001b[1;33m\u001b[0m\u001b[0m\n",
      "\u001b[1;31mValueError\u001b[0m: Classification metrics can't handle a mix of continuous and binary targets"
     ]
    }
   ],
   "source": [
    "accuracy_score(y_test, pred)"
   ]
  },
  {
   "cell_type": "markdown",
   "metadata": {},
   "source": [
    "# MultiClass classification"
   ]
  },
  {
   "cell_type": "code",
   "execution_count": 31,
   "metadata": {},
   "outputs": [],
   "source": [
    "data = load_iris()\n",
    "y = to_categorical(data.target)\n",
    "\n",
    "X_train, X_test, y_train, y_test = train_test_split(data.data, y)\n",
    "\n",
    "ss = StandardScaler()\n",
    "X_train = ss.fit_transform(X_train)\n",
    "X_test = ss.transform(X_test)"
   ]
  },
  {
   "cell_type": "code",
   "execution_count": 32,
   "metadata": {},
   "outputs": [
    {
     "data": {
      "text/plain": [
       "(150, 3)"
      ]
     },
     "execution_count": 32,
     "metadata": {},
     "output_type": "execute_result"
    }
   ],
   "source": [
    "y.shape"
   ]
  },
  {
   "cell_type": "code",
   "execution_count": 42,
   "metadata": {},
   "outputs": [],
   "source": [
    "tf.reset_default_graph()\n",
    "\n",
    "X = tf.placeholder(dtype=tf.float32, shape=(None, X_train.shape[1]), name='X')\n",
    "y = tf.placeholder(dtype=tf.float32, shape=(None), name='y')\n",
    "\n",
    "h1 = tf.layers.dense(X, 4, activation=tf.nn.relu, name='hidden1')\n",
    "y_hat = tf.layers.dense(h1, y_train.shape[1], name='y_hat', activation=None)\n",
    "\n",
    "loss = tf.losses.softmax_cross_entropy(y, y_hat)\n",
    "\n",
    "optimizer = tf.train.AdamOptimizer(.01)\n",
    "training_op = optimizer.minimize(loss)\n",
    "\n",
    "saver = tf.train.Saver()"
   ]
  },
  {
   "cell_type": "code",
   "execution_count": 43,
   "metadata": {},
   "outputs": [
    {
     "name": "stdout",
     "output_type": "stream",
     "text": [
      "epoch 0 train loss 1.09108\n",
      "epoch 1 train loss 1.06377\n",
      "epoch 2 train loss 1.03836\n",
      "epoch 3 train loss 1.01374\n",
      "epoch 4 train loss 0.989302\n"
     ]
    }
   ],
   "source": [
    "# run network\n",
    "init =tf.global_variables_initializer()\n",
    "\n",
    "with tf.Session() as sess:\n",
    "    init.run()\n",
    "    \n",
    "    for epoch in range(5):\n",
    "        sess.run(training_op, feed_dict={X: X_train, y: y_train})\n",
    "        \n",
    "        train_loss = sess.run(loss, feed_dict={X: X_train, y: y_train})\n",
    "        print('epoch', epoch, 'train loss', train_loss)\n",
    "        \n",
    "    saver.save(sess, './iris.ckpt')"
   ]
  },
  {
   "cell_type": "code",
   "execution_count": 44,
   "metadata": {},
   "outputs": [
    {
     "name": "stdout",
     "output_type": "stream",
     "text": [
      "INFO:tensorflow:Restoring parameters from ./iris.ckpt\n"
     ]
    }
   ],
   "source": [
    "with tf.Session() as sess:\n",
    "    saver.restore(sess, './iris.ckpt')\n",
    "    pred = sess.run(y_hat, feed_dict={X: X_test})"
   ]
  },
  {
   "cell_type": "code",
   "execution_count": 45,
   "metadata": {},
   "outputs": [
    {
     "data": {
      "text/plain": [
       "array([[-0.42484838, -0.530779  , -1.33029354],\n",
       "       [-0.10002677, -0.2883715 ,  0.21246204],\n",
       "       [ 0.60566342, -0.41805366,  0.64728212],\n",
       "       [ 0.04481427, -0.26699704,  0.30125308],\n",
       "       [-0.42116523, -0.50837427,  0.26334566],\n",
       "       [-0.15427546, -0.0119939 , -0.02512614],\n",
       "       [-1.3771342 , -1.49117792, -1.5794282 ],\n",
       "       [-0.13419639, -0.03814258, -0.25936621],\n",
       "       [-0.37685841, -0.49296814, -1.23437142],\n",
       "       [-0.25792056, -0.23982644, -0.70032978],\n",
       "       [-0.56446558, -0.3549501 ,  0.11583135],\n",
       "       [ 0.01661156, -0.95185435,  0.98375046],\n",
       "       [ 0.37092793, -0.54962409,  0.6993438 ],\n",
       "       [-0.98208094, -1.10634625, -1.2761538 ],\n",
       "       [ 0.16934429, -0.66247749,  0.74391603],\n",
       "       [ 0.59981453, -0.46708083,  0.69482005],\n",
       "       [ 0.35038286, -0.51557219,  0.65784299],\n",
       "       [-0.30456597, -0.27828985, -0.27796543],\n",
       "       [-1.37539828, -1.21293032, -1.18462789],\n",
       "       [-0.04713823,  0.04936159, -0.05020651],\n",
       "       [-0.19771115, -0.31492168, -0.80771673],\n",
       "       [-0.12381621,  0.00544954, -0.03225652],\n",
       "       [-0.42484838, -0.530779  , -1.33029354],\n",
       "       [-0.97666287, -0.90948343, -1.01415396],\n",
       "       [-0.41916043, -0.63551891, -1.52191627],\n",
       "       [-0.56549639, -0.25232187,  0.04169356],\n",
       "       [-0.26300913, -0.26753384,  0.19567594],\n",
       "       [-0.42484838, -0.530779  , -1.33029354],\n",
       "       [ 1.63434172, -0.42798164,  1.01194572],\n",
       "       [-0.36127937, -0.64105129, -1.50126255],\n",
       "       [-0.31150585, -0.57912886,  0.1975188 ],\n",
       "       [ 0.30556285, -0.19945034,  0.3228713 ],\n",
       "       [-0.56446558, -0.3549501 ,  0.11583135],\n",
       "       [-0.96206897, -0.8969239 , -0.92500198],\n",
       "       [-0.76128149, -0.60462165, -0.55721974],\n",
       "       [-0.23276131, -0.25570244, -0.71638906],\n",
       "       [-0.27761662, -0.17365524,  0.09575227],\n",
       "       [ 0.22271614, -0.49612743,  0.59417713]], dtype=float32)"
      ]
     },
     "execution_count": 45,
     "metadata": {},
     "output_type": "execute_result"
    }
   ],
   "source": [
    "pred"
   ]
  },
  {
   "cell_type": "code",
   "execution_count": null,
   "metadata": {},
   "outputs": [],
   "source": []
  }
 ],
 "metadata": {
  "kernelspec": {
   "display_name": "Python 3",
   "language": "python",
   "name": "python3"
  },
  "language_info": {
   "codemirror_mode": {
    "name": "ipython",
    "version": 3
   },
   "file_extension": ".py",
   "mimetype": "text/x-python",
   "name": "python",
   "nbconvert_exporter": "python",
   "pygments_lexer": "ipython3",
   "version": "3.6.3"
  }
 },
 "nbformat": 4,
 "nbformat_minor": 2
}
