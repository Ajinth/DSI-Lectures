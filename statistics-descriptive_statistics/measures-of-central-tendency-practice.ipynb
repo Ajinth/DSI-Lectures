{
 "cells": [
  {
   "cell_type": "markdown",
   "metadata": {},
   "source": [
    "<img src=\"http://imgur.com/1ZcRyrc.png\" style=\"float: left; margin: 20px; height: 55px\">\n",
    "\n",
    "## Measures of Central Tendency: Independent Practice\n",
    "\n",
    "_Author: Kiefer Katovich (SF)_\n",
    "\n",
    "---\n",
    "\n",
    "Complete the questions using the distribution defined with the **`dist`** variable in the next cell."
   ]
  },
  {
   "cell_type": "code",
   "execution_count": 3,
   "metadata": {
    "collapsed": true
   },
   "outputs": [],
   "source": [
    "import numpy as np\n",
    "from scipy.stats import mode\n",
    "\n",
    "dist = [33.3, 8.0, 2.7, 7.0, 11.3, 10.2, 38.4, 14.7, 46.9, 6.6, 38.6, 41.1, 20.4, 19.5,\n",
    "        102.6, 111.5, 21.8, 27.0, 30.3, 9.3, 19.6, 31.1, 48.8, 8.9, 11.4, 0.6, 23.5,\n",
    "        8.0, 27.5, 69.7, 11.5, 15.5, 1.4, 7.0, 4.6, 6.0, 16.0, 17.2, 6.3, 26.2, 23.9,\n",
    "        45.9, 55.4, 100.8, 22.9, 75.5, 115.5, 58.9, 10.5, 92.6, 12.4, 102.7, 10.2, 167.6,\n",
    "        143.6, 132.3, 134.2, 39.4, 49.7, 12.0, 27.0, 1.3, 4.7, 5.0, 24.1, 21.5, 33.1,\n",
    "        45.6, 46.3, 15.8, 30.7, 15.7, 6.8, 64.6, 39.1, 2.9, 8.0, 5.4, 33.4, 40.0, 22.7,\n",
    "        24.2, 25.7, 85.0, 26.2, 3.3, 20.7, 117.4, 66.8, 44.3, 37.9, 71.8, 161.4, 45.9,\n",
    "        4.6, 6.6, 12.6, 24.4, 21.4, 33.6, 33.7, 18.8, 7.6, 36.3, 1.8, 83.2, 75.1, 71.3,\n",
    "        32.9, 30.6, 16.0, 6.9, 11.0, 9.4, 11.7, 13.8, 39.4, 4.3, 38.1, 60.1, 78.2, 49.6,\n",
    "        14.3, 8.0, 19.3, 30.8, 32.5, 29.6, 28.3, 32.4, 35.7, 36.7, 10.0, 8.5, 12.2, 22.6,\n",
    "        32.1, 25.7, 14.1, 20.9, 23.8, 29.5, 2.9, 42.3, 19.9, 47.5, 15.9, 6.0, 19.3, 38.2,\n",
    "        23.5, 2.7, 27.0, 49.9, 43.5, 31.7, 39.1, 15.1, 18.0, 33.8, 32.1, 50.7, 28.8, 11.6,\n",
    "        74.8, 16.2, 8.3, 36.3, 44.0, 15.6, 48.9, 7.3, 8.2, 29.8, 38.7, 3.9, 7.2, 5.1, 23.7,\n",
    "        48.4, 92.0, 64.3, 97.4, 99.1, 18.0, 7.1, 14.7, 47.1, 41.3, 44.2, 6.5, 44.4, 9.7,\n",
    "        15.5, 23.7, 34.5, 19.9, 58.6, 35.0, 66.1, 74.5, 45.2]"
   ]
  },
  {
   "cell_type": "markdown",
   "metadata": {},
   "source": [
    "##### Q1: Calculate the mean of `dist`."
   ]
  },
  {
   "cell_type": "code",
   "execution_count": 4,
   "metadata": {},
   "outputs": [
    {
     "data": {
      "text/plain": [
       "33.995049504950494"
      ]
     },
     "execution_count": 4,
     "metadata": {},
     "output_type": "execute_result"
    }
   ],
   "source": [
    "dist_mean = np.mean(dist)\n",
    "dist_mean"
   ]
  },
  {
   "cell_type": "markdown",
   "metadata": {},
   "source": [
    "##### Q2: Calculate the median of `dist`."
   ]
  },
  {
   "cell_type": "code",
   "execution_count": 11,
   "metadata": {},
   "outputs": [
    {
     "data": {
      "text/plain": [
       "25.949999999999999"
      ]
     },
     "execution_count": 11,
     "metadata": {},
     "output_type": "execute_result"
    }
   ],
   "source": [
    "dist_median = np.median(dist)\n",
    "dist_median"
   ]
  },
  {
   "cell_type": "markdown",
   "metadata": {},
   "source": [
    "##### Q3: Round the numbers of `dist`, then calculate the mode."
   ]
  },
  {
   "cell_type": "code",
   "execution_count": 12,
   "metadata": {},
   "outputs": [
    {
     "data": {
      "text/plain": [
       "[33,\n",
       " 8,\n",
       " 3,\n",
       " 7,\n",
       " 11,\n",
       " 10,\n",
       " 38,\n",
       " 15,\n",
       " 47,\n",
       " 7,\n",
       " 39,\n",
       " 41,\n",
       " 20,\n",
       " 20,\n",
       " 103,\n",
       " 112,\n",
       " 22,\n",
       " 27,\n",
       " 30,\n",
       " 9,\n",
       " 20,\n",
       " 31,\n",
       " 49,\n",
       " 9,\n",
       " 11,\n",
       " 1,\n",
       " 24,\n",
       " 8,\n",
       " 28,\n",
       " 70,\n",
       " 12,\n",
       " 16,\n",
       " 1,\n",
       " 7,\n",
       " 5,\n",
       " 6,\n",
       " 16,\n",
       " 17,\n",
       " 6,\n",
       " 26,\n",
       " 24,\n",
       " 46,\n",
       " 55,\n",
       " 101,\n",
       " 23,\n",
       " 76,\n",
       " 116,\n",
       " 59,\n",
       " 10,\n",
       " 93,\n",
       " 12,\n",
       " 103,\n",
       " 10,\n",
       " 168,\n",
       " 144,\n",
       " 132,\n",
       " 134,\n",
       " 39,\n",
       " 50,\n",
       " 12,\n",
       " 27,\n",
       " 1,\n",
       " 5,\n",
       " 5,\n",
       " 24,\n",
       " 22,\n",
       " 33,\n",
       " 46,\n",
       " 46,\n",
       " 16,\n",
       " 31,\n",
       " 16,\n",
       " 7,\n",
       " 65,\n",
       " 39,\n",
       " 3,\n",
       " 8,\n",
       " 5,\n",
       " 33,\n",
       " 40,\n",
       " 23,\n",
       " 24,\n",
       " 26,\n",
       " 85,\n",
       " 26,\n",
       " 3,\n",
       " 21,\n",
       " 117,\n",
       " 67,\n",
       " 44,\n",
       " 38,\n",
       " 72,\n",
       " 161,\n",
       " 46,\n",
       " 5,\n",
       " 7,\n",
       " 13,\n",
       " 24,\n",
       " 21,\n",
       " 34,\n",
       " 34,\n",
       " 19,\n",
       " 8,\n",
       " 36,\n",
       " 2,\n",
       " 83,\n",
       " 75,\n",
       " 71,\n",
       " 33,\n",
       " 31,\n",
       " 16,\n",
       " 7,\n",
       " 11,\n",
       " 9,\n",
       " 12,\n",
       " 14,\n",
       " 39,\n",
       " 4,\n",
       " 38,\n",
       " 60,\n",
       " 78,\n",
       " 50,\n",
       " 14,\n",
       " 8,\n",
       " 19,\n",
       " 31,\n",
       " 32,\n",
       " 30,\n",
       " 28,\n",
       " 32,\n",
       " 36,\n",
       " 37,\n",
       " 10,\n",
       " 8,\n",
       " 12,\n",
       " 23,\n",
       " 32,\n",
       " 26,\n",
       " 14,\n",
       " 21,\n",
       " 24,\n",
       " 30,\n",
       " 3,\n",
       " 42,\n",
       " 20,\n",
       " 48,\n",
       " 16,\n",
       " 6,\n",
       " 19,\n",
       " 38,\n",
       " 24,\n",
       " 3,\n",
       " 27,\n",
       " 50,\n",
       " 44,\n",
       " 32,\n",
       " 39,\n",
       " 15,\n",
       " 18,\n",
       " 34,\n",
       " 32,\n",
       " 51,\n",
       " 29,\n",
       " 12,\n",
       " 75,\n",
       " 16,\n",
       " 8,\n",
       " 36,\n",
       " 44,\n",
       " 16,\n",
       " 49,\n",
       " 7,\n",
       " 8,\n",
       " 30,\n",
       " 39,\n",
       " 4,\n",
       " 7,\n",
       " 5,\n",
       " 24,\n",
       " 48,\n",
       " 92,\n",
       " 64,\n",
       " 97,\n",
       " 99,\n",
       " 18,\n",
       " 7,\n",
       " 15,\n",
       " 47,\n",
       " 41,\n",
       " 44,\n",
       " 6,\n",
       " 44,\n",
       " 10,\n",
       " 16,\n",
       " 24,\n",
       " 34,\n",
       " 20,\n",
       " 59,\n",
       " 35,\n",
       " 66,\n",
       " 74,\n",
       " 45]"
      ]
     },
     "execution_count": 12,
     "metadata": {},
     "output_type": "execute_result"
    }
   ],
   "source": [
    "round_dist = [int(round(n)) for n in dist]\n",
    "round_dist"
   ]
  },
  {
   "cell_type": "code",
   "execution_count": 13,
   "metadata": {},
   "outputs": [
    {
     "data": {
      "text/plain": [
       "array([7])"
      ]
     },
     "execution_count": 13,
     "metadata": {},
     "output_type": "execute_result"
    }
   ],
   "source": [
    "mode_dist = mode(round_dist)\n",
    "mode_dist\n",
    "mode_dist.mode"
   ]
  },
  {
   "cell_type": "markdown",
   "metadata": {},
   "source": [
    "##### Q4: Determine if `dist` is skewed. If so, which way? How can you tell?"
   ]
  },
  {
   "cell_type": "code",
   "execution_count": 14,
   "metadata": {},
   "outputs": [
    {
     "name": "stdout",
     "output_type": "stream",
     "text": [
      "skewed right\n"
     ]
    }
   ],
   "source": [
    "if dist_mean > dist_median:\n",
    "    print('skewed right')\n",
    "\n",
    "if dist_mean < dist_median:\n",
    "    print('skewed left')"
   ]
  },
  {
   "cell_type": "markdown",
   "metadata": {},
   "source": [
    "##### Q5: Calculate the range of `dist`."
   ]
  },
  {
   "cell_type": "code",
   "execution_count": 19,
   "metadata": {
    "collapsed": true
   },
   "outputs": [],
   "source": [
    "dist_sorted = sorted(dist)"
   ]
  },
  {
   "cell_type": "code",
   "execution_count": 21,
   "metadata": {},
   "outputs": [
    {
     "data": {
      "text/plain": [
       "167.0"
      ]
     },
     "execution_count": 21,
     "metadata": {},
     "output_type": "execute_result"
    }
   ],
   "source": [
    "dist_range = max(dist_sorted) - min(dist_sorted)\n",
    "dist_range"
   ]
  },
  {
   "cell_type": "markdown",
   "metadata": {},
   "source": [
    "##### Q6: Calculate the variance of `dist`."
   ]
  },
  {
   "cell_type": "code",
   "execution_count": 23,
   "metadata": {},
   "outputs": [
    {
     "data": {
      "text/plain": [
       "957.82769826487618"
      ]
     },
     "execution_count": 23,
     "metadata": {},
     "output_type": "execute_result"
    }
   ],
   "source": [
    "dist_var = np.var(dist)\n",
    "dist_var"
   ]
  },
  {
   "cell_type": "markdown",
   "metadata": {},
   "source": [
    "##### Q7: Calculate the standard deviation of `dist`. What does this tell you about the distribution of numbers?"
   ]
  },
  {
   "cell_type": "code",
   "execution_count": 24,
   "metadata": {},
   "outputs": [
    {
     "data": {
      "text/plain": [
       "30.948791547730522"
      ]
     },
     "execution_count": 24,
     "metadata": {},
     "output_type": "execute_result"
    }
   ],
   "source": [
    "# The standard deviation is approximately how far, on average, numbers lie from the mean.\n",
    "dist_std = np.std(dist)\n",
    "dist_std"
   ]
  },
  {
   "cell_type": "markdown",
   "metadata": {},
   "source": [
    "##### Challenge: Round the numbers of `dist`, and then calculate the mode of dist without using `scipy`!"
   ]
  },
  {
   "cell_type": "code",
   "execution_count": 10,
   "metadata": {
    "collapsed": true
   },
   "outputs": [],
   "source": [
    "# There are, as you might imagine, many ways to do this. One way to do this with the tools\n",
    "# we have learned so far is with dictionaries.\n",
    "\n",
    "# [Note: This only works for unimodal distributions!]"
   ]
  },
  {
   "cell_type": "code",
   "execution_count": 28,
   "metadata": {},
   "outputs": [
    {
     "data": {
      "text/plain": [
       "[33,\n",
       " 8,\n",
       " 3,\n",
       " 7,\n",
       " 11,\n",
       " 10,\n",
       " 38,\n",
       " 15,\n",
       " 47,\n",
       " 7,\n",
       " 39,\n",
       " 41,\n",
       " 20,\n",
       " 20,\n",
       " 103,\n",
       " 112,\n",
       " 22,\n",
       " 27,\n",
       " 30,\n",
       " 9,\n",
       " 20,\n",
       " 31,\n",
       " 49,\n",
       " 9,\n",
       " 11,\n",
       " 1,\n",
       " 24,\n",
       " 8,\n",
       " 28,\n",
       " 70,\n",
       " 12,\n",
       " 16,\n",
       " 1,\n",
       " 7,\n",
       " 5,\n",
       " 6,\n",
       " 16,\n",
       " 17,\n",
       " 6,\n",
       " 26,\n",
       " 24,\n",
       " 46,\n",
       " 55,\n",
       " 101,\n",
       " 23,\n",
       " 76,\n",
       " 116,\n",
       " 59,\n",
       " 10,\n",
       " 93,\n",
       " 12,\n",
       " 103,\n",
       " 10,\n",
       " 168,\n",
       " 144,\n",
       " 132,\n",
       " 134,\n",
       " 39,\n",
       " 50,\n",
       " 12,\n",
       " 27,\n",
       " 1,\n",
       " 5,\n",
       " 5,\n",
       " 24,\n",
       " 22,\n",
       " 33,\n",
       " 46,\n",
       " 46,\n",
       " 16,\n",
       " 31,\n",
       " 16,\n",
       " 7,\n",
       " 65,\n",
       " 39,\n",
       " 3,\n",
       " 8,\n",
       " 5,\n",
       " 33,\n",
       " 40,\n",
       " 23,\n",
       " 24,\n",
       " 26,\n",
       " 85,\n",
       " 26,\n",
       " 3,\n",
       " 21,\n",
       " 117,\n",
       " 67,\n",
       " 44,\n",
       " 38,\n",
       " 72,\n",
       " 161,\n",
       " 46,\n",
       " 5,\n",
       " 7,\n",
       " 13,\n",
       " 24,\n",
       " 21,\n",
       " 34,\n",
       " 34,\n",
       " 19,\n",
       " 8,\n",
       " 36,\n",
       " 2,\n",
       " 83,\n",
       " 75,\n",
       " 71,\n",
       " 33,\n",
       " 31,\n",
       " 16,\n",
       " 7,\n",
       " 11,\n",
       " 9,\n",
       " 12,\n",
       " 14,\n",
       " 39,\n",
       " 4,\n",
       " 38,\n",
       " 60,\n",
       " 78,\n",
       " 50,\n",
       " 14,\n",
       " 8,\n",
       " 19,\n",
       " 31,\n",
       " 32,\n",
       " 30,\n",
       " 28,\n",
       " 32,\n",
       " 36,\n",
       " 37,\n",
       " 10,\n",
       " 8,\n",
       " 12,\n",
       " 23,\n",
       " 32,\n",
       " 26,\n",
       " 14,\n",
       " 21,\n",
       " 24,\n",
       " 30,\n",
       " 3,\n",
       " 42,\n",
       " 20,\n",
       " 48,\n",
       " 16,\n",
       " 6,\n",
       " 19,\n",
       " 38,\n",
       " 24,\n",
       " 3,\n",
       " 27,\n",
       " 50,\n",
       " 44,\n",
       " 32,\n",
       " 39,\n",
       " 15,\n",
       " 18,\n",
       " 34,\n",
       " 32,\n",
       " 51,\n",
       " 29,\n",
       " 12,\n",
       " 75,\n",
       " 16,\n",
       " 8,\n",
       " 36,\n",
       " 44,\n",
       " 16,\n",
       " 49,\n",
       " 7,\n",
       " 8,\n",
       " 30,\n",
       " 39,\n",
       " 4,\n",
       " 7,\n",
       " 5,\n",
       " 24,\n",
       " 48,\n",
       " 92,\n",
       " 64,\n",
       " 97,\n",
       " 99,\n",
       " 18,\n",
       " 7,\n",
       " 15,\n",
       " 47,\n",
       " 41,\n",
       " 44,\n",
       " 6,\n",
       " 44,\n",
       " 10,\n",
       " 16,\n",
       " 24,\n",
       " 34,\n",
       " 20,\n",
       " 59,\n",
       " 35,\n",
       " 66,\n",
       " 74,\n",
       " 45]"
      ]
     },
     "execution_count": 28,
     "metadata": {},
     "output_type": "execute_result"
    }
   ],
   "source": [
    "round_dist = [round(x) for x in dist]\n",
    "round_dist"
   ]
  },
  {
   "cell_type": "code",
   "execution_count": 35,
   "metadata": {},
   "outputs": [
    {
     "data": {
      "text/plain": [
       "array([7])"
      ]
     },
     "execution_count": 35,
     "metadata": {},
     "output_type": "execute_result"
    }
   ],
   "source": [
    "mode_dist = mode(round_dist)\n",
    "mode_dist\n",
    "mode_dist.mode"
   ]
  },
  {
   "cell_type": "code",
   "execution_count": 36,
   "metadata": {},
   "outputs": [
    {
     "name": "stdout",
     "output_type": "stream",
     "text": [
      "7\n"
     ]
    }
   ],
   "source": [
    "print(mode_dist[0][0])"
   ]
  },
  {
   "cell_type": "code",
   "execution_count": 39,
   "metadata": {},
   "outputs": [
    {
     "name": "stdout",
     "output_type": "stream",
     "text": [
      "{33: 4, 8: 8, 3: 5, 7: 9, 11: 3, 10: 5, 38: 4, 15: 3, 47: 2, 39: 6, 41: 2, 20: 5, 103: 2, 112: 1, 22: 2, 27: 3, 30: 4, 9: 3, 31: 4, 49: 2, 1: 3, 24: 9, 28: 2, 70: 1, 12: 6, 16: 9, 5: 6, 6: 4, 17: 1, 26: 4, 46: 4, 55: 1, 101: 1, 23: 3, 76: 1, 116: 1, 59: 2, 93: 1, 168: 1, 144: 1, 132: 1, 134: 1, 50: 3, 65: 1, 40: 1, 85: 1, 21: 3, 117: 1, 67: 1, 44: 5, 72: 1, 161: 1, 13: 1, 34: 4, 19: 3, 36: 3, 2: 1, 83: 1, 75: 2, 71: 1, 14: 3, 4: 2, 60: 1, 78: 1, 32: 5, 37: 1, 42: 1, 48: 2, 18: 2, 51: 1, 29: 1, 92: 1, 64: 1, 97: 1, 99: 1, 35: 1, 66: 1, 74: 1, 45: 1}\n",
      "mode:  7\n"
     ]
    }
   ],
   "source": [
    "counts = {}\n",
    "\n",
    "for n in round_dist:\n",
    "    if n in counts:\n",
    "        counts[n] = counts[n] + 1\n",
    "    else:\n",
    "        counts[n] = 1\n",
    "\n",
    "print(counts)\n",
    "\n",
    "max_key = None\n",
    "max_val = 0\n",
    "for k, v in counts.items():\n",
    "    if v > max_val:\n",
    "        max_key = k\n",
    "        max_val = v\n",
    "        \n",
    "print('mode: ', max_key)"
   ]
  },
  {
   "cell_type": "code",
   "execution_count": null,
   "metadata": {
    "collapsed": true
   },
   "outputs": [],
   "source": []
  }
 ],
 "metadata": {
  "kernelspec": {
   "display_name": "Python 3",
   "language": "python",
   "name": "python3"
  },
  "language_info": {
   "codemirror_mode": {
    "name": "ipython",
    "version": 3
   },
   "file_extension": ".py",
   "mimetype": "text/x-python",
   "name": "python",
   "nbconvert_exporter": "python",
   "pygments_lexer": "ipython3",
   "version": "3.6.2"
  }
 },
 "nbformat": 4,
 "nbformat_minor": 1
}
