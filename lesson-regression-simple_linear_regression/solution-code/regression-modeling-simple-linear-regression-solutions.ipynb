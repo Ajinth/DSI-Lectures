{
 "cells": [
  {
   "cell_type": "markdown",
   "metadata": {},
   "source": [
    "<img src=\"http://imgur.com/1ZcRyrc.png\" style=\"float: left; margin: 20px; height: 55px\">\n",
    "\n",
    "# Introduction to Linear Regression\n",
    "\n",
    "_Authors: Matt Brems (DC), Marc Harper (LA)_\n",
    "\n",
    "---\n",
    "\n",
    "<a id=\"learning-objectives\"></a>\n",
    "### Learning Objectives \n",
    "- Understand modeling, inference from models, and prediction\n",
    "- Understand the framework of regression modeling\n",
    "- Understand simple linear regression and linear relationships between variables\n",
    "- Learn how to find the best slope and intercept for simple linear regression\n",
    "- Be able to interpret the results of simple linear regression\n",
    "- Understand the assumptions that simple linear regression makes"
   ]
  },
  {
   "cell_type": "markdown",
   "metadata": {},
   "source": [
    "### Lesson Guide\n",
    "\n",
    "- [Naive/Baseline Prediction](#naivebaseline-prediction)\n",
    "- [Finding the \"best\" slope and intercept](#finding-the-best-slope-and-intercept)\n",
    "- [Interpretation of SLR](#interpretation-of-slr)\n",
    "- [Assumptions of SLR](#assumptions-of-slr)\n",
    "- [Final notes on linear regression](#final-notes-on-linear-regression)\n",
    "\t- [Categorical predictors](#categorical-predictors)\n"
   ]
  },
  {
   "cell_type": "code",
   "execution_count": 11,
   "metadata": {
    "collapsed": true
   },
   "outputs": [],
   "source": [
    "import pandas as pd\n",
    "import numpy as np\n",
    "import matplotlib.pyplot as plt\n",
    "\n",
    "% matplotlib inline"
   ]
  },
  {
   "cell_type": "markdown",
   "metadata": {},
   "source": [
    "<a id=\"naivebaseline-prediction\"></a>\n",
    "## Naive/Baseline Prediction"
   ]
  },
  {
   "cell_type": "markdown",
   "metadata": {},
   "source": [
    "What is the best prediction we can make for any data point if we can only use a single value?\n",
    "\n",
    "How can we measure the success of our prediction?"
   ]
  },
  {
   "cell_type": "markdown",
   "metadata": {},
   "source": [
    "<a id=\"lets-generate-some-data\"></a>\n",
    "### Let's generate some data"
   ]
  },
  {
   "cell_type": "code",
   "execution_count": 12,
   "metadata": {},
   "outputs": [],
   "source": [
    "# create an x and a y that is \n",
    "# 50 plus 2 times x with some random noise around that\n",
    "x = np.linspace(-5, 50, 100)\n",
    "y = 50 + 2 * x  + np.random.normal(0, 20, size=len(x))"
   ]
  },
  {
   "cell_type": "code",
   "execution_count": 13,
   "metadata": {},
   "outputs": [
    {
     "data": {
      "text/html": [
       "<div>\n",
       "<style>\n",
       "    .dataframe thead tr:only-child th {\n",
       "        text-align: right;\n",
       "    }\n",
       "\n",
       "    .dataframe thead th {\n",
       "        text-align: left;\n",
       "    }\n",
       "\n",
       "    .dataframe tbody tr th {\n",
       "        vertical-align: top;\n",
       "    }\n",
       "</style>\n",
       "<table border=\"1\" class=\"dataframe\">\n",
       "  <thead>\n",
       "    <tr style=\"text-align: right;\">\n",
       "      <th></th>\n",
       "      <th>X</th>\n",
       "      <th>Y</th>\n",
       "    </tr>\n",
       "  </thead>\n",
       "  <tbody>\n",
       "    <tr>\n",
       "      <th>0</th>\n",
       "      <td>-5.000000</td>\n",
       "      <td>33.760338</td>\n",
       "    </tr>\n",
       "    <tr>\n",
       "      <th>1</th>\n",
       "      <td>-4.444444</td>\n",
       "      <td>50.436811</td>\n",
       "    </tr>\n",
       "    <tr>\n",
       "      <th>2</th>\n",
       "      <td>-3.888889</td>\n",
       "      <td>24.219842</td>\n",
       "    </tr>\n",
       "    <tr>\n",
       "      <th>3</th>\n",
       "      <td>-3.333333</td>\n",
       "      <td>56.313390</td>\n",
       "    </tr>\n",
       "    <tr>\n",
       "      <th>4</th>\n",
       "      <td>-2.777778</td>\n",
       "      <td>82.315003</td>\n",
       "    </tr>\n",
       "  </tbody>\n",
       "</table>\n",
       "</div>"
      ],
      "text/plain": [
       "          X          Y\n",
       "0 -5.000000  33.760338\n",
       "1 -4.444444  50.436811\n",
       "2 -3.888889  24.219842\n",
       "3 -3.333333  56.313390\n",
       "4 -2.777778  82.315003"
      ]
     },
     "execution_count": 13,
     "metadata": {},
     "output_type": "execute_result"
    }
   ],
   "source": [
    "df = pd.DataFrame({'X': x, 'Y': y})\n",
    "df.head()"
   ]
  },
  {
   "cell_type": "markdown",
   "metadata": {},
   "source": [
    "If we know very little about our data and can only use a single value, we can still predict the mean."
   ]
  },
  {
   "cell_type": "code",
   "execution_count": 14,
   "metadata": {},
   "outputs": [
    {
     "data": {
      "image/png": "[encoded data removed]",
      "text/plain": [
       "<matplotlib.figure.Figure at 0x110196630>"
      ]
     },
     "metadata": {},
     "output_type": "display_data"
    }
   ],
   "source": [
    "### Plot the data\n",
    "# create a figure\n",
    "fig = plt.figure(figsize=(15,7))\n",
    "# get the axis of that figure\n",
    "ax = plt.gca()\n",
    "\n",
    "# plot a scatter plot on it with our data\n",
    "ax.scatter(x, y, c='k')\n",
    "ax.plot((df['X'].min(), df['X'].max()),(np.mean(df['Y']), np.mean(df['Y'])), color='r');"
   ]
  },
  {
   "cell_type": "markdown",
   "metadata": {},
   "source": [
    "We'll add that prediction to our DataFrame to use later"
   ]
  },
  {
   "cell_type": "code",
   "execution_count": 15,
   "metadata": {
    "collapsed": true
   },
   "outputs": [],
   "source": [
    "df['Mean_Yhat'] = df['Y'].mean()"
   ]
  },
  {
   "cell_type": "code",
   "execution_count": 16,
   "metadata": {},
   "outputs": [
    {
     "data": {
      "text/html": [
       "<div>\n",
       "<style>\n",
       "    .dataframe thead tr:only-child th {\n",
       "        text-align: right;\n",
       "    }\n",
       "\n",
       "    .dataframe thead th {\n",
       "        text-align: left;\n",
       "    }\n",
       "\n",
       "    .dataframe tbody tr th {\n",
       "        vertical-align: top;\n",
       "    }\n",
       "</style>\n",
       "<table border=\"1\" class=\"dataframe\">\n",
       "  <thead>\n",
       "    <tr style=\"text-align: right;\">\n",
       "      <th></th>\n",
       "      <th>X</th>\n",
       "      <th>Y</th>\n",
       "      <th>Mean_Yhat</th>\n",
       "    </tr>\n",
       "  </thead>\n",
       "  <tbody>\n",
       "    <tr>\n",
       "      <th>0</th>\n",
       "      <td>-5.000000</td>\n",
       "      <td>33.760338</td>\n",
       "      <td>95.88078</td>\n",
       "    </tr>\n",
       "    <tr>\n",
       "      <th>1</th>\n",
       "      <td>-4.444444</td>\n",
       "      <td>50.436811</td>\n",
       "      <td>95.88078</td>\n",
       "    </tr>\n",
       "    <tr>\n",
       "      <th>2</th>\n",
       "      <td>-3.888889</td>\n",
       "      <td>24.219842</td>\n",
       "      <td>95.88078</td>\n",
       "    </tr>\n",
       "    <tr>\n",
       "      <th>3</th>\n",
       "      <td>-3.333333</td>\n",
       "      <td>56.313390</td>\n",
       "      <td>95.88078</td>\n",
       "    </tr>\n",
       "    <tr>\n",
       "      <th>4</th>\n",
       "      <td>-2.777778</td>\n",
       "      <td>82.315003</td>\n",
       "      <td>95.88078</td>\n",
       "    </tr>\n",
       "  </tbody>\n",
       "</table>\n",
       "</div>"
      ],
      "text/plain": [
       "          X          Y  Mean_Yhat\n",
       "0 -5.000000  33.760338   95.88078\n",
       "1 -4.444444  50.436811   95.88078\n",
       "2 -3.888889  24.219842   95.88078\n",
       "3 -3.333333  56.313390   95.88078\n",
       "4 -2.777778  82.315003   95.88078"
      ]
     },
     "execution_count": 16,
     "metadata": {},
     "output_type": "execute_result"
    }
   ],
   "source": [
    "df.head()"
   ]
  },
  {
   "cell_type": "markdown",
   "metadata": {},
   "source": [
    "<a id=\"finding-the-best-slope-and-intercept\"></a>\n",
    "## Finding the \"best\" slope and intercept\n",
    "\n",
    "---\n",
    "\n",
    "**1. If we want to find the \"best\" slope an intercept, we will need a criterion that defines what it means to be the \"best\".**\n",
    "\n",
    "**2. We need to be able to numerically optimize (maximize or minimize) this criterion.**\n",
    "\n",
    "\n",
    "<a id=\"residuals\"></a>\n",
    "### Residuals\n",
    "\n",
    "The difference between the true value of $Y$ and the predicted value of $Y$ (denoted $\\hat{Y}$, \"Y-hat\") is known as a \"residual.\" For every value of $\\hat{Y}_i$, there is an accompanying residual $\\epsilon_i$.\n",
    "\n",
    "**Note that the residual $\\epsilon_i$ is the same as the error in our modeled linear relationship!**\n",
    "\n",
    "\n",
    "<a id=\"residual-sum-of-squares-rss\"></a>\n",
    "### Residual sum of squares (RSS)\n",
    "\n",
    "The most common way to define the \"best fit line\" is one that forces the ensures our residuals (a.k.a. errors) will be as close to zero as possible.\n",
    "\n",
    "In fact, we see to minimize the *sum of squared residuals* or [residual sum of squares (RSS)](https://en.wikipedia.org/wiki/Residual_sum_of_squares). This minimizes the [mean squared error (MSE) or sum of squares of error (SSE)](https://en.wikipedia.org/wiki/Mean_squared_error).\n",
    "\n",
    "### $$RSS = \\sum_{i=1}^n (Y_i - \\hat{Y}_i)^2 $$\n",
    "\n",
    "This is also known as a **loss function**, where the \"loss\" here is the sum of squared residuals.\n",
    "\n",
    "---\n",
    "\n",
    "**Review: what is the difference between a parameter and a statistic?**\n",
    "\n",
    "Below are two equations, one using parameters and one using statistics. What is the difference?\n",
    "\n",
    "### $$ Y = \\beta_0 + \\beta_1 X \\\\\n",
    "\\hat{Y} = \\hat{\\beta}_0 + \\hat{\\beta}_1 X $$"
   ]
  },
  {
   "cell_type": "code",
   "execution_count": 6,
   "metadata": {
    "collapsed": true
   },
   "outputs": [],
   "source": [
    "# Parameters represent the values in the true populations\n",
    "# Statistics are our estimation of the true parameters from the sample"
   ]
  },
  {
   "cell_type": "markdown",
   "metadata": {},
   "source": [
    "Remember our naive prediction? Let's see how it does."
   ]
  },
  {
   "cell_type": "code",
   "execution_count": 17,
   "metadata": {},
   "outputs": [
    {
     "data": {
      "text/plain": [
       "1450.2194726799376"
      ]
     },
     "execution_count": 17,
     "metadata": {},
     "output_type": "execute_result"
    }
   ],
   "source": [
    "# Calculate MSE\n",
    "df['Mean_Yhat_SE'] = np.square(df['Y'] - df['Mean_Yhat'])\n",
    "df['Mean_Yhat_SE'].mean()"
   ]
  },
  {
   "cell_type": "markdown",
   "metadata": {},
   "source": [
    "<a id=\"minimizing-the-mse\"></a>\n",
    "### Minimizing the MSE\n",
    "\n",
    "For simple linear regression [we can derive the intercept and slope that minimize the RSS algebraically](https://en.wikipedia.org/wiki/Simple_linear_regression#Fitting_the_regression_line). \n",
    "\n",
    "Given variables:\n",
    "- $\\bar{y}$ : the sample mean of observed values $Y$\n",
    "- $\\bar{x}$ : the sample mean of observed values $X$\n",
    "- $s_Y$ : the sample standard deviation of observed values $Y$\n",
    "- $s_X$ : the sample standard deviation of observed values $X$\n",
    "- $r_{XY}$ : the sample Pearson correlation coefficient between observed $X$ and $Y$\n",
    "\n",
    "The equations for the intercept and slope that minimize the RSS is:\n",
    "\n",
    "### $$ \\hat{\\beta}_0 = \\bar{y} - \\hat{\\beta}_1 \\bar{x} \\\\\n",
    "\\hat{\\beta}_1 = r_{XY} \\frac{s_Y}{s_X}$$\n",
    "\n",
    "Our simple linear regression is an **estimator of the expected value (mean) of $Y$**.\n",
    "\n",
    "> **Note:** Estimators are mathematical functions or formulas that yield an *estimate*. For example, an estimator might be the sample mean whereas the estimate is the value of the sample mean from our data set."
   ]
  },
  {
   "cell_type": "markdown",
   "metadata": {},
   "source": [
    "<a id=\"calculate-beta-coefficients-by-hand\"></a>\n",
    "### Calculate beta coefficients by hand"
   ]
  },
  {
   "cell_type": "code",
   "execution_count": 18,
   "metadata": {
    "collapsed": true
   },
   "outputs": [],
   "source": [
    "y_bar = df['Y'].mean()\n",
    "x_bar = df['X'].mean()\n",
    "std_y = df['Y'].std()\n",
    "std_x = df['X'].std()\n",
    "r_xy = df.corr().loc['X','Y']\n",
    "beta_1 = r_xy*(std_y/std_x)\n",
    "beta_0 = y_bar - beta_1*x_bar"
   ]
  },
  {
   "cell_type": "code",
   "execution_count": 19,
   "metadata": {
    "collapsed": true
   },
   "outputs": [],
   "source": [
    "df['Linear_Yhat'] = beta_0 + beta_1*df['X']"
   ]
  },
  {
   "cell_type": "code",
   "execution_count": 20,
   "metadata": {},
   "outputs": [
    {
     "data": {
      "text/plain": [
       "392.3258515726902"
      ]
     },
     "execution_count": 20,
     "metadata": {},
     "output_type": "execute_result"
    }
   ],
   "source": [
    "np.square(df['Y'] - df['Linear_Yhat']).mean()"
   ]
  },
  {
   "cell_type": "markdown",
   "metadata": {},
   "source": [
    "**How does our new MSE compare to our old MSE?**"
   ]
  },
  {
   "cell_type": "code",
   "execution_count": 11,
   "metadata": {
    "collapsed": true
   },
   "outputs": [],
   "source": [
    "# Our new MSE is much smaller. This means that on average our residuals are smaller and we have a better fit."
   ]
  },
  {
   "cell_type": "markdown",
   "metadata": {},
   "source": [
    "#### We can now plot our line"
   ]
  },
  {
   "cell_type": "code",
   "execution_count": 21,
   "metadata": {},
   "outputs": [
    {
     "data": {
      "image/png": "[encoded data removed]",
      "text/plain": [
       "<matplotlib.figure.Figure at 0x1103caac8>"
      ]
     },
     "metadata": {},
     "output_type": "display_data"
    }
   ],
   "source": [
    "# create a figure\n",
    "fig = plt.figure(figsize=(15,7))\n",
    "# get the axis of that figure\n",
    "ax = plt.gca()\n",
    "\n",
    "# plot a scatter plot on it with our data\n",
    "ax.scatter(x, y, c='k')\n",
    "ax.plot(df['X'], df['Linear_Yhat'], color='r');"
   ]
  },
  {
   "cell_type": "markdown",
   "metadata": {},
   "source": [
    "#### We can also plot our residuals"
   ]
  },
  {
   "cell_type": "code",
   "execution_count": 22,
   "metadata": {},
   "outputs": [
    {
     "data": {
      "image/png": "[encoded data removed]",
      "text/plain": [
       "<matplotlib.figure.Figure at 0x11040c940>"
      ]
     },
     "metadata": {},
     "output_type": "display_data"
    }
   ],
   "source": [
    "# create a figure\n",
    "fig = plt.figure(figsize=(15,7))\n",
    "fig.set_figheight(8)\n",
    "fig.set_figwidth(15)\n",
    "\n",
    "# get the axis\n",
    "ax = fig.gca()\n",
    "\n",
    "# plot it\n",
    "ax.scatter(x=df['X'], y=df['Y'], c='k')\n",
    "ax.plot(df['X'], df['Linear_Yhat'], color='k');\n",
    "\n",
    "# iterate over predictions\n",
    "for _, row in df.iterrows():\n",
    "    plt.plot((row['X'], row['X']), (row['Y'], row['Linear_Yhat']), 'r-')"
   ]
  },
  {
   "cell_type": "markdown",
   "metadata": {},
   "source": [
    "<a id=\"interpretation-of-slr\"></a>\n",
    "## Interpretation of SLR\n",
    "\n",
    "---\n",
    "\n",
    "The simple linear regression estimators described above have really nice properties:\n",
    "\n",
    "1. They are unbiased. (a.k.a. the statistics will on average equal the true parameter value)\n",
    "2. Among all unbiased estimators, the estimators above have the smallest possible variance.\n",
    "3. They are consistent. (a.k.a. as your sample size n goes to infinity, the statistic converges to the true parameter value)\n",
    "\n",
    "**However, these are just mathematical properties.** They do not take into account real-world situations. For example, suppose I want to use a SLR model to predict my commute time and I get the model:\n",
    "\n",
    "    [commute time] = 8 * [number of Metro stops] - 10\n",
    "\n",
    "In this case, my commute time is estimated to be negative if I go zero stops or one stop on the Metro. If I were to interpret my intercept, I might say \"If I travel zero Metro stops on my way to work, I expect to commute -10 minutes.\" Of course, this is nonsense; you can't have a negative commute time!\n",
    "\n",
    "**What this means:** \n",
    "\n",
    "When building a model, make sure your model makes sense! You are responsible for the interpretation of the model. All the computer will do is optimize. You may not do anything wrong when you fit a model, but make a note that there are  shortcomings to the framework."
   ]
  },
  {
   "cell_type": "markdown",
   "metadata": {},
   "source": [
    "<a id='assumptions'></a>\n",
    "\n",
    "<a id=\"assumptions-of-slr\"></a>\n",
    "## Assumptions of SLR\n",
    "\n",
    "---\n",
    "\n",
    "There are some critical assumptions involved in SLR that you must be aware of:\n",
    "\n",
    "1. **Linearity:** Y and X must have an approximately linear relationship.\n",
    "2. **Independence:** Errors (residuals) $\\epsilon_i$ and $\\epsilon_j$ must be independent of one another for any i != j.\n",
    "3. **Normality:** The errors (residuals) follow a Normal distribution.\n",
    "4. **Equality of Variances** (Homoscedasticity of errors): The errors (residuals) should have a roughly consistent pattern, regardless of the value of X. (There should be no discernable relationship between X and the residuals.)\n",
    "\n",
    "The mnemonic **LINE** is a useful way to remember these four assumptions.\n",
    "\n",
    "Lengthier discussions of the four main assumptions and how one can evaluate or test for each of these [can be found here](http://people.duke.edu/~rnau/testing.htm).\n",
    "\n",
    "If all four assumptions are true, the following holds: \n",
    "\n",
    "### $$ Y_i \\text{ ~ } N(\\beta_0 + \\beta_1 X_i, \\sigma) $$"
   ]
  },
  {
   "cell_type": "markdown",
   "metadata": {},
   "source": [
    "# Multiple Linear Regression"
   ]
  },
  {
   "cell_type": "markdown",
   "metadata": {},
   "source": [
    "<a id='load-data'></a>\n",
    "\n",
    "## Load the real estate data\n",
    "\n",
    "---\n",
    "\n",
    "Over the course of this lesson we will be constructing a simple linear regression and then extend this to multiple linear regression. Included in the datasets folder is a very simple dataset on real estate prices.\n",
    "\n",
    "**Load the data using pandas.**"
   ]
  },
  {
   "cell_type": "code",
   "execution_count": 24,
   "metadata": {},
   "outputs": [
    {
     "data": {
      "text/html": [
       "<div>\n",
       "<style>\n",
       "    .dataframe thead tr:only-child th {\n",
       "        text-align: right;\n",
       "    }\n",
       "\n",
       "    .dataframe thead th {\n",
       "        text-align: left;\n",
       "    }\n",
       "\n",
       "    .dataframe tbody tr th {\n",
       "        vertical-align: top;\n",
       "    }\n",
       "</style>\n",
       "<table border=\"1\" class=\"dataframe\">\n",
       "  <thead>\n",
       "    <tr style=\"text-align: right;\">\n",
       "      <th></th>\n",
       "      <th>sqft</th>\n",
       "      <th>bdrms</th>\n",
       "      <th>age</th>\n",
       "      <th>price</th>\n",
       "    </tr>\n",
       "  </thead>\n",
       "  <tbody>\n",
       "    <tr>\n",
       "      <th>0</th>\n",
       "      <td>2104</td>\n",
       "      <td>3</td>\n",
       "      <td>70</td>\n",
       "      <td>399900</td>\n",
       "    </tr>\n",
       "    <tr>\n",
       "      <th>1</th>\n",
       "      <td>1600</td>\n",
       "      <td>3</td>\n",
       "      <td>28</td>\n",
       "      <td>329900</td>\n",
       "    </tr>\n",
       "    <tr>\n",
       "      <th>2</th>\n",
       "      <td>2400</td>\n",
       "      <td>3</td>\n",
       "      <td>44</td>\n",
       "      <td>369000</td>\n",
       "    </tr>\n",
       "    <tr>\n",
       "      <th>3</th>\n",
       "      <td>1416</td>\n",
       "      <td>2</td>\n",
       "      <td>49</td>\n",
       "      <td>232000</td>\n",
       "    </tr>\n",
       "    <tr>\n",
       "      <th>4</th>\n",
       "      <td>3000</td>\n",
       "      <td>4</td>\n",
       "      <td>75</td>\n",
       "      <td>539900</td>\n",
       "    </tr>\n",
       "  </tbody>\n",
       "</table>\n",
       "</div>"
      ],
      "text/plain": [
       "   sqft  bdrms  age   price\n",
       "0  2104      3   70  399900\n",
       "1  1600      3   28  329900\n",
       "2  2400      3   44  369000\n",
       "3  1416      2   49  232000\n",
       "4  3000      4   75  539900"
      ]
     },
     "execution_count": 24,
     "metadata": {},
     "output_type": "execute_result"
    }
   ],
   "source": [
    "house_csv = '../datasets/housing-data.csv'\n",
    "\n",
    "house = pd.read_csv(house_csv)\n",
    "house.head()"
   ]
  },
  {
   "cell_type": "markdown",
   "metadata": {},
   "source": [
    "The columns are:\n",
    "\n",
    "    sqft: the size of the house in sq. ft\n",
    "    bdrms: number of bedrooms\n",
    "    age: age in years of house\n",
    "    price: the price of the house\n",
    "    \n",
    "**Convert `price` to be in units of 1000 (thousands of dollars).**"
   ]
  },
  {
   "cell_type": "code",
   "execution_count": 25,
   "metadata": {},
   "outputs": [
    {
     "data": {
      "text/html": [
       "<div>\n",
       "<style>\n",
       "    .dataframe thead tr:only-child th {\n",
       "        text-align: right;\n",
       "    }\n",
       "\n",
       "    .dataframe thead th {\n",
       "        text-align: left;\n",
       "    }\n",
       "\n",
       "    .dataframe tbody tr th {\n",
       "        vertical-align: top;\n",
       "    }\n",
       "</style>\n",
       "<table border=\"1\" class=\"dataframe\">\n",
       "  <thead>\n",
       "    <tr style=\"text-align: right;\">\n",
       "      <th></th>\n",
       "      <th>sqft</th>\n",
       "      <th>bdrms</th>\n",
       "      <th>age</th>\n",
       "      <th>price</th>\n",
       "    </tr>\n",
       "  </thead>\n",
       "  <tbody>\n",
       "    <tr>\n",
       "      <th>0</th>\n",
       "      <td>2104</td>\n",
       "      <td>3</td>\n",
       "      <td>70</td>\n",
       "      <td>399.9</td>\n",
       "    </tr>\n",
       "    <tr>\n",
       "      <th>1</th>\n",
       "      <td>1600</td>\n",
       "      <td>3</td>\n",
       "      <td>28</td>\n",
       "      <td>329.9</td>\n",
       "    </tr>\n",
       "  </tbody>\n",
       "</table>\n",
       "</div>"
      ],
      "text/plain": [
       "   sqft  bdrms  age  price\n",
       "0  2104      3   70  399.9\n",
       "1  1600      3   28  329.9"
      ]
     },
     "execution_count": 25,
     "metadata": {},
     "output_type": "execute_result"
    }
   ],
   "source": [
    "house['price'] = house.price.map(lambda x: x/1000.)\n",
    "house.head(2)"
   ]
  },
  {
   "cell_type": "markdown",
   "metadata": {},
   "source": [
    "<a id='slr-to-mlr'></a>\n",
    "\n",
    "## From simple linear regression (SLR) to multiple linear regression (MLR)\n",
    "\n",
    "---\n",
    "\n",
    "The TL;DF of multiple linear regression:\n",
    "\n",
    "> Instead of using just one predictor to estimate a continuous target, we build a model with multiple predictor variables. You will be using MLR way more than SLR going forward.\n",
    "\n",
    "These variables will be represented as columns in a matrix (often a pandas dataframe).\n",
    "\n",
    "**Brainstorm some examples of real-world scenarios where multiple predictors would be beneficial. Can you think of cases where it might be detrimental?**"
   ]
  },
  {
   "cell_type": "code",
   "execution_count": 19,
   "metadata": {
    "collapsed": true
   },
   "outputs": [],
   "source": [
    "# If Y is a function of multiple things then it makes sense to expand the equation\n",
    "# For example: predicting the weather tomorrow from pressure and temperature instead of just one of them\n",
    "# MLR could be detrimental if the predictors we are including aren't relevant. Why\n",
    "# include predictors in our formula that do not have a real impact: more on this later!"
   ]
  },
  {
   "cell_type": "markdown",
   "metadata": {},
   "source": [
    "<a id='assumptions'></a>\n",
    "\n",
    "## Assumptions of MLR\n",
    "\n",
    "---\n",
    "\n",
    "Like SLR, there are assumptions associated with MLR. Luckily, they're quite similar to the SLR assumptions.\n",
    "\n",
    "1. **Linearity:** $Y$ must have an approximately linear relationship with each independent $X_i$.\n",
    "2. **Independence:** Errors (residuals) $\\epsilon_i$ and $\\epsilon_j$ must be independent of one another for any $i \\ne j$.\n",
    "3. **Normality:** The errors (residuals) follow a Normal distribution.\n",
    "4. **Equality of Variances**: The errors (residuals) should have a roughly consistent pattern, regardless of the value of the $X_i$ predictors. (There should be no discernable relationship between the $X$ predictors and the residuals.)\n",
    "5. **Independence of Predictors**: The independent variables $X_i$ and $X_j$ must be independent of one another for any $i \\ne j$.\n",
    "\n",
    "The mnemonic LINEI is a useful way to remember these five assumptions."
   ]
  },
  {
   "cell_type": "markdown",
   "metadata": {},
   "source": [
    "<a id='fit-mlr'></a>\n",
    "\n",
    "## Fitting a multiple linear regression\n",
    "\n",
    "---\n",
    "\n",
    "The formula for computing the $\\beta$ values in multiple regression is best done using linear algebra. We will cover the derivation, but for more depth  [these slides are a great resource](http://statweb.stanford.edu/~nzhang/191_web/lecture4_handout.pdf).\n",
    "\n",
    "$X$ is now a _matrix_ of predictors $x_1$ through $x_i$ (with each column a predictor), and $y$ is the target vector we are seeking to estimate. There is still only 1 *estimated* variable!\n",
    "\n",
    "### $$ \\hat{y} = X \\beta$$\n",
    "\n",
    "**Note:** $\\beta$ in the formula above is a *vector* of coefficients now, rather than a single value.\n",
    "\n",
    "In different notation we could write $\\hat{y}$ calculated with:\n",
    "\n",
    "### $$ \\hat{y} = \\beta_0 + \\beta_1 x_1 + \\beta_2 x_2 + ... + \\beta_n x_n $$\n",
    "\n",
    "---\n",
    "\n",
    "<a id='mlr-beta-derivation'></a>\n",
    "\n",
    "### Deriving the $\\beta$ coefficients\n",
    "\n",
    "$\\beta$ is solved with the linear algebra formula:\n",
    "\n",
    "### $$ \\beta = (X'X)^{-1}X'y $$\n",
    "\n",
    "Where $X'$ is the transposed matrix of original matrix $X$ and $(X'X)^-1$ is the inverted matrix of $X'X$.\n",
    "\n"
   ]
  },
  {
   "cell_type": "markdown",
   "metadata": {},
   "source": [
    "The equation using true $y$ is:\n",
    "\n",
    "### $$ y = X \\beta + \\epsilon $$\n",
    "\n",
    "Again, $\\epsilon$ is our vector of errors, or residuals.\n",
    "\n",
    "We can equivalently formulate this as in terms of the residuals:\n",
    "\n",
    "### $$ \\epsilon = X \\beta - y $$\n",
    "\n",
    "Our goal is to minimize the sum of squared residuals. The sum of squared residuals is equivalent to the dot product of the vector of residuals:\n",
    "\n",
    "### $$ \\sum_{i=1}^n \\epsilon_i^2 = \n",
    "\\left[\\begin{array}{cc}\n",
    "\\epsilon_1 \\cdots \\epsilon_n\n",
    "\\end{array}\\right] \n",
    "\\left[\\begin{array}{cc}\n",
    "\\epsilon_1 \\\\ \\cdots \\\\ \\epsilon_n\n",
    "\\end{array}\\right] = \\epsilon' \\epsilon\n",
    "$$\n",
    "\n",
    "Therefore we can write the sum of squared residuals as:\n",
    "\n",
    "### $$ \\epsilon' \\epsilon = (X \\beta - y)' (X \\beta - y) $$\n",
    "\n",
    "Which becomes:\n",
    "\n",
    "### $$ \\epsilon' \\epsilon = y'y - y'X\\beta - \\beta' X' y + \\beta' X' X \\beta $$\n",
    "\n",
    "Now take the derivative with respect to $\\beta$:\n",
    "\n",
    "### $$ \\frac{\\partial \\epsilon' \\epsilon}{\\partial \\beta} = \n",
    "-2X'y + 2X'X\\beta$$\n",
    "\n",
    "We want to minimize the sum of squared errors, and so we set the derivative to zero and solve for the beta coefficient vector:\n",
    "\n",
    "### $$ 0 = -2X'y + 2X'X\\beta \\\\\n",
    "X'X\\beta = X'y \\\\\n",
    "\\beta = (X'X)^{-1}X'y$$"
   ]
  },
  {
   "cell_type": "markdown",
   "metadata": {},
   "source": [
    "<a id='code-mlr'></a>\n",
    "\n",
    "### Code a MLR\n",
    "\n",
    "**First, we need to create the \"design matrix\" of our predictors.**\n",
    "\n",
    "The first column will be a column of all 1s (the intercept) and the other columns will be `sqft`, `bdrms`, and `age`.\n",
    "\n",
    "This is easiest to do with pandas: add a column for the intercept first, then extract the matrix using with `.values`."
   ]
  },
  {
   "cell_type": "code",
   "execution_count": 26,
   "metadata": {},
   "outputs": [
    {
     "data": {
      "text/html": [
       "<div>\n",
       "<style>\n",
       "    .dataframe thead tr:only-child th {\n",
       "        text-align: right;\n",
       "    }\n",
       "\n",
       "    .dataframe thead th {\n",
       "        text-align: left;\n",
       "    }\n",
       "\n",
       "    .dataframe tbody tr th {\n",
       "        vertical-align: top;\n",
       "    }\n",
       "</style>\n",
       "<table border=\"1\" class=\"dataframe\">\n",
       "  <thead>\n",
       "    <tr style=\"text-align: right;\">\n",
       "      <th></th>\n",
       "      <th>sqft</th>\n",
       "      <th>bdrms</th>\n",
       "      <th>age</th>\n",
       "      <th>price</th>\n",
       "    </tr>\n",
       "  </thead>\n",
       "  <tbody>\n",
       "    <tr>\n",
       "      <th>0</th>\n",
       "      <td>2104</td>\n",
       "      <td>3</td>\n",
       "      <td>70</td>\n",
       "      <td>399.9</td>\n",
       "    </tr>\n",
       "    <tr>\n",
       "      <th>1</th>\n",
       "      <td>1600</td>\n",
       "      <td>3</td>\n",
       "      <td>28</td>\n",
       "      <td>329.9</td>\n",
       "    </tr>\n",
       "    <tr>\n",
       "      <th>2</th>\n",
       "      <td>2400</td>\n",
       "      <td>3</td>\n",
       "      <td>44</td>\n",
       "      <td>369.0</td>\n",
       "    </tr>\n",
       "    <tr>\n",
       "      <th>3</th>\n",
       "      <td>1416</td>\n",
       "      <td>2</td>\n",
       "      <td>49</td>\n",
       "      <td>232.0</td>\n",
       "    </tr>\n",
       "    <tr>\n",
       "      <th>4</th>\n",
       "      <td>3000</td>\n",
       "      <td>4</td>\n",
       "      <td>75</td>\n",
       "      <td>539.9</td>\n",
       "    </tr>\n",
       "  </tbody>\n",
       "</table>\n",
       "</div>"
      ],
      "text/plain": [
       "   sqft  bdrms  age  price\n",
       "0  2104      3   70  399.9\n",
       "1  1600      3   28  329.9\n",
       "2  2400      3   44  369.0\n",
       "3  1416      2   49  232.0\n",
       "4  3000      4   75  539.9"
      ]
     },
     "execution_count": 26,
     "metadata": {},
     "output_type": "execute_result"
    }
   ],
   "source": [
    "house.head()"
   ]
  },
  {
   "cell_type": "code",
   "execution_count": 28,
   "metadata": {},
   "outputs": [
    {
     "name": "stdout",
     "output_type": "stream",
     "text": [
      "[[  1.00000000e+00   2.10400000e+03   3.00000000e+00   7.00000000e+01]\n",
      " [  1.00000000e+00   1.60000000e+03   3.00000000e+00   2.80000000e+01]\n",
      " [  1.00000000e+00   2.40000000e+03   3.00000000e+00   4.40000000e+01]]\n"
     ]
    }
   ],
   "source": [
    "X = house[['sqft', 'bdrms', 'age']]\n",
    "X['intercept'] = 1.\n",
    "# reordering columns:\n",
    "X = X[['intercept', 'sqft', 'bdrms', 'age']].values\n",
    "print(X[0:3, :])"
   ]
  },
  {
   "cell_type": "markdown",
   "metadata": {},
   "source": [
    "### Solve for the beta coefficients\n",
    "\n",
    "We are still predicting `price`. Implement the linear algebra equation to solve for the beta coefficients. \n",
    "\n",
    "### $$ \\beta = (X'X)^{-1}X'y $$\n",
    "\n",
    "**Tips:**\n",
    "\n",
    "The transpose of a matrix is calculated by appending `.T` to the matrix:\n",
    "\n",
    "    X.T\n",
    "\n",
    "Matrices multipled in the formula should be done with the \"dot product\":\n",
    "\n",
    "    np.dot(mat1, mat2)\n",
    "\n",
    "Inverting a matrix is done using:\n",
    "\n",
    "    np.linalg.inv()"
   ]
  },
  {
   "cell_type": "code",
   "execution_count": 30,
   "metadata": {},
   "outputs": [
    {
     "name": "stdout",
     "output_type": "stream",
     "text": [
      "[  9.24516278e+01   1.39334847e-01  -8.62147046e+00  -8.12178776e-02]\n"
     ]
    }
   ],
   "source": [
    "price = house.price.values\n",
    "beta_vec = np.dot(np.dot(np.linalg.inv(np.dot(X.T, X)), X.T), price)\n",
    "print(beta_vec)"
   ]
  },
  {
   "cell_type": "markdown",
   "metadata": {},
   "source": [
    "**Confirm that these betas are the same as the ones using `sklearn.linear_model.LinearRegression`**\n",
    "\n",
    "```python\n",
    "from sklearn.linear_model import LinearRegression\n",
    "\n",
    "linreg = LinearRegression(fit_intercept=False)\n",
    "linreg.fit(X, price)\n",
    "\n",
    "print linreg.coef_\n",
    "```"
   ]
  },
  {
   "cell_type": "code",
   "execution_count": 32,
   "metadata": {},
   "outputs": [
    {
     "name": "stdout",
     "output_type": "stream",
     "text": [
      "[  9.24516278e+01   1.39334847e-01  -8.62147046e+00  -8.12178776e-02]\n"
     ]
    }
   ],
   "source": [
    "from sklearn.linear_model import LinearRegression\n",
    "\n",
    "linreg = LinearRegression(fit_intercept=False)\n",
    "linreg.fit(X, price)\n",
    "\n",
    "print(linreg.coef_)"
   ]
  },
  {
   "cell_type": "markdown",
   "metadata": {},
   "source": [
    "**Calculate predicted $\\hat{y}$ with your $X$ predictor matrix and $\\beta$ coefficients.**"
   ]
  },
  {
   "cell_type": "code",
   "execution_count": 33,
   "metadata": {
    "collapsed": true
   },
   "outputs": [],
   "source": [
    "yhat = np.dot(X, beta_vec)"
   ]
  },
  {
   "cell_type": "markdown",
   "metadata": {},
   "source": [
    "**Calculate the RMSE of the multiple regression model.**"
   ]
  },
  {
   "cell_type": "code",
   "execution_count": 37,
   "metadata": {},
   "outputs": [
    {
     "name": "stdout",
     "output_type": "stream",
     "text": [
      "Multiple regression MSE: 63.8999936136\n"
     ]
    }
   ],
   "source": [
    "print('Multiple regression MSE:', np.sqrt(np.mean(np.square(price - yhat))))"
   ]
  },
  {
   "cell_type": "markdown",
   "metadata": {},
   "source": [
    "<a id='additional-resources'></a>\n",
    "\n",
    "## Additional resources\n",
    "\n",
    "---\n",
    "\n",
    "[Maximum likelihood estimation](https://onlinecourses.science.psu.edu/stat504/node/28)"
   ]
  },
  {
   "cell_type": "markdown",
   "metadata": {},
   "source": [
    "<a id='intro'></a>\n",
    "\n",
    "##  `sklearn` & `statsmodels`\n",
    "\n",
    "---\n",
    "\n",
    "This lesson intends to introduce the modeling packages `sklearn` and `statsmodels` in the context of regression modeling. These are both powerful python packages with different strengths. \n",
    "\n",
    "In general:\n",
    "- **`sklearn`** is the *machine learning* package\n",
    "- **`statsmodels`** is the *statistics* package\n",
    "\n",
    "Though the terms have immense overlap, machine learning tends to be more prediction focused while statistics is more inference focused. \n",
    "\n",
    "**Remember: even with all the power provided by these modeling tools, it's never a replacement for good EDA!**\n",
    "\n",
    "---\n",
    "\n",
    "### A preface on modeling\n",
    "\n",
    "As we venture down the path of modeling, it can be difficult to determine which choices are \"correct\" or \"incorrect\".  A primary challenge is to understand how different models will perform in different circumstances and different types of data. It's essential to practice modeling on a variety of data.\n",
    "\n",
    "As a beginner it is essential to learn which metrics are important for evaluating your models and what they mean. The metrics we evaluate our models with inform our actions.  \n",
    "\n",
    "*Exploring datasets on your own with the skills and tools you learn in class is highly recommended!*"
   ]
  },
  {
   "cell_type": "markdown",
   "metadata": {},
   "source": [
    "<a id='documentation'></a>\n",
    "\n",
    "## `sklearn` and `statsmodels` documentation\n",
    "\n",
    "---\n",
    "\n",
    "Get familiar with looking up things in the `sklearn` and `statsmodels` documentation. You are going to be doing a lot of it over the course of DSI and beyond.\n",
    "\n",
    "[The statsmodels documentation can be found here.](http://statsmodels.sourceforge.net/devel/) Many recommend using the bleeding-edge version of statsmodels. [For that you can reference the code on github.](https://github.com/statsmodels/statsmodels/)\n",
    "\n",
    "[The sklearn documentation can be found here.](http://scikit-learn.org/stable/documentation.html)\n",
    "\n",
    "The packages have fairly different approaches and syntax for constructing models. Below are examples for linear regression in each package:\n",
    "* [Linear regression in statsmodels](http://statsmodels.sourceforge.net/devel/examples/#regression)\n",
    "* [Linear regression in scikit-learn](http://scikit-learn.org/stable/modules/generated/sklearn.linear_model.LinearRegression.html)\n",
    "\n",
    "If you haven't yet, familliarize yourself with the format of the documentation."
   ]
  },
  {
   "cell_type": "markdown",
   "metadata": {},
   "source": [
    "<a id='sklearn-background'></a>\n",
    "\n",
    "## Background: Scikit-learn / sklearn\n",
    "\n",
    "---\n",
    "\n",
    "<img src=\"https://avatars1.githubusercontent.com/u/25111?v=3&s=200\" style=\"float: left; margin: 0 25px;\"> Scikit-learn was founded in 2007 as a Google summer of code project by [David Cournapeau](https://github.com/cournape).  Later in 2007, Matthieu Brucher published his thesis on Scikit-learn.  Since then, the Scikit-learn project has taken on a worldwide team of owners. A great high level overview of the project can be found in a 2011 publication in [Journal of Machine Learning Research 12 (2011) 2825-2830](http://www.jmlr.org/papers/volume12/pedregosa11a/pedregosa11a.pdf).\n",
    "\n",
    "Skikit-learn is part of the Scipy family of \"kits\".  Explore some of the [other projects](https://scikits.appspot.com/scikits) in this family.\n",
    "<br clear=\"all\"><br>\n",
    "\n",
    "\n",
    "**Scikit-learn provides a wide variety of machine learning models, including:**\n",
    "\n",
    "- Linear regression\n",
    "- Logistic regression\n",
    "- Support Vector Machines\n",
    "- Classification And Regression Tree Models\n",
    "- Naive Bayes\n",
    "- Clustering Models (K-Means, Hierarchical, DBScan)\n",
    "\n",
    "**It also handles the construction of typical machine learning pipeline utilities for:**\n",
    "- Model evaluation\n",
    "- Model selection\n",
    "- Preprocessing\n",
    "- Natural Language Processing\n",
    "- Dimensionality Reduction\n",
    "\n",
    "**Scikit-learn comes with a ton of datasets that are cleaned and formatted to work with the models provided by their library:**\n",
    "- Boston Housing\n",
    "- Iris Flowers\n",
    "- Diabetes Diagnostics\n",
    "- Various sample images (for classification)\n",
    "  - Faces\n",
    "  - MINIST (handwriting examples)\n",
    "- Random data generators\n",
    "- Spam examples\n",
    "- Newsgroup classfication\n",
    "\n",
    "[Read more about Scikit-learn datasets](http://scikit-learn.org/stable/datasets/)\n",
    "\n",
    "---"
   ]
  },
  {
   "cell_type": "markdown",
   "metadata": {},
   "source": [
    "### `sklearn` under the hood\n",
    "\n",
    "- **Numpy**:  The base for data structures and transformations. Input data is represented as numpy arrays, integrating seamlessly with other scientific Python libraries. Numpy’s viewbased memory model limits copies, even when binding with compiled code.  It also provides basic arithmetic and linear algebra operations.<br><br>\n",
    "\n",
    "- **Scipy**:  Efficient algorithms for linear algebra, sparse matrix representation, special functions and basic statistical functions.<br><br>\n",
    "\n",
    "- **Cython**:  A language for combining C with Python. Cython makes it easy to reach the performance of compiled languages with Python-like syntax and high-level operations."
   ]
  },
  {
   "cell_type": "markdown",
   "metadata": {},
   "source": [
    "<a id='sklearn-first-steps'></a>\n",
    "\n",
    "## First steps with `sklearn`: loading the data\n",
    "\n",
    "---\n",
    "\n",
    "We will load the boston housing dataset using sklearn and then construct and fit a linear regression model on the data. "
   ]
  },
  {
   "cell_type": "code",
   "execution_count": 38,
   "metadata": {
    "collapsed": true
   },
   "outputs": [],
   "source": [
    "from matplotlib import pyplot as plt\n",
    "import seaborn as sns\n",
    "\n",
    "from sklearn import datasets, linear_model\n",
    "from sklearn.metrics import mean_squared_error\n",
    "\n",
    "# Don't forget to turn on plotting display in the notebook\n",
    "%matplotlib inline "
   ]
  },
  {
   "cell_type": "markdown",
   "metadata": {},
   "source": [
    "**Load the boston housing data with the `datasets.load_boston()` function.**"
   ]
  },
  {
   "cell_type": "code",
   "execution_count": 39,
   "metadata": {},
   "outputs": [
    {
     "name": "stdout",
     "output_type": "stream",
     "text": [
      "Boston House Prices dataset\n",
      "===========================\n",
      "\n",
      "Notes\n",
      "------\n",
      "Data Set Characteristics:  \n",
      "\n",
      "    :Number of Instances: 506 \n",
      "\n",
      "    :Number of Attributes: 13 numeric/categorical predictive\n",
      "    \n",
      "    :Median Value (attribute 14) is usually the target\n",
      "\n",
      "    :Attribute Information (in order):\n",
      "        - CRIM     per capita crime rate by town\n",
      "        - ZN       proportion of residential land zoned for lots over 25,000 sq.ft.\n",
      "        - INDUS    proportion of non-retail business acres per town\n",
      "        - CHAS     Charles River dummy variable (= 1 if tract bounds river; 0 otherwise)\n",
      "        - NOX      nitric oxides concentration (parts per 10 million)\n",
      "        - RM       average number of rooms per dwelling\n",
      "        - AGE      proportion of owner-occupied units built prior to 1940\n",
      "        - DIS      weighted distances to five Boston employment centres\n",
      "        - RAD      index of accessibility to radial highways\n",
      "        - TAX      full-value property-tax rate per $10,000\n",
      "        - PTRATIO  pupil-teacher ratio by town\n",
      "        - B        1000(Bk - 0.63)^2 where Bk is the proportion of blacks by town\n",
      "        - LSTAT    % lower status of the population\n",
      "        - MEDV     Median value of owner-occupied homes in $1000's\n",
      "\n",
      "    :Missing Attribute Values: None\n",
      "\n",
      "    :Creator: Harrison, D. and Rubinfeld, D.L.\n",
      "\n",
      "This is a copy of UCI ML housing dataset.\n",
      "http://archive.ics.uci.edu/ml/datasets/Housing\n",
      "\n",
      "\n",
      "This dataset was taken from the StatLib library which is maintained at Carnegie Mellon University.\n",
      "\n",
      "The Boston house-price data of Harrison, D. and Rubinfeld, D.L. 'Hedonic\n",
      "prices and the demand for clean air', J. Environ. Economics & Management,\n",
      "vol.5, 81-102, 1978.   Used in Belsley, Kuh & Welsch, 'Regression diagnostics\n",
      "...', Wiley, 1980.   N.B. Various transformations are used in the table on\n",
      "pages 244-261 of the latter.\n",
      "\n",
      "The Boston house-price data has been used in many machine learning papers that address regression\n",
      "problems.   \n",
      "     \n",
      "**References**\n",
      "\n",
      "   - Belsley, Kuh & Welsch, 'Regression diagnostics: Identifying Influential Data and Sources of Collinearity', Wiley, 1980. 244-261.\n",
      "   - Quinlan,R. (1993). Combining Instance-Based and Model-Based Learning. In Proceedings on the Tenth International Conference of Machine Learning, 236-243, University of Massachusetts, Amherst. Morgan Kaufmann.\n",
      "   - many more! (see http://archive.ics.uci.edu/ml/datasets/Housing)\n",
      "\n"
     ]
    }
   ],
   "source": [
    "data = datasets.load_boston()\n",
    "\n",
    "print(data.DESCR) # This is like a data dictionary!"
   ]
  },
  {
   "cell_type": "markdown",
   "metadata": {},
   "source": [
    "**The data object we've loaded has attributes with the features, target variable, and design matrix:**"
   ]
  },
  {
   "cell_type": "code",
   "execution_count": 40,
   "metadata": {},
   "outputs": [
    {
     "name": "stdout",
     "output_type": "stream",
     "text": [
      "['CRIM' 'ZN' 'INDUS' 'CHAS' 'NOX' 'RM' 'AGE' 'DIS' 'RAD' 'TAX' 'PTRATIO'\n",
      " 'B' 'LSTAT']\n",
      "[[  6.32000000e-03   1.80000000e+01   2.31000000e+00   0.00000000e+00\n",
      "    5.38000000e-01   6.57500000e+00   6.52000000e+01   4.09000000e+00\n",
      "    1.00000000e+00   2.96000000e+02   1.53000000e+01   3.96900000e+02\n",
      "    4.98000000e+00]\n",
      " [  2.73100000e-02   0.00000000e+00   7.07000000e+00   0.00000000e+00\n",
      "    4.69000000e-01   6.42100000e+00   7.89000000e+01   4.96710000e+00\n",
      "    2.00000000e+00   2.42000000e+02   1.78000000e+01   3.96900000e+02\n",
      "    9.14000000e+00]\n",
      " [  2.72900000e-02   0.00000000e+00   7.07000000e+00   0.00000000e+00\n",
      "    4.69000000e-01   7.18500000e+00   6.11000000e+01   4.96710000e+00\n",
      "    2.00000000e+00   2.42000000e+02   1.78000000e+01   3.92830000e+02\n",
      "    4.03000000e+00]]\n",
      "[ 24.   21.6  34.7]\n"
     ]
    }
   ],
   "source": [
    "print(data.feature_names)\n",
    "print(data.data[0:3])\n",
    "print(data.target[0:3])"
   ]
  },
  {
   "cell_type": "markdown",
   "metadata": {},
   "source": [
    "### Putting the data in pandas for convenience\n",
    "\n",
    "Our target is what we are predicting.  Sometimes this is called the **response variable**.\n",
    "\n",
    "The target and the data are what we use to train, or **fit** the model with.\n",
    "\n",
    "Scikit-learn has already split our data into the **predictors** and **response** for us. It has also stored the names of the features in a separate array. \n",
    "\n",
    "So we can print things like the header of the data it will be more convenient to have our data in a pandas dataframe.\n",
    "\n",
    "**Use the predictors and the feature names to create a pandas dataframe.**"
   ]
  },
  {
   "cell_type": "code",
   "execution_count": 41,
   "metadata": {},
   "outputs": [
    {
     "name": "stdout",
     "output_type": "stream",
     "text": [
      "(506, 13)\n"
     ]
    },
    {
     "data": {
      "text/html": [
       "<div>\n",
       "<style>\n",
       "    .dataframe thead tr:only-child th {\n",
       "        text-align: right;\n",
       "    }\n",
       "\n",
       "    .dataframe thead th {\n",
       "        text-align: left;\n",
       "    }\n",
       "\n",
       "    .dataframe tbody tr th {\n",
       "        vertical-align: top;\n",
       "    }\n",
       "</style>\n",
       "<table border=\"1\" class=\"dataframe\">\n",
       "  <thead>\n",
       "    <tr style=\"text-align: right;\">\n",
       "      <th></th>\n",
       "      <th>CRIM</th>\n",
       "      <th>ZN</th>\n",
       "      <th>INDUS</th>\n",
       "      <th>CHAS</th>\n",
       "      <th>NOX</th>\n",
       "      <th>RM</th>\n",
       "      <th>AGE</th>\n",
       "      <th>DIS</th>\n",
       "      <th>RAD</th>\n",
       "      <th>TAX</th>\n",
       "      <th>PTRATIO</th>\n",
       "      <th>B</th>\n",
       "      <th>LSTAT</th>\n",
       "    </tr>\n",
       "  </thead>\n",
       "  <tbody>\n",
       "    <tr>\n",
       "      <th>0</th>\n",
       "      <td>0.00632</td>\n",
       "      <td>18.0</td>\n",
       "      <td>2.31</td>\n",
       "      <td>0.0</td>\n",
       "      <td>0.538</td>\n",
       "      <td>6.575</td>\n",
       "      <td>65.2</td>\n",
       "      <td>4.0900</td>\n",
       "      <td>1.0</td>\n",
       "      <td>296.0</td>\n",
       "      <td>15.3</td>\n",
       "      <td>396.90</td>\n",
       "      <td>4.98</td>\n",
       "    </tr>\n",
       "    <tr>\n",
       "      <th>1</th>\n",
       "      <td>0.02731</td>\n",
       "      <td>0.0</td>\n",
       "      <td>7.07</td>\n",
       "      <td>0.0</td>\n",
       "      <td>0.469</td>\n",
       "      <td>6.421</td>\n",
       "      <td>78.9</td>\n",
       "      <td>4.9671</td>\n",
       "      <td>2.0</td>\n",
       "      <td>242.0</td>\n",
       "      <td>17.8</td>\n",
       "      <td>396.90</td>\n",
       "      <td>9.14</td>\n",
       "    </tr>\n",
       "    <tr>\n",
       "      <th>2</th>\n",
       "      <td>0.02729</td>\n",
       "      <td>0.0</td>\n",
       "      <td>7.07</td>\n",
       "      <td>0.0</td>\n",
       "      <td>0.469</td>\n",
       "      <td>7.185</td>\n",
       "      <td>61.1</td>\n",
       "      <td>4.9671</td>\n",
       "      <td>2.0</td>\n",
       "      <td>242.0</td>\n",
       "      <td>17.8</td>\n",
       "      <td>392.83</td>\n",
       "      <td>4.03</td>\n",
       "    </tr>\n",
       "    <tr>\n",
       "      <th>3</th>\n",
       "      <td>0.03237</td>\n",
       "      <td>0.0</td>\n",
       "      <td>2.18</td>\n",
       "      <td>0.0</td>\n",
       "      <td>0.458</td>\n",
       "      <td>6.998</td>\n",
       "      <td>45.8</td>\n",
       "      <td>6.0622</td>\n",
       "      <td>3.0</td>\n",
       "      <td>222.0</td>\n",
       "      <td>18.7</td>\n",
       "      <td>394.63</td>\n",
       "      <td>2.94</td>\n",
       "    </tr>\n",
       "    <tr>\n",
       "      <th>4</th>\n",
       "      <td>0.06905</td>\n",
       "      <td>0.0</td>\n",
       "      <td>2.18</td>\n",
       "      <td>0.0</td>\n",
       "      <td>0.458</td>\n",
       "      <td>7.147</td>\n",
       "      <td>54.2</td>\n",
       "      <td>6.0622</td>\n",
       "      <td>3.0</td>\n",
       "      <td>222.0</td>\n",
       "      <td>18.7</td>\n",
       "      <td>396.90</td>\n",
       "      <td>5.33</td>\n",
       "    </tr>\n",
       "  </tbody>\n",
       "</table>\n",
       "</div>"
      ],
      "text/plain": [
       "      CRIM    ZN  INDUS  CHAS    NOX     RM   AGE     DIS  RAD    TAX  \\\n",
       "0  0.00632  18.0   2.31   0.0  0.538  6.575  65.2  4.0900  1.0  296.0   \n",
       "1  0.02731   0.0   7.07   0.0  0.469  6.421  78.9  4.9671  2.0  242.0   \n",
       "2  0.02729   0.0   7.07   0.0  0.469  7.185  61.1  4.9671  2.0  242.0   \n",
       "3  0.03237   0.0   2.18   0.0  0.458  6.998  45.8  6.0622  3.0  222.0   \n",
       "4  0.06905   0.0   2.18   0.0  0.458  7.147  54.2  6.0622  3.0  222.0   \n",
       "\n",
       "   PTRATIO       B  LSTAT  \n",
       "0     15.3  396.90   4.98  \n",
       "1     17.8  396.90   9.14  \n",
       "2     17.8  392.83   4.03  \n",
       "3     18.7  394.63   2.94  \n",
       "4     18.7  396.90   5.33  "
      ]
     },
     "execution_count": 41,
     "metadata": {},
     "output_type": "execute_result"
    }
   ],
   "source": [
    "import numpy as np\n",
    "import pandas as pd\n",
    "\n",
    "# Create dataframe of main data to use as predictors (later). AKA \"X\"\n",
    "df = pd.DataFrame(data.data, columns=data.feature_names)\n",
    "\n",
    "# target vector (MEDV)\n",
    "target = data.target\n",
    "\n",
    "print(df.shape)\n",
    "df.head()"
   ]
  },
  {
   "cell_type": "markdown",
   "metadata": {},
   "source": [
    "Our training set is a matrix / dataframe with many variables (**CRI, ZN, INDUS, CHAS, NOX, RM, AGE, DIS, RAD, TAX, PTRATIO, B,** and **LSTAT**). We have **13** predictors with **506** rows/observations.\n",
    "\n",
    "Our target is a vector that represents a single variable (**MEDV**), which has exactly the same number of observations as our training set: **506**.\n",
    "\n",
    "> _Training (fit) and target datasets must always match in length!_"
   ]
  },
  {
   "cell_type": "markdown",
   "metadata": {},
   "source": [
    "### Index correspondence between target and predictors\n",
    "\n",
    "Row 0 of **`df`**, our training data, is:\n",
    "\n",
    "```\n",
    "[0.00632\t18.0\t2.31\t0.0\t0.538\t6.575\t65.2\t4.0900\t1.0\t296.0\t15.3\t396.90\t4.98]\n",
    "```\n",
    "\n",
    "This corresponds to the 0 index obersvation in our target vector:\n",
    "```\n",
    "24.0\n",
    "```\n",
    "\n",
    "These two seperate datasets (a matrix/dataframe, and a vector), are what we will use in the `.fit(predictors, target)` function in sklearn's models.  \n",
    "\n",
    "- The training data is 2D with dimensions: `n_samples x n_features`\n",
    "- The response is 1D with dimensions: `n_samples`, matching the `n_samples` of the training data."
   ]
  },
  {
   "cell_type": "markdown",
   "metadata": {},
   "source": [
    "<a id='first-model-sklearn'></a>\n",
    "\n",
    "## Fitting our 1st model with `sklearn`\n",
    "\n",
    "---\n",
    "\n",
    "Now let's fit a linear regression model with the housing data. \n",
    "\n",
    "First let's visually identify some predictors that seem to have a relationship with house value. \n",
    "\n",
    "**Plot RM and LSTAT against the target variable with seaborn.** \n",
    "\n",
    "> _Note: If for some reason scikit-learn crashes the jupyter notebook, have conda remove mkl (there's an issue with the newer build on some systems)._"
   ]
  },
  {
   "cell_type": "code",
   "execution_count": 42,
   "metadata": {},
   "outputs": [
    {
     "data": {
      "text/plain": [
       "<seaborn.axisgrid.JointGrid at 0x11348dac8>"
      ]
     },
     "execution_count": 42,
     "metadata": {},
     "output_type": "execute_result"
    },
    {
     "data": {
      "image/png": "[encoded data removed]",
      "text/plain": [
       "<matplotlib.figure.Figure at 0x113850748>"
      ]
     },
     "metadata": {},
     "output_type": "display_data"
    }
   ],
   "source": [
    "sns.jointplot(df.RM.values, target)"
   ]
  },
  {
   "cell_type": "code",
   "execution_count": 43,
   "metadata": {},
   "outputs": [
    {
     "data": {
      "text/plain": [
       "<seaborn.axisgrid.JointGrid at 0x11348d3c8>"
      ]
     },
     "execution_count": 43,
     "metadata": {},
     "output_type": "execute_result"
    },
    {
     "data": {
      "image/png": "[encoded data removed]",
      "text/plain": [
       "<matplotlib.figure.Figure at 0x11348de48>"
      ]
     },
     "metadata": {},
     "output_type": "display_data"
    }
   ],
   "source": [
    "sns.jointplot(df.LSTAT.values, target)"
   ]
  },
  {
   "cell_type": "markdown",
   "metadata": {},
   "source": [
    "**Below we fit a linear regression model predicting `MEDV` (the target vector) from `RM`.**\n",
    "\n",
    "> **Note:** sklearn models expect the predictor matrix to be 2D and the target to be 1D."
   ]
  },
  {
   "cell_type": "code",
   "execution_count": 44,
   "metadata": {
    "collapsed": true
   },
   "outputs": [],
   "source": [
    "lm = linear_model.LinearRegression()\n",
    "\n",
    "X = df[[\"RM\"]]\n",
    "y = target \n",
    "\n",
    "model = lm.fit(X, y)"
   ]
  },
  {
   "cell_type": "markdown",
   "metadata": {},
   "source": [
    "**Make predictions for the X matrix using `.predict(X)`, and score the model ($R^2$) using `model.score(X, y)`.**\n",
    "\n",
    "Plot the predicted values against the true values of the target, and print the model $R^2$.\n",
    "\n",
    "> **`.score(predictors, target)`**: a class method / function that returns the coefficient of determination R^2 of the prediction (for regression models).  Found in many models in scikit-learn (but not all)."
   ]
  },
  {
   "cell_type": "code",
   "execution_count": 45,
   "metadata": {},
   "outputs": [
    {
     "data": {
      "image/png": "[encoded data removed]",
      "text/plain": [
       "<matplotlib.figure.Figure at 0x113eb1dd8>"
      ]
     },
     "metadata": {},
     "output_type": "display_data"
    },
    {
     "name": "stdout",
     "output_type": "stream",
     "text": [
      "score:  0.483525455991\n"
     ]
    }
   ],
   "source": [
    "predictions  =  model.predict(X)\n",
    "score        =  model.score(X, y)\n",
    "\n",
    "# Plot the model\n",
    "plt.figure(figsize=(8,8))\n",
    "plt.scatter(predictions, y, s=30, c='r', marker='+', zorder=10)\n",
    "plt.xlabel(\"Predicted Values from RM - $\\hat{y}$\")\n",
    "plt.ylabel(\"Actual Values MEDV - y\")\n",
    "\n",
    "plt.plot([0, np.max(y)], [0, np.max(y)])\n",
    "\n",
    "plt.show()\n",
    "\n",
    "print(\"score: \", score)"
   ]
  },
  {
   "cell_type": "markdown",
   "metadata": {},
   "source": [
    "**What can this plot tell us about the model?**"
   ]
  },
  {
   "cell_type": "code",
   "execution_count": 9,
   "metadata": {
    "collapsed": true
   },
   "outputs": [],
   "source": [
    "# If the points all fell on a diagonal line then we would have a perfect fit.\n",
    "# The more \"cloud-like\" this becomes, the worse our fit will be. We can tell\n",
    "# that there are certainly some odd observations where the predictions and\n",
    "# the target values are way off."
   ]
  },
  {
   "cell_type": "markdown",
   "metadata": {},
   "source": [
    "<a id='model-attributes'></a>\n",
    "\n",
    "## sklearn model class attributes\n",
    "\n",
    "---\n",
    "\n",
    "After you run `.fit()`, a sklearn model object often contains a variety of calculated metrics, coefficients, and other information. Which metrics and attributes are present will depend on the model – consult the documentation for specifics. \n",
    "\n",
    "Attributes in the `LinearRegression` object include:\n",
    "- **`.coef_`**: property containing the coeffients for the predictor variables\n",
    "- **`.intercept_`**: value of the intercept\n",
    "\n",
    "**Print out the beta coefficient and intercept for the model.**\n"
   ]
  },
  {
   "cell_type": "code",
   "execution_count": 10,
   "metadata": {},
   "outputs": [
    {
     "name": "stdout",
     "output_type": "stream",
     "text": [
      "[ 9.10210898]\n",
      "-34.6706207764\n"
     ]
    }
   ],
   "source": [
    "print(model.coef_)\n",
    "print(model.intercept_)"
   ]
  },
  {
   "cell_type": "markdown",
   "metadata": {},
   "source": [
    "**What does the coefficient mean in the context of your model?**"
   ]
  },
  {
   "cell_type": "code",
   "execution_count": 11,
   "metadata": {
    "collapsed": true
   },
   "outputs": [],
   "source": [
    "# A 1 unit increase in variable RM corresponds to a 9.10 unit increase in the estimate of MEDV"
   ]
  },
  {
   "cell_type": "markdown",
   "metadata": {},
   "source": [
    "<a id='common-metrics'></a>\n",
    "\n",
    "## Review: common metrics for evaluating regression models\n",
    "\n",
    "---\n",
    "\n",
    "The [root mean squared error (RMSE)](https://en.wikipedia.org/wiki/Root-mean-square_deviation) is a standard measure of model performance. It is the square root of the mean of the sum of squared residuals:\n",
    "\n",
    "### $$ \\operatorname{RMSE}= \\sqrt{\\frac{1}{n}\\sum_{i=1}^n(\\hat{y_i} - y_i)^2} $$\n",
    "\n",
    "The smaller the root mean squared error, the better your model fits the data. \n",
    "\n",
    "You are already familiar with the [coefficient of determination $R^2$](https://en.wikipedia.org/wiki/Coefficient_of_determination):\n",
    "\n",
    "### $$ R^2 = 1 - \\frac{SS_{reg}}{SS_{tot}} $$\n",
    "\n",
    "Where the regression sum of squares is the sum of squared residuals for our model:\n",
    "\n",
    "$SS_{reg}=\\sum_i (\\hat{y} -\\bar{y})^2$\n",
    "\n",
    "And the total sum of squares is the sum of squared residuals for the *baseline* model. This is essentially the variance of our target.\n",
    "\n",
    "$SS_{tot} = \\sum_i (y_i-\\bar{y})^2$\n",
    "\n",
    "$R^2$ is the most common metric to evaluate a regression and is the default scoring measure in sklearn. When we cover classification models, the `.score` function instead defaults to accuracy.\n",
    "\n",
    "\n",
    "**Calculate the RMSE of your model by leveraging `sklearn.metrics.mean_squared_error`.**"
   ]
  },
  {
   "cell_type": "code",
   "execution_count": 47,
   "metadata": {},
   "outputs": [
    {
     "name": "stdout",
     "output_type": "stream",
     "text": [
      "6.60307138922\n",
      "0.483525455991\n"
     ]
    }
   ],
   "source": [
    "from sklearn.metrics import mean_squared_error, r2_score\n",
    "\n",
    "print(np.sqrt(mean_squared_error(target, predictions)))\n",
    "print(r2_score(target, predictions))"
   ]
  },
  {
   "cell_type": "markdown",
   "metadata": {},
   "source": [
    "<a id='mlr-sklearn'></a>\n",
    "\n",
    "## Fit a MLR using sklearn\n",
    "\n",
    "---\n",
    "\n",
    "We have fit a simple linear regression predicting `MEDV ~ RM + 1` (where the 1 represents the intercept). Use the same sklearn process and `LinearRegression` model to estimate the target with both `RM` and `LSTAT`."
   ]
  },
  {
   "cell_type": "code",
   "execution_count": 48,
   "metadata": {},
   "outputs": [
    {
     "data": {
      "image/png": "[encoded data removed]",
      "text/plain": [
       "<matplotlib.figure.Figure at 0x113c5eeb8>"
      ]
     },
     "metadata": {},
     "output_type": "display_data"
    },
    {
     "name": "stdout",
     "output_type": "stream",
     "text": [
      "score:  0.63856160626\n"
     ]
    }
   ],
   "source": [
    "lm = linear_model.LinearRegression()\n",
    "\n",
    "X = df[[\"RM\",\"LSTAT\"]].values\n",
    "y = target \n",
    "\n",
    "model = lm.fit(X, y)\n",
    "\n",
    "predictions  =  model.predict(X)\n",
    "score        =  model.score(X, y)\n",
    "\n",
    "# Plot the model\n",
    "plt.figure(figsize=(8,8))\n",
    "plt.scatter(predictions, y, s=30, c='r', marker='+', zorder=10)\n",
    "plt.xlabel(\"Predicted Values from RM + LSTAT - $\\hat{y}$\")\n",
    "plt.ylabel(\"Actual Values MEDV - y\")\n",
    "\n",
    "plt.plot([0, np.max(y)], [0, np.max(y)])\n",
    "\n",
    "plt.show()\n",
    "\n",
    "print(\"score: \", score)"
   ]
  },
  {
   "cell_type": "markdown",
   "metadata": {},
   "source": [
    "**Print out the coefficients from this MLR model and interpret them.**"
   ]
  },
  {
   "cell_type": "code",
   "execution_count": 14,
   "metadata": {},
   "outputs": [
    {
     "name": "stdout",
     "output_type": "stream",
     "text": [
      "[ 5.09478798 -0.64235833]\n"
     ]
    }
   ],
   "source": [
    "print(model.coef_)"
   ]
  },
  {
   "cell_type": "code",
   "execution_count": 15,
   "metadata": {
    "collapsed": true
   },
   "outputs": [],
   "source": [
    "# For a 1-unit increase in RM (holding constant LSTAT), there is a 5.09 increase in MEDV\n",
    "# For a 1-unit increase in LSTAT (holding constant RM), there is a -0.642 increase in MEDV"
   ]
  },
  {
   "cell_type": "markdown",
   "metadata": {},
   "source": [
    "<a id='negative-r2'></a>\n",
    "\n",
    "## A note on negative $R^2$ values\n",
    "\n",
    "---\n",
    "\n",
    "Over the course of this class you will encounter negative $R^2$ values. This may seem impossible, and it is in the standard scenario where we are calculating the $R^2$ score on the data we fit the model with.\n",
    "\n",
    "However, if you fit your model on one sample of data, *then score the model on new data not used to fit the model*, it is possible to end up with negative $R^2$.\n",
    "\n",
    "**What does it mean to have a negative $R^2$?**\n",
    "\n",
    "Remember that $R^2$ is 1 minus the error of your regression model divided by the error of the baseline model. A negative $R^2$ means that the regression model is performing *worse* than the baseline model. In the context of fitting our data on one sample of data and scoring on another sample, this means that we would have been better off making predictions on the test sample just using the mean of the target variable in our training set.\n",
    "\n",
    "We will return to the topic of negative $R^2$ when we talk about training and testing sets and cross-validation."
   ]
  },
  {
   "cell_type": "markdown",
   "metadata": {},
   "source": [
    "<a id='statsmodels-intro'></a>\n",
    "\n",
    "## Fitting a linear regression using `statsmodels`\n",
    "\n",
    "---\n",
    "\n",
    "Now we will fit the linear regression model predicting the target from `RM` and `LSTAT`, but this time using `statsmodels`.\n",
    "\n",
    "The format looks like:\n",
    "\n",
    "```python\n",
    "import statsmodels.api as sm\n",
    "\n",
    "X = df[[\"RM\",\"LSTAT\"]].values\n",
    "# manually add the intercept column:\n",
    "X = np.concatenate([X, np.ones((X.shape[0], 1))], axis=1)\n",
    "y = target\n",
    "\n",
    "model = sm.OLS(y, X)\n",
    "model = model.fit()\n",
    "predictions = model.predict()\n",
    "```\n",
    "\n",
    "First we load the statsmodels api module, which contains the ordinary least squares `OLS` model class. The statsmodels process is slightly different:\n",
    "- We manually make a new column for the intercept in our design matrix $X$.\n",
    "- The $y$ target variable comes before the $X$ predictor\n",
    "- The data is provided during the instantiation of the model object, then fit is called without the data.\n",
    "\n",
    "**Fit the model using statsmodels.**"
   ]
  },
  {
   "cell_type": "code",
   "execution_count": 16,
   "metadata": {},
   "outputs": [
    {
     "name": "stderr",
     "output_type": "stream",
     "text": [
      "/Users/jmpounders/anaconda2/envs/py36/lib/python3.6/site-packages/statsmodels/compat/pandas.py:56: FutureWarning: The pandas.core.datetools module is deprecated and will be removed in a future version. Please use the pandas.tseries module instead.\n",
      "  from pandas.core import datetools\n"
     ]
    },
    {
     "data": {
      "image/png": "[encoded data removed]",
      "text/plain": [
       "<matplotlib.figure.Figure at 0x1102834a8>"
      ]
     },
     "metadata": {},
     "output_type": "display_data"
    },
    {
     "name": "stdout",
     "output_type": "stream",
     "text": [
      "MSE: 30.5124687773\n"
     ]
    }
   ],
   "source": [
    "import statsmodels.api as sm\n",
    "\n",
    "X = df[[\"RM\",\"LSTAT\"]].values\n",
    "X = np.concatenate([X, np.ones((X.shape[0], 1))], axis=1)\n",
    "y = target\n",
    "\n",
    "# Note the difference in argument order\n",
    "# optionally, you can chain \"fit()\" to the model object\n",
    "model = sm.OLS(y, X)\n",
    "model = model.fit()\n",
    "predictions = model.predict(X)\n",
    "\n",
    "# Plot the model\n",
    "plt.figure(figsize=(8,6))\n",
    "plt.scatter(predictions, y, s=30, c='r', marker='+', zorder=10)\n",
    "plt.xlabel(\"Predicted Values - $\\hat{y}$\")\n",
    "plt.ylabel(\"Actual Values - $y$\")\n",
    "plt.show()\n",
    "\n",
    "print(\"MSE:\", mean_squared_error(y, predictions))"
   ]
  },
  {
   "cell_type": "markdown",
   "metadata": {},
   "source": [
    "<a id='statsmodels-summary'></a>\n",
    "\n",
    "### Statsmodels `.summary()`  function\n",
    "\n",
    "Once a model is fit with statsmodels, you can print out a variety of summary statistics, metrics, and properties of the model using the `model.summary()` function.\n",
    "\n",
    "You are already familiar with some of the information available in the summary:\n",
    "- R-squared\n",
    "- Number of observations\n",
    "- Coefficients for the variables and the intercept (const)\n",
    "- Standard errors of the coefficients, t-statistics, p-values, and confidence intervals\n",
    "\n",
    "There is also a variety of different metrics that we have not yet talked about. Don't hesitate to look up any of the statistics online if you are curious."
   ]
  },
  {
   "cell_type": "code",
   "execution_count": 17,
   "metadata": {},
   "outputs": [
    {
     "data": {
      "text/html": [
       "<table class=\"simpletable\">\n",
       "<caption>OLS Regression Results</caption>\n",
       "<tr>\n",
       "  <th>Dep. Variable:</th>            <td>y</td>        <th>  R-squared:         </th> <td>   0.639</td> \n",
       "</tr>\n",
       "<tr>\n",
       "  <th>Model:</th>                   <td>OLS</td>       <th>  Adj. R-squared:    </th> <td>   0.637</td> \n",
       "</tr>\n",
       "<tr>\n",
       "  <th>Method:</th>             <td>Least Squares</td>  <th>  F-statistic:       </th> <td>   444.3</td> \n",
       "</tr>\n",
       "<tr>\n",
       "  <th>Date:</th>             <td>Fri, 13 Oct 2017</td> <th>  Prob (F-statistic):</th> <td>7.01e-112</td>\n",
       "</tr>\n",
       "<tr>\n",
       "  <th>Time:</th>                 <td>12:16:08</td>     <th>  Log-Likelihood:    </th> <td> -1582.8</td> \n",
       "</tr>\n",
       "<tr>\n",
       "  <th>No. Observations:</th>      <td>   506</td>      <th>  AIC:               </th> <td>   3172.</td> \n",
       "</tr>\n",
       "<tr>\n",
       "  <th>Df Residuals:</th>          <td>   503</td>      <th>  BIC:               </th> <td>   3184.</td> \n",
       "</tr>\n",
       "<tr>\n",
       "  <th>Df Model:</th>              <td>     2</td>      <th>                     </th>     <td> </td>    \n",
       "</tr>\n",
       "<tr>\n",
       "  <th>Covariance Type:</th>      <td>nonrobust</td>    <th>                     </th>     <td> </td>    \n",
       "</tr>\n",
       "</table>\n",
       "<table class=\"simpletable\">\n",
       "<tr>\n",
       "    <td></td>       <th>coef</th>     <th>std err</th>      <th>t</th>      <th>P>|t|</th>  <th>[0.025</th>    <th>0.975]</th>  \n",
       "</tr>\n",
       "<tr>\n",
       "  <th>x1</th>    <td>    5.0948</td> <td>    0.444</td> <td>   11.463</td> <td> 0.000</td> <td>    4.222</td> <td>    5.968</td>\n",
       "</tr>\n",
       "<tr>\n",
       "  <th>x2</th>    <td>   -0.6424</td> <td>    0.044</td> <td>  -14.689</td> <td> 0.000</td> <td>   -0.728</td> <td>   -0.556</td>\n",
       "</tr>\n",
       "<tr>\n",
       "  <th>const</th> <td>   -1.3583</td> <td>    3.173</td> <td>   -0.428</td> <td> 0.669</td> <td>   -7.592</td> <td>    4.875</td>\n",
       "</tr>\n",
       "</table>\n",
       "<table class=\"simpletable\">\n",
       "<tr>\n",
       "  <th>Omnibus:</th>       <td>145.712</td> <th>  Durbin-Watson:     </th> <td>   0.834</td> \n",
       "</tr>\n",
       "<tr>\n",
       "  <th>Prob(Omnibus):</th> <td> 0.000</td>  <th>  Jarque-Bera (JB):  </th> <td> 457.690</td> \n",
       "</tr>\n",
       "<tr>\n",
       "  <th>Skew:</th>          <td> 1.343</td>  <th>  Prob(JB):          </th> <td>4.11e-100</td>\n",
       "</tr>\n",
       "<tr>\n",
       "  <th>Kurtosis:</th>      <td> 6.807</td>  <th>  Cond. No.          </th> <td>    202.</td> \n",
       "</tr>\n",
       "</table>"
      ],
      "text/plain": [
       "<class 'statsmodels.iolib.summary.Summary'>\n",
       "\"\"\"\n",
       "                            OLS Regression Results                            \n",
       "==============================================================================\n",
       "Dep. Variable:                      y   R-squared:                       0.639\n",
       "Model:                            OLS   Adj. R-squared:                  0.637\n",
       "Method:                 Least Squares   F-statistic:                     444.3\n",
       "Date:                Fri, 13 Oct 2017   Prob (F-statistic):          7.01e-112\n",
       "Time:                        12:16:08   Log-Likelihood:                -1582.8\n",
       "No. Observations:                 506   AIC:                             3172.\n",
       "Df Residuals:                     503   BIC:                             3184.\n",
       "Df Model:                           2                                         \n",
       "Covariance Type:            nonrobust                                         \n",
       "==============================================================================\n",
       "                 coef    std err          t      P>|t|      [0.025      0.975]\n",
       "------------------------------------------------------------------------------\n",
       "x1             5.0948      0.444     11.463      0.000       4.222       5.968\n",
       "x2            -0.6424      0.044    -14.689      0.000      -0.728      -0.556\n",
       "const         -1.3583      3.173     -0.428      0.669      -7.592       4.875\n",
       "==============================================================================\n",
       "Omnibus:                      145.712   Durbin-Watson:                   0.834\n",
       "Prob(Omnibus):                  0.000   Jarque-Bera (JB):              457.690\n",
       "Skew:                           1.343   Prob(JB):                    4.11e-100\n",
       "Kurtosis:                       6.807   Cond. No.                         202.\n",
       "==============================================================================\n",
       "\n",
       "Warnings:\n",
       "[1] Standard Errors assume that the covariance matrix of the errors is correctly specified.\n",
       "\"\"\""
      ]
     },
     "execution_count": 17,
     "metadata": {},
     "output_type": "execute_result"
    }
   ],
   "source": [
    "model.summary()"
   ]
  },
  {
   "cell_type": "markdown",
   "metadata": {},
   "source": [
    "<a id='independent-practice'></a>\n",
    "\n",
    "## Independent practice\n",
    "\n",
    "---\n",
    "\n",
    "Using either scikit-learn or statsmodels (or both, if you prefer), build a model using any set of **continuous** variables of your choice. Evaluate your model using $R^2$. Describe what the $R^2$ means."
   ]
  },
  {
   "cell_type": "code",
   "execution_count": 18,
   "metadata": {},
   "outputs": [
    {
     "data": {
      "text/html": [
       "<table class=\"simpletable\">\n",
       "<caption>OLS Regression Results</caption>\n",
       "<tr>\n",
       "  <th>Dep. Variable:</th>            <td>y</td>        <th>  R-squared:         </th> <td>   0.262</td>\n",
       "</tr>\n",
       "<tr>\n",
       "  <th>Model:</th>                   <td>OLS</td>       <th>  Adj. R-squared:    </th> <td>   0.258</td>\n",
       "</tr>\n",
       "<tr>\n",
       "  <th>Method:</th>             <td>Least Squares</td>  <th>  F-statistic:       </th> <td>   59.41</td>\n",
       "</tr>\n",
       "<tr>\n",
       "  <th>Date:</th>             <td>Fri, 13 Oct 2017</td> <th>  Prob (F-statistic):</th> <td>7.01e-33</td>\n",
       "</tr>\n",
       "<tr>\n",
       "  <th>Time:</th>                 <td>12:16:08</td>     <th>  Log-Likelihood:    </th> <td> -1763.4</td>\n",
       "</tr>\n",
       "<tr>\n",
       "  <th>No. Observations:</th>      <td>   506</td>      <th>  AIC:               </th> <td>   3535.</td>\n",
       "</tr>\n",
       "<tr>\n",
       "  <th>Df Residuals:</th>          <td>   502</td>      <th>  BIC:               </th> <td>   3552.</td>\n",
       "</tr>\n",
       "<tr>\n",
       "  <th>Df Model:</th>              <td>     3</td>      <th>                     </th>     <td> </td>   \n",
       "</tr>\n",
       "<tr>\n",
       "  <th>Covariance Type:</th>      <td>nonrobust</td>    <th>                     </th>     <td> </td>   \n",
       "</tr>\n",
       "</table>\n",
       "<table class=\"simpletable\">\n",
       "<tr>\n",
       "    <td></td>       <th>coef</th>     <th>std err</th>      <th>t</th>      <th>P>|t|</th>  <th>[0.025</th>    <th>0.975]</th>  \n",
       "</tr>\n",
       "<tr>\n",
       "  <th>x1</th>    <td>   -0.0157</td> <td>    0.003</td> <td>   -5.629</td> <td> 0.000</td> <td>   -0.021</td> <td>   -0.010</td>\n",
       "</tr>\n",
       "<tr>\n",
       "  <th>x2</th>    <td>   -0.0574</td> <td>    0.015</td> <td>   -3.939</td> <td> 0.000</td> <td>   -0.086</td> <td>   -0.029</td>\n",
       "</tr>\n",
       "<tr>\n",
       "  <th>x3</th>    <td>   -0.1679</td> <td>    0.051</td> <td>   -3.324</td> <td> 0.001</td> <td>   -0.267</td> <td>   -0.069</td>\n",
       "</tr>\n",
       "<tr>\n",
       "  <th>const</th> <td>   33.5027</td> <td>    1.148</td> <td>   29.185</td> <td> 0.000</td> <td>   31.247</td> <td>   35.758</td>\n",
       "</tr>\n",
       "</table>\n",
       "<table class=\"simpletable\">\n",
       "<tr>\n",
       "  <th>Omnibus:</th>       <td>204.159</td> <th>  Durbin-Watson:     </th> <td>   0.681</td> \n",
       "</tr>\n",
       "<tr>\n",
       "  <th>Prob(Omnibus):</th> <td> 0.000</td>  <th>  Jarque-Bera (JB):  </th> <td> 699.355</td> \n",
       "</tr>\n",
       "<tr>\n",
       "  <th>Skew:</th>          <td> 1.906</td>  <th>  Prob(JB):          </th> <td>1.37e-152</td>\n",
       "</tr>\n",
       "<tr>\n",
       "  <th>Kurtosis:</th>      <td> 7.317</td>  <th>  Cond. No.          </th> <td>1.46e+03</td> \n",
       "</tr>\n",
       "</table>"
      ],
      "text/plain": [
       "<class 'statsmodels.iolib.summary.Summary'>\n",
       "\"\"\"\n",
       "                            OLS Regression Results                            \n",
       "==============================================================================\n",
       "Dep. Variable:                      y   R-squared:                       0.262\n",
       "Model:                            OLS   Adj. R-squared:                  0.258\n",
       "Method:                 Least Squares   F-statistic:                     59.41\n",
       "Date:                Fri, 13 Oct 2017   Prob (F-statistic):           7.01e-33\n",
       "Time:                        12:16:08   Log-Likelihood:                -1763.4\n",
       "No. Observations:                 506   AIC:                             3535.\n",
       "Df Residuals:                     502   BIC:                             3552.\n",
       "Df Model:                           3                                         \n",
       "Covariance Type:            nonrobust                                         \n",
       "==============================================================================\n",
       "                 coef    std err          t      P>|t|      [0.025      0.975]\n",
       "------------------------------------------------------------------------------\n",
       "x1            -0.0157      0.003     -5.629      0.000      -0.021      -0.010\n",
       "x2            -0.0574      0.015     -3.939      0.000      -0.086      -0.029\n",
       "x3            -0.1679      0.051     -3.324      0.001      -0.267      -0.069\n",
       "const         33.5027      1.148     29.185      0.000      31.247      35.758\n",
       "==============================================================================\n",
       "Omnibus:                      204.159   Durbin-Watson:                   0.681\n",
       "Prob(Omnibus):                  0.000   Jarque-Bera (JB):              699.355\n",
       "Skew:                           1.906   Prob(JB):                    1.37e-152\n",
       "Kurtosis:                       7.317   Cond. No.                     1.46e+03\n",
       "==============================================================================\n",
       "\n",
       "Warnings:\n",
       "[1] Standard Errors assume that the covariance matrix of the errors is correctly specified.\n",
       "[2] The condition number is large, 1.46e+03. This might indicate that there are\n",
       "strong multicollinearity or other numerical problems.\n",
       "\"\"\""
      ]
     },
     "execution_count": 18,
     "metadata": {},
     "output_type": "execute_result"
    }
   ],
   "source": [
    "# TWO VARIABLES\n",
    "\n",
    "X = df[[\"TAX\",\"AGE\",\"CRIM\"]].values\n",
    "X = np.concatenate([X, np.ones((X.shape[0], 1))], axis=1)\n",
    "y = target\n",
    "\n",
    "# Note the difference in argument order\n",
    "# optionally, you can chain \"fit()\" to the model object\n",
    "model = sm.OLS(y, X)\n",
    "model = model.fit()\n",
    "model.summary()"
   ]
  },
  {
   "cell_type": "code",
   "execution_count": 19,
   "metadata": {
    "collapsed": true
   },
   "outputs": [],
   "source": [
    "# The model has an R2 of 0.262, which means that the three predictor variables I \n",
    "# have chosen explain 26.2% of the variance in the target variable not\n",
    "# explained by the baseline model."
   ]
  },
  {
   "cell_type": "markdown",
   "metadata": {},
   "source": [
    "<a id='patsy'></a>\n",
    "\n",
    "## A brief introduction to `patsy` formulas (optional)\n",
    "\n",
    "---\n",
    "\n",
    "Why slice and dice the data yourself when you just write a formula that defines your model?\n",
    "\n",
    "The `patsy` package allows you to specify the construction of your model using a formula string, and then returns the matrices required to fit the model.\n",
    "\n",
    "Let's say we wanted to predict `CRIM` from `TAX`, `AGE` and `ZN`. We would write a string formula like so:\n",
    "\n",
    "```\n",
    "formula = 'CRIM ~ TAX + AGE + ZN'\n",
    "```\n",
    "\n",
    "Then, after importing patsy, we can generate our target and predictor matrix by supplying the formula and the dataframe that contains the corresponding columns.\n",
    "\n",
    "```python\n",
    "import patsy\n",
    "\n",
    "y, X = patsy.dmatrices(formula, data=df, return_type='dataframe')\n",
    "```"
   ]
  },
  {
   "cell_type": "code",
   "execution_count": 20,
   "metadata": {
    "collapsed": true
   },
   "outputs": [],
   "source": [
    "import patsy\n",
    "\n",
    "formula = 'CRIM ~ TAX + AGE + ZN'\n",
    "\n",
    "y, X = patsy.dmatrices(formula, data=df, return_type='dataframe')"
   ]
  },
  {
   "cell_type": "code",
   "execution_count": 21,
   "metadata": {},
   "outputs": [
    {
     "data": {
      "text/html": [
       "<div>\n",
       "<style>\n",
       "    .dataframe thead tr:only-child th {\n",
       "        text-align: right;\n",
       "    }\n",
       "\n",
       "    .dataframe thead th {\n",
       "        text-align: left;\n",
       "    }\n",
       "\n",
       "    .dataframe tbody tr th {\n",
       "        vertical-align: top;\n",
       "    }\n",
       "</style>\n",
       "<table border=\"1\" class=\"dataframe\">\n",
       "  <thead>\n",
       "    <tr style=\"text-align: right;\">\n",
       "      <th></th>\n",
       "      <th>CRIM</th>\n",
       "    </tr>\n",
       "  </thead>\n",
       "  <tbody>\n",
       "    <tr>\n",
       "      <th>0</th>\n",
       "      <td>0.00632</td>\n",
       "    </tr>\n",
       "    <tr>\n",
       "      <th>1</th>\n",
       "      <td>0.02731</td>\n",
       "    </tr>\n",
       "    <tr>\n",
       "      <th>2</th>\n",
       "      <td>0.02729</td>\n",
       "    </tr>\n",
       "    <tr>\n",
       "      <th>3</th>\n",
       "      <td>0.03237</td>\n",
       "    </tr>\n",
       "    <tr>\n",
       "      <th>4</th>\n",
       "      <td>0.06905</td>\n",
       "    </tr>\n",
       "  </tbody>\n",
       "</table>\n",
       "</div>"
      ],
      "text/plain": [
       "      CRIM\n",
       "0  0.00632\n",
       "1  0.02731\n",
       "2  0.02729\n",
       "3  0.03237\n",
       "4  0.06905"
      ]
     },
     "execution_count": 21,
     "metadata": {},
     "output_type": "execute_result"
    }
   ],
   "source": [
    "y.head()"
   ]
  },
  {
   "cell_type": "code",
   "execution_count": 22,
   "metadata": {},
   "outputs": [
    {
     "data": {
      "text/html": [
       "<div>\n",
       "<style>\n",
       "    .dataframe thead tr:only-child th {\n",
       "        text-align: right;\n",
       "    }\n",
       "\n",
       "    .dataframe thead th {\n",
       "        text-align: left;\n",
       "    }\n",
       "\n",
       "    .dataframe tbody tr th {\n",
       "        vertical-align: top;\n",
       "    }\n",
       "</style>\n",
       "<table border=\"1\" class=\"dataframe\">\n",
       "  <thead>\n",
       "    <tr style=\"text-align: right;\">\n",
       "      <th></th>\n",
       "      <th>Intercept</th>\n",
       "      <th>TAX</th>\n",
       "      <th>AGE</th>\n",
       "      <th>ZN</th>\n",
       "    </tr>\n",
       "  </thead>\n",
       "  <tbody>\n",
       "    <tr>\n",
       "      <th>0</th>\n",
       "      <td>1.0</td>\n",
       "      <td>296.0</td>\n",
       "      <td>65.2</td>\n",
       "      <td>18.0</td>\n",
       "    </tr>\n",
       "    <tr>\n",
       "      <th>1</th>\n",
       "      <td>1.0</td>\n",
       "      <td>242.0</td>\n",
       "      <td>78.9</td>\n",
       "      <td>0.0</td>\n",
       "    </tr>\n",
       "    <tr>\n",
       "      <th>2</th>\n",
       "      <td>1.0</td>\n",
       "      <td>242.0</td>\n",
       "      <td>61.1</td>\n",
       "      <td>0.0</td>\n",
       "    </tr>\n",
       "    <tr>\n",
       "      <th>3</th>\n",
       "      <td>1.0</td>\n",
       "      <td>222.0</td>\n",
       "      <td>45.8</td>\n",
       "      <td>0.0</td>\n",
       "    </tr>\n",
       "    <tr>\n",
       "      <th>4</th>\n",
       "      <td>1.0</td>\n",
       "      <td>222.0</td>\n",
       "      <td>54.2</td>\n",
       "      <td>0.0</td>\n",
       "    </tr>\n",
       "  </tbody>\n",
       "</table>\n",
       "</div>"
      ],
      "text/plain": [
       "   Intercept    TAX   AGE    ZN\n",
       "0        1.0  296.0  65.2  18.0\n",
       "1        1.0  242.0  78.9   0.0\n",
       "2        1.0  242.0  61.1   0.0\n",
       "3        1.0  222.0  45.8   0.0\n",
       "4        1.0  222.0  54.2   0.0"
      ]
     },
     "execution_count": 22,
     "metadata": {},
     "output_type": "execute_result"
    }
   ],
   "source": [
    "X.head()"
   ]
  },
  {
   "cell_type": "markdown",
   "metadata": {},
   "source": [
    "You'll notice that with `return_type='dataframe'` patsy's `.dmatrices()` function returns two pandas dataframes, one for the target and one for the design matrix. \n",
    "\n",
    "You'll also notice that it creates an intercept column by default. **If you do not want it to create an intercept column, add a -1 to the formula string**"
   ]
  },
  {
   "cell_type": "code",
   "execution_count": 23,
   "metadata": {},
   "outputs": [
    {
     "data": {
      "text/html": [
       "<div>\n",
       "<style>\n",
       "    .dataframe thead tr:only-child th {\n",
       "        text-align: right;\n",
       "    }\n",
       "\n",
       "    .dataframe thead th {\n",
       "        text-align: left;\n",
       "    }\n",
       "\n",
       "    .dataframe tbody tr th {\n",
       "        vertical-align: top;\n",
       "    }\n",
       "</style>\n",
       "<table border=\"1\" class=\"dataframe\">\n",
       "  <thead>\n",
       "    <tr style=\"text-align: right;\">\n",
       "      <th></th>\n",
       "      <th>TAX</th>\n",
       "      <th>AGE</th>\n",
       "      <th>ZN</th>\n",
       "    </tr>\n",
       "  </thead>\n",
       "  <tbody>\n",
       "    <tr>\n",
       "      <th>0</th>\n",
       "      <td>296.0</td>\n",
       "      <td>65.2</td>\n",
       "      <td>18.0</td>\n",
       "    </tr>\n",
       "    <tr>\n",
       "      <th>1</th>\n",
       "      <td>242.0</td>\n",
       "      <td>78.9</td>\n",
       "      <td>0.0</td>\n",
       "    </tr>\n",
       "    <tr>\n",
       "      <th>2</th>\n",
       "      <td>242.0</td>\n",
       "      <td>61.1</td>\n",
       "      <td>0.0</td>\n",
       "    </tr>\n",
       "    <tr>\n",
       "      <th>3</th>\n",
       "      <td>222.0</td>\n",
       "      <td>45.8</td>\n",
       "      <td>0.0</td>\n",
       "    </tr>\n",
       "    <tr>\n",
       "      <th>4</th>\n",
       "      <td>222.0</td>\n",
       "      <td>54.2</td>\n",
       "      <td>0.0</td>\n",
       "    </tr>\n",
       "  </tbody>\n",
       "</table>\n",
       "</div>"
      ],
      "text/plain": [
       "     TAX   AGE    ZN\n",
       "0  296.0  65.2  18.0\n",
       "1  242.0  78.9   0.0\n",
       "2  242.0  61.1   0.0\n",
       "3  222.0  45.8   0.0\n",
       "4  222.0  54.2   0.0"
      ]
     },
     "execution_count": 23,
     "metadata": {},
     "output_type": "execute_result"
    }
   ],
   "source": [
    "formula = 'CRIM ~ TAX + AGE + ZN -1'\n",
    "\n",
    "y, X = patsy.dmatrices(formula, data=df, return_type='dataframe')\n",
    "\n",
    "X.head()"
   ]
  },
  {
   "cell_type": "markdown",
   "metadata": {},
   "source": [
    "You can then feed in these matrices into statsmodels or sklearn. It is generally a good practice to convert your target matrix into a 1D vector, especially when using sklearn.\n",
    "\n",
    "> **Tip:** The `.ravel()` function for numpy arrays will \"unravel\" a multidimensional matrix into a one dimensional vector of values."
   ]
  },
  {
   "cell_type": "code",
   "execution_count": 24,
   "metadata": {
    "scrolled": true
   },
   "outputs": [
    {
     "data": {
      "text/html": [
       "<table class=\"simpletable\">\n",
       "<caption>OLS Regression Results</caption>\n",
       "<tr>\n",
       "  <th>Dep. Variable:</th>            <td>y</td>        <th>  R-squared:         </th> <td>   0.341</td>\n",
       "</tr>\n",
       "<tr>\n",
       "  <th>Model:</th>                   <td>OLS</td>       <th>  Adj. R-squared:    </th> <td>   0.337</td>\n",
       "</tr>\n",
       "<tr>\n",
       "  <th>Method:</th>             <td>Least Squares</td>  <th>  F-statistic:       </th> <td>   86.44</td>\n",
       "</tr>\n",
       "<tr>\n",
       "  <th>Date:</th>             <td>Fri, 13 Oct 2017</td> <th>  Prob (F-statistic):</th> <td>4.22e-45</td>\n",
       "</tr>\n",
       "<tr>\n",
       "  <th>Time:</th>                 <td>12:16:08</td>     <th>  Log-Likelihood:    </th> <td> -1700.7</td>\n",
       "</tr>\n",
       "<tr>\n",
       "  <th>No. Observations:</th>      <td>   506</td>      <th>  AIC:               </th> <td>   3409.</td>\n",
       "</tr>\n",
       "<tr>\n",
       "  <th>Df Residuals:</th>          <td>   502</td>      <th>  BIC:               </th> <td>   3426.</td>\n",
       "</tr>\n",
       "<tr>\n",
       "  <th>Df Model:</th>              <td>     3</td>      <th>                     </th>     <td> </td>   \n",
       "</tr>\n",
       "<tr>\n",
       "  <th>Covariance Type:</th>      <td>nonrobust</td>    <th>                     </th>     <td> </td>   \n",
       "</tr>\n",
       "</table>\n",
       "<table class=\"simpletable\">\n",
       "<tr>\n",
       "      <td></td>         <th>coef</th>     <th>std err</th>      <th>t</th>      <th>P>|t|</th>  <th>[0.025</th>    <th>0.975]</th>  \n",
       "</tr>\n",
       "<tr>\n",
       "  <th>Intercept</th> <td>   -9.6282</td> <td>    1.177</td> <td>   -8.179</td> <td> 0.000</td> <td>  -11.941</td> <td>   -7.315</td>\n",
       "</tr>\n",
       "<tr>\n",
       "  <th>TAX</th>       <td>    0.0276</td> <td>    0.002</td> <td>   12.870</td> <td> 0.000</td> <td>    0.023</td> <td>    0.032</td>\n",
       "</tr>\n",
       "<tr>\n",
       "  <th>AGE</th>       <td>    0.0271</td> <td>    0.015</td> <td>    1.829</td> <td> 0.068</td> <td>   -0.002</td> <td>    0.056</td>\n",
       "</tr>\n",
       "<tr>\n",
       "  <th>ZN</th>        <td>    0.0079</td> <td>    0.016</td> <td>    0.485</td> <td> 0.628</td> <td>   -0.024</td> <td>    0.040</td>\n",
       "</tr>\n",
       "</table>\n",
       "<table class=\"simpletable\">\n",
       "<tr>\n",
       "  <th>Omnibus:</th>       <td>635.292</td> <th>  Durbin-Watson:     </th> <td>   1.256</td> \n",
       "</tr>\n",
       "<tr>\n",
       "  <th>Prob(Omnibus):</th> <td> 0.000</td>  <th>  Jarque-Bera (JB):  </th> <td>63803.854</td>\n",
       "</tr>\n",
       "<tr>\n",
       "  <th>Skew:</th>          <td> 6.154</td>  <th>  Prob(JB):          </th> <td>    0.00</td> \n",
       "</tr>\n",
       "<tr>\n",
       "  <th>Kurtosis:</th>      <td>56.617</td>  <th>  Cond. No.          </th> <td>1.69e+03</td> \n",
       "</tr>\n",
       "</table>"
      ],
      "text/plain": [
       "<class 'statsmodels.iolib.summary.Summary'>\n",
       "\"\"\"\n",
       "                            OLS Regression Results                            \n",
       "==============================================================================\n",
       "Dep. Variable:                      y   R-squared:                       0.341\n",
       "Model:                            OLS   Adj. R-squared:                  0.337\n",
       "Method:                 Least Squares   F-statistic:                     86.44\n",
       "Date:                Fri, 13 Oct 2017   Prob (F-statistic):           4.22e-45\n",
       "Time:                        12:16:08   Log-Likelihood:                -1700.7\n",
       "No. Observations:                 506   AIC:                             3409.\n",
       "Df Residuals:                     502   BIC:                             3426.\n",
       "Df Model:                           3                                         \n",
       "Covariance Type:            nonrobust                                         \n",
       "==============================================================================\n",
       "                 coef    std err          t      P>|t|      [0.025      0.975]\n",
       "------------------------------------------------------------------------------\n",
       "Intercept     -9.6282      1.177     -8.179      0.000     -11.941      -7.315\n",
       "TAX            0.0276      0.002     12.870      0.000       0.023       0.032\n",
       "AGE            0.0271      0.015      1.829      0.068      -0.002       0.056\n",
       "ZN             0.0079      0.016      0.485      0.628      -0.024       0.040\n",
       "==============================================================================\n",
       "Omnibus:                      635.292   Durbin-Watson:                   1.256\n",
       "Prob(Omnibus):                  0.000   Jarque-Bera (JB):            63803.854\n",
       "Skew:                           6.154   Prob(JB):                         0.00\n",
       "Kurtosis:                      56.617   Cond. No.                     1.69e+03\n",
       "==============================================================================\n",
       "\n",
       "Warnings:\n",
       "[1] Standard Errors assume that the covariance matrix of the errors is correctly specified.\n",
       "[2] The condition number is large, 1.69e+03. This might indicate that there are\n",
       "strong multicollinearity or other numerical problems.\n",
       "\"\"\""
      ]
     },
     "execution_count": 24,
     "metadata": {},
     "output_type": "execute_result"
    }
   ],
   "source": [
    "formula = 'CRIM ~ TAX + AGE + ZN'\n",
    "\n",
    "y, X = patsy.dmatrices(formula, data=df, return_type='dataframe')\n",
    "\n",
    "y = y.values.ravel()\n",
    "\n",
    "model = sm.OLS(y, X).fit()\n",
    "model.summary()"
   ]
  },
  {
   "cell_type": "code",
   "execution_count": null,
   "metadata": {
    "collapsed": true
   },
   "outputs": [],
   "source": []
  }
 ],
 "metadata": {
  "kernelspec": {
   "display_name": "Python [conda env:py36]",
   "language": "python",
   "name": "conda-env-py36-py"
  },
  "language_info": {
   "codemirror_mode": {
    "name": "ipython",
    "version": 3
   },
   "file_extension": ".py",
   "mimetype": "text/x-python",
   "name": "python",
   "nbconvert_exporter": "python",
   "pygments_lexer": "ipython3",
   "version": "3.6.1"
  }
 },
 "nbformat": 4,
 "nbformat_minor": 2
}
