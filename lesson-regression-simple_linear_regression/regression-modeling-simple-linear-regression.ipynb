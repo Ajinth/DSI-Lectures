{
 "cells": [
  {
   "cell_type": "markdown",
   "metadata": {},
   "source": [
    "<img src=\"http://imgur.com/1ZcRyrc.png\" style=\"float: left; margin: 20px; height: 55px\">\n",
    "\n",
    "# Introduction to Linear Regression\n",
    "\n",
    "_Authors: Matt Brems (DC), Marc Harper (LA)_\n",
    "\n",
    "_Modified for DSI-EAST by Justin Pounders_\n",
    "\n",
    "---\n"
   ]
  },
  {
   "cell_type": "markdown",
   "metadata": {},
   "source": [
    "### Lesson Guide\n",
    "\n",
    "#### Part 1: Simple Linear Regression\n",
    "\n",
    "- [Naive/Baseline Prediction](#naivebaseline-prediction)\n",
    "- [Finding the \"best\" slope and intercept](#finding-the-best-slope-and-intercept)\n",
    "- [Interpretation of SLR](#interpretation-of-slr)\n",
    "- [Assumptions of SLR](#assumptions-of-slr)\n",
    "- [Final notes on linear regression](#final-notes-on-linear-regression)\n",
    "\t- [Categorical predictors](#categorical-predictors)\n",
    "    \n",
    "#### Part 2: From Simple to Multiple Linear Regression\n",
    "    \n",
    "- [Load the real estate data](#load-data)\n",
    "- [From SLR to MLR](#slr-to-mlr)\n",
    "- [Assumptions of MLR](#assumptions)\n",
    "- [Fitting a MLR](#fit-mlr)\n",
    "    - [Deriving the MLR coefficients with linear algebra](#mlr-beta-derivation)\n",
    "    - [Code the MLR fit](#code-mlr)\n",
    "\n",
    "#### Part 3: Introduction to scikit-learn\n",
    "\n",
    "- [`sklearn` & `statsmodels`](#intro)\n",
    "- [Looking at the documentation](#documentation)\n",
    "- [History of scikit-learn](#sklearn-background)\n",
    "- [First steps with sklearn](#sklearn-first-steps)\n",
    "- [Fitting a model with sklearn](#first-model-sklearn)\n",
    "- [sklearn model class attributes](#model-attributes)\n",
    "- [Review metrics for evaluating regression models](#common-metrics)\n",
    "- [Fit a MLR using sklearn](#mlr-sklearn)\n",
    "- [A note on negative $R^2$ values](#negative-r2)\n",
    "- [Fitting a linear regression using statsmodels](#statsmodels-intro)\n",
    "- [Statsmodels `.summary()` function](#statsmodels-summary)\n",
    "- [Independent practice](#independent-practice)\n",
    "- [A brief introduction to `patsy` formulas](#patsy)"
   ]
  },
  {
   "cell_type": "code",
   "execution_count": 5,
   "metadata": {
    "collapsed": true
   },
   "outputs": [],
   "source": [
    "import pandas as pd\n",
    "import numpy as np\n",
    "import matplotlib.pyplot as plt\n",
    "\n",
    "% matplotlib inline"
   ]
  },
  {
   "cell_type": "markdown",
   "metadata": {},
   "source": [
    "<a id=\"naivebaseline-prediction\"></a>\n",
    "## Naive/Baseline Prediction"
   ]
  },
  {
   "cell_type": "markdown",
   "metadata": {},
   "source": [
    "What is the best prediction we can make for any data point if we can only use a single value?\n",
    "\n",
    "How can we measure the success of our prediction?"
   ]
  },
  {
   "cell_type": "markdown",
   "metadata": {},
   "source": [
    "<a id=\"lets-generate-some-data\"></a>\n",
    "### Let's generate some data"
   ]
  },
  {
   "cell_type": "code",
   "execution_count": 6,
   "metadata": {},
   "outputs": [],
   "source": [
    "# create an x and a y that is \n",
    "# 50 plus 2 times x with some random noise around that\n",
    "x = np.linspace(-5, 50, 100)\n",
    "y = 50 + 2 * x  + np.random.normal(0, 20, size=len(x))"
   ]
  },
  {
   "cell_type": "code",
   "execution_count": 7,
   "metadata": {},
   "outputs": [
    {
     "data": {
      "text/html": [
       "<div>\n",
       "<style>\n",
       "    .dataframe thead tr:only-child th {\n",
       "        text-align: right;\n",
       "    }\n",
       "\n",
       "    .dataframe thead th {\n",
       "        text-align: left;\n",
       "    }\n",
       "\n",
       "    .dataframe tbody tr th {\n",
       "        vertical-align: top;\n",
       "    }\n",
       "</style>\n",
       "<table border=\"1\" class=\"dataframe\">\n",
       "  <thead>\n",
       "    <tr style=\"text-align: right;\">\n",
       "      <th></th>\n",
       "      <th>X</th>\n",
       "      <th>Y</th>\n",
       "    </tr>\n",
       "  </thead>\n",
       "  <tbody>\n",
       "    <tr>\n",
       "      <th>0</th>\n",
       "      <td>-5.000000</td>\n",
<<<<<<< HEAD
       "      <td>52.736916</td>\n",
=======
       "      <td>48.061136</td>\n",
>>>>>>> working
       "    </tr>\n",
       "    <tr>\n",
       "      <th>1</th>\n",
       "      <td>-4.444444</td>\n",
<<<<<<< HEAD
       "      <td>48.076933</td>\n",
=======
       "      <td>33.133240</td>\n",
>>>>>>> working
       "    </tr>\n",
       "    <tr>\n",
       "      <th>2</th>\n",
       "      <td>-3.888889</td>\n",
<<<<<<< HEAD
       "      <td>52.880370</td>\n",
=======
       "      <td>46.055506</td>\n",
>>>>>>> working
       "    </tr>\n",
       "    <tr>\n",
       "      <th>3</th>\n",
       "      <td>-3.333333</td>\n",
<<<<<<< HEAD
       "      <td>66.157910</td>\n",
=======
       "      <td>19.044918</td>\n",
>>>>>>> working
       "    </tr>\n",
       "    <tr>\n",
       "      <th>4</th>\n",
       "      <td>-2.777778</td>\n",
<<<<<<< HEAD
       "      <td>71.771169</td>\n",
=======
       "      <td>41.024358</td>\n",
>>>>>>> working
       "    </tr>\n",
       "  </tbody>\n",
       "</table>\n",
       "</div>"
      ],
      "text/plain": [
       "          X          Y\n",
<<<<<<< HEAD
       "0 -5.000000  52.736916\n",
       "1 -4.444444  48.076933\n",
       "2 -3.888889  52.880370\n",
       "3 -3.333333  66.157910\n",
       "4 -2.777778  71.771169"
=======
       "0 -5.000000  48.061136\n",
       "1 -4.444444  33.133240\n",
       "2 -3.888889  46.055506\n",
       "3 -3.333333  19.044918\n",
       "4 -2.777778  41.024358"
>>>>>>> working
      ]
     },
     "execution_count": 7,
     "metadata": {},
     "output_type": "execute_result"
    }
   ],
   "source": [
    "df = pd.DataFrame({'X': x, 'Y': y})\n",
    "df.head()"
   ]
  },
  {
   "cell_type": "markdown",
   "metadata": {},
   "source": [
    "If we know very little about our data and can only use a single value, we can still predict the mean."
   ]
  },
  {
   "cell_type": "code",
   "execution_count": 8,
   "metadata": {},
   "outputs": [
    {
     "data": {
<<<<<<< HEAD
      "image/png": "iVBORw0KGgoAAAANSUhEUgAAA3AAAAGfCAYAAAAeZzCpAAAABHNCSVQICAgIfAhkiAAAAAlwSFlz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\n9IQABwAA0BP/P4To6FdtCr8VAAAAAElFTkSuQmCC\n",
      "text/plain": [
       "<matplotlib.figure.Figure at 0x20feae67ba8>"
=======
      "image/png": "iVBORw0KGgoAAAANSUhEUgAAA3EAAAGfCAYAAADxpVuXAAAABHNCSVQICAgIfAhkiAAAAAlwSFlz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\nIP8/X5TjXLwyao8AAAAASUVORK5CYII=\n",
      "text/plain": [
       "<matplotlib.figure.Figure at 0x192dddf01d0>"
>>>>>>> working
      ]
     },
     "metadata": {},
     "output_type": "display_data"
    }
   ],
   "source": [
    "### Plot the data\n",
    "# create a figure\n",
    "fig = plt.figure(figsize=(15,7))\n",
    "# get the axis of that figure\n",
    "ax = plt.gca()\n",
    "\n",
    "# plot a scatter plot on it with our data\n",
    "ax.scatter(x, y, c='k')\n",
    "ax.plot((df['X'].min(), df['X'].max()),(np.mean(df['Y']), np.mean(df['Y'])), color='r');"
   ]
  },
  {
   "cell_type": "markdown",
   "metadata": {},
   "source": [
    "We'll add that prediction to our DataFrame to use later"
   ]
  },
  {
   "cell_type": "code",
   "execution_count": 9,
   "metadata": {},
   "outputs": [
    {
     "data": {
      "text/html": [
       "<div>\n",
       "<style>\n",
       "    .dataframe thead tr:only-child th {\n",
       "        text-align: right;\n",
       "    }\n",
       "\n",
       "    .dataframe thead th {\n",
       "        text-align: left;\n",
       "    }\n",
       "\n",
       "    .dataframe tbody tr th {\n",
       "        vertical-align: top;\n",
       "    }\n",
       "</style>\n",
       "<table border=\"1\" class=\"dataframe\">\n",
       "  <thead>\n",
       "    <tr style=\"text-align: right;\">\n",
       "      <th></th>\n",
       "      <th>X</th>\n",
       "      <th>Y</th>\n",
       "      <th>Mean_Yhat</th>\n",
       "    </tr>\n",
       "  </thead>\n",
       "  <tbody>\n",
       "    <tr>\n",
       "      <th>0</th>\n",
       "      <td>-5.000000</td>\n",
<<<<<<< HEAD
       "      <td>52.736916</td>\n",
       "      <td>97.006764</td>\n",
=======
       "      <td>48.061136</td>\n",
       "      <td>94.293587</td>\n",
>>>>>>> working
       "    </tr>\n",
       "    <tr>\n",
       "      <th>1</th>\n",
       "      <td>-4.444444</td>\n",
<<<<<<< HEAD
       "      <td>48.076933</td>\n",
       "      <td>97.006764</td>\n",
=======
       "      <td>33.133240</td>\n",
       "      <td>94.293587</td>\n",
>>>>>>> working
       "    </tr>\n",
       "    <tr>\n",
       "      <th>2</th>\n",
       "      <td>-3.888889</td>\n",
<<<<<<< HEAD
       "      <td>52.880370</td>\n",
       "      <td>97.006764</td>\n",
=======
       "      <td>46.055506</td>\n",
       "      <td>94.293587</td>\n",
>>>>>>> working
       "    </tr>\n",
       "    <tr>\n",
       "      <th>3</th>\n",
       "      <td>-3.333333</td>\n",
<<<<<<< HEAD
       "      <td>66.157910</td>\n",
       "      <td>97.006764</td>\n",
=======
       "      <td>19.044918</td>\n",
       "      <td>94.293587</td>\n",
>>>>>>> working
       "    </tr>\n",
       "    <tr>\n",
       "      <th>4</th>\n",
       "      <td>-2.777778</td>\n",
<<<<<<< HEAD
       "      <td>71.771169</td>\n",
       "      <td>97.006764</td>\n",
=======
       "      <td>41.024358</td>\n",
       "      <td>94.293587</td>\n",
>>>>>>> working
       "    </tr>\n",
       "  </tbody>\n",
       "</table>\n",
       "</div>"
      ],
      "text/plain": [
       "          X          Y  Mean_Yhat\n",
<<<<<<< HEAD
       "0 -5.000000  52.736916  97.006764\n",
       "1 -4.444444  48.076933  97.006764\n",
       "2 -3.888889  52.880370  97.006764\n",
       "3 -3.333333  66.157910  97.006764\n",
       "4 -2.777778  71.771169  97.006764"
=======
       "0 -5.000000  48.061136  94.293587\n",
       "1 -4.444444  33.133240  94.293587\n",
       "2 -3.888889  46.055506  94.293587\n",
       "3 -3.333333  19.044918  94.293587\n",
       "4 -2.777778  41.024358  94.293587"
>>>>>>> working
      ]
     },
     "execution_count": 9,
     "metadata": {},
     "output_type": "execute_result"
    }
   ],
   "source": [
    "df['Mean_Yhat'] = df['Y'].mean()\n",
    "df.head()"
   ]
  },
  {
   "cell_type": "markdown",
   "metadata": {},
   "source": [
    "<a id=\"finding-the-best-slope-and-intercept\"></a>\n",
    "## Finding the \"best\" slope and intercept\n",
    "\n",
    "---\n",
    "\n",
    "**1. If we want to find the \"best\" slope an intercept, we will need a criterion that defines what it means to be the \"best\".**\n",
    "\n",
    "**2. We need to be able to numerically optimize (maximize or minimize) this criterion.**\n",
    "\n",
    "\n",
    "<a id=\"residuals\"></a>\n",
    "### Residuals\n",
    "\n",
    "The difference between the true value of $Y$ and the predicted value of $Y$ (denoted $\\hat{Y}$, \"Y-hat\") is known as a \"residual.\" For every value of $\\hat{Y}_i$, there is an accompanying residual $\\epsilon_i$.\n",
    "\n",
    "**Note that the residual $\\epsilon_i$ is the same as the error in our modeled linear relationship!**\n",
    "\n",
    "\n",
    "<a id=\"residual-sum-of-squares-rss\"></a>\n",
    "### Residual sum of squares (RSS)\n",
    "\n",
    "The most common way to define the \"best fit line\" is one that forces the ensures our residuals (a.k.a. errors) will be as close to zero as possible.\n",
    "\n",
    "In fact, we see to minimize the *sum of squared residuals* or [residual sum of squares (RSS)](https://en.wikipedia.org/wiki/Residual_sum_of_squares). This minimizes the [mean squared error (MSE) or sum of squares of error (SSE)](https://en.wikipedia.org/wiki/Mean_squared_error).\n",
    "\n",
    "### $$RSS = \\sum_{i=1}^n (Y_i - \\hat{Y}_i)^2 $$\n",
    "\n",
    "This is also known as a **loss function**, where the \"loss\" here is the sum of squared residuals.\n",
    "\n",
    "---\n",
    "\n",
    "**Review: what is the difference between a parameter and a statistic?**\n",
    "\n",
    "Below are two equations, one using parameters and one using statistics. What is the difference?\n",
    "\n",
    "### $$ Y = \\beta_0 + \\beta_1 X \\\\\n",
    "\\hat{Y} = \\hat{\\beta}_0 + \\hat{\\beta}_1 X $$"
   ]
  },
  {
   "cell_type": "code",
   "execution_count": 6,
   "metadata": {
    "collapsed": true
   },
   "outputs": [],
   "source": [
    "# A: the 'hat' variables are the 'population' parameters\n",
    "# the 'non-hat' variables are what I estimated from my sample (training data)"
   ]
  },
  {
   "cell_type": "markdown",
   "metadata": {},
   "source": [
    "Remember our naive prediction? Let's see how it does."
   ]
  },
  {
   "cell_type": "code",
   "execution_count": 10,
   "metadata": {},
   "outputs": [
    {
     "data": {
      "text/plain": [
<<<<<<< HEAD
       "1206.020776210826"
=======
       "1505.0976921885876"
>>>>>>> working
      ]
     },
     "execution_count": 10,
     "metadata": {},
     "output_type": "execute_result"
    }
   ],
   "source": [
    "# Calculate MSE\n",
    "df['Mean_Yhat_SE'] = np.square(df['Y'] - df['Mean_Yhat'])\n",
    "df['Mean_Yhat_SE'].mean()"
   ]
  },
  {
   "cell_type": "markdown",
   "metadata": {},
   "source": [
    "<a id=\"minimizing-the-mse\"></a>\n",
    "### Minimizing the MSE\n",
    "\n",
    "For simple linear regression [we can derive the intercept and slope that minimize the RSS algebraically](https://en.wikipedia.org/wiki/Simple_linear_regression#Fitting_the_regression_line). \n",
    "\n",
    "Given variables:\n",
    "- $\\bar{y}$ : the sample mean of observed values $Y$\n",
    "- $\\bar{x}$ : the sample mean of observed values $X$\n",
    "- $s_Y$ : the sample standard deviation of observed values $Y$\n",
    "- $s_X$ : the sample standard deviation of observed values $X$\n",
    "- $r_{XY}$ : the sample Pearson correlation coefficient between observed $X$ and $Y$\n",
    "\n",
    "The equations for the intercept and slope that minimize the RSS is:\n",
    "\n",
    "### $$ \\hat{\\beta}_0 = \\bar{y} - \\hat{\\beta}_1 \\bar{x} \\\\\n",
    "\\hat{\\beta}_1 = r_{XY} \\frac{s_Y}{x_X}$$\n",
    "\n",
    "Our simple linear regression is an **estimator of the expected value (mean) of $Y$**.\n",
    "\n",
    "> **Note:** Estimators are mathematical functions or formulas that yield an *estimate*. For example, an estimator might be the sample mean whereas the estimate is the value of the sample mean from our data set."
   ]
  },
  {
   "cell_type": "markdown",
   "metadata": {},
   "source": [
    "<a id=\"calculate-beta-coefficients-by-hand\"></a>\n",
    "### Calculate beta coefficients by hand"
   ]
  },
  {
   "cell_type": "code",
   "execution_count": 11,
   "metadata": {
    "collapsed": true
   },
   "outputs": [],
   "source": [
    "y_bar = df['Y'].mean()\n",
    "x_bar = df['X'].mean()\n",
    "std_y = df['Y'].std()\n",
    "std_x = df['X'].std()\n",
    "r_xy = df.corr().loc['X','Y']\n",
    "beta_1 = r_xy*(std_y/std_x)\n",
    "beta_0 = y_bar - beta_1*x_bar"
   ]
  },
  {
   "cell_type": "code",
   "execution_count": 12,
   "metadata": {
    "collapsed": true
   },
   "outputs": [],
   "source": [
    "df['Linear_Yhat'] = beta_0 + beta_1*df['X']"
   ]
  },
  {
   "cell_type": "code",
   "execution_count": 10,
   "metadata": {},
   "outputs": [
    {
     "data": {
      "text/plain": [
       "293.34772541276465"
      ]
     },
     "execution_count": 10,
     "metadata": {},
     "output_type": "execute_result"
    }
   ],
   "source": [
    "np.square(df['Y'] - df['Linear_Yhat']).mean()"
   ]
  },
  {
   "cell_type": "markdown",
   "metadata": {},
   "source": [
    "**How does our new MSE compare to our old MSE?**"
   ]
  },
  {
   "cell_type": "code",
   "execution_count": 11,
   "metadata": {
    "collapsed": true
   },
   "outputs": [],
   "source": [
    "# A: It's better, it's 342 compared to 1,199"
   ]
  },
  {
   "cell_type": "code",
   "execution_count": 12,
   "metadata": {},
   "outputs": [
    {
     "data": {
      "text/plain": [
       "(54.620515523660636, 1.8838332474699795)"
      ]
     },
     "execution_count": 12,
     "metadata": {},
     "output_type": "execute_result"
    }
   ],
   "source": [
    "beta_0, beta_1"
   ]
  },
  {
   "cell_type": "markdown",
   "metadata": {},
   "source": [
    "#### We can now plot our line"
   ]
  },
  {
   "cell_type": "code",
   "execution_count": 13,
   "metadata": {},
   "outputs": [
    {
     "data": {
      "image/png": "iVBORw0KGgoAAAANSUhEUgAAA3AAAAGfCAYAAAAeZzCpAAAABHNCSVQICAgIfAhkiAAAAAlwSFlz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\nJEmSOsIAJ0mSJEkd8R+rduEEnHb5gAAAAABJRU5ErkJggg==\n",
      "text/plain": [
       "<matplotlib.figure.Figure at 0x20fea5b2550>"
      ]
     },
     "metadata": {},
     "output_type": "display_data"
    }
   ],
   "source": [
    "# create a figure\n",
    "fig = plt.figure(figsize=(15,7))\n",
    "# get the axis of that figure\n",
    "ax = plt.gca()\n",
    "\n",
    "# plot a scatter plot on it with our data\n",
    "ax.scatter(x, y, c='k')\n",
    "ax.plot(df['X'], df['Linear_Yhat'], color='r');"
   ]
  },
  {
   "cell_type": "markdown",
   "metadata": {},
   "source": [
    "#### We can also plot our residuals"
   ]
  },
  {
   "cell_type": "code",
   "execution_count": 14,
   "metadata": {},
   "outputs": [
    {
     "data": {
      "image/png": "iVBORw0KGgoAAAANSUhEUgAAA3AAAAHVCAYAAACwpBmjAAAABHNCSVQICAgIfAhkiAAAAAlwSFlz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\nTxDgAAAAAMAnCHAAAAAA4BP/H6BPBbjauYkuAAAAAElFTkSuQmCC\n",
      "text/plain": [
       "<matplotlib.figure.Figure at 0x20feababf60>"
      ]
     },
     "metadata": {},
     "output_type": "display_data"
    }
   ],
   "source": [
    "# create a figure\n",
    "fig = plt.figure(figsize=(15,7))\n",
    "fig.set_figheight(8)\n",
    "fig.set_figwidth(15)\n",
    "\n",
    "# get the axis\n",
    "ax = fig.gca()\n",
    "\n",
    "# plot it\n",
    "ax.scatter(x=df['X'], y=df['Y'], c='k')\n",
    "ax.plot(df['X'], df['Linear_Yhat'], color='k');\n",
    "\n",
    "# iterate over predictions\n",
    "for _, row in df.iterrows():\n",
    "    plt.plot((row['X'], row['X']), (row['Y'], row['Linear_Yhat']), 'r-')"
   ]
  },
  {
   "cell_type": "markdown",
   "metadata": {},
   "source": [
    "<a id=\"interpretation-of-slr\"></a>\n",
    "## Interpretation of SLR\n",
    "\n",
    "---\n",
    "\n",
    "The simple linear regression estimators described above have really nice properties:\n",
    "\n",
    "1. They are unbiased. (a.k.a. the statistics will on average equal the true parameter value)\n",
    "2. Among all unbiased estimators, the estimators above have the smallest possible variance.\n",
    "3. They are consistent. (a.k.a. as your sample size n goes to infinity, the statistic converges to the true parameter value)\n",
    "\n",
    "**However, these are just mathematical properties.** They do not take into account real-world situations. For example, suppose I want to use a SLR model to predict my commute time and I get the model:\n",
    "\n",
    "    [commute time] = 8 * [number of Metro stops] - 10\n",
    "\n",
    "In this case, my commute time is estimated to be negative if I go zero stops or one stop on the Metro. If I were to interpret my intercept, I might say \"If I travel zero Metro stops on my way to work, I expect to commute -10 minutes.\" Of course, this is nonsense; you can't have a negative commute time!\n",
    "\n",
    "**What this means:** \n",
    "\n",
    "When building a model, make sure your model makes sense! You are responsible for the interpretation of the model. All the computer will do is optimize. You may not do anything wrong when you fit a model, but make a note that there are  shortcomings to the framework."
   ]
  },
  {
   "cell_type": "markdown",
   "metadata": {},
   "source": [
    "<a id='assumptions'></a>\n",
    "\n",
    "<a id=\"assumptions-of-slr\"></a>\n",
    "## Assumptions of SLR\n",
    "\n",
    "---\n",
    "\n",
    "There are some critical assumptions involved in SLR that you must be aware of:\n",
    "\n",
    "1. **Linearity:** Y and X must have an approximately linear relationship.\n",
    "2. **Independence:** Errors (residuals) $\\epsilon_i$ and $\\epsilon_j$ must be independent of one another for any i != j.\n",
    "3. **Normality:** The errors (residuals) follow a Normal distribution.\n",
    "4. **Equality of Variances** (Homoscedasticity of errors): The errors (residuals) should have a roughly consistent pattern, regardless of the value of X. (There should be no discernable relationship between X and the residuals.)\n",
    "\n",
    "The mnemonic **LINE** is a useful way to remember these four assumptions.\n",
    "\n",
    "Lengthier discussions of the four main assumptions and how one can evaluate or test for each of these [can be found here](http://people.duke.edu/~rnau/testing.htm).\n",
    "\n",
    "If all four assumptions are true, the following holds: \n",
    "\n",
    "### $$ Y_i \\text{ ~ } N(\\beta_0 + \\beta_1 X_i, \\sigma) $$"
   ]
  },
  {
   "cell_type": "code",
   "execution_count": 15,
   "metadata": {
    "collapsed": true
   },
   "outputs": [],
   "source": [
    "import pandas as pd\n",
    "import numpy as np\n",
    "import matplotlib\n",
    "import matplotlib.pyplot as plt\n",
    "import seaborn as sns\n",
    "\n",
    "sns.set_style('darkgrid')\n",
    "%config InlineBackend.figure_format = 'retina'\n",
    "%matplotlib inline"
   ]
  },
  {
   "cell_type": "markdown",
   "metadata": {},
   "source": [
    "<a id='load-data'></a>\n",
    "\n",
    "## Load the real estate data\n",
    "\n",
    "---\n",
    "\n",
    "Over the course of this lesson we will be constructing a simple linear regression and then extend this to multiple linear regression. Included in the datasets folder is a very simple dataset on real estate prices.\n",
    "\n",
    "**Load the data using pandas.**"
   ]
  },
  {
   "cell_type": "code",
   "execution_count": 16,
   "metadata": {},
   "outputs": [
    {
     "data": {
      "text/html": [
       "<div>\n",
       "<style>\n",
       "    .dataframe thead tr:only-child th {\n",
       "        text-align: right;\n",
       "    }\n",
       "\n",
       "    .dataframe thead th {\n",
       "        text-align: left;\n",
       "    }\n",
       "\n",
       "    .dataframe tbody tr th {\n",
       "        vertical-align: top;\n",
       "    }\n",
       "</style>\n",
       "<table border=\"1\" class=\"dataframe\">\n",
       "  <thead>\n",
       "    <tr style=\"text-align: right;\">\n",
       "      <th></th>\n",
       "      <th>sqft</th>\n",
       "      <th>bdrms</th>\n",
       "      <th>age</th>\n",
       "      <th>price</th>\n",
       "    </tr>\n",
       "  </thead>\n",
       "  <tbody>\n",
       "    <tr>\n",
       "      <th>0</th>\n",
       "      <td>2104</td>\n",
       "      <td>3</td>\n",
       "      <td>70</td>\n",
       "      <td>399900</td>\n",
       "    </tr>\n",
       "    <tr>\n",
       "      <th>1</th>\n",
       "      <td>1600</td>\n",
       "      <td>3</td>\n",
       "      <td>28</td>\n",
       "      <td>329900</td>\n",
       "    </tr>\n",
       "    <tr>\n",
       "      <th>2</th>\n",
       "      <td>2400</td>\n",
       "      <td>3</td>\n",
       "      <td>44</td>\n",
       "      <td>369000</td>\n",
       "    </tr>\n",
       "    <tr>\n",
       "      <th>3</th>\n",
       "      <td>1416</td>\n",
       "      <td>2</td>\n",
       "      <td>49</td>\n",
       "      <td>232000</td>\n",
       "    </tr>\n",
       "    <tr>\n",
       "      <th>4</th>\n",
       "      <td>3000</td>\n",
       "      <td>4</td>\n",
       "      <td>75</td>\n",
       "      <td>539900</td>\n",
       "    </tr>\n",
       "  </tbody>\n",
       "</table>\n",
       "</div>"
      ],
      "text/plain": [
       "   sqft  bdrms  age   price\n",
       "0  2104      3   70  399900\n",
       "1  1600      3   28  329900\n",
       "2  2400      3   44  369000\n",
       "3  1416      2   49  232000\n",
       "4  3000      4   75  539900"
      ]
     },
     "execution_count": 16,
     "metadata": {},
     "output_type": "execute_result"
    }
   ],
   "source": [
    "house_csv = './datasets/housing-data.csv'\n",
    "house = pd.read_csv(house_csv)\n",
    "house.head()\n",
    "# load data with pandas"
   ]
  },
  {
   "cell_type": "markdown",
   "metadata": {},
   "source": [
    "The columns are:\n",
    "\n",
    "    sqft: the size of the house in sq. ft\n",
    "    bdrms: number of bedrooms\n",
    "    age: age in years of house\n",
    "    price: the price of the house\n",
    "    \n",
    "**Convert `price` to be in units of 1000 (thousands of dollars).**"
   ]
  },
  {
   "cell_type": "code",
   "execution_count": 17,
   "metadata": {},
   "outputs": [
    {
     "data": {
      "text/html": [
       "<div>\n",
       "<style>\n",
       "    .dataframe thead tr:only-child th {\n",
       "        text-align: right;\n",
       "    }\n",
       "\n",
       "    .dataframe thead th {\n",
       "        text-align: left;\n",
       "    }\n",
       "\n",
       "    .dataframe tbody tr th {\n",
       "        vertical-align: top;\n",
       "    }\n",
       "</style>\n",
       "<table border=\"1\" class=\"dataframe\">\n",
       "  <thead>\n",
       "    <tr style=\"text-align: right;\">\n",
       "      <th></th>\n",
       "      <th>sqft</th>\n",
       "      <th>bdrms</th>\n",
       "      <th>age</th>\n",
       "      <th>price</th>\n",
       "    </tr>\n",
       "  </thead>\n",
       "  <tbody>\n",
       "    <tr>\n",
       "      <th>0</th>\n",
       "      <td>2104</td>\n",
       "      <td>3</td>\n",
       "      <td>70</td>\n",
       "      <td>399.9</td>\n",
       "    </tr>\n",
       "    <tr>\n",
       "      <th>1</th>\n",
       "      <td>1600</td>\n",
       "      <td>3</td>\n",
       "      <td>28</td>\n",
       "      <td>329.9</td>\n",
       "    </tr>\n",
       "    <tr>\n",
       "      <th>2</th>\n",
       "      <td>2400</td>\n",
       "      <td>3</td>\n",
       "      <td>44</td>\n",
       "      <td>369.0</td>\n",
       "    </tr>\n",
       "    <tr>\n",
       "      <th>3</th>\n",
       "      <td>1416</td>\n",
       "      <td>2</td>\n",
       "      <td>49</td>\n",
       "      <td>232.0</td>\n",
       "    </tr>\n",
       "    <tr>\n",
       "      <th>4</th>\n",
       "      <td>3000</td>\n",
       "      <td>4</td>\n",
       "      <td>75</td>\n",
       "      <td>539.9</td>\n",
       "    </tr>\n",
       "  </tbody>\n",
       "</table>\n",
       "</div>"
      ],
      "text/plain": [
       "   sqft  bdrms  age  price\n",
       "0  2104      3   70  399.9\n",
       "1  1600      3   28  329.9\n",
       "2  2400      3   44  369.0\n",
       "3  1416      2   49  232.0\n",
       "4  3000      4   75  539.9"
      ]
     },
     "execution_count": 17,
     "metadata": {},
     "output_type": "execute_result"
    }
   ],
   "source": [
    "# transform price to new units\n",
    "house = pd.read_csv(house_csv)\n",
    "house['price'] = house['price'].map(lambda x: x/1000)\n",
    "house.head()"
   ]
  },
  {
   "cell_type": "markdown",
   "metadata": {},
   "source": [
    "<a id='slr-to-mlr'></a>\n",
    "\n",
    "## From simple linear regression (SLR) to multiple linear regression (MLR)\n",
    "\n",
    "---\n",
    "\n",
    "The TL;DF of multiple linear regression:\n",
    "\n",
    "> Instead of using just one predictor to estimate a continuous target, we build a model with multiple predictor variables. You will be using MLR way more than SLR going forward.\n",
    "\n",
    "These variables will be represented as columns in a matrix (often a pandas dataframe).\n",
    "\n",
    "**Brainstorm some examples of real-world scenarios where multiple predictors would be beneficial. Can you think of cases where it might be detrimental?**"
   ]
  },
  {
   "cell_type": "code",
   "execution_count": 18,
   "metadata": {
    "collapsed": true
   },
   "outputs": [],
   "source": [
    "# A:"
   ]
  },
  {
   "cell_type": "markdown",
   "metadata": {},
   "source": [
    "<a id='assumptions'></a>\n",
    "\n",
    "## Assumptions of MLR\n",
    "\n",
    "---\n",
    "\n",
    "Like SLR, there are assumptions associated with MLR. Luckily, they're quite similar to the SLR assumptions.\n",
    "\n",
    "1. **Linearity:** $Y$ must have an approximately linear relationship with each independent $X_i$.\n",
    "2. **Independence:** Errors (residuals) $\\epsilon_i$ and $\\epsilon_j$ must be independent of one another for any $i \\ne j$.\n",
    "3. **Normality:** The errors (residuals) follow a Normal distribution.\n",
    "4. **Equality of Variances**: The errors (residuals) should have a roughly consistent pattern, regardless of the value of the $X_i$ predictors. (There should be no discernable relationship between the $X$ predictors and the residuals.)\n",
    "5. **Independence of Predictors**: The independent variables $X_i$ and $X_j$ must be independent of one another for any $i \\ne j$.\n",
    "\n",
    "The mnemonic LINEI is a useful way to remember these five assumptions. "
   ]
  },
  {
   "cell_type": "code",
   "execution_count": 19,
   "metadata": {
    "collapsed": true
   },
   "outputs": [],
   "source": [
    "# multicollinearity = when two predictors are highly correlated\n",
    "# like age and income"
   ]
  },
  {
   "cell_type": "markdown",
   "metadata": {},
   "source": [
    "<a id='fit-mlr'></a>\n",
    "\n",
    "## Fitting a multiple linear regression\n",
    "\n",
    "---\n",
    "\n",
    "The formula for computing the $\\beta$ values in multiple regression is best done using linear algebra. We will cover the derivation, but for more depth  [these slides are a great resource](http://statweb.stanford.edu/~nzhang/191_web/lecture4_handout.pdf).\n",
    "\n",
    "$X$ is now a _matrix_ of predictors $x_1$ through $x_i$ (with each column a predictor), and $y$ is the target vector we are seeking to estimate. There is still only 1 *estimated* variable!\n",
    "\n",
    "### $$ \\hat{y} = X \\beta$$\n",
    "\n",
    "**Note:** $\\beta$ in the formula above is a *vector* of coefficients now, rather than a single value.\n",
    "\n",
    "In different notation we could write $\\hat{y}$ calculated with:\n",
    "\n",
    "### $$ \\hat{y} = \\beta_0 + \\beta_1 x_1 + \\beta_2 x_2 + ... + \\beta_n x_n $$\n",
    "\n",
    "---\n",
    "\n",
    "<a id='mlr-beta-derivation'></a>\n",
    "\n",
    "### Deriving the $\\beta$ coefficients (optional)\n",
    "\n",
    "$\\beta$ is solved with the linear algebra formula:\n",
    "\n",
    "### $$ \\beta = (X'X)^{-1}X'y $$\n",
    "\n",
    "Where $X'$ is the transposed matrix of original matrix $X$ and $(X'X)^-1$ is the inverted matrix of $X'X$.\n",
    "\n"
   ]
  },
  {
   "cell_type": "markdown",
   "metadata": {},
   "source": [
    "The equation using true $y$ is:\n",
    "\n",
    "### $$ y = \\beta X + \\epsilon $$\n",
    "\n",
    "Again, $\\epsilon$ is our vector of errors, or residuals.\n",
    "\n",
    "We can equivalently formulate this as in terms of the residuals:\n",
    "\n",
    "### $$ \\epsilon = \\beta X - y $$\n",
    "\n",
    "Our goal is to minimize the sum of squared residuals. The sum of squared residuals is equivalent to the dot product of the vector of residuals:\n",
    "\n",
    "### $$ \\sum_{i=1}^n \\epsilon_i^2 = \n",
    "\\left[\\begin{array}{cc}\n",
    "\\epsilon_1 \\cdots \\epsilon_n\n",
    "\\end{array}\\right] \n",
    "\\left[\\begin{array}{cc}\n",
    "\\epsilon_1 \\\\ \\cdots \\\\ \\epsilon_n\n",
    "\\end{array}\\right] = \\epsilon' \\epsilon\n",
    "$$\n",
    "\n",
    "Therefore we can write the sum of squared residuals as:\n",
    "\n",
    "### $$ \\epsilon' \\epsilon = (\\beta X - y)' (\\beta X - y) $$\n",
    "\n",
    "Which becomes:\n",
    "\n",
    "### $$ \\epsilon' \\epsilon = y'y - y'X\\beta - \\beta' X' y + \\beta' X' X \\beta $$\n",
    "\n",
    "Now take the derivative with respect to $\\beta$:\n",
    "\n",
    "### $$ \\frac{\\partial \\epsilon' \\epsilon}{\\partial \\beta} = \n",
    "-2X'y + 2X'X\\beta$$\n",
    "\n",
    "We want to minimize the sum of squared errors, and so we set the derivative to zero and solve for the beta coefficient vector:\n",
    "\n",
    "### $$ 0 = -2X'y + 2X'X\\beta \\\\\n",
    "X'X\\beta = X'y \\\\\n",
    "\\beta = (X'X)^{-1}X'y$$"
   ]
  },
  {
   "cell_type": "markdown",
   "metadata": {},
   "source": [
    "<a id='code-mlr'></a>\n",
    "\n",
    "### Code a MLR\n",
    "\n",
    "**First, we need to create the \"design matrix\" of our predictors.**\n",
    "\n",
    "The first column will be a column of all 1s (the intercept) and the other columns will be `sqft`, `bdrms`, and `age`.\n",
    "\n",
    "This is easiest to do with pandas: add a column for the intercept first, then extract the matrix using with `.values`."
   ]
  },
  {
   "cell_type": "code",
   "execution_count": 20,
   "metadata": {
    "collapsed": true
   },
   "outputs": [],
   "source": [
    "# set up X matrix"
   ]
  },
  {
   "cell_type": "markdown",
   "metadata": {},
   "source": [
    "### Solve for the beta coefficients\n",
    "\n",
    "We are still predicting `price`. Implement the linear algebra equation to solve for the beta coefficients. \n",
    "\n",
    "### $$ \\beta = (X'X)^{-1}X'y $$\n",
    "\n",
    "**Tips:**\n",
    "\n",
    "The transpose of a matrix is calculated by appending `.T` to the matrix:\n",
    "\n",
    "    X.T\n",
    "\n",
    "Matrices multipled in the formula should be done with the \"dot product\":\n",
    "\n",
    "    np.dot(mat1, mat2)\n",
    "\n",
    "Inverting a matrix is done using:\n",
    "\n",
    "    np.linalg.inv()"
   ]
  },
  {
   "cell_type": "code",
   "execution_count": 21,
   "metadata": {
    "collapsed": true
   },
   "outputs": [],
   "source": [
    "# calculate beta vector"
   ]
  },
  {
   "cell_type": "markdown",
   "metadata": {},
   "source": [
    "**Confirm that these betas are the same as the ones using `sklearn.linear_model.LinearRegression`**\n",
    "\n",
    "```python\n",
    "from sklearn.linear_model import LinearRegression\n",
    "\n",
    "linreg = LinearRegression(fit_intercept=False)\n",
    "linreg.fit(X, price)\n",
    "\n",
    "print linreg.coef_\n",
    "```"
   ]
  },
  {
   "cell_type": "code",
   "execution_count": 22,
   "metadata": {
    "collapsed": true
   },
   "outputs": [],
   "source": [
    "# validate beta vector is same as sklearn"
   ]
  },
  {
   "cell_type": "markdown",
   "metadata": {},
   "source": [
    "**Calculate predicted $\\hat{y}$ with your $X$ predictor matrix and $\\beta$ coefficients.**"
   ]
  },
  {
   "cell_type": "code",
   "execution_count": 23,
   "metadata": {
    "collapsed": true
   },
   "outputs": [],
   "source": [
    "# calculate predictions"
   ]
  },
  {
   "cell_type": "markdown",
   "metadata": {},
   "source": [
    "**Calculate the RMSE of the multiple regression model.**"
   ]
  },
  {
   "cell_type": "code",
   "execution_count": 24,
   "metadata": {
    "collapsed": true
   },
   "outputs": [],
   "source": [
    "# calculate MLR RMSE"
   ]
  },
  {
   "cell_type": "markdown",
   "metadata": {},
   "source": [
    "<a id='additional-resources'></a>\n",
    "\n",
    "## Additional resources\n",
    "\n",
    "---\n",
    "\n",
    "[Maximum likelihood estimation](https://onlinecourses.science.psu.edu/stat504/node/28)"
   ]
  },
  {
   "cell_type": "markdown",
   "metadata": {},
   "source": [
    "<a id='intro'></a>\n",
    "\n",
    "##  `sklearn` & `statsmodels`\n",
    "\n",
    "---\n",
    "\n",
    "This lesson intends to introduce the modeling packages `sklearn` and `statsmodels` in the context of regression modeling. These are both powerful python packages with different strengths. \n",
    "\n",
    "In general:\n",
    "- **`sklearn`** is the *machine learning* package\n",
    "- **`statsmodels`** is the *statistics* package\n",
    "\n",
    "Though the terms have immense overlap, machine learning tends to be more prediction focused while statistics is more inference focused. \n",
    "\n",
    "**Remember: even with all the power provided by these modeling tools, it's never a replacement for good EDA!**\n",
    "\n",
    "---\n",
    "\n",
    "### A preface on modeling\n",
    "\n",
    "As we venture down the path of modeling, it can be difficult to determine which choices are \"correct\" or \"incorrect\".  A primary challenge is to understand how different models will perform in different circumstances and different types of data. It's essential to practice modeling on a variety of data.\n",
    "\n",
    "As a beginner it is essential to learn which metrics are important for evaluating your models and what they mean. The metrics we evaluate our models with inform our actions.  \n",
    "\n",
    "*Exploring datasets on your own with the skills and tools you learn in class is highly recommended!*"
   ]
  },
  {
   "cell_type": "markdown",
   "metadata": {},
   "source": [
    "<a id='documentation'></a>\n",
    "\n",
    "## `sklearn` and `statsmodels` documentation\n",
    "\n",
    "---\n",
    "\n",
    "Get familiar with looking up things in the `sklearn` and `statsmodels` documentation. You are going to be doing a lot of it over the course of DSI and beyond.\n",
    "\n",
    "[The statsmodels documentation can be found here.](http://statsmodels.sourceforge.net/devel/) Many recommend using the bleeding-edge version of statsmodels. [For that you can reference the code on github.](https://github.com/statsmodels/statsmodels/)\n",
    "\n",
    "[The sklearn documentation can be found here.](http://scikit-learn.org/stable/documentation.html)\n",
    "\n",
    "The packages have fairly different approaches and syntax for constructing models. Below are examples for linear regression in each package:\n",
    "* [Linear regression in statsmodels](http://statsmodels.sourceforge.net/devel/examples/#regression)\n",
    "* [Linear regression in scikit-learn](http://scikit-learn.org/stable/modules/generated/sklearn.linear_model.LinearRegression.html)\n",
    "\n",
    "If you haven't yet, familliarize yourself with the format of the documentation."
   ]
  },
  {
   "cell_type": "markdown",
   "metadata": {},
   "source": [
    "<a id='sklearn-background'></a>\n",
    "\n",
    "## Background: Scikit-learn / sklearn\n",
    "\n",
    "---\n",
    "\n",
    "<img src=\"https://avatars1.githubusercontent.com/u/25111?v=3&s=200\" style=\"float: left; margin: 0 25px;\"> Scikit-learn was founded in 2007 as a Google summer of code project by [David Cournapeau](https://github.com/cournape).  Later in 2007, Matthieu Brucher published his thesis on Scikit-learn.  Since then, the Scikit-learn project has taken on a worldwide team of owners. A great high level overview of the project can be found in a 2011 publication in [Journal of Machine Learning Research 12 (2011) 2825-2830](http://www.jmlr.org/papers/volume12/pedregosa11a/pedregosa11a.pdf).\n",
    "\n",
    "Skikit-learn is part of the Scipy family of \"kits\".  Explore some of the [other projects](https://scikits.appspot.com/scikits) in this family.\n",
    "<br clear=\"all\"><br>\n",
    "\n",
    "\n",
    "**Scikit-learn provides a wide variety of machine learning models, including:**\n",
    "\n",
    "- Linear regression\n",
    "- Logistic regression\n",
    "- Support Vector Machines\n",
    "- Classification And Regression Tree Models\n",
    "- Naive Bayes\n",
    "- Clustering Models (K-Means, Hierarchical, DBScan)\n",
    "\n",
    "**It also handles the construction of typical machine learning pipeline utilities for:**\n",
    "- Model evaluation\n",
    "- Model selection\n",
    "- Preprocessing\n",
    "- Natural Language Processing\n",
    "- Dimensionality Reduction\n",
    "\n",
    "**Scikit-learn comes with a ton of datasets that are cleaned and formatted to work with the models provided by their library:**\n",
    "- Boston Housing\n",
    "- Iris Flowers\n",
    "- Diabetes Diagnostics\n",
    "- Various sample images (for classification)\n",
    "  - Faces\n",
    "  - MINIST (handwriting examples)\n",
    "- Random data generators\n",
    "- Spam examples\n",
    "- Newsgroup classfication\n",
    "\n",
    "[Read more about Scikit-learn datasets](http://scikit-learn.org/stable/datasets/)\n",
    "\n",
    "---"
   ]
  },
  {
   "cell_type": "markdown",
   "metadata": {},
   "source": [
    "### `sklearn` under the hood\n",
    "\n",
    "- **Numpy**:  The base for data structures and transformations. Input data is represented as numpy arrays, integrating seamlessly with other scientific Python libraries. Numpy’s viewbased memory model limits copies, even when binding with compiled code.  It also provides basic arithmetic and linear algebra operations.<br><br>\n",
    "\n",
    "- **Scipy**:  Efficient algorithms for linear algebra, sparse matrix representation, special functions and basic statistical functions.<br><br>\n",
    "\n",
    "- **Cython**:  A language for combining C with Python. Cython makes it easy to reach the performance of compiled languages with Python-like syntax and high-level operations."
   ]
  },
  {
   "cell_type": "markdown",
   "metadata": {},
   "source": [
    "<a id='sklearn-first-steps'></a>\n",
    "\n",
    "## First steps with `sklearn`: loading the data\n",
    "\n",
    "---\n",
    "\n",
    "We will load the boston housing dataset using sklearn and then construct and fit a linear regression model on the data. "
   ]
  },
  {
   "cell_type": "code",
   "execution_count": 25,
   "metadata": {
    "collapsed": true
   },
   "outputs": [],
   "source": [
    "from matplotlib import pyplot as plt\n",
    "import seaborn as sns\n",
    "\n",
    "from sklearn import datasets, linear_model\n",
    "from sklearn.metrics import mean_squared_error\n",
    "\n",
    "# Don't forget to turn on plotting display in the notebook\n",
    "%matplotlib inline "
   ]
  },
  {
   "cell_type": "markdown",
   "metadata": {},
   "source": [
    "**Load the boston housing data with the `datasets.load_boston()` function.**"
   ]
  },
  {
   "cell_type": "code",
   "execution_count": 26,
   "metadata": {},
   "outputs": [
    {
     "name": "stdout",
     "output_type": "stream",
     "text": [
      "Boston House Prices dataset\n",
      "===========================\n",
      "\n",
      "Notes\n",
      "------\n",
      "Data Set Characteristics:  \n",
      "\n",
      "    :Number of Instances: 506 \n",
      "\n",
      "    :Number of Attributes: 13 numeric/categorical predictive\n",
      "    \n",
      "    :Median Value (attribute 14) is usually the target\n",
      "\n",
      "    :Attribute Information (in order):\n",
      "        - CRIM     per capita crime rate by town\n",
      "        - ZN       proportion of residential land zoned for lots over 25,000 sq.ft.\n",
      "        - INDUS    proportion of non-retail business acres per town\n",
      "        - CHAS     Charles River dummy variable (= 1 if tract bounds river; 0 otherwise)\n",
      "        - NOX      nitric oxides concentration (parts per 10 million)\n",
      "        - RM       average number of rooms per dwelling\n",
      "        - AGE      proportion of owner-occupied units built prior to 1940\n",
      "        - DIS      weighted distances to five Boston employment centres\n",
      "        - RAD      index of accessibility to radial highways\n",
      "        - TAX      full-value property-tax rate per $10,000\n",
      "        - PTRATIO  pupil-teacher ratio by town\n",
      "        - B        1000(Bk - 0.63)^2 where Bk is the proportion of blacks by town\n",
      "        - LSTAT    % lower status of the population\n",
      "        - MEDV     Median value of owner-occupied homes in $1000's\n",
      "\n",
      "    :Missing Attribute Values: None\n",
      "\n",
      "    :Creator: Harrison, D. and Rubinfeld, D.L.\n",
      "\n",
      "This is a copy of UCI ML housing dataset.\n",
      "http://archive.ics.uci.edu/ml/datasets/Housing\n",
      "\n",
      "\n",
      "This dataset was taken from the StatLib library which is maintained at Carnegie Mellon University.\n",
      "\n",
      "The Boston house-price data of Harrison, D. and Rubinfeld, D.L. 'Hedonic\n",
      "prices and the demand for clean air', J. Environ. Economics & Management,\n",
      "vol.5, 81-102, 1978.   Used in Belsley, Kuh & Welsch, 'Regression diagnostics\n",
      "...', Wiley, 1980.   N.B. Various transformations are used in the table on\n",
      "pages 244-261 of the latter.\n",
      "\n",
      "The Boston house-price data has been used in many machine learning papers that address regression\n",
      "problems.   \n",
      "     \n",
      "**References**\n",
      "\n",
      "   - Belsley, Kuh & Welsch, 'Regression diagnostics: Identifying Influential Data and Sources of Collinearity', Wiley, 1980. 244-261.\n",
      "   - Quinlan,R. (1993). Combining Instance-Based and Model-Based Learning. In Proceedings on the Tenth International Conference of Machine Learning, 236-243, University of Massachusetts, Amherst. Morgan Kaufmann.\n",
      "   - many more! (see http://archive.ics.uci.edu/ml/datasets/Housing)\n",
      "\n"
     ]
    }
   ],
   "source": [
    "#\n",
    "data = datasets.load_boston()\n",
    "data.feature_names\n",
    "print(data.DESCR)"
   ]
  },
  {
   "cell_type": "markdown",
   "metadata": {},
   "source": [
    "**The data object we've loaded has attributes with the features, target variable, and design matrix:**"
   ]
  },
  {
   "cell_type": "code",
   "execution_count": 27,
   "metadata": {},
   "outputs": [
    {
     "name": "stdout",
     "output_type": "stream",
     "text": [
      "['CRIM' 'ZN' 'INDUS' 'CHAS' 'NOX' 'RM' 'AGE' 'DIS' 'RAD' 'TAX' 'PTRATIO'\n",
      " 'B' 'LSTAT']\n",
      "[[  6.32000000e-03   1.80000000e+01   2.31000000e+00   0.00000000e+00\n",
      "    5.38000000e-01   6.57500000e+00   6.52000000e+01   4.09000000e+00\n",
      "    1.00000000e+00   2.96000000e+02   1.53000000e+01   3.96900000e+02\n",
      "    4.98000000e+00]\n",
      " [  2.73100000e-02   0.00000000e+00   7.07000000e+00   0.00000000e+00\n",
      "    4.69000000e-01   6.42100000e+00   7.89000000e+01   4.96710000e+00\n",
      "    2.00000000e+00   2.42000000e+02   1.78000000e+01   3.96900000e+02\n",
      "    9.14000000e+00]\n",
      " [  2.72900000e-02   0.00000000e+00   7.07000000e+00   0.00000000e+00\n",
      "    4.69000000e-01   7.18500000e+00   6.11000000e+01   4.96710000e+00\n",
      "    2.00000000e+00   2.42000000e+02   1.78000000e+01   3.92830000e+02\n",
      "    4.03000000e+00]]\n",
      "[ 24.   21.6  34.7]\n"
     ]
    }
   ],
   "source": [
    "# \n",
    "print(data.feature_names)\n",
    "print(data.data[0:3])\n",
    "print(data.target[0:3]) # an array, all the median home prices that I want to predict. Observed "
   ]
  },
  {
   "cell_type": "markdown",
   "metadata": {},
   "source": [
    "### Putting the data in pandas for convenience\n",
    "\n",
    "Our target is what we are predicting.  Sometimes this is called the **response variable**.\n",
    "\n",
    "The target and the data are what we use to train, or **fit** the model with.\n",
    "\n",
    "Scikit-learn has already split our data into the **predictors** and **response** for us. It has also stored the names of the features in a separate array. \n",
    "\n",
    "So we can print things like the header of the data it will be more convenient to have our data in a pandas dataframe.\n",
    "\n",
    "**Use the predictors and the feature names to create a pandas dataframe.**"
   ]
  },
  {
   "cell_type": "code",
   "execution_count": 28,
   "metadata": {
    "scrolled": true
   },
   "outputs": [
    {
     "data": {
      "text/html": [
       "<div>\n",
       "<style>\n",
       "    .dataframe thead tr:only-child th {\n",
       "        text-align: right;\n",
       "    }\n",
       "\n",
       "    .dataframe thead th {\n",
       "        text-align: left;\n",
       "    }\n",
       "\n",
       "    .dataframe tbody tr th {\n",
       "        vertical-align: top;\n",
       "    }\n",
       "</style>\n",
       "<table border=\"1\" class=\"dataframe\">\n",
       "  <thead>\n",
       "    <tr style=\"text-align: right;\">\n",
       "      <th></th>\n",
       "      <th>CRIM</th>\n",
       "      <th>ZN</th>\n",
       "      <th>INDUS</th>\n",
       "      <th>CHAS</th>\n",
       "      <th>NOX</th>\n",
       "      <th>RM</th>\n",
       "      <th>AGE</th>\n",
       "      <th>DIS</th>\n",
       "      <th>RAD</th>\n",
       "      <th>TAX</th>\n",
       "      <th>PTRATIO</th>\n",
       "      <th>B</th>\n",
       "      <th>LSTAT</th>\n",
       "    </tr>\n",
       "  </thead>\n",
       "  <tbody>\n",
       "    <tr>\n",
       "      <th>0</th>\n",
       "      <td>0.00632</td>\n",
       "      <td>18.0</td>\n",
       "      <td>2.31</td>\n",
       "      <td>0.0</td>\n",
       "      <td>0.538</td>\n",
       "      <td>6.575</td>\n",
       "      <td>65.2</td>\n",
       "      <td>4.0900</td>\n",
       "      <td>1.0</td>\n",
       "      <td>296.0</td>\n",
       "      <td>15.3</td>\n",
       "      <td>396.90</td>\n",
       "      <td>4.98</td>\n",
       "    </tr>\n",
       "    <tr>\n",
       "      <th>1</th>\n",
       "      <td>0.02731</td>\n",
       "      <td>0.0</td>\n",
       "      <td>7.07</td>\n",
       "      <td>0.0</td>\n",
       "      <td>0.469</td>\n",
       "      <td>6.421</td>\n",
       "      <td>78.9</td>\n",
       "      <td>4.9671</td>\n",
       "      <td>2.0</td>\n",
       "      <td>242.0</td>\n",
       "      <td>17.8</td>\n",
       "      <td>396.90</td>\n",
       "      <td>9.14</td>\n",
       "    </tr>\n",
       "    <tr>\n",
       "      <th>2</th>\n",
       "      <td>0.02729</td>\n",
       "      <td>0.0</td>\n",
       "      <td>7.07</td>\n",
       "      <td>0.0</td>\n",
       "      <td>0.469</td>\n",
       "      <td>7.185</td>\n",
       "      <td>61.1</td>\n",
       "      <td>4.9671</td>\n",
       "      <td>2.0</td>\n",
       "      <td>242.0</td>\n",
       "      <td>17.8</td>\n",
       "      <td>392.83</td>\n",
       "      <td>4.03</td>\n",
       "    </tr>\n",
       "    <tr>\n",
       "      <th>3</th>\n",
       "      <td>0.03237</td>\n",
       "      <td>0.0</td>\n",
       "      <td>2.18</td>\n",
       "      <td>0.0</td>\n",
       "      <td>0.458</td>\n",
       "      <td>6.998</td>\n",
       "      <td>45.8</td>\n",
       "      <td>6.0622</td>\n",
       "      <td>3.0</td>\n",
       "      <td>222.0</td>\n",
       "      <td>18.7</td>\n",
       "      <td>394.63</td>\n",
       "      <td>2.94</td>\n",
       "    </tr>\n",
       "    <tr>\n",
       "      <th>4</th>\n",
       "      <td>0.06905</td>\n",
       "      <td>0.0</td>\n",
       "      <td>2.18</td>\n",
       "      <td>0.0</td>\n",
       "      <td>0.458</td>\n",
       "      <td>7.147</td>\n",
       "      <td>54.2</td>\n",
       "      <td>6.0622</td>\n",
       "      <td>3.0</td>\n",
       "      <td>222.0</td>\n",
       "      <td>18.7</td>\n",
       "      <td>396.90</td>\n",
       "      <td>5.33</td>\n",
       "    </tr>\n",
       "  </tbody>\n",
       "</table>\n",
       "</div>"
      ],
      "text/plain": [
       "      CRIM    ZN  INDUS  CHAS    NOX     RM   AGE     DIS  RAD    TAX  \\\n",
       "0  0.00632  18.0   2.31   0.0  0.538  6.575  65.2  4.0900  1.0  296.0   \n",
       "1  0.02731   0.0   7.07   0.0  0.469  6.421  78.9  4.9671  2.0  242.0   \n",
       "2  0.02729   0.0   7.07   0.0  0.469  7.185  61.1  4.9671  2.0  242.0   \n",
       "3  0.03237   0.0   2.18   0.0  0.458  6.998  45.8  6.0622  3.0  222.0   \n",
       "4  0.06905   0.0   2.18   0.0  0.458  7.147  54.2  6.0622  3.0  222.0   \n",
       "\n",
       "   PTRATIO       B  LSTAT  \n",
       "0     15.3  396.90   4.98  \n",
       "1     17.8  396.90   9.14  \n",
       "2     17.8  392.83   4.03  \n",
       "3     18.7  394.63   2.94  \n",
       "4     18.7  396.90   5.33  "
      ]
     },
     "execution_count": 28,
     "metadata": {},
     "output_type": "execute_result"
    }
   ],
   "source": [
    "import numpy as np\n",
    "import pandas as pd\n",
    "\n",
    "df = pd.DataFrame(data.data, columns=data.feature_names)\n",
    "target = data.target\n",
    "\n",
    "df.head()"
   ]
  },
  {
   "cell_type": "code",
   "execution_count": 29,
   "metadata": {},
   "outputs": [
    {
     "name": "stdout",
     "output_type": "stream",
     "text": [
      "(506, 13)\n",
      "(506,)\n"
     ]
    }
   ],
   "source": [
    "print(df.shape)\n",
    "print(target.shape)"
   ]
  },
  {
   "cell_type": "markdown",
   "metadata": {},
   "source": [
    "Our training set is a matrix / dataframe with many variables (**CRI, ZN, INDUS, CHAS, NOX, RM, AGE, DIS, RAD, TAX, PTRATIO, B,** and **LSTAT**). We have **13** predictors with **506** rows/observations.\n",
    "\n",
    "Our target is a vector that represents a single variable (**MEDV**), which has exactly the same number of observations as our training set: **506**.\n",
    "\n",
    "> _Training (fit) and target datasets must always match in length!_"
   ]
  },
  {
   "cell_type": "markdown",
   "metadata": {},
   "source": [
    "### Index correspondence between target and predictors\n",
    "\n",
    "Row 0 of **`df`**, our training data, is:\n",
    "\n",
    "```\n",
    "[0.00632\t18.0\t2.31\t0.0\t0.538\t6.575\t65.2\t4.0900\t1.0\t296.0\t15.3\t396.90\t4.98]\n",
    "```\n",
    "\n",
    "This corresponds to the 0 index obersvation in our target vector:\n",
    "```\n",
    "24.0\n",
    "```\n",
    "\n",
    "These two seperate datasets (a matrix/dataframe, and a vector), are what we will use in the `.fit(predictors, target)` function in sklearn's models.  \n",
    "\n",
    "- The training data is 2D with dimensions: `n_samples x n_features`\n",
    "- The response is 1D with dimensions: `n_samples`, matching the `n_samples` of the training data."
   ]
  },
  {
   "cell_type": "markdown",
   "metadata": {},
   "source": [
    "<a id='first-model-sklearn'></a>\n",
    "\n",
    "## Fitting our 1st model with `sklearn`\n",
    "\n",
    "---\n",
    "\n",
    "Now let's fit a linear regression model with the housing data. \n",
    "\n",
    "First let's visually identify some predictors that seem to have a relationship with house value. \n",
    "\n",
    "**Plot RM and LSTAT against the target variable with seaborn.** \n",
    "\n",
    "> _Note: If for some reason scikit-learn crashes the jupyter notebook, have conda remove mkl (there's an issue with the newer build on some systems)._"
   ]
  },
  {
   "cell_type": "code",
   "execution_count": 30,
   "metadata": {
    "scrolled": true
   },
   "outputs": [
    {
     "data": {
      "text/plain": [
       "<seaborn.axisgrid.JointGrid at 0x20fed570c88>"
      ]
     },
     "execution_count": 30,
     "metadata": {},
     "output_type": "execute_result"
    },
    {
     "data": {
      "image/png": "iVBORw0KGgoAAAANSUhEUgAAA9wAAAPiCAYAAACNINXAAAAABHNCSVQICAgIfAhkiAAAAAlwSFlz\nAAAWJQAAFiUBSVIk8AAAIABJREFUeJzs3X103fldH/j3lSyNrFjxFDbQ3WamBHpybVLYQtsFP6mC\n9mwbsqfx2W1NmDnj7VAoUDqTYpVxaYCWQNN6qJ0ykzDQ6TLUqSfBpVv3KXCygQp5PG63tDy0qX37\nQELK7jbN2SWKPLIiRbr7h3yVa/lKuk+/+yC9XufkONL9/X73c3XvzPit7+f3+Zaq1WoAAACA7hrp\ndwEAAACwFwncAAAAUACBGwAAAAogcAMAAEABBG4AAAAogMANAAAABRC4AQAAoAACNwAAABRA4AYA\nAIACCNwAAABQAIEbAAAACiBwAwAAQAEEbgAAACjAgX4X0KpPf3qx2u8a9puHH55MknzmM0t9roRB\n4nNBIz4XNOJzQSM+FzSy0+fiDW+YKvW6HuiUFW4AAAAogMANAAAABRC4AQAAoAACNwAAABRA4AYA\nAIACDN2UcgD2jonLLxV6/eWzTxZ6fQCAnVjhBgAAgAII3AAAAFAAgRsAAAAKIHADAABAAQRuAAAA\nKIDADQAAAAUQuAEAAKAAAjcAAAAUQOAGAACAAgjcAAAAUACBGwAAAAogcAMAAEABBG4AAAAogMAN\nAAAABRC4AQAAoAACNwAAABTgQL8LAGBwTVx+qaXjS5PjG+ctrRRRDgDAULHCDQAAAAUQuAEAAKAA\nAjcAAAAUQOAGAACAAhiaBsCe1erQt1Ytn32y0OsDAMPNCjcAAAAUQOAGAACAAgjcAAAAUACBGwAA\nAAogcAMAAEABBG4AAAAogMANAAAABRC4AQAAoAACNwAAABRA4AYAAIACHOh3AQC0b+LyS/0uAQCA\nbVjhBgAAgAII3AAAAFAAgRsAAAAKIHADAABAAQRuAAAAKIDADQAAAAUQuAEAAKAAAjcAAAAUQOAG\nAACAAgjcAAAAUACBGwAAAAogcAMAAEABBG4AAAAogMANAAAABRC4AQAAoAACNwAAABRA4AYAAIAC\nCNwAAABQAIEbAAAACiBwAwAAQAEEbgAAACiAwA0AAAAFONDvAgBgWE1cfqnQ6y+ffbLQ6wMAxbLC\nDQAAAAUQuAEAAKAAAjcAAAAUQOAGAACAAgjcAAAAUACBGwAAAAogcAMAAEABBG4AAAAogMANAAAA\nBRC4AQAAoAACNwAAABTgQL8LAAAam7j8UqHXXz77ZKHXB4D9zgo3AAAAFMAKN0CBil6hBABgcFnh\nBgAAgAII3AAAAFAAgRsAAAAKIHADAABAAQRuAAAAKIDADQAAAAUQuAEAAKAAAjcAAAAUQOAGAACA\nAgjcAAAAUACBGwAAAAogcAMAAEABBG4AAAAowIF+FwAA9MfE5ZcKvf7y2ScLvT4ADDor3AAAAFAA\ngRsAAAAKIHADAABAAQRuAAAAKIDADQAAAAUQuAEAAKAAAjcAAAAUQOAGAACAAgjcAAAAUACBGwAA\nAAogcAMAAEABBG4AAAAogMANAAAABRC4AQAAoAAH+l0AQD9NXH6p3yUAALBHWeEGAACAAljhBgAK\nUesgKU2Ob3y9tNLV6y+ffbKr1wOAbhO4AYCh1ItbQoR6ADqhpRwAAAAKIHADAABAAQRuAAAAKIDA\nDQAAAAUQuAEAAKAAAjcAAAAUQOAGAACAAgjcAAAAUACBGwAAAAogcAMAAEABDvS7AACAQTVx+aVC\nr7989slCrw9AfwncsIcV+RfF0uR4qt/27YVdHwAAhp2WcgAAACiAFW5gYBXdygmw12mJ35mfD1A0\nK9wAAABQAIEbAAAACiBwAwAAQAHcww20rfS3X8zE0kq/ywAAgIEkcAMA9MmwD4fspP7S5PjGNXb4\nxa2hY8Cw01IOAAAABbDCDQAAQ8i2ZjD4rHADAABAAaxwU6hh/83rsNcPAAD0j8DdoWEfdjLsgW/Y\nf/7DXj8AFMl/J4Fhp6UcAAAAClCqVqv9rgEAAAD2HCvcAAAAUACBGwAAAAogcAMAAEABBG4AAAAo\ngMANAAAABRC4AQAAoAACNwAAABRA4AYAAIACCNwAAABQAIEbAAAACiBwAwAAQAEEbgAAACiAwA0A\nAAAFELgBAACgAAI3AAAAFEDgBgAAgAII3AAAAFAAgRsAAAAKIHADAABAAQRuAAAAKIDADQAAAAUQ\nuAEAAKAAAjcAAAAUQOAGAACAAgjcAAAAUACBGwAAAApwoN8FtOrTn16s9ruG/ebhhyeTJJ/5zFKf\nK2GQ+FzQiM8Fjfhc0IjPBY3s9Ll4wxumSr2qQ+Zgq3Y/f1a4AQAAoAACNwAAABRA4AYAAIACCNwA\nAABQAIEbAAAACiBwAwAAQAEEbgAAACiAwA0AAAAFELgBAACgAAI3AAAAFEDgBgAAgAII3AAAAFAA\ngRsAAAAKIHADAABAAQRuAAAAKIDADQAAAAUQuAEAAKAAAjcAAAAUQOAGAACAAgjcAAAAUACBGwAA\nAAogcAMAAEABBG4AAAAogMANAAAABRC4AQAAoAACNwAAABRA4AYAAIACHOh3AcDgG719K+PX51Ja\nXEx1aiorp2aSr//9/S6LLmr0Hq8dOdrvsnY1rHV3w9C99o99LAc//PPDU28XDct7tbXOtTc+mtHf\n+uQDdW/3ekZv38pDP/szOfDv/m2SZO0r35LlP/GOpl7roP2Mmq1n0OreTX29WVpKKdVUJ183FLXD\nsOpK4C6Xyz+S5F3bPPwzlUrlHXXHnk3yPUnenOS3k1xN8oOVSuVON2oBumdsfi6TFy9k/OaNBx5b\nP3Uq6+/6/uRrj/WhMrplp/d45diJLM2ez+r0TO8L28Ww1t0Nw/bax+bnMvpjP5qR69cztuWxQay3\nm4blvdqpzq3Wp16fkcXPPvD96uRkSktL93/zox/J5HPvzepXviWvvfuvNXytpV/8hRz+oXcPzM+o\n2fdsWN7bmmbf40GsHYZdqVqtdnyRcrn8j5L8j0n+eoOH/22lUvnZe8d9X5L3JPn1JD+X5KuSfFOS\nm0lmKpXKym7P9elPL3ZeMC15+OHJJMlnPrO0y5HsJRNXLufQ7NMpra+nmqRU91jt6+rISO5cej7L\njz3RnyLpSBHvcS/+fbGfP5vD9tqHrd5uGpbX3kydW7/e7bhGqqVS7rz3ffe91t/xDz6U0e/6zoH5\nGTX7ni2f+ZZMXP3gwNS9m51eV71BqX2n/4684Q1Tu33UukbmYKt2P3/dCtyfSPL/VSqVr93hmEeT\n/Kck/zLJH6pUKqv3vv/uJD+Q5KlKpfK+3Z7Lh7/3BO79Z2x+LofPnE5pfX3XY6sjI1m4es1vw4dM\nUe9x0f++2M+fzWF77cNWbzcNy2tvpc5uqJZKWfh7/3BzhXiQfkYt1ZPdf8GQDMbnut33uJ+1C9wM\nqnY/fx0PTSuXy69P8ruzsWq9k+/IRgv7e2ph+573JPlskm/rtBagOyYvXmj6P86l9fVMXnq24Iro\ntmF9j4e17m4Yttc+bPV207C89lbq7IZStbr5WgftZ9RSPU1ecxA+1+2+x4NQO+wV3ZhS/tX3/twt\ncE/f+/OX6r9ZqVSWs9FS/t+Xy+XDXagH6MDo7VsZv3kjzf5at5pk/NVXMnr7VpFl0UXD+h4Pa93d\nMGyvfdjq7aZhee2t1tkt46++kvGf+6cD9TNq5z1r9rhh+uewXr9rh72kG0PTaoH7vymXy/9Hkj9w\n7+tfSPKuSqVSuff1VyT5VKVSWWxwjU/c+/PN2Wg531atzYTeOXBg4/cyfvb7w8gvv5qkhd/g3/vz\n8C+/mnWTy4dCke9xkf++2M+fzWF77cNWbzcNy2tvtc5umvoHV1t67qJ/Ru2+Z80eNyz/HNbrZ+2D\n8vfOfj8/e0c3A/f3JvlHSV68973/JckfKZfLM5VK5VeTfHGSj29zjYV7f1rhhn777IPTZws9j94b\n1vd4WOvuhmF77cNWbzcNy2vv5896YWH3YxopquaifxbD9s9ht68xpEp/+8W+Pn/12769r89P93Qj\ncK8l+c0kf6pSqczVvlkulx9P8neT/FSSr00yluRz21yj9v2J3Z7M4K7eMzRtfzk4NpFDbZx3d2wi\nd31GhkKR73GR/77Yz5/NYXvtw1ZvNw3La2+3zm5YnTyUh9o4r6ifUdE/i2H757BeP2rfZWhaz+q4\nu7Tr5kmFWh7yfxfuRe1+/jq+h7tSqXx3pVL5svqwfe/7V5LMJ/macrlcTnI3yfg2l6n9e/e1TusB\nOrNyaiZJa/eo1Z/H4BvW93hY6+6GYXvtw1ZvNw3La2+1zm5aPvMtLT130T+jdt+zZo8bln8O6/W7\ndthLujE0bSf/+t6fb0ry29m+Zbz2/TZ7jIBuWTtyNCvHTrR0j9rK8ZNZO3K0yLLoomF9j4e17m4Y\nttc+bPV207C89lbr7JaV4yez8ta3DdTPqJ33rNnjhumfw3r9rh32ko4Cd7lcPlAul/9guVz+um0O\nOXjvz+Uk/z7Jl5bL5YMNjntTkvUk/6GTeoDuWJo9n+pIc/96qI6MZOncMwVXRLcN63s8rHV3w7C9\n9mGrt5uG5bW3Umc3VEulzdc6aD+jlupp8pqD8Llu9z0ehNphr+j037KjSW4k+blyuTxa/0C5XC4l\nOZ7k80l+Nckr957v1JbjJpJ8fZKPbTPBHOix1emZ3Ln43OZ/pLf+5aL2dXVkJHcuPZ/V6ZlelkcX\nDOt7PKx1d8OwvfZhq7ebhuW1N1vn1q93O66RaqmUO+993+ZrXZ2eydoLPzEwP6NW3rPldzw+MHXv\nZrfXVW/Qaoe9oqPAXalUPpfkHyf5HUn+4paHZ5N8VZKXK5XKZ5JcycaAtb9SLpfrZ2X8pSSvT/K3\nOqkF6K7lx89m4eq1rBw/+UA7WinJ+vR01j78c1l+7Il+lEcX7PYerxw/mYWr1wbuPR7Wurth2F57\nrd716emhqLebhuW92q3OrV+vv/71Db9fndx+C6XVr/y9Wfh7//CB11p98luz9uGfG5ifUbPv2Z3n\nXhiK97Zmp9dVbxBrh72gVK12Ni6jXC5/WZKbSX5nko8m+bUkvz/JTJJbSU5VKpX/996xfz3J+Xvf\n/8dJ3pLkbdlYJf/D9wL8jj796cV+zPfY10wpZ/T2rYxfn0tpcTHVqamsnJrJ1L19OX0u9oZG73E7\n9+71+t8X3ap7GA3Ta3/44cnkYx/L5z7880NRb7cNy3u1tc61Nz6a0d/65AN1b/d6Rm/fykM/+zM5\n8O/+bZJk7SvfkuU/8Y5tX2v9vy8G7WfUbD2DVvdu6uvN0lJKqaY6+bqBqn2XKeU9GzuwePG5vmaO\n5bNP9vPpaaDdz1/HgTtJyuXy70ry7iTflI39tv/vJD+b5IcrlcpC3XGlJH/23v++Isl/SfK/J/mh\n+uN2InD3nsBNIz4XNOJzQSM+FzTic0EjAvcGgXvwtPv568Y+3KlUKv9Xkj/dxHHVJO+/9z8AAADY\ns3o3mhIAAAD2EYEbAAAACtCVlnIAANjPhm2AGtAbAjcAALRpbH4ukxcvZPzmjQceWzl2Ikuz5+1p\nDfuYlnIAAGjDxJXLOXzmdMZv3sjWkdbVJOM3b+TwmdOZePkD/SgPGAACNwAAtGhsfi6HZp9OaX09\nSbJ1v6Da16X19Rw691TG5ud6WR4wIARuAABo0eTFC5thezel9fVMXnq24IqAQeQebgAAdmQg2P1G\nb9/abCPfurLdSDXJ+KuvZPT2rX39c4P9SOAGAKAhA8EaG78+l6S5sF1/3Pj1udwVuGFf0VIOAMAD\nDATbXmlxsafnAcPLCjcAAPdpdSDY2hsfGbqV7k7a5KtTU209Z7vnAcNL4AYA4D7tDARbGJLA3Y02\n+ZVTG4+3cg93qe48YP/QUg4AwKb6gWDNqB8INui61Sa/duRoVo6daOke7pXjJw1Mg31I4AYAYFMn\nA8EGWbf3zV6aPZ/qSHN/la6OjGTp3DOtFQzsCQI3AACb9upAsG7vm706PZM7F5/bDN2NVsyTjbB9\n59LzQ3ePO9AdAjcAAJv24kCwotrklx8/m4Wr17Jy/GTDFfOV4yezcPValh97oo2qgb3A0DQAADbt\nxYFgRe6bvTo9k4XpmY6mngN7l8ANAMCm2kCwRlO8GxmGgWC9aJNfO3J013AO7D9aygEAuM9eGwi2\nF9vkgeEgcAMAcJ+9NhCsvk2+GbXjBrlNHhgOAjcAAA/YSwPB7JsN9It7uAEAaGgvDQRbmj2fsTOn\nm9oabBja5OmN5bNP9rsEhpzADQDAjvbCQLBam/yh2adTWl9/YAp77ethaZMHhoOWcgAA9oW91CYP\nDAcr3AAA7Bt7qU0eGHwCNwAA+85eaJMHBp+WcgAAACiAwA0AAAAFELgBAACgAAI3AAAAFEDgBgAA\ngAII3AAAAFAAgRsAAAAKIHADAABAAQRuAAAAKMCBfhcAAEB3jN6+lfHrcyktLqY6NZWVUzNZO3K0\n32UB7FsCNwDAkBubn8vkxQsZv3njgcdWjp3I0uz5rE7P9L4wgH1OSzkAwBCbuHI5h8+czvjNG6lu\neayaZPzmjRw+czoTL3+gH+UB7GsCNwDAkBqbn8uh2adTWl9PkpS2PF77urS+nkPnnsrY/FwvywPY\n9wRuAIAhNXnxwmbY3k1pfT2Tl54tuCIA6gncAABDaPT2rYZt5NupJhl/9ZWM3r5VZFkA1BG4AQCG\n0Pj1uSQPtpFvp3Zc7TwAiidwAwAModLiYk/PA6B1AjcAwBCqTk319DwAWidwAwAMoZVTM0nS0j3c\n9ecBUDyBGwBgCK0dOZqVYydauod75fjJrB05WmRZANQRuAEAhszo7Vs5+OILWfvdX5ZqqbnIXR0Z\nydK5ZwquDIB6B/pdAAAAzRmbn8vkxQsZv3mj4ePV3D+1vPZ1dWQkdy49n9XpmeKLBGCTwA0AMAQm\nrlzOodmnU1pf3zZYb13rrrWRL517RtgG6AOBGwBgwI3Nz22G7aRxsK6plkpZ/ubHsvZVX52VUzPu\n2QboI4EbAGDATV68sBm2d1OqVjP6yd/MnedeKLgqAHZjaBoAwAAbvX0r4zdvtLT91/irr2T09q0i\nywKgCVa4AQAG2Pj1uSQPtpFvp3bc+PW53NVODh2ZuPzS5v9fPvtkHythWFnhBgAYYKXFxZ6eB0D3\nCNwAAAOsOjXV0/MA6B6BGwBggK2cmkmSlu7hrj8PgP5xDzcAwABbO3I0K8dOZPzmjaaOr+293cl2\nYKO3b2X8+lxKi4upTk3ZXgygTQI3AMCAW5o9n7Ezp5vaGqw6MpKlc8+09Txj83OZvHihYbhfOXYi\nS7Pnszo909a1AfYjLeUAAANudXomdy4+l+rIxl/dtraX176ujozkzqXn2wrFE1cu5/CZ0w23IKsm\nGb95I4fPnM7Eyx9o+doA+5XADQAwBJYfP5uFq9eycvzkA1uE1drIF65ey/JjT7R87bH5uRyafXpz\nBb3R9ZOktL6eQ+eeytj8XMvPAbAfaSkHABgSq9MzWZie6fo91pMXLzTVrp5shO7JS89mQWs5wK4E\nbgCAIbN25GjudmmI2ejtW5tt5FtXthupJhl/9ZWM3r5lkBrALrSUAwDsY+PX55I0F7brj6udB8D2\nBG4AgH2stLjY0/MA9hOBGwBgH6tOTfX0PID9xD3cAAD72MqpmSRp6R7uUt15w67bA+gA6gncAAD7\n2NqRo1k5diLjN280dXxtC7JhD6Vj83OZvHih4eteOXYiS7Pn29rPHKCelnIAgH1uafZ8qiPN/bWw\nOjKSpXPPFFxRsSauXM7hM6c3p7PXqyYZv3kjh8+czsTLH+hHecAeInADAOxzq9MzuXPxuc3Q3SiE\nJhth+86l54d65Xdsfi6HZp/e3Hd8axt97evS+noOnXsqY/NzvSwP2GMEbgAAsvz42SxcvZaV4ycb\nhtCV4yezcPValh97oh/ldc3kxQubYXs3pfX1TF56tuCKgL3MPdwAACTZWOlemJ7Zs4PERm/f2mwj\nb3ZA3Pirr2T09q098fqB3hO4AQC4z9qRo7m7BwPm+PW5JM2F7frjxq/P7cmfB1A8LeUAAOwLpcXF\nnp4HIHADALAvVKemenoegMANAMC+sHJqJsmDU9i3Uzuudh5AqwRuAAD2hbUjR7Ny7ERL93CvHD9p\nYBrQNoEbAIB9Y2n2/OZ+47upjoxk6dwzBVcE7GUCNwAA+8bq9EzuXHxuM3RvbS+vfV0dGcmdS89n\ndXqml+UBe4xtwQAAumiv7mG9lyw/fjZrjzyayUvPZvzVV+57rNZGvnTuGWEb6JjADQDQBWPzc5m8\neCHjN2888NjKsRNZmj0vwA2Q1emZLEzP+AUJUCiBGwCgQxNXLufQ7NMpra+nmtw3lKuaZPzmjYyd\nOZ07l57P8mNP9KlKGlk7cjR3BWygIAI3AEAHxubnNsN2kgcmYNe+Lq2v59C5p7L2xkcGfqXbqi9A\ndwjcAAAdmLx4YTNs76a0vp7JS89mYUADt7Z4gO4SuAEA2jR6+1bGb954oI18O9Uk46++ktHbtwZu\nxVhbPOxs4vJLD3xv+eyTfaiEYWJbMACANo1fn0vSXNiuP6523qBotS1+bH6ul+UBDC2BGwCgTaXF\nxZ6eV5R22uIB2J3ADQDQpurUVE/PK0J9W3wz6tviAdiZwA0A0KaVUzNJ0lJYrT9vEOyVtniAQSRw\nAwC0ae3I0awcO9FSWK0mGfvXv1xgVa3ZK23xAINI4AYA6MDS7PlUR5r/K1UpGajBY3uhLR5gUAnc\nAAAdWJ2eyZ2LzzXdVp4M1uCxvdAWDzCoBG4AgA6t/v4/uNku3oxBGjzWTlv8yvGTA7ePOMAgErgB\nADrU7uCx1737B3LwxRf6HrxbaYuvjoxk6dwzBVcEsDcI3AAAHWp3gNhDH/1IDr3rfL5o+uty+O1v\n7dt93Ztt8fdC99aV+trX1ZGR3Ln0fFanZ3pZHsDQErgBADrU6QCxapLxmzdy+MzpTLz8ge4U1aLl\nx89m4eq1rBw/+cBKfa2NfOHqtSw/9kQ/ygMYSgf6XQAAwLCrHzzWbFt5vdo5pfX1HDr3VNbe+Ehf\nVpFXp2eyMD2T0du3Mn59LqXFxVSnprJyasY92wBtELgBADpUGzw2fvNGx9eqTTBf6GPb9tqRo7kr\nYAN0TOAGAOiCpdnzGTtzOqX19Y6uUz/B3KpysazkA0UTuAEAuqA2eOzQ7NMpra933F4+fn3OKnNB\nxubnMnnxQsOOhJVjJ7I0e95gOKArDE0DAOiSnQaPtardyefsbOLK5Rw+czrjN280nMbe7+F1wN5i\nhRsAoIu2Dh4b+2e/kIc++pGWr9Pp5HMeNDY/t9mBkDzYgTAow+uAvcMKNwBAAdaOHM3db/+uvPaD\nP5zkwb2tt1M7rjb5nO6ZvHih6Xvsa8PrADohcAMAFKg2wbzZFvPanteGd3XX6O1bDdvIt1M/vA6g\nXQI3AEDBlmbPpzrS3F+7qiMjWTr3TMEV7T/j1+eSND/Irn54HUC7BG4AgILVJpjXQnejYV3JRti+\nc+l59w0XoN0hdIbXAZ0wNA0AoAeWHz+btUcezeSlZzP+6iv3PVZrI18690zDsG2/6M61O4TO8Dqg\nEwI3AECPbJ1gvluAtl9099SG0DW7P3rtOMPrgE4I3AAAPbZ25Gju7rJCPXHl8uYWVltDYm2/6LEz\np3Pn0vNZfuyJIsvdE2rD6xr98qIRw+uAbnAPNwDAgGl1v+ix+blelje0DK8Dek3gBgAYMPaLLobh\ndUCvCdwAAAPEftHFWn78bBauXsvK8ZMNOwdWjp/MwtVr2vSBrnAPNwDAAOlkv+jd7gtnQ6vD6wDa\nJXADAAwQ+0X3TjPD6wA6IXADAAwQ+0XDYFk++2S/S2CICdwAAAPEftGDSfs50A6BGwBggNgverCM\nzc9l8uKFhu/HyrETWZo9b5o5sC1TygEABoz9ogfDxJXLOXzmdMOp8dUk4zdv5PCZ05l4+QP9KA8Y\nAgI3AMCAsV90/43Nz+XQ7NOb+6E32kIs2dgH/dC5pzI2P9fL8oAhIXADAAwg+0X31+TFC5thezel\n9fVMXnq24IqAYeQebgCAAWW/6P4YvX1rs4282cF146++ktHbt7wvwH0EbgCgbYJgb9gvurfGr88l\naS5s1x83fn3O+wTcR+AGAFpmcjN7WWlxsafnAXuXe7gBgJaY3MxeV52a6ul5wN4lcAMATTO5mf1g\n5dRMkgenw2+ndlztPIAagRsAaJrJzewHa0eOZuXYiZbu4V45ftL8AuABAjcA0JT6yc3NqE1uzsc+\nVmRZUIil2fOb+6DvpjoykqVzzxRcETCMBG4AoCntTm4e+We/WEQ5UKjV6ZncufjcZuhuNK8g2Qjb\ndy49b0gg0JDADQA0pe0JzJ/9bHcLgR5ZfvxsFq5ey8rxkw3nFawcP5mFq9ey/NgT/SgPGAK2BQMA\nmtL2BObXv767hUAPrU7PZGF6xp7zQFsEbgCgKfWTm5tpK68dt/4N31hcUdAja0eO5q6ADbRISzkA\n0JR2JzfnLW8psiwAGFgCNwDQNJObAaB5AjcA0DSTmwGgeQI3ANASk5sBoDmGpgEALTO5GQB2J3AD\nAG0zuRkAtqelHAAAAAogcAMAAEABBG4AAAAogMANAAAABRC4AQAAoACFTCkvl8t/I8lskm+oVCpz\nWx47m+R7krw5yW8nuZrkByuVyp0iagEAAIB+6PoKd7lc/h+S/PltHvu+JH/n3vM+n+TXshG+P1Iu\nl8e7XQsAAAD0S1dXuO+F5v8tyWiDxx5N8u4kN5P8oUqlsnrv++9O8gNJ/kyS93WzHgAAAOiXbreU\nvysbreIfTfJHtjz2Hfee7z21sH3Pe5K8M8m3ReAGACjc6O1bGb8+l9LiYqpTU1k5NZO1I0f7XRbA\nntO1wF0ul786yfdlI0A/nAcD9/S9P3+p/puVSmW5XC7fTPJHy+Xy4UqlstCtmgAA+IKx+blMXryQ\n8Zs3Hnhs5diJLM2ez+r0TO8LA9ijunIPd7lcHk3yU0n+QzYCdyNfkeRTlUplscFjn7j355u7UQ8A\nAPebuHIdBxx9AAAgAElEQVQ5h8+czvjNG6lueayaZPzmjRw+czoTL3+gH+UB7EndWuH+C0m+JsnJ\nSqWyUi6XGx3zxUk+vs35tVXtw7s90cMPT7ZVIO07cGDj9zJ+9tTzuaARnwsa8bnov9Iv/kJGZ59O\naX194+utj9f+XF/PoXNP5eCR35PqN/7hQmvyuaCRQflcHJz8wjznCZ9ROtDxCne5XH5zkr+S5Mcr\nlcrNHQ4dS/K5bR6rfX+i03oAALjfyF/9kc2wvZvS+npG3vNXC64IYH/oaIW7XC6XsjGV/L9m4/7t\nndxNst3WXw/d+/O13Z7zM59Zaro+uqP2G0Y/e+r5XNCIzwWN+Fz01+jtW/mi69dTzYMr241Uk4zM\nz+cz//xfFTpIzeeCRnb6XLzhDVM9q+Pu0srm/1/2GSXtf/46XeH+7iQnk3xXpVK5s8uxv53tW8Zr\n3zcwDQCgi8avzyVpLmzXH1c7D4D2dXoP95+49+c/3ea+7X927/tvSvLvk/yhcrl8sFKp3N1y3JuS\nrGdj6BoAAF1SWmw0r7a48wD4gk4D908nmWvw/T+W5OuS/J1sTCD/TJJXknxDklNJPlI7sFwuTyT5\n+iQf22aCOQAAbapOtdcG2e55AHxBR4G7Uqn8dKPvl8vlh7MRuH+6UqnM3fvelSR/KclfKZfLv1Sp\nVGqD0v5Sktcn+Vud1AIAwINWTs0kSUv3cJfqzgOgfV3Zh7sZlUqlkuRvJDmW5FfK5fKFcrn8T5L8\nQJIbSV7sVS0AAPvF2pGjWTl2oqV7uFeOnyx0YBrAftGzwH3P9yX5c9n45ek7k/zeJO9N8ra6FW8A\nALpoafZ8qiPN/bWvOjKSpXPPFFwRwP7Q6T3cDVUqlT+f5M83+H41yfvv/Q8AgB5YnZ7JnYvP5dDs\n0ymtrz/QXl77ujoykjuXns/q9Exf6gTYa3q9wg0AQB8sP342C1evZeX4yQfay2tt5AtXr2X5sSf6\nUR7AnlTICjcAAINndXomC9MzGb19K+PX51JaXEx1aiorp2bcsw1QAIEbAGCfWTtyNHcFbIDCaSkH\nAACAAljhBgBg4Gh7B/YCgRsAgIExNj+XyYsXMn7zxgOPrRw7kaXZ86aoA0NDSzkAAANh4srlHD5z\nOuM3b6S65bFqkvGbN3L4zOlMvPyBfpQH0DKBGwCAvhubn9vcJzxJw63LkqS0vp5D557K2PxcL8sD\naIvADQBA301evLAZtndTWl/P5KVnC64IoHMCNwAAfTV6+1bDNvLtVJOMv/pKRm/fKrIsgI4J3AAA\n9NX49bkkD7aRb6d2XO08gEElcAMA0FelxcWengfQKwI3AAB9VZ2a6ul5AL0icAMA0Fcrp2aSpKV7\nuOvPAxhUAjcAAH21duRoVo6daOke7pXjJ7N25GiRZQF0TOAGAKDvlmbPpzrS3F9NqyMjWTr3TMEV\nAXRO4AYAoO9Wp2dy5+Jzm6F7a3t57evqyEjuXHo+q9MzvSwPoC0H+l0AAEArRm/fyvj1uZQWF1Od\nmsrKqRmtxXvE8uNns/bIo5m89GzGX33lvsdqbeRL554RtoGhIXADAENhbH4ukxcvZPzmjQceWzl2\nIkuz5wWxPWB1eiYL0zN+scLAmLj80q7HLJ99sgeVMIwEbgBg4E1cuZxDs0+ntL6eanLfcK1qkvGb\nNzJ25nTuXHo+y4890acq6aa1I0dzV8AGhpx7uAGAgTY2P7cZtpM8MMm69nVpfT2Hzj2Vsfm5XpYH\nANuywg0ADLTJixc2w/ZuSuvrmbz0bBa0lg8dLeTAXiRwAwADa/T2rYzfvPFAG/l2qknGX30lo7dv\nCWtDwr35wF6mpRwAGFjj1+eSNBe264+rncdgK730Uzl85vTmL1Xq1e7NP3zmdCZe/kA/ygPomMAN\nAAys0uJiT8+jd0q/+AsZ/a7vdG8+sKcJ3ADAwKpOTfX0PHpn5K/+SMv35gMMG4EbABhYK6dmkuSB\nduPt1I6rncdgGr19KyPXr7f0vtbuzQcYJgI3ADCw1o4czcqxEy3dw71y/KSBaQPOvfnAfmFKOQDQ\nVVu3d8o3/bHkLW9p+3qf/31fk7GbN5qbUj4ykqVzz7T9XPSGe/OB/ULgBgC6Ytvtnd51PuunTmXs\nnd/b8vZOY/NzOfiTP970lmB3v/O7bSE1BNybD+wXWsoBgI5NXLm84/ZOI9evt7W90+TFC80P1kpy\n4Fd/paXr0x/uzQf2C4EbAOjIQ1cu59C5p7q+vdPo7VsNA/x2DNYaHmtHjmb91Cn35gN7nsANALRl\nbH4uh9/+1rz+e/5cStXmYnEr2zsZrLW3rb/r+1Mdae6vou7NB4aVwA0AtKy+hbwVraxCG6y1t1W/\n8Q9n7YWf2AzdjW5FSDbC9p1Lz7s3HxhKAjcA0JKx+bkcmn266Xur67WyCm2w1t5XffJbs3D1WlaO\nn2x4K8LK8ZNZuHoty4890Y/yADpmSjkA0JJWBpltp5lV6PrBWs1OKS/FYK1hszo9k4XpmQe2k1s5\nNeOebWDoCdwAQNPqB5k1e291I82sQq8dOZqVYyeabls3WGu4rR05mrveO2CP0VIOADSt1UFmW7W6\nvdPS7HmDtQAYWgI3ANC0TgeStboKvTo9kzsXnzNYC4ChpKUcAGhapwPJ2lmFXn78bNYeeTSTl57N\n+Kuv3PdYLcAvnXsmq+4DBmDACNwAQNNaHWRWr5NV6O0Ga6298dGM/tYn89DP/kym/sI7M/qJjz9Y\n87ETWZo9b/UbgJ4TuAGAprU6yKxmfXo6n336L3QcemuDtcbm5zJ58cKudVSTjN+8kbEzp3Pn0vO2\nlwKgp9zDDQC0pKVBZqVSPv8TfytrH/3Frq0wT1y5nMNnTm9OS99JbRW+tL6eQ+eeytj8XFdqAIBm\nCNwADJzR27dy8MUXMnnp2Rx88YWM3r7V75Ko09Igs/e+L9Vv/dauPfdDVy7n0LmnNvcBb6WtvbS+\nnslLz3atFgDYjZZyAAbGTm3C7sMdLK0MMpvowvM120K+k2qS8VdfyejtWwapAdATAjcAA2HiyuUc\nmn06pfX1BwZyuQ93MG03yKzbk8HrPxudqH2mxq/P5a7ADUAPCNwA9N3Y/Nx9gWprm/DW+3DX3viI\nle4BUhtkVoStn41uOPgT78/ny0d9hgAonHu4Aei7yYsXmg5U7sPdX1r5bDRr9D9/MofPnM7Eyx9o\n/LgZAgB0iRVuAPpq9PatzWnTzQzAch/u/tHqZ6MVjbolzBAAoNsEbgD6avz6XJLmA5X7cPePVj8b\nrap1SyxMz5ghAHRk4vJLTR23fPbJgith0GgpB6CvSouLPT2P4VH0e1zrlnhoy1C23WYI2MsbgGYJ\n3AD0VXVqqqfnMTyKfo9rQXryxy6aIQBAIQRuAPpq5dRMko3VxmbUjqudx97V6mejXQc+8fGWPn+1\nGQIAsBuBG4C+WjtyNCvHTrR0D/fK8ZMGpu0DrX42OtHODAEA2I3ADUDfLc2eT3Wkuf8kVUdGsnTu\nmYIrYlC09NnY8mezx7fDDAEAmiFwA9B3q9MzuXPxuc1gtTUIbQapkZHcufS8rZn2kZY+G3/z/S13\nS6y96cvbqssMAQCaIXADMBCWHz+bhavXsnL8ZMMp0SvHT2bh6jVbMg240du3cvDFFzJ56dkcfPGF\nrtzr3Mpno9VuideePrfx/5usxQwBAFphH24ABsbq9EwWpmcyevtWxq/PpbS4mOrUVFZOzbhne8CN\nzc9l8uKFjN+88cBj66dOZf1d35987bG2r9/sZ6O2Ir7dnto11SR3v+O787nHz2bl6gcb1t2IGQIA\ntELgBmDgrB05mrsCzdCYqNvHemvArSYZuX49pW96ayYuPd9xh0Izn43lx89m9N9XcvCF57cN26Uk\nB3/y/VkrH8nS7PmMnTnd1NZgZggA0Aot5QBA28bm5zbDdvLganLt69L6eg6deypj83M9qengT75/\n23u5t9aUZM/MECiipR+A9lnhBgDaNnnxQlMrw8lGwJ289GwWCg6sbdV07cNZe+TRTF56NuOvvnL/\nMdloI18698zAhu2dWvpXjp3I0uz5ga0dYC8TuAFgn+r0XvnR27cyfvPGtvdJb1VNMv7qKxm9fauw\ne6A7qWlYZwjs1tI/fvNGxs6czp0utPQD0BqBGwD2mW6tho5fn0vSXLCtP278+lxh9+h3o6ZhmiHQ\nakv/2hsfsdIN0EPu4QaAfWTiyuUcPnN6cxW4Xm019PCZ05l4+QO7Xqu0uNhWDe2eV+S1i6ypSO20\nzwPQO1a4AWCf6PZqaHVqqq06Dvzy/5mDL77QtVbt+hbwA//m19u6RruvpZ8GsaUfgPsJ3ACwT3R7\nwNnKqY3Hmg18NQ999CN56KMf2bhGBwO9dmqNbyWElvKF1zJMBrGlH4D7aSkHgH2gfjW0GfWrodtZ\nO3I0K8dOtBS2H3iOFlrY6+3WGt9KCF05fnIoV3z3W/s8wDASuAFgH+hkNXQnS7PnUy21F7nb3aO7\n2db4ZlRHRrJ07pkWzhgc7bbBD2P7PMCwErgBYB8oajV0dXoma2/6iraufd/ztDDQq5XW+CQNV8CT\njbB959LzQzu1u76lvxm144axfR5gWAncALAPFLUaOnr7Vg78xn9sOvRt+zzZvYW99nyttsY3WgH/\n/Ju+PMtnviWl1+7s+pyDqtWW/mFunwcYVgI3AOwDRa2Gttqqvp1mW9jbbY3/3Nv+eO6+4/Gsfdmb\nkiQHPv4bOfihKzn0rvP5oumvy+G3v7XplvZBsjR7PtWR5v46N8zt8wDDSuAGgH2gqNXQbg/g2u16\nbT/f+lomrn4wo5/4eMf7jw+S1emZ3Ln43Gbo3qvt8wDDSuAGgH2iiNXQbg/g2vV6S0ttXXf85z/c\n9P7jw7bSvfz42SxcvZaV4ycbvraV4yezcPValh97oh/lAexr9uEGgH2ithpam/C99f7m2tetrIa2\nuxf3Vs3uh11q827xUrW585rZf3wQrU7PZGF6ZuMe9+tzKS0upjo1lZVTM+7ZBugjgRsA9pHlx89m\n7ZFHM3np2Yy/+sp9j9VWQ5fOPdN063GtVX385o2O6mq2hb06+bq2rt/sLwTqh7cNY1BdO3I0d4ew\nboC9SuAGgH2m26uhS7PnM3bmdEtbdW1VdAt7O/uPC64AdErgBoB9qluroU23qm/3/QJb2Nttde/2\nMDgA9idD0wCAju02uKt6+HBXBnq1M229Hd0eBgfA/mSFGwDoiu1a1R/6pj+WvOUtWfzn/6rnLezV\nUimlarXlFfHdhrcBQDMEbgCgq7a2qj/08GTD77er1WnrD/3My00PdWt2eBsANENLOQAwdFrZe7qI\n/ccBoBlWuAGAobS1hX3kN34jo//l/8na7/xvs/7lX571L/nSzeO6vf84ADRD4AYAhtrIf/1Uxv/J\nP2rYNr5y7ESWZs93ff9xAGiGwA0ADK2JK5d3XLkev3kjY2dO586l57P82BNd3X8cAHYjcAMAQ2ls\nfm4zbCcPTiGvfV1aX8+hc09l7Y2PZHV6pmvD2wBgN4amAQBDafLihaa2Bks2QvfkpWcLrggA7idw\nAwBDZ/T2rYzfvJFqk8dXk4y/+kpGb98qsiwAuI+WcgCgMKO3b2Xkl19NPvvZHByb6Nr90uPX55I8\n2Ea+ndpx49fnutpO7n5wAHYicAMAXTc2P5fJixfumxx+6N6ftcnhnUwELy0u9vS8rRq9vppuvD4A\n9gaBGwDoqlYnh7ejOjXV0XmdrEz34vUBsDcI3ABA17Q7ObxVK6c2ztkaeLdTO2598nU5/Pa3tr0y\n3avXB8DeYGgaANA1vZocvnbkaFaOnWjpHu7Pf8XvydS5pxoOW6utTB8+czoTL39g2+uYjA5AKwRu\nANjnRm/fysEXX8jkpWdz8MUX2p7k3evJ4Uuz51Mdae6vMtUko//pP6ZU3ahut5Xpsfm5B65hMjoA\nrdJSDgD7VLcHf/V6cvjq9EzuXHxux/upS0mqpVJSrTZf172V6YUtr31QJqMDMDyscAPAPjRx5XIO\nnzndUXv1VmOvzLdVS6PJ4c2uui8/fjYLV69l5fjJhqvWq1/5ezf/f7O2W5nu92R0AIaPFW4A2GeK\nGPw1Nj+X8Z//cFv11E8c32nV/fNf9qasfv3xrH3VV983VXx1eiYL0zMNJ48fOn9us428WdutTHc6\nGR2A/UfgBoB9pp3BX1vbqxtes8VgW2v5rk0c32m7rSQ58ImP58AnPp586EqSB9ve144cvS8g199z\n3coKd83Wlem1Nz56X927qR1XOw+A/UdLOQDsI0UM/mr1mjWlJCvHT2btyNFdV90b1rVL23ur91w/\n8BxbVqZHf+uTLV2vdlztPAD2H4EbAPaRTgZ/deuaNdVSKUvnnknS2qp7/XPtNFW83Xuna784qK28\nd3o993AD7F8CNwDsI0WExnavufLWt2W1du91Gyvkm8/fYL/rsfm5TNxrPW/5evnCyns993AD0CqB\nGwD2kSJCY7vXXD1xKkkXWr9zf9t7bQL76Cc+3t716lbe69VWvFtpx68/D4D9R+AGgH2kiNDY6TU7\nbbmub3vfei94q6pJ7rz3fQ2nsq8dOZqVYydaasdvtFIOwP4hcANAjzW7x3QRigiNnV6zWy3XpcXF\nlu8Fr1dN8toP/nCWH3ti22OWZs+nOtLcX5+qIyMNV8oB2D9sCwYAPbLTHtNbt7jqlkZ7Uy/Nns/Y\nmdNNBdNmQ2Mn16xfIW+3rTxJSkuvtb0NWHVkJHcuPb9j2E429vy+c/G5bbcvq31du163308AhovA\nDQA9sNMe07UtrsbOnG4q9DVjt3B/9zv+bA7+5I93LTR2EkRrK+SNam3G5rXvPWOrYfvzb/ry3PnR\nv9l0OF5+/GzWHnk0k5eezfirr9z3WG31funcM8I2AAI3ABRttz2mt25xtfbGRzoKa02F+39xM3e/\n87tz4Fd/pWuhsZMg2soK+Va1a2dysuVzk+Rz3/xYyz/v1emZLNQmrG/pIHDPNgA1AjcAFKyV+4pr\nW1wttBm4Wwn3B3/i/Vm4ei13/vrFroXGRkF04ku+OOvf8I1Z+F1v2vG8Oxefy6FzT6VUrbbUFl5r\nUT9Qae9e+E7uIV87cjR3BWwAtiFwA0CB6veYbiZA1m9x1U7obSvcX/tw10NjfRAdf/jeyvNnlrY9\nfmx+Lg9d/WBK1Y0Z5rv9rBq1qK9/yZfe99huasfZtguAophSDgAFanWP6fotrlpVH+6bsXX/6n6p\n7ZvdqPbtXkutjXzh6rXNe95t2wXAoLHCDQAFaneP6XbO6yTc11aje31PcrMt8ElSLZWy/M2PZe2r\nvnrbuoqYwA4A7RK4AaBA7d4f3M557Yb70X/z633ZsixpsQW+Ws3oJ38zd557YdtjbNsFDLKJyy9l\n+eyT/S6DHtJSDgAFqt9juhm149q5r7jdcD/xoSs5/Cffvm1L9/jNGzl85nQmXv5AW9ffTlEt8MuP\nn83C1WtZOX6y4Yr51lZ0ACiKFW4AKFCre0x3cl9xfbhvZS/qUpJsM6ys21uW1etGC/x2bNsFwCAQ\nuAGgYL26r7jVcN+qTrcse+B6Pbi/3bZdAPSTlnIAKFjtvuLqyMZ/drebxN2N+4qXZs9vPk+3dXuq\neS/vby/C6O1bOfjiC5m89GwOvvhC36e9AzB4rHADQA8sP342a488mslLz2b81Vfue6zWRr507pmO\n27U3h4ade2pzT+tuaaWluxmttsAPyr7Z/RowB8DwEbgBoEd6dV/x8uNnc+Bf3MzBD13p2jXrtdsK\nvlUn97f3697siSuXd5yAPn7zRsbOnM6dS88bygaAwA0AvdSroLj2VV+dFBS4u9nS3er97St/5I/m\n8Nvf2rPV5fr3q/SpT+XgT//tzc6BXg6YA2A4CdwA0AO9bkNud2L5Topo6W5l3+zlM9+S1/3IX+7J\n6vJO71czuj1gDoDhZGgaABRs4srlHD5zuqf7XNfatbsVtpPOtizbSTP7Zr/2/T+Uiasf3FwJ3211\neWx+ru16dnu/mtHtAXMADCcr3ABQoLH5uc3V26S3bcittGs3o5Mty3az2/3th9/+1qZfRyery82+\nX7vWcO/Pbg2YA2A4CdwAUKDJixd6EhQb2dqu3Y76lu5OtyxrRqN9s0dv39pcbW52mnltdbnV1fhW\n3q9mdGvAHADDSUs5ABSkPig2o4g25Fq79tqbvryt80tJPv/Io7n7v/7prH7tH+haXa0Yvz63WUsz\n6leXW9Hq+9WMQdkzHID+ELgBoCC9Coq7WZ2eyfI3P9b2+Qf+8ycz+dKL+aLpr8vht7+1o/uj29Hu\nKnGr57X6fu2kFtr7vWc4AP0lcANAQXoVFJvRjZXWoga87fq8bdbe6nnd/LkXNWAOgOEicANAQXoV\nFJtRv01Yu7o5CbwVrdbe7upyN3/uRQ6YA2B4CNwAUJBeBcVmjP2rf9nVPblrA956odUtztpZXR6b\nn8tDVz/UUl3bbRnWqwFzAAw+gRsACtKLoNiMza2uunjNXu8zvTR7PtWR5v7a0urqcm3f7bFf+5WW\nOgC22zN84eq1LD/2RAtXAmCvsi0YABSolb2wq6VS1h793Tn44gub+093Q7e3ukp6v8/01i3Otq7W\nt7t92W77bu+kOjKS5T/1p7P+JV96357hAFAjcANAgZoNiklSqlZz8ENXkg9dSZKsHDuRpdnzHbUm\nt7qHdat6uc/08uNns/bIo5m89GzGX33l/jqysbq8dO6Zln5erf4yYmuwt5INwE4EbgAo2G5BMUnD\nID5+80bGzpzuKNh1c6urRpoeNPaxj+Xgh38+pcXFjlaDV6dnsjA9s/GLhOtzHV2vnV9GlJKs/r6v\nyWvf/0Pu0QZgVwI3APTA1qA4+m9+PRM/83JK1Y27hhvdD5x8YSL42hsfaSvgFbUCXQupuw14G5uf\ny+iP/WhGrl/P2JbHOlnBXztytONW9nZ/GfG5P/kOYRuAphiaBgA9tHbkaO5++3dl9Dc/sRm2d9PJ\nRPAithhLmhvwVhtGNnL9esOJ3v3Y07veIO2TDsDeZIUbAHqs1Vbm+ongzbRN17dbl5Ze27xGs8/V\n1HG7TALfbRhZt1bwOzFI+6QDsDcJ3ADQY622Mjc7EXxsfi6TFy9k/OaNba/RzHNVt/xZ08ok8FaG\nkdVW8Bd6HLjr90lv5ZcRReyTDsDepKUcAHqsiFbmWvt2beW8Xit7S1dHRvLaD/5wVo6fbHuf6foV\n/KaeM73d07tmUPZJB2DvssINAD3W7VbmZtu3N6+TnVeulx97Inf/3DvbngTejRX8bkwhb0ZL+6Tv\n0kYPAFsJ3ADQY91uZW51L+ntVq637mHd7iTwTlbwd2qL78a+5Fs1u096M230ALCVwA0APVZrZW4U\nKhvZqZW5nQFspSSvPX0umZwsZPW43RX80crtTD77nm2Dbzf2JW9kt33SG/0yAgCaIXADQB+01Mpc\nKm3bytxu+3b1S780d7/9u+57rFtt3O2u4D907e8Xvi/5drbuk150KzsA+4PADQB9sFsrc71StZrJ\nixeydO+8+x7rwgC2brdxt7OCv/7612fks59t7vgCp5q320YPAI10JXCXy+UvTvKXk7wtyX+X5ONJ\nXkry3kql8vktx55N8j1J3pzkt5NcTfKDlUrlTjdqAYBhsVMrc72d2qk7HcA2ceXyjvcvt9vG3eow\nspHPfrawfckBBsnE5Zd2PWb57JM9qIRe6HhbsHK5PJXklSRPJflYkvclWUjybJJ/UC6XS3XHfl+S\nv3PveZ9P8mvZCN8fKZfL453WAgDDZnV6Jkvnnkl1ZPv/JG9tpx6bn9t8bH3ydS09X22rrpVTM01P\nN2/0vLupreDXXtd2W5VVR0byubf/zw2ffzv1U80BYJB1Yx/u70tyJMk7K5XKH69UKt9bqVSOJflg\nkv8pyTclSblcfjTJu5PcTPIHKpXKX6xUKm9L8sNJjiX5M12oBQCGTitTxmvt1DUTVz/Y0nPVD2Dr\n5Hmbsfz42SxcvZb16ekd9/ReKx9p6bqb12iznR4AeqUbLeVfluQ/J/nxLd//UJJvyUaY/qdJvuPe\n872nUqms1h33niTvTPJt2VgdB4A9rX4wV2nptZanjNfaqZO0dG7N8p98R1vTzZtt4946eGztx57P\nWpLPffjnGw4jO1C51UL1dTW12U4PAL3SceCuVCqPbfNQ7dfVn7r35/S9P39py/nL5XL5ZpI/Wi6X\nD1cqlYVOawKAQbTTcLJO2qlbCdtJMrL0WtvTzSff+6NZ/MmfanjMtq/vXeezfupUPv/O7204fK3b\n+5IDwKDoRkv5pnK5XCqXy19SLpf/bJIfSvLJJH/33sNfkeRTlUqlUf/XJ+79+eZu1gMAg2LiyuUc\nPnN6c1W5U6XFxY4mlLd77kPX/n7De7l3en3VJCPXr+fwmdP5/9m7+/g4qvte/J/Z1crSyrYoucFp\ng31rSLo2TsJDSImNrSiQNDW8frHSBgVwUSGBSygPqaVgFUwCJJhgB4vWJtehTkpiYiBOeuM8kYdC\nospPIU8OECNtL5jEpA2GX4llSau15N25f0izjHZnZs85c2Z2dvfzfr38kiXtzJydHWn1nfM932/T\nww+VbGtVNZcJ/t36khMREUWJ7rZgnwJw2/T/jwD4i3Q6/Yfpz1+HqerlTqxZ7dZyBzjppKSvAZK8\nhoap+zI892TH64KcaL8uDh5E7Mc/Ao4dA+bORf7dFwBLlujZd4iMHz2BuEdxMhVNp7yuItsapom5\nm+9F7v0Xvfa1Ms+vuPha86I3wbzgwpmPuf2TMC9aKV7V/JOf4O+fKsf3EXISleuiOVnZes5N/Lmo\nGboD7t8CuBdTs9mrAOxOpVJ/mU6nfwkgAeC4y3bW15s0j4eIiKqQ8aMnEFt/F2K7d8/4ehxAfsUK\n5NfdVhKwRVls/V3CxcnKsdKp8+++AMDUOZFNxVbZ1r6P2MAAcgcPAkuWTAXbnZdIFV+L3b0euaLX\nz/mQB5UAACAASURBVLzgQuS2fh7x6z7q2qLMwFSwnfv8A1X1+hMRUf3SGnCn0+kvWP9PpVIXA/g2\ngO2pVOqtAMYBuN0qmjX9cazcMY4ezfgdJkmy7jDy3JMdrwtyouO6KNcXOrZ7N4yLVkr3ha6U+NAg\nTt69WzqwdVOo7v3GhQCA1qXnO64J172tfR/AVAE0s383ZnffCMM0pYL+2MAAjv7kF6Up4R+4FInX\nvcGxL7k19kz32ql14PzdU/X4PkJOvK6L178+vEKJ45mJ0I7lJMufi8hRvf50z3AXpNPp76ZSqScA\nvAdTM95/gHvKuPV1FkwjIqpjsn2hc6fOdyzCFSWyxcnKMWMxZLrXFj7P9PQi0dkhnIpdsu0lq2CY\n8qvK4888jaadjxS2VSn6Nu6wBnuyrR3Dbe0llc7tVc2JiIiqha+AO5VKNQBoB2Ck0+l/c3jIb6c/\n/g8A/wHgXalUqjmdTo8XPW4hgDyA/+tnPEREVN1U+kIPRzzg1tEr2p5OPdq3ZcZNhsm2doxu2uyZ\nFeC17fGOv0LTN/5VekyNP9nnK02+3HnJLVrsGJATERFVEx1Vyr8NYEcqlYo7fO9MTL3XvwBgz/Tx\nVtgfkEqlmgC8E8BBlwrmRERUB+x9oUUU96OOqnh6yPc+CqngO3c5ptFnV3dheOcuTCxb7pgV4LVt\nZs3UjLfMeQeA+G9e8FVtnT20iYioHvia4U6n0ydSqdT/AXA5gJsB3GN9L5VKXQfgXADfSafTR1Kp\n1A4AtwK4I5VK/Xs6nbYKpd0KYC6Af/YzFiIiqm6qfaHdUpOjIDHQj1m75GaPrRnpsZu6gWRSOJ1a\nNRXbasklsw78xMLT0PDCIaU0efbQJiKieqJjDfdaAG0APpNKpd4N4GkAZwO4EFMz29cCQDqdTqdS\nqXsB9AI4kEqlvg1gCYCLAewFsE3DWIiIqEr56SkdVclNG6TXRxeKg912h9IxVVKxZdeBT563FA0v\nHFIaH3toExFRPfGdUp5Op/8TwDswFTC/FcDfA3gzgH8E8I50Ov1ftoffAuAGTN3g/hiAtwC4D8DF\nthlvIiKqQ6opxlFKTY4PDaJ521Yk+zYiedcdUinyFtMwkFvwP9G8bWto6fLWOnAzNvVnQfGYrc+t\ndeC5t75N+VjFhduIiIhqmZYq5el0+iUA/0vgcSaAz03/IyIiKrBSjGV7SkchNTkx0I/kpg2Oadmy\nadeGaaL50R3AozsAABNLz0empzfwauzZ1V3IzV8g1JLLuhEg+1o5FW4jIiKqZYG1BSMiIpKhspY4\nCqnJXn3D/TIBNO7fi0Rnh1Dfcb+ttETXgau8VmZrK4a/+FAhYGfLLyIiqgcMuImIKDL89JSuhHJ9\nw/0S7TvuNcOuMkMusg5c6rUyDOS+uhMYPY7WVSu1jZOIiCjqdLQFIyIi0kJ2LXGlgzOZvuF+WX3H\nizXt2I7Wzg7H9eLWDHlrZweaHn5I63hkXqvcA/8M/Pa3FRknERFRJTHgJiKiSPHTUzpMsn3D/XLq\nO15uhr14hjwx0K91TKKvFRYsQPy6j1ZsnERERJXClHIiIooc1Z7SYbDGlPjxEwD0p5G7sY7T9PVH\nMXbbnQDkZtitGfJhzVkBIq9V7K8vlhrnnDU3YPyj10fi9SYiIvKDATcREUWWSk/poHitkw5TcvN9\naPjZT5HtvKwwwy5aKdyaIQ8iiHV7reJDg4jt3i1VUC7+4mHMXtcLgGu7iYioujGlnIiIqAyvddJh\ns9Y7z1lzAwDxINZ6XOPu/gBG5c46nkomANd2ExFRteMMNxERkQddlcitGd7MTWtgJltgZMaQ3Hyf\ndCsxo+ijLGNkRHHL8I8nWqWdiIgoqhhwExERedBVidwqImatvwaAhp/9NPQUdXPOnLKP0bl2XuR4\nIoJag05ERBQkBtxEREQu7JXI/RZHc+obLtPL2i/rOUysaHd9jO5+3rAdz+85DHoNOhERURC4hpuI\niMiFn/XHQPm+4eV6WetkzbC7BatB9fPOLVqM/IoVvm9YVGoNOhERkR8MuImIiFz4Xe8s0jfc6mV9\n4vQ3BdpizGmG3RJ0P+/8utsKNxX8CnsNOhERkR8MuImIiFyorj8+/p6/wOj6DXh14EkM73pMKA07\nfuh5pWN5KTfDblHp5y01jgsuRG7r57XM5OtaE05ERBQGruEmIiJyIbv+2Hrc2Cc/LbXOOLlpAwxT\nf0K5NcOe6V7rGmzLrlNXXUttXvVhDL/uDUj2bUTjvj3C29mPW24NOhERUdQw4CYiIrIprtA9eebZ\nSDx1QGjbcuukXY8XQKXy4xe/H2O968qORXadun0t9bhk8bLJtnYMt7UXznHT5z+HhhcPCx9X9twS\nERFVGgNuIiIieFfoFp799Vgn7UZ3ETBrrLnTTxd6fPyZp5WO42ctdW7RYowvWowTqcVoFazSrnJu\niYiqTbbrqkoPgTTjGm4iIqp75Sp0G7Cth3b4PlB+nbQb3UXArBsDyc334eS289C6aqVnkbPGn+xT\nOo6OtdTlqrT7PbdERESVxhluIqIKKU5dnljRznTZChCu0A3nmW6RddJegiwCZrXzSnR2YLRvS0ml\n9PjQIOK/eUFp37rWUmdXdyE3f4Hj2m6/55aIiKjSGHATEYXMK3V5Yun5yPT0MrgIkVSFbgCTZ52D\n45d8SNuNkiCLgBW388qdOn/GtaWazn5i4Wlabw4Vr+3mTSgiIqoVDLiJiELUtGN7YTa1eLa03Gwk\n6adSoTvxq19iZPNWbYFgbtFiTCw9P5DCaXZWO69hW8Ctms4+ed5STaOayVrbTUREVCu4hpuIKCTC\nqcvTs5Fe625JDz8VunXK9PTCNERHMRX4Hz+/rfB/0W2sdl6Frymms+fe+jal7YiIiOoNA24iopBI\npS5Pz0ZSsFRneHUXOptsa0duoVhVcWAq8G/4r98V/i+6DTDzZoG9z7gI63HshU1ERCSGATcRUQjs\nqcsinGYjST/VGV7dhc7iQ4NoOPSc1PURf+GQ0rHsNwusdHaZoJ29sImIiMRxDbciFnYhIhl+Upe5\npjU49hle0TXcBvTP8KpeHyqKbxZkenqREO2FbRjIXnKpj6MTERHVFwbcklhdmIhURCV1mWaSLVgW\n1Ayvn9fZ780Cqxf27O4bYZjec+yGaWLumhswsfMRvt8REREJYEq5hKYd29Ha2eGYFmpVF27t7EDT\nww9VYnhEFGFRSV2mUpmeXpgxsbdDMxZDpnut9jGovs4n/nRh6OngfL8jIiISx4BbEKsLE5EfLE4V\nXdYMrxV0O91QBaaC7dG+LYHM6ipfH395sdQ2E+95X8nXC+9vZWa3LXy/IyIiEseAWxCrCxORHyxO\nFW3Z1V0Y3rkLE8uWO95QnVi2HMM7dwXWG131+mh46oDUNo2P/6Dk6zLvbyX75PsdERGRJ67hFmCv\nLiy6Ts6qLsw/lonIIlWcKqDUZXI32daO4bb2ihXFlL0+spdcirlrbvD13iT7/iayTyIiInoNZ7gF\n+KkuTERkiULqMpWXW7QY49dch0z3Woxfc11ogaTs9RHLjAHw994k+/4msk8iIiJ6DWe4BbC6MBHp\nkl3dhdz8BUj2bUTjvj0zvmelCWe61zLYLlJLrRi9novM9aGaym1/b9L1PsX3OyIiImcMuAWwujAR\n6VTp1OVqotKKMarnVfS5iF4fOt6bdL1P8f2OiIjIGQNuAfbqsX56nRIR2eUWLcZ4BALBqGrasb3Q\nHaL496/VmirR2YHRvi3IXn6FUnAeFtnnApS/PnS8N8nuQ2SfRERE9Bqu4RbA6sJEROGSbcXYcvut\naO3sKBQAs6t03+ig2krqeG+S3YfIPomIiOg1DLgFZXp6C4VsymF1YSIif2RbMTZvvV97QKtLkG0l\ndbw3yexDdJ9EREQ0hQG3IFYXJiIKh71VlQiZdOiw+0arPBerzZYIHe9NovuQ2ScRERFNYcAtIbu6\nC8M7d2Fi2XLHGZSJZcsxvHNXYf0dERHJU23FKEI2oPUrjLaSOt6byu2j3D7jQ4No3rYVyb6NaN62\nNbTzS0REFHUsmiaJ1YWJiIIVZIspe0AbRsE6P20lZd5nyr03WQGx177c9pE7dQHivzvsuG1ioB8t\nn74diacOlIyp0oXqiIiIooABtyJWFyYiCkYYLabC6hut+lxmPboDLffcVfL1ckFs8XtTYqAfs3u7\npSq3i76/tdy+Ds1btzjO3hdXXsffXVt2f0RERLWIKeVERBQp9lZVQQmrb7Tsc7Ee1/CbF3xXW2/a\nsb185fZLVilVbm+5/VbXYBsoLVRn/OgJ6WMQERHVAgbcREQUKSqtqmQD2rD6Rqu07nL6v/1zkWrr\nwq3ITBOz//56NN//T4IjnNp389b7pQrVxe5eL7x/IiKiWsKUciKiCmAdCG+Znl4kOjuE2mlJVSlH\n8H2ji1/bbOdlSDy5X7g1mAir2vqwS2q5VCsyAC2f+gTMk08WKvrZ8unbpW+GxAYGkDt4EHjjQokt\niYiIqh8DbiKiECUG+pHctEFqTW09slpVWbO0xUG19bkZi2H8o9ej+fOfEwvOA+wb7fXanjj9TYgf\neh6Gabo+l+L/e7FXWy++eWBvRSZzI2J2943InTrf8/qLDw06Fkgrt28AiP34R8DffERqWyIiomrH\nlHIiopAIrakVXJ9bD0TbXY3dsd53L2q/yr22Dc8/B2Aq8HZ6LrmFpxX+L8KrfZhsK7LCPgV6lMu0\nKytx7Jj6tkRERFWKM9xERCEQXlM7vT633ExjvRBtxZhd3YXc/AVI9m1E4749M/ZhBeeZ7rWBnFOZ\n9dLxFw7h2H33I5YZm/FcZj32bceq5OXYq61b56jx+48pPQ+vWXOn40mbO1d9WyIioirFgJuIKARS\na2rLrM+tRyKtqkSDc91kX9umrz2K4V0zg2JTcebYnDPHM5VdhkiPcj/V3fPvvkB5WyIiomrFgJuI\nKGCya2pFZhrJnWgfaR10vbb29mGi+zEAYPgYWqeLy3mtDZfhNYstO05L/u1vB5YsAY5mFEZERFQ/\nmrY/KPS4bNdVAY+EdOEabiKigMmuqfVan0vRouu1VWkfNnnGW9By72fKprLL8prFVm3Zll9/t+Jo\niIiIqhsDbiKigKmue/W1XpZCofO1zfT0Fgq/lWPGYjBgam01JtqjXGqcAMb/7kaYF1zoa2xERETV\nigE3EVHAVNe9+lkvS+HQ+dpardBEqq1nbr4FDc8eLHmMH6I9ysuN02ICGL/uRozdsV7jKImIiKoL\nA24iooDZ172KEJ1ppMrT/dqKtkIzpyt+q6aNO45Noke51zgBYPKsczD89W9h7E4G20REVN9YNI2I\nKGDWulfRKtKiM41UeUG8tiLV1hM//6nSeN0Kq6n0KK9UVXgiIqJqwoCbiCgEmZ5eJKarSZcjM9NI\nlRfUa+tVbV01ld1t1txPj/Iwq8ITERFVGwbcREQhsNa9zu65ybOFk8pMI1VWJV5b1TZiw19+BPHf\nHeZsNBERUUgYcBMRhSS7ugu5+QuQ7NuIxn17ZnxPx0wjVU7Yr61qKvvEyou1HJ+IiIjEMOAmIgoR\n173WrrBfWy5TICIiij4G3EREFcB1r7UrrNeWyxSIiIiij23BiIiIqpRoG7Hs5VdUYnhERER1jzPc\nREQUeUzBd8dlCkRERNHFgJuIiCIrMdCP5KYNjsXBJpaej0xPbyFVut4DTi5TICIiih4G3EREFElN\nO7Z7rk9u3L8Xic4OjH/0ejQc+KVQUE5EREQUJgbcREQUOYmB/kKwDZT2mrY+N/J5NP/vLVPFweAe\nlI/2banKdcz1PmtPRERU7RhwExFR5CQ3bRBqdwXYgm+3r+fzmN19I3Knzq+amW6ZVHoiIiKKLgbc\nRERUUcWzuLlTF6Bx/96SGWs/jHweyb6NGJYMUu1jQyYDAybMZIvwbLPKDLVoKr3orH3UZ8mjPj4i\nIiI/GHATEVFFeM3iAvqCbWA6UN23B/GhQaFgrtzYLG6zzaoz1DKp9OVm7aM+Sx718REREenAPtxE\nRBS6ph3b0drZUZjJtiv+XAcrUG3c3V/2sV5js7Nmm1s7O9D08ENC27ttY5FKpZ+etZd9DuXGEIao\nj4+IiEgXznATEVGoRGdxgxA7dAjN27a6pi+XG5vTOO2zzQDEZ6jX3ID4U7+COW+eUiq926y9zlny\nINK9dY6PiIgo6hhwExGREqdgDO98e9ntZGZxdUt+8YGSr9nTl1XHZuTzmPvhv0Hu1PniM9SmieSD\n20q/LnrM6Y+Nu/tn9N9WmSUvXtseZLq3jvERERFVCwbcREQkxSsYy69Ygfy624BzljpuGx8a1F4Q\nTYR1PK8iZJmbb1EemwkgduwYYs8elJqhLh6LyjkxRkYK/5c9v06z5LqLttnpGB8REVE14RpuIiIS\nVm7tbWz3bsQvWum69tZaQx1msG0/nlf6cnLDesfHyOxfZntdqfTmnDmF/8ue3+K17bLp3omBfqmx\n+h0fERFRteEMNxERebJSx+PPPI2mrz4Mw5wKtVXW3tpnY6Mm7JsAflmzxBMr2gtfUz2/1nZBp3v7\nHR8REVG1YcBNRESORFtjOXELxuyzsWEJO309LAaAiWXLZ6Raq55fc86cUNK9/YyPiIioGjGlnIiI\nSoi2xnJjD8bscqcuKHxfdD9+1WKwDQCmYSDTvXbG16zZbtnzO7GiPZR0bz/jIyIiqkYMuImIaAaZ\n1lhunNYGt65aida/vUxqn7UaLAclt2gxJpaeL3V+rVnyMNK9/YyPiIioGjHgJiKiGXS27TJGRnzN\nluuY4a5Vhmki2bex5OuZnl6YMbG3dzMWK8ySh5XurTo+IiKiasSAm4iICuzreHWIvXxEebbcBDDZ\nfqFwcFZv3NL2J9vaMbppc+G8OVWTB6aC2dG+LYXCdmGle6uOj4iIqBqxaBoRERXobtuV+OEPlGbL\nrcJdiYEfY/za65HYvxeJX/1SevvcG/4Y8Zd+L338amBP2x8vSrnOru5Cbv4CJPs2onHfnpLtJpYt\nR6Z77Yxg1kr3Fi2S5yfdW2V8RET0mqbtD1Z6CJGQ7bqq0kMoiwE3EREV6G6/1PC7w0pVwu0txpof\n+ByyV34Exkv/hYaXXhLefmLZcuTnvQHxb3xd8ujVxe01m2xrx3Bbe6GtmzEyAnPOHEysaHcNkjM9\nvUh0dgjdJPGb7q0yPiIiomrDgJuIiAqCaL/kd7bcyOfR/C/bpLYxDQOxo38omT2tReVes9yixSUz\n4G6sdG9rGUDxzRLrc53p3jLjIyIiqjZcGEdERAWy63jD4LrG1+3rxlSI2PDswUg9D1GVbpmVXd2F\n4Z27MLFsecnNEitzYHjnLmQvv0LrcYmIiGoRZ7iJiKhAdh1vGJyCPrevT57xFjQMHoRhmo6PqQYy\nLbMmzzpnKh37sW9rTcf2m+5dvB0u+ktgyRLf4yIiIqo2DLiJiAjAa0FS7n/+Kcyf7CsErVGXm78A\n4x+9HhMr2jG7t1vLuFXWnYfNBJD41S9LislNLD0fmZ7eiqR7Jwb6kdy0ofSGzbpe5FesQOJjN7MQ\nGhER1RUG3EREdc41SJoW5eDTBBB/8XAhrdpqaeZ73bjP7YNSWENd9NH+/cb9e5Ho7MBo35ZQ076b\ndmz3XPsd270brXv3hj4uIiKiSmLATURkU28Vk8sFSQacg8+oBOH21ljFX6tFxUG2a7p9Po/Z3TfC\nNE3EMmOBX8+JgX7PfuvF48qdOp8z3UREVBcYcBMRwXuWV2eKbpSIBknAVCGy7IcuR+6tb8OsnY8i\n8dSB0MYpQnc7syDoukkhvMY7n8fcNTeUfD2I6zm5aYNwv3Ujn0eybyOGa+zniYiIyAmrlBNR3Wva\nsR2tnR2FdGQ7K0W3tbMDTQ8/VInhBUYqSDJNxA//FuPXXIexT9wJMyb29mEaRqFqeJDMOXMCaWmm\ni86MAD8r1IO4nuNDg44/O55j2LcH8aFBLccnIiKKMgbcRFTXZFNhEwP9YQ4vMH6CJKtXsxV0u7bn\nisUwet/9GO3bEljQbW+NFcWWZhadz97PvoK4nq10fpnq6gAwt+vSmvl5IiIicsOAm4jqmkoqbC1Q\nDZKs7WR6NWdXd2Gkb4v/QbuMa2LZcuQWLS60NKvlNdw66bqeVdP5G37zQk1mjhAREdlxDTcR1S37\nLK9IkGaf5a32QmqqQZJ9u+JezbFDh9D03y/D/JM/wcQbFyB/yrzCY4+v7sLEzke09/c2YzFkutcW\nPs92XoZEFbU0qyRd17OfVH4WUSMiolrHgJuI6pafWV6Z3sRRpBokOW0Xe/kIGr/zrRnB9Ozpj/YC\nXZmeXiQ6O4QzClzHgOlq3bEYRvu2YLKtvWxrs1qiu/ia3+vZnsqvMi4WUSMiolrGlHIiqls6Znmr\nlex6Z/taaTuZgnPl1n6LKk5Z9xpDLdKdMu/3evabys8iakREVMsYcBNR3dI5y1ttZIMkA8CJ0980\nI/VYquDc31+Plt4exI68hPG//QgmzzpbOkArFGMzDBzvvAz5U+ahpbcHs7tvdB1DLdJ9U0HH9Zzp\n6RWuXF/MqZc6ERFRrWBKeY2y1lQaIyMw58zBxIr2ql9zSqSbbCqs9bjiWV4RKj+TQf8cZ3p6kbhk\nlfB65/ih5zH7puuQe+vbMLGiXa7gHIDkg9tmfG3yzLNx4u3nIvb7/0Lj9x+DYZqer0UhgDdNzP77\n6wMLrnW28NLNNAwc/9DlmLXzERj5vK+x+rmei1nZC/YbMLJqIXOEiIioGAPuGuO1jtG+lpKIXpvl\nFV33a6+ILUrlZzKsn+PJtnbkTjsdDc8/J/R4wzTR/OgO4NEdha/J3qywf5546gAannkKo31bMP6R\nazH3w3+D2LFjYmOROLaMMINtlWPlFi/ByOatyH7wQ0j2bUTjvj3Kx1e5nr1kV3chN38B5tz894i/\ncEh6+1rIHCEiIirGlPIaIrOWkoimyKTCFlfELkflZzLMn+P40CAann9OKUXZ2ka24Fzx51aV6tiL\nhxE7dkxqLPUWbJsAGp79daEX+vCux/DqwJMYXb8BY/9wG0bXb8Cx++4P7HoWMdnWjuEvP1IYr9A4\npj/qmGknIiKKGs5w1wiptZRswUJUUJwK6zQTW1wRW4TKzySAUH+OZau0O41FByOfR8vmPu37lR5H\nxI/lVFU8t2hxSYVxA9B+PcsII3OEiIioWnCGu0ZIraWcbsFCRFOyq7swvHMXJpYtdwxy7RWxRan8\nTIb9cxyVNbMmoJSCXK/KvW5BXM+ygswcISIiqiac4a4B8aHBQvqp6FpKqwULZxSIpky2tWO4rV1L\noTLVn0nr/2H9HEdlzWxUC5RFldvrVnztjt6zCQAqUkAzqMwRIiKiasOAuwbIpoU6pSUS0RSnFF1Z\nqj+TKtv4+TmWrdIehiiNJSyyz3nWzkdxIrW4EKRGtVimVUTNqbibNdOe6V7LYJuIiGoaA+4aoJoW\nGpV0UqJak9gzENqx/Pwc5xYtxuSZZyPx1AGNI1KXe93/QPy///9KDyN0MsG2Vd29tbMDo31bANP0\nnEVu3L8XienHBplC7sbKHDnpP19A7Mc/Qvbl/2arSiIiqisMuGuAalpoVNJJiWpJYqAfjd9/LLTj\nqf4cW7OiUQm2ASBWh8E2MNVbW7QX+ozCeWtumPr/9LaRLpa5ZAnyS5YgczRTmeMTERFVCIum1QB7\nWqgItmAhCk5y0wbh4MliuvxfZBuVn+OmHdvReskq4SrSYanHVHIAyNx8a6HAmFRbNNMUD9RZLJOI\niKgiGHDXAKsFi8zaT7ZgIdLPXixNhvUzqfPnOD40iOZtW5Hs24jmbVsRHxoEMN2urPtG6ZsCpF9h\nHfPHezG8cxcmzzo7sJsO9iJ7REREFB6mlNeITE8vEp0dQi2F2IKFKBiqfa1Nwyj8TPr9OfYqoHVi\n/gIYoyMMtiPC/hpOtrVjsq0diV8Fk+LPYplERESVwRnuGmG1YHFLS7Q+ZwsWouCoFjCbWHlxIeDy\n83PctGM7Wjs7XGfZG148jPgf/qA0xmKFsRj1lgiuh2kYhdcwMdCP1lUrkdx8X+DHZbFMIiKicDHg\nriHZ1V0Y3rkLE8uWOxbPmVi2HMM7d1WkUi1RPVAtYDZ5/orC/1V/jhMD/YVq1dZjg2SNZaRvCwC5\ntcc6Vetc/ch01fByN0l0Y7FMIiKicDGlvMZYLVjiQ4No3N0PY2SELViIQiLb19p6XHHhM5Wf4+Sm\nDUKp6LqM3dSNzG13AADyn7wVsZFjoR3bzgBw4vQ3If7CIdfWWAamZ+JNMxKF2SaWLcfx1V2h3iRx\nu9aIiIgoWAy4a1Ru0WKu0yMKmVXAULT6d7nCZ6I/x/ZibaEFlMlk4dixkWPhHtvGjMUwuqFvakh9\nG9G4b8+M71vn+MSZZ6N565YKjHAm+7rtMG+SsFgmERFRZTDgJiLSqBIFDFWLtflhpSZX5NjTxyte\ny+6WFRB7+QhaOztCG6PrLLttvDpukljr50WK4LFYJhERUWUw4CYi0sgqfGalCosEX36FWQirODW5\nEkW4Cu20uteWnD+nrIDZvd2hzSQ7BdBO41WuaI+Z1w9MM9RrjYiIiOQw4CYi0iy7ugu5+Qs8U5yd\ngkVVYRbCKk5NDvPYJoDsh6/B+JVXC6dGh51uPyPgNQyMX3k1sleVjlf1RoXT9SN7ranW+GBtECIi\nInkMuInIE//IVhNmAUPZYm1+FKcmh3ns3B+/EaP3bJLaphIp7xbDNNGQHnR8vVVvVNiL1VlErzWv\nHu0TS89HpqfX8SaQ6nZEVL343k+kDwNuInJU7o9s4/ZPwrzgwgqMrLqEUcBQtlibLK/U5KCPbdfw\n+/9EfMg5gHUTO3QowBF5MwE07tvjOGbVivbHP/gh18d4XWtNO7Z7pp437t+LRGcHRqfblfndjoiq\nE2+wEenHPtxEVMKrN7D1R3b8opUwvvRgJYZX1+JDg2jethXJvo1o3rYV8aFBAFPF2qwiWroZNt/L\nqAAAIABJREFUmHrdx2670zGoyvT0woyF83bS9PVHpR4ff+n3AY2kPOvVsGbZ7WIvH5HKCvBTZbxc\n+zHrcyOfx+zuG5EY6Pe1HRFVJ5H3/tbODjQ9/FAlhkdUtTjDTUQzyPyRHf/otUicPI93u0PgNetw\n4owlU8GbQLVqVQaAxsd/gPEbPgYAaPzed9G08xEYx4Zhzm3F+JVXo/lLX/As3qVD4/cfw+Tb/xzx\n3x0WSnXMveGPNR1ZndN67eSmDVLnxASUq4zLtB8z8nkk+zZiuK1deTsiqj6yN9hyp87nez+RIAbc\nRDQD/8iOnnJpvQ3PHiz8XyY9WVbjvj1I3r4OzV/5MmIjx0r3Oz3L7faHmg4N/5FG699eVvJ1t1TH\n/GmnaTy6GiMzNuNz2UJu1uPyp8yTPrbKsRr37UHj976rtJ1syj8RRQPf+4mCw5RyIiqw/3Euwv5H\nNgVDdNbB6Xtu/ATAya1bEBs55phuaN0QKP660//9EE11jA8NInbkJa3HVmEWnXHZQm5eqenlqB6r\naecjStupjJGIKovv/UTB4gw3ERX4CQSCLgxWr2RmHcrJzV+A8Y9ej9ihQ0h+8QGlfRhFH0W/7vQ9\nVeVSHY1XX0Xjv31/Rvp9JaqUFySTMz5VbgmmsJ3ysY4Nq21Xgb7sROQP3/uJgsWAm4gKwgwEqDyd\nPaRNAPEXD2NiRTsaNYwtqox8Hi2f+kSh0FtFA+1pxS3AVFuCqWynfKy5rWrbhdiXnYj04Hs/UbCY\nUk5EBWEGAlSezh7S9hkJqyVV2MJI67YH2aLnzSz6qHMsAErOt70lmJ/9iFA9VrbzMqXtKnVtEZE6\nvvcTBYsBNxEVhBkIUHlBzB4YIyOF3tlhswLg3BtPDfwYstvk587VPhvu1srLOv9htARTPdbEyotD\nGyMRVRbf+4mCxYCbiArCDASovCBmD6x9Znp6K1ZILHvFlZg88+wKHX2m4xf+BV4deBL//dzvkPnI\ntVr3bcZirq28ZHqXe+1HhOqxwhwjEVUO3/uJgsWAm4hm4B/Z0SE76+CleEZisq0dxz/w1xr2LK/h\nmadxYvEZFa0cbml84odo+MXPAOhpIVZIT4/FMNq3xbVP7WRbO0Y3bS78rLlVdy+3HxGqxwpzjERU\nWXzvJwoOA24imkHmj+zc5x/gH9kBkp118OI0I5FZM/UHU1iBr3WcWd/9Fpof3RGJgmYGgLlrbkDr\nqpXIJ1sA+Dsf1nke3rkL2cuv8HxsdnUXhnfuwsSy5Y6V10X3I0L1WGGOkYgqhzfYiIJjmGYU5hjE\nvfLKSHUNuAacdNJUS5ujRzMVHgmFKTHQj2TfRjTu21PyvYllyxH75CdgXnAhr4uAJQb60drZ4bs1\nmBmLYXjnrpI/kk5677uQeOqAr31LjQPRqBzuxIzFkFt4Ghqef055H5mb1mDstjult4sPDaJxdz+M\nkRGYc+ZgYkV7YOmaqsfyM0a+j5ATXhfRU+69P9O9NvBg2+u6eP3r54T2FjKyaTNjjiqQ7boqtGOp\nXn8MuKksviHWN7c/snldhKdpx3bM7rkJRj5fErDaP3f7njUjYZ+FTAz0o+XTt4cabFcD05g6g4bk\ne6N1rl8deDLwdY1hBue68PcFOeF1EV2V/D3DgJtkVEPAzT7cROQpt2gxxiP+x3yty67uQm7+AsdZ\nBwPAiTPeAhNA4tlfl3zPaUai5fZb0bz1fseZZq+Avh4YpokTp78J8RcOSWUVhFFEKDHQj+SmDWjc\nv7fkexNLz0emp5dpnkSkBd/7ifRhwE1EVAUm29ox3NbuOesgMiPRcvs612AbKA2u3WbPa5UJoOH5\n53DsvvuR3PZ5NBTdxHDdLuAiQuWyHBr370Wis6Mkk4GIiIgqiwE3EVEV8Zp1KDcjkRjoR/PWLdKB\nc745idh4faR8WucmlhnDH/r3IXnvBiQ/ezcM0yybsh/U7HJioL8QbNvHWDxmI5/H7O4bkTt1Pme6\niYiIIoIBNxHVpaiugw1yXC2fvl1pljo2nqmbGW6LMTICAMh8vBeTf36eazp/GEWEkps2CKe3G/k8\nkn0bMcyAm4iIKBIYcBNRXYnqOtigxxUfGvRVIM2AbUYXtR98m3PmFP4vks4flPjQIBr37xU+5yaA\nxn17EB8ajMQNJCIionrHgJuI6kZU18GGMa7G3f2+x2kUfaxF1vmfWNFe8r1KFBGyXjfRc249rnF3\nPwseERERRUCs0gMgIgqD7DrYxEB/TY3LSpHWxQQw+Za34cTC07Tut9LCqDYuQ/V10/16ExERkRoG\n3ERUF1TWwYYhrHHZU6R1MAAkfv00jNFRZD/w1xj/wAcLPayjxpz+J/rYife8L8DRyFF93XS/3kRE\nRKSGATcR1Tz7OlgR9nWwQQpzXFaKtOixRMVfeRlN3/hXNH/j68gtPF37/r2IHMtKEZdJyW58/AfK\nY9JN9nWzHueUEk9EREThY8BNRDXPzzrYIIU5rtyixZhYen5g669NAA2Hniv8Pwz2HuHlHiMqrJst\nomRft6ilxBMREdU7Fk0jopoX1XWwQY+ruKp2tvMyJJ7cL5zCLjUm20crhTusBHOdx4li0bFMTy8S\nnR1Cr5sZiyHTvTaEUREREZEIBtxEVPOiug42qHF5tRg7cfqbEH/+uUDbe0VzJbecKBUdm2xrx+im\nzZ6V7A1MBdujfVsq0taOiIiInDHgJqKaZ18HK9rLuLg1VBA9mHWMq1i5FmMNzz9XSMGuhcA4KLpu\ntui6brKru5CbvwDJvo1o3LdnxvesNPJM91oG20REVFeatj+odX/Zrqu07g9gwE1EdcBaB+s04+vE\nvg7Wa7Z4Yun5yPT0Kgc5fsblRLjFmNJo64PITQ0RQVw3k23tGG5rD+TmDxEREQXDMM0wa8r698or\nI9U14Bpw0klJAMDRo5kKj4SipNqui8RAP1ol1sEO79yF+IuHhdN4s5dfEdq48qfMcwy4WletFA7e\nyd3EsuUY3vWY8vblsgx0XDfVptp+X1A4eF2QE6/r4vWvnxPaPeORTZsZc9Qhrxlu1etPywx3KpV6\nA4A7AFwMYB6AVwE8DuCT6XT6UNFjuwCsAfBnAP4AYOf040Z1jIWIyMlkWzvGPn4LWj57NwzTLBsI\nARCbLc7nMbv7RuROna800y2zPnf8o9e7zppOnnk2Ek8dCLVYWS3yW3RMOMvA53VDRERE1cF3W7Dp\nYPunAK4FMAjgn6Y/vxzAz1Kp1Jttj70FwJenj7sFwFOYCr5/mEqlGv2OhYjISWKgH62rVmL2xvUw\nprN6nAKhiWXLMbxzF7KXX4Hkpg3C1byNfB7Jvo3K48uu7sLwzl2YWLbcdVzj1/4dmj//Oce+3SaA\nxFMHCo8nb07nD9BTdCzM64aIiIiiT8cM9x0A5gPoSafTfdYXU6nUagBfAbAJwPtTqdQCAJ8CsB/A\nu9Lp9OT04z4F4BMA/heA+zWMh4ioQCi91zCQWXsrMj29AKYLXU0HtqLFzKzezaprab3W58ZePjIj\n7dxt1pTKc3pNdRUdq8R1Q0RERNGmI+D+AIBXAPyj/YvpdHpHKpW6E8D7UqlUDFMz4A0A7raC7Wl3\nA/gYgKvBgJuINBJO7zVNJD/7GUy+4zxMtrWjcXe/4+Pd6OzdnFu0uGQfs3u7A+mdXY9m3HAxDIxf\neTWyV12tJeCd9fWvlhxDZCxR6vlNREREevlKKU+lUnFMBcx3pNNpp78GjwNonP7XNv21f7c/IJ1O\nZzE1631mKpVq9TMeIiI71fRe1R7MQfRuts+akl6GaaIh7X922Vqy0LK5r/yDncYRoZ7fREREpJev\nGe50Op3D1JrtEqlUahGARQCeT6fT2VQqdTqAI+l02ukvi99Mf/wzAD/zMyYiIkA9vTd51x0wFMNb\nXb2b7WRn20mcjpRuryULwuMI4LohIiKiaAikD/d0Cvn9mJpB/+fpL78OwAsumwxPfyw7w221CqDw\nNDRMJULw3JNd1K+L2M/3AZBP77XPUsoE6waAWRf9JWZpPh+xyazW/amwbj8YED8n1cB6Hid95g6Y\n7/0L5N99AbBkifj2P3oCcY8lC+UEed1ETdR/X1Bl8LogJ1G5LpqTrOdcj5oCuO58VykvlkqlDAAP\nALgQwM/x2truBKZSzJ1YX2/SPR4iqlPHjvnehUywnm9rkwrWhM2dq3+fEqygsLDevYJjCUrse99D\nvHsNEmefifiF74bxoyfEtlt/l6+19YFeN0RERBQJWme4U6lUA4BtAK4EcAjAqnQ6PTH97XFMreV2\nMmv641i5Yxw9mvE5SpJl3WHkuSe7qF8XzYkmzA7pWGYshmM3fRyTAZyL+LnLcDIqM7NcqOJegWNX\nggkgtns3jItWYrRvC7KXX+H62PjQIE7evdvXuQnyuomaqP++oMrgdUFOvK6L178+vCU445mJ8g+i\nmpP1+H2kev1pm+FOpVJJAN/EVLD9fwG8O51O/5ftIX+Ae8q49fVhl+8TEUmZWNEOoLTnsqogezd7\nyS1ajIml51ck4NU1qz151jkA9L0WQSk833wes7tvRGKg3/Wxqmvrw7puiIiIKBq0BNypVOqPAPwI\nwEUADgBYnk6nDxc97D8AzEulUs0Ou1gIII+pQJ2IyDfdgapb7+bhnbs8Z0LdxIcG0bxtK5J9G9G8\nbSviQ4Ouj8309MKMaV8BFAoTgBkzkPuTN1bVLLm9ar3j91Ur2cPfdUNERETVxXdKeSqVagLwHQDn\nYarl1/vT6bTT4sk9AN4NYAWAHxZt/04AB10qmBMRKcn09CLR2aGlh7WVOpz5yLXIn3YaJla0K1W2\nTgz0I7lpAxr37y353sTS85Hp6S2Z9cyfMg+Ty85HYs/uqgpagalz1vjLX1R6GNLKVTBXrSyeuWkN\nxm670+foiIiIqFromDK5G8AyTPXSXukSbAPADgA5AHekUqlZtq/fCmAuXqtmTkSkxWRbO0Y3bS7M\nDvtJabYC3fxpp2H8muuUgu2mHdvR2tnh2FfbBNC4fy9aOzvQ9PBDAF7r73xy23lorMJg20u1pJdb\nqePFZJcsWI/LfvBSH6MiIiKiauNrhjuVSr0BwPXTnw4C6E2lUk4PvSedTqdTqdS9AHoBHEilUt8G\nsATAxQD2YqrYGhGRVtnVXcjNX4Bk30Y07tvje3+qqcSJgf5Cv2bAOUUdeG39cDw9hOYHPuerv3OU\nVcvzcXu9rSULTpkKjvvBVCq5ar9vIiIiqk5+U8rfidcqj3/Y43H/CCAL4BYALwL4OwAfA/ASgPsA\n3JlOp91ahhER+TLZ1o7htnbEhwbR9PVHkdx8n3IQq5pKnNy0QTi13cjn0bx1S0234gKAEwtPw/EP\nXQ7jyBE0P7hN+HmGeQPC7fVODPQjNnxUfD+xGDLda3UNi4iIiKqEr4A7nU7vgsTfPel02gTwuel/\nREShyi1ajLHb7kTDz34qPDNZzEollhEfGiykkYv8wqzFGW0nDS8cQmbeGzD7c5ulnq/12DDOk9Pr\n3bRjeyFbwWsMhbZqrEhORERUt6qz7C0RkQ9hV/2WbSFVD8G2ZU73jYiNHJNeCw0Ef55OLDytJAW8\n3NIAOwPA5BlvYUVyIiKiOsaAm4jqzmRbO46v+oDStm5FtLyorvuuB4Y5FUKHcTNCtlBb5qbukq/J\nLA0AAPOkkzizTUREVMcYcBNRXcql1IpXqQTPquu+SS+ZYP3E6W/G8dVdM75mXxogwt5ajIiIiOoT\nA24iqkuqQbDKdrItpEiMbBq66DIC0zAwumFTyddVlwaoZEUQERFRbWDATUR1SbWPskrRNKuFlMwM\nK4NzZ9Z5mTzzbKnAd2LZcs+e7PagfPS++x3TwFWXBnBJARERUf1iwE1EdUk2CPbbR1mmUFu9VClX\nYb0OY5+4U/x8Trfkyq7uwvDOXZhYttyxD/rEsuWeBc7CzIogIiKi2uC3DzcRUdXK9PQi0dkhVATL\nbx/lybZ2jG7a7NpOyt5Cavza69H8wOekinM5jtntGNOfVyqo93NDwXodZM6nvSWXvSd74+5+GCMj\nMOfMwcSKdtebKdZjY4cOSY3fepxKVgQRERHVBgbcRFS3VIM2VdnVXcjNX4Bk30Y07tsz43vWDKsV\nTOb+LCXU69mN0zb2YzT89EnM3rhe+bn4IdtHu/A6GMaM10HmfBbLLVqM8TLZComBfiQ3bSjp2R5W\nVgQRERFVPwbcRFTX/ARtKqwZ1sbvfRdNOx+BcWwY5txWZDsvw8TKi4XGJcIKUMevvBrmvHkls7j5\nU+YBFQq47WMUfVx+7lwc+5evlLwOTjPWRmYMJgwgmURDehD5U+ZJB71NO7aXvRFTjt+sCCIiIqp+\nDLiJqO6ppBmrcps1nfXdb2Fi6fnI9PQ6pj83f+kLaPy3HyD+4mHhYxmmiYb0IIanK27HhwbRvG0r\njJERNDzztLbnFDQzFnMMtgHMDLSPHEHilz9H4qkDJY8rPrdeEgP9hWAbcM4UKIzN5XPTMDDxvouU\nA34iIiKqDQy4iYimiaQZ+1Fu1rRx/14kOjsw2rdlRuGuxC9+hqYvfVF6TbfVB3rWju1o2vlISZAf\nZeXS+d1uXNi3tX/udm6dJDdtED7XbsG4YZqY9b3vYNb3vgNALuAnIiKi2sEq5UREIRCdNTXyeczu\nvhGJgX7H7WRY+5yz5gY07t9bVa3GrLFnr/xISYDctGM7Wjs7XJ+T6Ll1Eh8alDpXhXZxy98F0zBm\nfM3+mMb9e9Ha2YGmhx8S3DMRERHVAs5wExGFQGrWNJ9Hsm8jhtvapbZz3V/Rx2qSP2XejM/L3bgo\nx35unTTu7pfar/W4xN4BGKbpuG1xwJ87dT5nuomIqGpku66q9BCqGme4iYgCpjJr2rhvD2avubHq\nZqaLmUUfpbcv6mHt9waEdW7jQ4OO3zdGRpT2awXbZR83HfATERFRfeAMNxFRwFRnTZt3fFlquyiy\nKoxnL+9C8vP3++phbb9xoXpOrO0ad/djfNHikkJ5RmZMab8yz8sK+FlIjYiIqPYx4CYiCpjqrGm1\ny5/8Oozcd3+h3VnDUweEC7cZAE6c/uYZQansjQsv8WeeRuuqla7jkb0xIHszxQr4iYiIqLYxpZyI\nKGDFadH1wIzFcOyfH5zRWzzT01soLCYifui5GQXOdN64aPrqw47p+tbnsgG0rHq9CUNERFRvOMNN\nFLIwej1TtFhp0X5SoatBuVZek23tyC08HQ2HnhPan2GaMwqc6bhxUZiRLlPgLGj1eBOGiIioHjHg\nJgqJV99g9uitbblFizGx9Pyq6oOtwgCQb2tD/tZ1yJ6ztOT78aFBNBx6Tnm9s44bFyrbOfX1Vj2+\n09p0IiIiql0MuIlC0LRje6GVkdMf74379yLR2YHRvi0lPYfrVa1lAmR6epHo7PDd4ivKMjetQeLe\nz059cjRT8n3V4nEtn/oEJt99ISZWtGu5ceF3fbafWXADwMSy5VV9LVPt/X4iIqLgMOAmCli5vsHs\n0TtTrWYCTLa1Y3TTZtcbL5Vmra02TFN6bNbjsx+8FAmPx6muW571+A8x6/EfAgAmz1gC0zCE23DZ\nx2dtJxvw515/CuKvvCwzZPexxGLIdK/Vsi8KX63+fiIiouCwaBpRwGT6Btd7j96mHdvR2tnhWsyq\ncf9etHZ2oOnhhyoxPN+yq7swvHMXJpYtj1awHYth9L77Mfy1byqNTXTW1u+6ZRNA4tmDwPRNAetr\nxY9xG1/2Q5crHTf+ysu+eqEXxuqytp2qQ63/fiIiomBwhpsoQLJ9g+u5R2+9ZAJMtrVj9JR5aPr6\no4g/exAAkJv3BiR3bK/IrPfkGW/B2KfuLpzLDIDE/r1yM8iCs7Z+12AbRR+L/1/8uWkYyF51Ncav\nvBq5RYvRvG0r8OgOhSPrSSPPdK+tymuW6uf3ExER6ceAmyhAqmtW67FHr0omwHCV/UHrlY6anzMX\nsZFj2o/pVvDLNAyMrb0V4z29Mx6f3LRBOl1bdNY27OJxhmnOuHkVZrX44+/5C5w498+5vrdG1MPv\nJyIiCgYDbqIAqa5ZrbcevbWeCRAfGkTyvs9i1q5/dVwjbQKIjRzTGgiahoHc4iVoePbXM77uNduq\n8joYACbPObdQRCo2mQUyY0hmTwDJZEnAGWbxuOLrJMyAf/LdF2L8musCPw4Fr9Z/PxERUbAYcBMF\nSHXNar316K3VTAC3GW3XdFTYZqDhPjMNOBc3K+6Dnb38CuFqyvGhQbRsWO84PjfW4+Z2XYqG37ww\n43stRY+1F5QKq3ic03USdMDPtl+1p1Z/PxERUTgYcBMFSDaFtV7/WK/FTACvVnBeDAD5uXMRO3as\n5OvWzDQAJPs2onHfHtfHWLPXuUWLPf/o90pzF9Xwmxc8n2NJ67vVXcjNX+D4HIJgv06CDvjZ9qv2\n1OLvJyIiCg8DbqIAyaaw1usf67WWCVCuwJIXE0Ds2DEMf/kRxH932HVmerit3XcvYNWbAk68tnUr\nKGV/DokfP1Fo/aVb8XUSZMDPtl+1p9Z+PxERUbgYcBMFTCaFtV7/WK+1TACZAkvFrOcf/93hsmuA\ny81ee2m+/5/Q8qlPOFb+DlJxQSnrOUysaMesx3+odx073K8TK+BP3nUHWjb3aTlO0G2//N5gITW1\n9vuJiIjCxT7cRAGzUljN2NSPm1vf4Hru0WtlAsikXUc1E8BeYMnXfp55Wst4nDTt2D4j2A6TvaCU\nnew1IELkOjn+wQ8VxiXCq8/38M5dyF5+hewwy0oM9KN11Uqc3HYeZq/rRcs9d2H2ul6c3HYeWlet\nRGKgX/sx6TW19PuJiIjCxxluohB4pbCyR++UWskEkC2w5Kbpqw/jxDuXlQRwfmc5EwP9mN19Y0WC\nbcC7oJTugmYi14nKso8TixYje8WVMEZGYGTGYMIAkkk0pAeRP2We1kDLK+2/ZG18AME+TamV309E\nRBQ+BtxEISles8q00JnKFbMKK23XL12FkgzTnLHe2au4mb0CeDmyfbaD4nSeJtvakfn4LUh+9m7v\nKuwSldpFzolsoN8wNIimHdthAkg8e7Dk+zKvh5dytQDc1saTfrXy+4mIiMLHlHKikOUWLcb4Ndch\n070W49dcx2DbJru6C8M7d2Fi2XLH4CLItF1ddBZKstY7N+3YjtbODsdUdWuWs7WzA00PP+S5P13p\n7joUnycrbbpl4/rCDQHXa+Br38Tw176p7ToRXfZh/7zh2YNIPHvQ1+tRjkwtAOtaoeDUwu8nIiIK\nH2e4iShSqj0TQLbAkhdrvXNi/17PIBQQm+XUle7uh1NBqXJp09as9tjaWzHe01v4ns7rpNyyD7fP\ng5p1tt8cES3UZa2Nr4afk2pV7b+fiIgofAy4iSiS/FTgriTZNcFeCsGbYAp4cQXwku9HoC9wcUEp\n4bRp00TLZz+DE+84b0YAq/M6sYKpk977LiSeOuB7f+VeDy+yN0e81saTftX6+4mIiMLHlHIiIs0y\nPb2F9GQdZCpoO1UAjw8NonnbVjT8/KfaxqSquKBU1NKm40ODSDx1QEvavdvrIUL15kgUbqoQERHR\naxhwExFpVm5NsCyVWU6gtJ3UrMd/6HMk7kSfY27haYX/y64p9xPAitKZdl/8eshQrQWgs4YAERER\n+ceAm4goAF4FlkSpBurGyIhnoTVdTNtH0XXGDc8/Vygo5idtOihBzBA3f/5z0r2y7bUARFiPs6+N\nJyIiospjwE1EFJDJtnYM73oMrw48idH1GzB+6WrkZ80S3l41UI+9fMRzXbQuhcrMX/8WXh14EuMf\nvqbQssvt8cBrBcXizzytdtwA06aDmCGOv3hYumq5VQtA5maEfW08ERERRQOLphERBcxeYOn4Bz+E\nVsGez2Ys5li52/Xx049r+MXPhddFyzINA9kPXY7cW99WUpk5PvisVIG3xif3q40hwLRpnVXm7ayb\nDA1P/wr5U+YJVbaW6Q9evDaeiIiIooEBNxFRiKz13W5tsOxyC08DZs1Cw7MHhfZtAJg862wkfnXA\nV8Do2porFsNo3xbHPsMqbaziLxxyPF65cQWZNq2zynwxI59H879sm/G1iaXnI9PT69g6rNy1Uvy6\nqLQfIyIiomAxpZyIKGTW+u4Tp7/JNdC01jvHB5/1TNOesU0shsmzzwUgH2xPnPN2jH/4GkyedY5j\na66JZcsxvHOXY7ANqLexOvGnCyOXNp3tvCyQ/RbP/ZsAGvfv9Uw396oFYJ2PkU2bYYyNItm3Ec3b\ntgZaVI6IiIjkcIabiCIhPjSIxt39MEZGhNJta4E1w+vE3n/aNAyYhjH1f3jPcsZe+r3SWGKvvILh\nezZNjUvhtVBdVz35zmWIH/5tpNKmY5mxQPbr2mN8Ot08d+p815nu4bb2ktcln2xB085HMHfNDSXb\neM2cExERAUC266pKD6EuMOAmoopKDPQjuWmDYwpvLQcNUv2nTROTZ7wF5kknoXHfnpnfw9QsZ6Z7\nLSbb2tG8bavSeBpePIz40CByixbPWHMuLJNROm7+lHmRS5uuRC9rq8f4sMfzs78uTTu2Y47HOWvc\nvxeJzg7XJQBEREQUDqaUE1HFeLWuEkm3rVYq/acTz/4ak+f+Ocb/6hKcOOMtmDjnHTh+8fsx/OVH\nMLzrsUIg6md9s592W4Zi8zEDplDatFc6u26V6GUt02M8MdDvWYW+eOZctiUZERER6cMZbiKqCNmg\nwS3dthqprndu2dxX8r1Z3/3WjEyA3KLFyM1fgPiLh6XH5Wdm10y2+NrOLW26EksLZCuV66hobu8x\nXi67QCo7QmDmnIiIiILDgJuIhBQHQrjoL4ElS5T3V89Bg86UZaf04Yn3vq+kGrbQvnzM7KpuW7yd\nUjq7INFgXrZSudb2YWWuDZVq8NbMea3XRCAiIooiBtxE5Ml1jfW6XuRXrEDiYzdLzzzXe9CgM2XZ\nKRNg/Mqr0fwv2wJvt2UPYK013FFq8WVRqRMg1QMb+oLucteGanaEyMw5ERER6cc13ETcyVI7AAAg\nAElEQVTkqtwa69ju3UprrP0EDbXAnrKsk5UJYM3QBtVuKzHQj9ZVK3Fy23mYva4XLffcVUh3j1qL\nL9U6AVYPbDMWKzzWSaGom+3z4u+LsB5X7gaEanZEJQrBEREREQNuInIRZGGmeg8aZANiUfZMgExP\nbyFYLLudRLutcgGs8FhDaPHl9xrOru7C2G13es5gG7aPTo/TfQNCV+o+ERERhYMBNxE5UlljLYpB\nA6QCYlH2TIByM7SFGVmJdluiAWzxMfwc0w8d13Djv31fKmiePOtsjK7fgLF/uA2Zq66BaYhtLXoD\nQjY7QnTmnIiIiILBgJuISqi0rRJtaQQwaADEU5ZVWJkAutttyQSw1jH8HlOVjmtYqX3brw5gYkU7\nMt1rMbZhE0b7tmi96RH0cgEiIiLSi0XTiKhE0IWZVKpA12LQMPn2d2D8bz+Cxsd/gAaFNl5u7JkA\nutptqRS6MwBkbloDM9kSeosvHdewjn1kV3chN38Bkn0b0bhvT8njJ5YtR6Z7rdRsv1RBtxBS94mI\niMgdA24iKhHGGutqDRp09In2qpqdP+mPMPn2czHriX+Trn5tPT526BCat22dMTY/7bbiQ4No2bAe\nkBiP9bj8vDdg/JrrlI+req51XMO6fg509xi3siOs9P7i66RQyC2k1H0iIiJyx4CbiEqEsca62oIG\nldZSTpp2bHd9zgAQO/qHqWC7qQlGNis1RmtfyS8+oDS2Yl7PWXhMCkGrjnOt4xrW/XOgs8d4EDPn\nREREpB8DbiIqYV9jHWRP5WoJGryCZKu1VKKzA6N9WzzXJpcrOmZnZLPKM9wqYytW7saA8Jgkg1Zd\n51rHNRzWz4Eq3TPnREREpB8DbiIqEeYa66gHDbKtpXKnzne9QaBSdMws+ljM/nU/Y7OTuTHgRiX4\n1HmudVzD1VJrQOfMOREREenFKuVE5CioPs5ucosWY/ya65DpXovxa66LRLAN6GuPJlvxurBPAPm5\nc8v2gfYztmKyNwYcjwf54FN3Kzod17DsPrKXXIrmbVuR7NuI5m1bhSv3ExERUW3iDDcRORJeY20Y\nmHjfRWhIDyJ/yrzIBMo6qFTmtlpLFZ8H2YrX9n3Gjh3D8JcfQfx3hxE7dAjxl34Pc9YsNP2fr2kZ\nm53sc3Y9nuRNGJ3n2qKjToDMz0Fu4WmYu+aGkn34WUdPRERE1Y0z3ETkqlwfZwAwTBOzvvcdzF7X\ni5PbzkPrqpVIDPSHPNJg+GkLVSyxZ0BpDNY+4787jPFrrsPYZz6LYw9+BSfefq62sdmp3hgA1PpK\nqx5X9Pno6EVebh8nTn8TAKDh+ecce2037t+L1s4OND38kOdYiYiIqPZwhpuIPBWvsU7s2Y3G738X\nhmlqLdIVRbraQiUG+tH4/ce0jiWo1m2q+wWm09/b2pC/dR2y5yzVOi4/2+moE+C2j3yyBXN6boJh\nToXautbRO4lqnQMiIiJyx4CbiITkFi3GiZePoOUTt4QSXESBrrZQyU0bCudMx1jiQ4NoeOZpLWOT\n/b6b4xe/H2O96zDnnW+f+sLRjNZx6dhOR3Gx4n20rlopve58WPJnQldLOiIiIgofU8qJSJjuolaR\nN3xM6uFWSG2vzK1aLM1pn4mBfrSuWomT287DrO9+y/fYnNhbYcnsd6x3na/ZVtXjhtWCy4nsa2tf\ndy6qacd2tHZ2OB6H6epERETRxxluIhISRFGrKEsM9KPl3s9IbeNUmdvPmmj7PhO/+JmvvtiiVcMr\n1Qor9vIRqecVdAsukfRtP+vORWbadbZJo/KYsk9EREFgwE1EQoIOLqJGpTWWU2VuP2uirX1OvOd9\n/vtiS1QNz/T0ItHZIfT8dbSEA6bPt8TjTUD6uG4Blf3rxpEjSPzy50g8daBk++L07SDXnQNqGSVR\n7mkfVUzZJyKiIDHgJiIhQQcXUaLaGitz8y0lf5irrk0GXqv2PeurDyv1xS60rAKQ7bxMOGjQ0U5L\nhkr2hAEgf8o8of17BVT5OXMRGyldOiBSEDDIdeeqGSUnvfddQjcLaErTju2e13ktFYEkIqLK4Bpu\nIhISRlGrqFDumT13bsnXZNcmWybPOhvDO3dh8pxzldeAG7aPTTsfkWrXpqOdliU+NIjmbVuR7NuI\n5m1bS9YwB9USDCi/Bjo2cszx3JZL304M9Ae67lz1nCSeOsC13oJkU/Zrpd0hERGFizPcRCTEHlzI\nzEJWsqiVKp2z+bJrogFg8qxzcPSH/QCA5m1bp/atNCLb2BQqZPttpyWaqhtU9oRwQCV7XOtc7nos\nsPXuftuzOX3Otd4zqabsExERyeAMNxEJsQLHqBS1CpLu2fxMTy/MmNivWzMWw9htdxQ+15WSr1Ih\n25JbtBjj11yHTPdajF9zndBrKlNdO6jsCZV1+ELHxWvnUva1FV13HlRmSE10D9AgjArzREREAANu\nIrIpl/obVHARNbpTha010da5cwpAAec10boCL5k0bN/H+tETUqm6+WQLAPnzbRw54hoA+W3H5sV+\nLv28tl5Ur0GRxzFwDHYZAxERkR0DbiKa0d959rpetNxzF2av68XJbeehddXKwtrFoIKLqAliNl91\nTbTqGnDXsYZQxC62/i6pVN2mrz0qfb4BoGVzX8k1avHbjk1oHNPnUud6d4vKNSjzuHoPHOupCCQR\nEVUW13AT1TnZKr3Z1V3IzV+AuZvvRWxgYMa+rOAi0722aoNtSxCtsVTWRKusAffS8POfonnb1uBa\nRR08iNju3dLVtY/ddz8ST+6Xb8UG50rSYQRG9uwDv+vdnchcg7LqPXCspyKQRERUWQy4ieqYbJVe\nq9jSZFs7cu+/CLmDBzHx4JfR8OyvAQC5M5Yg+8FLq3LdNlDap3ns47eg5d7PaG+NlVu0WKo3uc7A\na9bjP8Ssx38IIJhWUbEf/wiA/Ixryz9twvi116P5gc85nu9y2xdfo0EGRl4FAWVfWy+i7dlU1Hvg\nWE9FIImIqLIM0wxihVtwXnllpLoGXANOOikJADh6NFPhkZBuratWSs2cTixbjuFdjwEA/uiX+xFb\nfxdiu3eXPq7Kev56VdOePGMJDBiFmwp2Yc7me2UiqCi+YaCrx/DJ//s+xO+4XW1MsRjGr70eDU8d\nQOO+PUr7sK7R+NAgTm47T8u58jpOGBID/Uj2bXQ8J5NnnY3Erw5IB46vDjwZ6o2xKL6P+Pn9R3pE\n8bqgyvO6Ll7/+jlBrhSaYWTT5rqOObJdV1V6CJGjev0x4Kay+IZYm2QDEvsf6olf/KzsrJvuQC4o\n5VLqreeSufkWmHPnakkVdlMuHdkr8PLDjMWmen5ruHFw8le+iHj3Gt9jyZ8yD01ffxTJzfcpB5Oy\nAZXwGA0D41deDXPevMCuBSdu10c1BI5RfB9JDPSjVWLZiK6fEXpNFK8LqjwG3NHAgLuU6vXHlHKi\nOqVapbfpwS+g+ctflE5DjyKZlPrkZz8T2B/cov2qndYJx9ODmPXNb/ia+dbZYzi/YAHiUE93tve4\nzs97w9TXRLed/ti4ux/jixZrTcUv3HwBYJgmkg9um/H9MLI63NLVg6g3UA9EU/arvQgkERFVFquU\nE9Up1aJJjY//QKoCdZR7/sr0aQ7qucj0q7bY+2KPPPCga4VsUTpaRVmV7hMf/GsAPtYW28bit5K0\naFV9oX1iZtBdMmaH1yks9dI9IAhBVJgnIiKy4ww3UZ1SLZrU8OJh6QrU8aHByBVSs/dprtRzUS1a\nV6x45jvx4ycKhdFEFM8My9K5vtw+Fh2VpK2q+k6p+LLjNIo+lnzd5XXSWbncTbnnKVJvIIxxRlEQ\nFeaJiIgsDLiJ6pRqlV4IPt7+ONVALkiqKfU6n4vKDLtX2reVcmyMjEgF3IVjKMwol7tpoMoYGcHx\ni/4/AP4rSRcHVI3ffwyNu/9d00hnsr9OoksFdFENHMMeZ1TprDBPRERkYcBNVKdk+zsbAHLzFyD+\n4mHpY0Wx56/fdGW/gpxhD7PHsMxNA9mxqFyjE8uWe/Y0twKqoAJu63VqvneDZ0s5p97husgEjuWK\nBgY5TiIionrANdxEdSzT01tY91mOGYth4r3vUzpOFHv+hhmUFosPDaJlw3oAajPs5dizF0RYj5Pt\nMWy/aaBL8Vhyp79Z6nlMvKf8NSp7fmQU+op/9m7hpQKJgf6y+40PDaJ521Yk+zaiedtWX+vtLbJL\nGkTGSURERDMx4CaqY7LFlsavvNrxcW5UA7kwhBWU2lmFxU5uOw+zvvstpX2IzLBbM8MywbzXzLAb\n2bR82bE07diOpq98Sep5ND7+g7KPkz0/KgzBlpvlivHZr5nZ63rRcs9dmL2uFye3nTdVpM5HEByF\nooFERES1jgE3hSaIGRryL7u6CyObNuPEwtPKVukNK5ALQ9jPxasauQzRGXbZ7AWVVlFBLBUwYzFk\nL7kULb09mL3mBqmgWKbausz5USFzI8dtzCoV7EXJZifoqGRPRERUjxhwU+CCnKEhf6zXZu6aG9Dw\nwqEZ38v96UIcu+9+DO96bEbBpDACubDIBl2xo39Qul51FBaTnWEPo1WUclq+21gMA7mFp2HumhuQ\nfHCbchVxkbR74fNjGI7fd2M9zu9SgaDTvf0UDSQiIiJxDLgpUEHO0JA/5V6b+G9ewJyem0pem1rq\n+VvuudiZABqePah0veooLKYywx50j2HVtHynsZw4/U0AgIbnn/O9tlp05l3o/Hztm9KZECqKxxx0\nuneliwYSERHVC1Ypp8Do6jFM+vl9bbKru9C8+M2I3b0esYGBkm1Fev5GhdW/uOWTtyLx7K9dH6d6\nvcpWI3ejmi0QZI9h1Srio/dsmjGWfLIFc3puKqx79ru22jhyRPixIucnAyDR2SEUAJuGIbx+e8Z2\ntmyBMHrEV7JoIBERUT1hwE2B0d1jmPTR8dqYF1yI3AUX4uhPfqE9kAvbZFs7zNZW4cfLXK9ND35h\nahuFcVkBl45sAR09houD0nyyBbHho8LbWzcN7GOJDw2itetSra3FEgd+Lr2N1/mxMiG82mdZr1Pm\n5lvQsmG9r97hYfSIt2cn+OlxTkRERN4YcFMgwpihITW6XxsdgVylBXW9Nu3YjuYvfUF5XFHJFkgM\n9CO5aYPrTLbXeXO7aVBun6pMAIlfHdD+u8TKhEj2bUTjvj0zvlf8OiUG+n31Dg8j3Vt3j3MiIiJy\nxoCbAhHGDA2p4WtTKohzUkjbV0gvBoDjF78fY73rKh7gNO3Y7jqza/E6bwaAyTPegrFP3V0ItkX2\nqSrI61U0PT/T0yuegu6wVEBXunfQ4yQiIqLyGHBTIFiQJ7r42pSKP/O00nZe50S1UJoVgEYh2NZR\nXR0AzJNOmjGzrWOf5QR5vZbL6pBJQXdaKpBPtkiNpzjd2yt7YGLp+cj09GKyrd33OImIiKg8BtwU\nCBbkiS6+NjM17diOpq8+rLSt2znxUygt7NRdr1lQHdXVi9PvdexT6LgVvl5lUtDtrNl/GfZrxit7\nwOoMkejswPFVf4VcahHMOXMwsmkzmr72qNQ4iYiISAwDbgoEC/JEF1+b16imfZc7J7Ip6jP2HVLq\nbrlZ0GznZVqqq9tTvCcALfv0EqXrVbZCfPHsvyjrmpHpPtD0ja/P+N7E0vNx7L77EcuMVXUBRCIi\noqhhwE2BYEGe6OJr8xrV2dZy50Q1ndk0jFBSd4VmQX+yD4C+wNgYGfF1I0L4OIje9SpaWFDlerSn\ne7euWqm8jKFx/14kntyP0b4tGL/mOul9EBERkTMG3BQYFuSJrlp8bWT7TPtJ+y53TlTTmbNXXY3s\n5Ve4fl9HL23hWVDFYm9uzDlzQqkDoOt6VbqefLw2qtfjyKbNOH75Fb6XMQDyPeaJiIioPAbcFBgW\n5ImuWnptRAtEFVOdbRWZhVZN2x+/8mrH76s+RydhraG22FO8rXMe1DF0XK9e53ryzLMxec65MOfN\nKwTVsZePaHltVK/HWGbM1/bFZHrMExERUXkMuClQqoWDKHi18NqIFoga7dtSMnOsOtua/dDlnrPQ\ngN60fT/PsZifWVBV9uc2EeAxJs86G2O33enrei13rhNPHUDiqQMztikE+w6Pl3lt/HYP0JU9INpj\nnoiIiMQw4KbAyRYOovBU82sjUyDKKU1WNe0799a3CT1OR9q+3+dYLIw11MXszy23aDFO/OlCNPzm\nBe3HOX7Jpb5ntkXOtZ09yPb72vjtHqCrKnuQfcyJiIjqEQNuCo1o4SAKXzW+NjKp0U5pskFXa5dJ\n28/cfAsa0oNI/PynM254+H2OJY8JqZe6V4p35mM9mLvmBu3H9PvcVFLtRW9ciLw2fq9H2e3LCeta\nISIiqnUMuImo6simRjulyYZRrb1c2v7kGW+BARMtG9aXbDt55tlIPHXA13MseUxIvam9liQcX92F\nE/f/Ixqef07rMf08t6BT7UVeG7/Xo+z2Zcdc4T7mREREtSJW6QEQEcmSTY22p8naZXp6YcbEfg2q\nVr+ebGvH8K7H8OrAkxhdvwFj/3AbRtdvwOjadWgYehYNzx5EcT1wa72wfezluD1HO/ssqAjVOuW5\ntWsxvOsx1xTq0Q19MA09oa01Rj99t4NOtRd5bQD/16PM9q77nf4YhT7mREREtYABNxFVHb8FpixW\n2rcVpDgFvoCe6te5RYsxfs11yHSvxYnUYrTc+xmp9cKivM6NNQsqG8TLBt7G408gMdDv+v3JtnaM\n9m0pe96FjgX/fbfDSp8udxy/12O57YXGiOj1MSciIqpmDLiJqOr4LTBll13dheGduzCxbLlj4Dux\nbDmGd+4qW2VaRpCtueLpIc/vy86CyqZZmwBiv/wFWjs70PTwQ66PK3fehWfhHWZ640ODaN62Fcm+\njWjethXxoUHvfYSUPi1yHL/Xo9f2QmPU1MeciIiIphimqZo0WBmvvDJSXQOuASedlAQAHD2aqfBI\nKEoqeV3EhwZxctt50gWmXh140nPmLoxq7apjF2UaBoa/9k3P2Xiv9lc6mbEYhnfuKpsZ4HTeE7/4\nmXCfeCv4VO1XLvuayBK9/pzG5ed6tG8fT/+/9u48Lqp6/+P4GxAEFJfU1MxW9UibS6soRLb8zDZu\ni5WWN1Mru9XtSmlldbPS0kJLK1Nvy7Vrt8yKtLQ9QtGszLoteLLtttimJqiIIMzvj2G4wAyzMWfO\nLK/n49FjYubMnA8z58h8zvfz/Xw3qnXh80pwOPx+P0OJvyPwhOMCnng7Lrp0yQjbQhs7CubEdc5R\nOXqM3SFEnGCPP5qmAYg6VjU8C0e39mDnn/srweHw2RHbWzM3XwJJSv3pzi15ft9r+mYGtE58S9Yr\nD3XDsaaCLdNu6fHY9PmVo0b7/X4CAIDQIOEGEJVCsc61HayeL+xPR2ypbr7vvl2tHW33MxZvMfqz\nTnwo1isP5HgKVKQcf/6+nwCAyMFIc/Qj4QYQlQJZ57qlDc/85U8iY/V84YYdsX2Njlo+2h5ALN74\nGukNxXrlvo4nXyLh+PNXOCo5AACAEwk3gKjla53rcJXJBjJ3uOHSXFaMKrv4M5IeKd25WyIUa7K7\nuI6ndpdfosTycr9j8LRvyrQBAIBEwg0gytldJhvo3OFg5p8Hw5+R9Ejqzh2slqzJ7mmUt3bfrkos\nLw/4gkjZP/+tpB+/p0wbAAA0QsINICbYUSYb7NzhQOefB1Li7NrONZLuTbCj7VbEEqxQrcnuEmwC\nn/Tj99o9fkJQsQAAgNjFOtwAEKRg5g5L/5sv7FoPu+m6I66fXfN/qwYNDigB9Lcjtmu0PZDXrm3X\nzpJYghXKNdml0CfwAAAgvpFwA4hJSRtLlbZwntJnzVTawnlK2lga8td3zR32R8O5w5JzvnDZkkJV\nZQ1pdv5v2ZJCVY68VBX5k+uTc5/7CbAjdsCvff2NlsUSjIaj9P5wbdfcqHuoE3gAABDfKCkHEFMC\naWDWEqGYO+zv/HMrO7IH+tqVIy+Vo2PHiOkOH+o12YMts7eybB4AAEQvEm6EDWu/wmqBNjBriVCW\nHvsz/9zKjuyBvrav7WtzclR+3Q2q3ber0hbOs/ycD+Wa7DV9M1Wb0U6JO/zrUu4qs+ffMgAA4AkJ\nNywXrhFHBCdWLoQE28AsWHaUHlvZkT3Q125u+9bDhynh11+UPvXOsJ3zoawASNpYqsQdgXUpTywv\nV/rdd0jp6VF9DgEAgNAj4YalwjniiMDE2oWQYBqYlbXg97Oz9NjKjuyBvnbT7VNffEZJE65SqzCf\n86GqAAh2qkCbObMa3R+N5xAAAAg9Em5YJtwjjvBfrF0IadjAzN/k19XALNiRyGDmDu/teYBSVhWp\nqu75sSa5uEhJE64K2znvaTS+rHBFiyoAQtFtPBrPIQAAYA0Sblgm3COO8E8sXggJRQOzYAQyd1iS\nWv3wvdpOmSwpNkdAw3XO+1OdEeya2KHoNh6N5xAAALAGy4LBEi1dMgnWCXbt6Ehm19rJfq+n7eH+\nlLUlaj8iT6lPP9WiGCJFuM751MWL1H5Ensd9heJ9DXSZMV+i5RwCAADWIOGGJVoy4gjrxOqFkJY2\nMGvJmt2+1tNueOt2f90IaHJxURDRR5ZwnPOBVmcE8766pgr4+3v4Ei3nEAAAsAYl5bCEXSOO8M6u\n0murBdvArDa9jdqfc3qLG8c17did9ujDSvrhe79ij5XpFOE458NVsh7oVAGvcdTdRvo5BAAArMEI\nNyxhx5JJ8C1WL4QEOiqZIGnvob2UkX9dSEuTa/pmqio7V0k/fB9zVQS+WH3Oh7M6w9dUgWBE+jkE\nAACsQcINSwQ6D9K1XSiWTELzYvlCSEX+5PoEyRdHQoKSvvnaktLkeJ1OYfU5H+731dtUgWBEwzkE\nAABCj4QblghmxLEqa0hMLpUUSWL5QojfDcwSE1VzyKFKcPj3LgTS9Cq5uEipjz7sZ8RN9hPlI6BW\nn/N2VGdU5ziXGdtWvE47p83QrptuVcV1f5MUm+cQAAAIPRJuWCagEcfERFVMnGRxRIj1CyG+GphV\nZQ3RjoI5avX1VyEvTXZ1z27l59xtt/3EwAiolee8ndUZNX0ztXv8BFVMnKRdt06N6XMIAACEFgk3\nLBPIiOPOWXNZpzZMYv1CiKdRyZ3TZmhb8TqVFa5QYsUuSaEtTW7aPTsQsTQCWp2Tq5p5j1pyzkdS\ndUasn0MAACB0SLhhKX9GHMuWFKpy5KV2hBeX4uVCSMNRyd3jJ9SPMFpRmhxI92y311VsjYA6xlyu\nmhUrQ37OR1J1RrycQwAAoOVYFgyWa7pkUsKOHXJkZKgqOzdmkoxoUzlqtGp6HqD0WTOVsmZ1o8dc\niUrFxEkxmSiEujS5YffsYJprxeIIqGPoySobOCjk53wgy3VZ/b7G8zkEAAD8R8KNsKnpm8k6tBEk\nXi+EBLtmd3OlyYF2z2702jE+AmrFOV9z0CFq9c1XHh9zfVbhel+DOYfi7XwDACDekXADcS7eLoS4\nSpNT1pb4tb2v0uRgS9Rreh6gHbMfitlkO9RSFy+qnyff3MWSBEk1+/XQjjnzwvq++nMOJRcXKb1g\nhsfjrmrQYFXkT+ZYAAAgBjGHG0DcCWXTq2BL1Hdf9ZeISLCSNpYqbeE8pc+aqbSF83x2Y7dD06Z0\n3qoJEjf/pJS33whPYH5ydbB3TT1oyCEpZW2J2o/IU+rTT9kRHgAAsBAj3ADijqvpVXMjpoGUJoe6\nRD1comnENZCmdAmS0h6Zq6qhp0ZE/L4uFrh+TqitVduJ16pm/54RETcAAAgNRrgBxKVQddCPpO7Z\n/oqmEdeGTen8lSCpzd1/tyqkgAR0saC2VumzZlocEQAACCdGuAHErVA1jouk7tm+RNuIa7BN6ZI/\n3qCkjaW2XtgItIO9Q1LKmtW2xw0AAEKHhBtA3Gtp47hQlqhbLZgR1zIb4w22KZ3kTNbtbAgY6MUC\n13Z2xw0AAEKHhBuwEUsExY5oWJc5ZeUrUTfiGmxTOqllyXooBLt/u+MGAAChQ8IN2CCaGlZFKzsu\nZkTq2uZNj7doGnFtSXO5liTroRDs/u2Ou6U8Hf864Wi7wwIAW1SOHmN3CLAZCTcQZt7WE3Y1rEoe\nkaeds+b6bNgFd5FwMSOS1jb3Z/1qX+wcca3pm6nqfgOU/MkGv58TKZ3go7WDfbC8nXu12dmqnXKr\nNHCQDZEBAGAfupQDYRRow6rk4qJwhhf1oqn7djgEsn61N3aPuO66bWrAXcrt7gQvRWcH+2D5OvcS\nV61S0vDT4+bcAwDAhYQbCKNIWSIoaWOp0hbOU/qsmUpbOE9JG0st2U84cTHDXSDHmyeuxMnuEdfq\nnFztnnCN30m33Z3gG6rInyxHon9/aiMp7kBw7gEA0DxKyoEwiYQlgiKh3Noq0dZ922qBHm+eRNKI\n666p0yUlKG3eXJ+/T0JtrdILZqhCsv14jqYO9sHi3AMAoHmMcANh0pIlgkIhlsutGyaX/mh4MSNW\nBbt+dUORNuK6a+o0lS1dpur+A7xuF2nHc+Wo0SpbUqiqrCEeR3+rsoaobElhVPZs4NwDAMA7RriB\nMLFziaBASz5r9u8ZVSNtrHfsLtjjJtJHXKtzcrXr1qlqf8E5SnB4TvMi8XiO1A72LcW5BwCAdyFP\nuA3D2E9SqaS/m6b5gIfHR0v6m6Q+kv6QtETS7aZp7gx1LEAksXOJoFgv+WS9Y3fBHjcJkmrbtVP5\n4/+yPUltTnrBjGaT7aYi7XiOpA72ocC5BwCAdyEtKTcMo62kFyS1a+bxmyX9s26/cyV9Imfy/bph\nGCmhjAWINA2XCPJHqBpWxUPJZ7yud+xNoMebi0NSYnm5avftGuqQQiIejudowrkHAIB3IUu4DcM4\nUNK7ko5v5vEDJN0paa2kY0zTvMk0zTMk3SVpkKQrQhULEInsWiLI7rnj4WDXxYxIFujx5hLpn388\nHM/RhHMPAADvQpJwG4ZxvaRPJfWT9HYzm10pZwn7dNM0qxvcP11SuaRxoYgFiGWCyS0AACAASURB\nVGR2LBEUDyWf8bTecSAq8ifLkRBc27RI/fzj4XiOJpx7AAB4F6oR7usl/VdSjqTmWsLm1N2+2/BO\n0zQr5Rz17mcYRvsQxQNEJNcSQa6k21O3cCm0DavCVfJp99re8bDecaCqc3K1J+/coJ4bqSW/lDBH\nHs49AACaF6qmaVdKetM0zRrDMPo0s82hkn41TdPTMMN3dbd9JH3gbUcdOqQHHSSC06qV84sU732I\n/OUq1WT2VuL0aUosLm70UIKk2pwc1d4yRalDT1ZqKPY3fJg0ZXJA638nSGo9fJhae/nMXcdFx4/W\nKnHa3Upctcptm9rsbNVOuVWOoScHFXpAzh6umnmPKmnCVT7XO655dL7anD3c+pgiwe23Sy8+H/LP\nvzmW/3th0fGMFuDcQ5D4fgFPIuW4SEsPTXupVI7vuBeShNs0zdf82KyTpG+beays7pYRbsQFx9CT\nVTP0ZNV8/rkS33lbKi+X2rVT7UlDpcMPD+3ODj9ctdnZHhNiT1xJv19xPPaYkq68stkv2YmrVilh\n+OmqeXS+HJeNCSL4wDjGXK6aAw/0eTEjLBcAIoWVn78dIvH3Ccd5HOF8nXuOE0+Ubr1VjhNPsidA\nAABsEs51uJMl7WnmMdf9Pgf0tm+vCFlA8I/rCiPvvQV6HCxdMrbxfRa8z8l/vVHtS0r8WhrMkZio\n8utuULWPODp+tLY+2Za8r+2ddNWVKtuna3iWmRo4SFr6svf1juPsWLbi829OOP69CMfv48962cnF\nRUovmKGUtSWNnyupatBgVeRPjtil1Szh5dzLOOFoSfwdQWN8v4An3o6LLl3CNz1od0VVSF6nkuM7\nZgR7/IUz4d4tqbnajNZ1t7vCFAsQV1xzx9vmX+ez5NPfueOJ0+6O6LW9Y22945aw4vO3k5W/T3NJ\ntNQ4iU5dvMjr/lPWlih5RJ52zpqrypGXBvNrRi3OPQAA/iek63D78IeaLxl33V/WzOMAWqhy1GiV\nLSlUVdYQj6PRVVlDVLak0K/kIGljqRJXrWIt5CgSys8/Eljx+6QuXqT2I/I8rvPtSqLbj8hTmzum\n1Cfbrv013b/kvNDUduK1Si4u8jsGAAAQW8I5wv2lpBMNw0gzTXN3k8cOllQraVMY4wHiTnVOrspy\ncv0ql/WmJWshM/Jln1B9/pEilL9PcnGR30l02iNz/T/2bajuAAAAkSOcCfdqSSdJypb0uutOwzBS\nJZ0g6fNmOpgDCLGWlnyyFnJ0i7WS31D8PukFM/yfIiEF1CXdVd0RjRc1AABAy4SzpHyxpBpJdxiG\n0brB/bdIaidpQRhjAdACrIWMWJK0sdRjGbk3wVR3AACA+BO2EW7TNE3DMO6XNFnSBsMwlks6XNIZ\nkkokLQxXLABapio7V1Jgo3wJDZ4HRJJAp0gEg+oOAADiUzhHuCXpZknXyPn9+6+SjpA0W9IZpmk2\nt2QYgAhT0zdTtdnZAY3yVWUNoaQWESkcyTDVHQAAxKeQj3CbpvmkpCebecwh6eG6/wBEsdoptyph\n+Ol+r4VcMXFSGKICAmdlMkx1BwAA8S3cI9wAYoRj6MmqmfeoHInOf0Y8LaMkRc/azohfDadI+CPQ\nud5UdwAAEL9IuAEEzTHm8pha2xnxqaZvpqoGDQ5oioTfyTnVHQAAxLVwLgsG2CZW1h2ORLG2tjN8\ni8XPuiJ/spJH5Pk9RWL3lVcrbf4jSqitdWse6PqZ6g4AAEDCjZiWXFyk9IIZSllb4vZY1aDBqsif\nzJfhEIm1tZ3hzp/zSWcPtyGylqvOydXOgjlqm3+dX0l05chLVXXyaUqfNVMpa1Y3ei1XdUfFxEn8\n+wIAQJwj4UbMSl28yOuX55S1JUoekVf/5RlA8/w9n2oenS/HZWNCss9wj6RXjhqtmp4H+J1EU90B\nAAB8IeFGTEouLqpPDiT39XVdPyfU1qrtxGtVs39PRqKAZgRyPiVddaVqDjhAGjioRfuzqzIlmCSa\n6g4AANAcEm7EpPSCGX7NxZScSUL6rJkqI+EGPAr0fEqcPk1a+nJQ+4qUyhSSaAAAEAok3Ig5SRtL\nlbK2xO3LenMcklLWrFbSxlLKQNFidpQXW7nPYM6nxOLioM4nKlMAAECsIeFGzElZVSTJv+Sg4XYp\nq4oY0ULQ7CiDDsc+w3k+UZkCAIg1qYue8HvbytGh6YGCyMI63Ig5CTt2hPV5QOriRWo/Iq9+JLgh\nVxl0+xF5Sn36qajbZ7jOp4Yj6f5oWJmClknaWKq0hfOUPmum0hbO4z0FACCEGOFGzHFkZIT1eYgu\noS6/tqMM2up9NnyPkt95K6gYAz2fqEwJP5ZNBADAeiTciDlV2bmSFNCc04QGz0Nssiq5sKMM2qp9\nenuPrD6fqEwJr0hpTgcAQKyjpBwxp6ZvpqoGDQ5opKwqawgN02KYVeXXdpRBW7VPb++RFNjIc21O\nTsDnE5Up4RNohURycVE4wwMAIKaQcCMmVeRPliPRv8PbkZioiomTLI4Ids0TtTK5aEkZdLCs2Kev\n9ygQjsRE1d4yJeDnNaxM8Ws/TZ4H/wVTIQEAAIJDSTliUnVOrnYWzPFaMpkgZ3Kwc9Zc5ilayO55\nolaWfNtRBm3FPgN5jzypP58SElTz6Hw5hp4sba8I6DVclSmejhNPqEwJDssmAgAQXoxwI2ZVjhqt\nsiWFqsoa4nFUsypriMqWFDI/0UJ2dO9uyOqSbzvKoEO9z0DfI09c59fuy8bJcVnwS5pQmWI9O6oy\nAACIZ4xwI6ZV5+SqLCc35J2p4Zsd3bubsrrztR0N+kK9z0DfI6/76tq1Rc+nMsV6NKcDACC8SLgR\nF2r6ZrJ0UJjZ0b3b7XUtTi7sKIMO9T5DmUiFooFZ5ajRqul5gNJnzVTKmtWNHnP9LhUTJ5FsB4nm\ndAAAhBcJN4CQi5R5ouFILiryJyt5RJ5fFxdCVQYdyn2GIpFqOIreusWvRmWKlVg2EQCA8GION4CQ\ni5R5ouHofO0qg3bNPfY0V10KbRl0KPcZ6HvkiVUNzGr6Zmr3+AmqmDhJu8dPINkOAZZNBAAgvEi4\nAYRcpMwTDVdyYUeDvlDtM9D3yBMamEUXmtMBABA+lJQDCLlImicarpJvO8qgQ7XPQN4jFxqYRS+a\n0wEAED4k3ABCLpLmiYY7ubCjQV9L9+nve9QQDcyiG83pAAAIDxJuACFnR/dub0gufPP1HlX3H6Dq\nAcfI0bUrDcyiWNNqiJ33FkgSzekAALAICTeAgCVtLFXih2uk8nKlJad6/IJuR/dub+h87RvvUexK\nLi5SesEMjxfBqgYNVkX+5Li+4AQAgFVIuAH4zdOX9rZ1t02/tEfqPFHWZPeN9yi2pC5e5PU8TFlb\nouQRedo5a25IG/sBAAC6lAPwU+riRWo/Iq9+fe2GXF/a24/IU+rTT9Xfb0f3bgD/k1xcVJ9sS57n\n4ktSQm2t2k68VsnFReEMDwCAmMcINwCfAv3SXrN/z0Yj3eEoU6YMGsEK9NiJpmMtvWCG393nE2pr\nlT5rpsooLQcAIGRIuAH4FIov7VaVKTM3FcEK9NiJtmMtaWNpfUWKv6sFpKxZraSNpRF7AQEAgGhD\nSTkArxp+afdHwy/tVgumzB2QAj92ovFYS1lVJMm/ZLvhdq7nAQCAliPhBuBVpH5pZ24qghXosZP2\n0INReawl7NgR1ucBAAB3lJQDQYimOZwtFalf2q2cmxpPn288CvjYeeC+qJwH7cjICOvzAACAOxJu\nIADRNoczFCLxS7tVc1Pj8fONN8EcO4nl5VE5D7oqO7c+Jn9jT2jwPAAA0HKUlAN+isY5nKHQ8Eu7\nP1zbWfml3Yoy93j9fONNsMdOpE2p8EdN30xVDRocUOxVWUNsv1AAAEAsIeEG/BDP84Uj8Ut7qMvc\n4/nzjTfhmp8cKfOgK/Iny5Ho3596R2KiKiZOsjgiAADiCwk34Idg5gvHkkj70h7qMvd4/3zjSbjm\nJ0fKPOjqnFztLJhTf/56qt6QnOftzllzmTIBAECIkXADPkTysljhEmlf2kNZ5s7nG1+CPXYiaUpF\noCpHjVbZkkJVZQ3xWL1RlTVEZUsKVTnyUjvCAwAgptE0DfChJfOFd8fQXMjKUaNV0/MApc+aqZQ1\nqxs95vrSXjFxUlhGyFxl7p6am3nircydzze+BHPs1LZrp8Tycr+3j8R50NU5uSrLyaUDPwAAYUbC\nDfgQqcti2aHhl/b2H66Rysu1OznVli/tFfmTlTwiz69ScG9l7ny+8SfgY+f6G9Xm7r+3+FiLBDV9\nM7lQBAAtVDl6jN0hIIqQcAM+ROKyWHar6Zup2hOOliTt3l5hSwyuMndXs7OmSx+5fvZV5s7nG38C\nPXYqR14qR8eOLT7WAABA/GEON+BDJC6LBadQzE3l841PgR47zIMGAADBYIQb8CGU84URei2dm8rn\nG78CPXaYBw0AAAJFwg34IVTzhWGdlsxNjdfPl8TRKdBjh3nQAADAXyTcgB9CNV8YkSnePt/k4iKl\nF8zwOKpfNWiwKvInR/3vCAAAEAmYww34iTmcsS1ePt/UxYvUfkSex7XHHZJS1pao/Yg8pT79lB3h\nAQAAxBRGuIEAMIcztsX655tcXFQ/ii+5rz3u+jmhtlZtJ16rmv17MtINAADQAiTcQBCYwxnbYvXz\nTS+Y4dc8dcmZdKfPmqkyEm4AAICgUVIOAHEgaWOpxzLy5jgkpaxZraSNpVaGBQAAENNIuAEgDqSs\nKpLkXkbeHNd2rucBAAAgcCTcABAHEnbsCOvzAAAAQMINAHHBkZER1ucBAACAhBsA4kJVdq4kBTSH\nu+HzAAAAEDgSbgCIAzV9M1U1aHBAc7irsobExHJoAAAAdmFZMACIExX5k5U8Is+vpcEciYmqmDjJ\nr9dtuG554r6dVHvSUKnHwS0NFwAAIOqRcANAnKjOydXOgjlqm3+dEmpr5VDjruWunx2Jido5a66q\nfazBnVxcpPSCGUpZW9Lo/iRJ7QcNVkX+ZJ+vAQAAEMsoKQeAOFI5arTKlhSqKmuIW3m5q4y8bEmh\nKkde6vV1UhcvUvsReR7X9nZISllbovYj8pT69FMhjB4AACC6MMINAHGmOidXZTm5jUrBHRkZqsrO\n9WvOdnJxUf0oueS+trfr54TaWrWdeK1q9u/JSDcAAIhLJNwAEKdq+mZqdxBN0dILZvg1D1xyJt3p\ns2aqjIQbAADEIUrKAQB+S9pY6rGMvDkOSSlrVitpY6mVYQEAAEQkEm4AgN9SVhVJci8jb45rO9fz\nAAAA4gkJNwDAbwk7doT1eQAAANGMhBsA4DdHRkZYnwcAABDNaJoGAH4ItqN3tO+7qarsXElyW8O7\nOa7tXM8DAACIJyTcAOBFcnGR0gtmKGVtidtjVYMGqyJ/smVLXtm57+bU9M1U1aDBHmPyxLW2t10X\nCAAAAOxESTkANCN18SK1H5HnsSu3Q1LK2hK1H5Gn1Kefiql9+1KRP1mORP/+fDgSE1UxcZLFEQEA\nAEQmEm4A8CC5uEht86+rX2+6afm06+eE2lq1nXitkouLYmLf/qjOydXOgjn1SbenCwKSM9neOWtu\n2EfhAQAAIgUJNwB4kF4woz7h9SWhtlbps2bGxL79VTlqtMqWFKoqa4jHCwJVWUNUtqRQlSMvDXts\nAAAAkYI53ADQRNLG0vpSbn8bg6WsWa2kjaUtnqts574DVZ2Tq7Kc3EZN3VL37aTak4aqrMfBYY0F\nAAAgEpFwA0ATKauKJPmX8DbcLmVVkXa3MOm1c9/BqumbWb/vlA7pzju3V9gSC4Dw+vXXX7RgwcNa\nv/5D7dq1U717GxozZryOPfZ4n8+dMuUWvfRSoddtTj/9TE2ZckeIog0/h8Ohl156XsuWvajvvvtO\nSUmJ6tWrty666BKdeOJQv15j+fJCzZhxt8fHDjvsCC1Y8GQII5aGDDnG5zZz5jyqgQM9b/f8889q\n9uz7dMstf9fw4WeFNDYgGpFwA0ATCTt2hPV5kbJvAAjEtm1bdfXV47Rt21adeuowtW3bVm+++bom\nTrxG99xzv4YMOdHr84cOHar99ttPlZXVbo8tW/aitm7dov79B1oVfljMnDlNy5cXar/9euiss85R\nVVW1iovf1pQpk3TNNdfroosu8fkaX3+9SZI0atSflZKS0uixffftGvKYx4wZ7/H+P/74Q4WFS9Wx\n4z468MCDPG7zyy8/69FHHw55THaoHD3G7hAQI0i4AaAJR0ZGWJ8XKfsGgEAsXPiofv31F82YMVuD\nB2dLkkaOHK2xYy9RQcEMHXfcILcEsaGTTz5FJ598irY3qYh55503tXXrFp1yyv/pjDPOtvR3sNJn\nn32q5csLdfjhR+rBB+cpNTVVkjR+/FUaO/ZSLVjwiE45ZZg6d+7s9XW++mqT2rVrrwkTrg1H2Bo7\n9kqP90+a9DdJ0q23TlWnTp5jnjlzmnbvpsIJaIimaQDQRFV2riT37tvNcW3nel607hsA/FVRUaHX\nXntFhpFZn2xLUufOXXT++Rfp999/03vvrQn4dcvKtuu+++5R+/bt9be/3RjKkMOuuPhtSdLo0ZfX\nJ9uStM8+nXTOOeeqqqpKH330gc/X+eabr3XIIYdaFqc/VqxYrjVrVmn48LN0/PGDPG7zyivL9P77\n7+mEE7LCHB0Q2RjhBoAmavpmqmrQYKWsLfFre1dX7lA0LbNz30CkmjbtDq1c+bKWL39dDz00WyUl\nq5SQkKj+/Qdo/Pir3ZKR6upqPfPMv/Taayu0efNPSk9vo2OPPV7jxl2lHj32b7Tt9u3btXjxP7Vm\nzSr98svPkqTu3XvotNOGaeTI0WrVyvlVacWK5Zo+faruvPNevfxyoT7++CN17LiP5sx5VF27dtOi\nRY/r3Xff1o8//qCUlNbKzDxMI0eO1jHHHNdof1u2bNETTyzQ2rUl2rZtq/bZp5MGDRqsMWOuaDTS\n+dhj8/XEEwu1ePFSvfrqK3rttRX6449t6tGjp84/f4Ty8s532/aBBx7R/PkP66uvvlS3bt312GP/\nUnp6utv76drel9WrP2z2sS+++ExVVVUe5/EOGOC87+OP1ysnwGUBn3zyMZWXlyk//ya1b9+h0WPX\nXHOFPv74I6/zhyXp558364ILztbo0ZerV68+evzxBdq8+Sd17dpVZ599ri68cKQSE72PObn25U3/\n/gP10EMLmn382GOPV+vWqcrMPMztMdfIf0WF99Hg3377VeXlZerVq7fX7VyazhlPSUlRv379NXbs\nlerTp69fr9FUZWWlFix4RGlp6c2Osm/ZskVz587W6aefqd69+wR1sQWIVSTcAOBBRf5kJY/I82t5\nLkdioiomToqJfQORLD//Om3btlVnnHG2fvvtNxUXv6MNG9Zr7twF6t27jyRp7969uuGG67R+/QfK\nzDxc5547Qn/8sU3vvPOm1q1bq4cemq9DDuklSdq5c6euuOLP+vXXXzRkSI6ys3O1ffsfevfdd7Rg\nwSMqLy/XNddc3yiGBx64T507d9b551+ozZt/Uo8e++v+++9RYeHz6t9/oM4770Lt2rVTb731uvLz\nr9Xs2Q/XJ4c//fSjJkwYq23btuqYY47TSSedoq+/3qSXXnpBq1cX65FH/uF2QeDOO2/Tr7/+rBNP\nHKqkpCS9/vpK3X//vUpLS9f//d9wt20POOBAnXfehaqo2OUx2ZakAQOObvFn8dNPP0qSevTo4fZY\n9+7dJUk//PB9QK/588+bVVi4VN2799BZZ+W5PT58+FkaMOBode++n1+v9957a/TUU08oK2uIjjvu\neK1ZU6KHH35A33zzlc9GbK59eeMrjmOPPUHHHnuCx8dW1TXIPPhg7yPXrvnbe/fu1c0336BPP/1E\ne/bs0ZFHHqVx467SYYcd0Wj7u+/+u157bYUOPvgQ5eWdq927K/XOO2/oqqvG6r77HtDRRx/rdX+e\nLFnytLZs+V2XXTZOHTvu43GbgoJ7lZycrGuv/ZteffWVgPcBxDISbgDwoDonVzsL5qht/nVKqK11\nW6bL9bMjMVE7Z81VdYCjOJG6byCSlZeX6ckn/60OHZwjn0VFb+nWWyfrwQfvrx9pXLLkaa1f/4FG\njhytCROuVUKC8+y54IKLdNVVl+uee+7UwoWLJEkvvrhUmzf/pMmTb22U4I0ZM14XX3yu3njjVbeE\nu1WrVnrkkcfqS4R37dqpZctedBvtPOusPI0bN1ovvPBcfcI9c+Y0bdu21W1/L764VAUF92rmzGl6\n8MF5br/zU089p44dO0qSTj11mCZMGKtly150S7i7du2qOXMe9Tl6O3DgMV5HiP1RXl4mSWrb1r1/\nRNu2bSU5L2gEYunSZ1RdXa0LL7y4vrKgoUA7Xn/55UZdffVfNXLkpZKk8eOv1vXXX62VK1/W6aef\n6fU9sLK79sqVL+vTT/+jQw45VEceeZTXbb/66itJUmHh8zruuEEaPvws/fjjDyopKdaGDet1772z\n6ku83377Tb322gqdeuowTZlyR/17eOmll2ncuNG6++6/a8mSl5ScnOx3rNXV1Xr++WeVktJa5513\nocdt3nrrda1aVaSpU6erXbv2fr82EC+Yww0AzagcNVplSwpVlTXEbZkuVyl32ZJCVdZ9mYuVfQOR\n6s9/HlufbEtSbu7JOuqo/vr444/022+/SpJefvkltW3bVldccXV9si1JffsepqFDT1Vp6Rf65puv\nJUnHH3+CbrjhZp1++pmN9tO1azftt18Pbd/+h1sMJ5yQ1Wg+bm2tQw6HQ7/++ot+/fWXRvt79tlC\n3XHHNEnO0uD16z9Qv34D3EZv//Sn85WZeZjWr/9AP/+8udFjZ5xxdn2yLUlHHtlPbdtmeBw9zsk5\nyWeyHSp79+6VJCUnuzdFc91XVVXl9+vt3r1br7yyXO3atdcZZ5wTkhi7deuuESMurv85LS1N48dP\nkCS98carIdlHoD74YJ3uu2+6WrVqpcmTb/P5eTkcterWrbtuv/0uzZo1V1dffZ2mT79PDzzwiGpr\nazV9+lTt2bNHkvPYl6TrrstvdMFiv/16KC/vPP3++2/64IN1AcX79ttvaOvWrRo2bHij49ClrGy7\nZs++T1lZ2Tr55NMCem0gXjDCDQBeVOfkqiwnV0kbS5WyqkgJO3bIkZGhquxcy+dN27lvIBJ5WiIq\nM/Nw/ec/H+vrrzepbdsMff/9f9WpUyf985+PuW27detWSdJXX32pQw45VH369FWfPn1VUVGhzz//\nVD/++IN++OF7lZZ+oR9++F41NTVur9G0jDgjI0NDh56qt956XRdemKcjj+ynE07IUlZWtg4++JD6\n7b780pQk9es3wOPvduSR/VRa+oW++urLRvvo2fMAt23btGmjXbt2ud3frVt3j6/d1EcffagNG9b7\n3K65btWS1Lp1a0nS3r3uS3pVVzsT7bS0NL/ikaRVq97Vzp07dO65FwT0PG+OPLKf20i5qwT7q6++\n9PrcFSuWu138aKp79/0CGgkvKVml2267SXv37tWtt96pww8/wudzRo++XKNHX+52/4ABR+vUU4fp\n1Vdf0ccff6Tjjx+kL78sVUpKa73wwhK37b///jtJ0qZNprKyhvgds6s8/Oyz/+Tx8QceuF9VVVW6\n4Yab/H5NIN6QcAOAH2r6Zmq3TUmunfsGIkmXLvu63depUydJzvLlXbucJcxbt2712hTMVQ69Z88e\nLVjwsF566QVVVlbW76NfvwHq0KGjtm7d4vZcV6LZ0G233am+fQ/TihXLtGHDem3YsF7z5s1V376H\nafLkKerd21BFhTNBdpVbN9W5cxdJqo/DxdMIsnPk3n0tg9atU93u82TDhvV+NU3zlnBnZLST5Lls\n3HVfmzZt/IpHkkpK3pXkrFoIlS5durjdl56ertTUVJ/l7itWLPeraZq/Cffy5YW6//57JElTptyh\n004b5tfzvOnTp69effUV/fzzT5KkHTt2qKamxsexXy7J2TivqZycXPXubdT/vGvXTm3YsF7du++n\nvn3dG7+VlKzSG2+8qokTJ1uyHjgQK0i4AQBAVNizp7JRObfkTDIkqUOHDkpLczYJ69dvgB5+2HdC\n+dBDD+jFF59Tbu7JOvfcC9SrV+/6OaijRp3vMeH2pFWrVrr44kt08cWX6JdfftGHH76nt99+U++/\n/54mTfqbnntuWX0Dsy1bfvf4Gq7fo2lnbiuMHXul12TaH66Rd0+jwK77DjjgIL9eq6amRuvWrVWH\nDh2brQAIhqvUuqGqqirt2bOn0dQET7x1Hw/UokWPa8GCR5SS0lp33jldQ4ac6PdzTXOjdu+u8Fjd\n4fr9UlKcF4HS0tKVnp6uF17w3bTMU1Levft+jRLuDz5Yp7179yon5ySPr1FU9JYkadasGZo1a4bb\n49OnT9X06VN9dpUHYh0JNwAAiAqlpV+4rfH7+eefKikpSYaRqbZt26pr12769ttvtGdPpduI78qV\nL2vz5p80fPhZ6t59P73xxqvq2HEf3XXXvY3me+/ZU1m/RJjD4Wj0WFObN/+k5csLdcQRR2nw4Gx1\n69ZNZ56ZpzPPzNNf/zpB69d/oM2bf1KvXs5E5pNPPvb4Oh9//JESEhJ00EEHB/XehJthZKp169Ye\nR4Fd5epHHHGkX6/13/9+p507dyo7O1dJSUkhi7G09Au3+7744jM5HA637t5Wee65Z7RgwSNq06aN\nZs58IOALCjffnK8tW37XsmWvu10k+PRT57HUt64Cqlev3vrkkw3aunWLOnXq3GjbkpJV+vzzT3XS\nSaeod+8+Xpd8c/n8888kSf37e445OzvX4zSGzz//TO+/v1bZ2SeqV68+fneVB2IVTdMAAEBUeOyx\n+fVl45JzhO2jjz5UdvaJ9SPTw4efpfLyMs2b95BqGyyt9+2332j27Pv07LNPq107Zzl069Ypqqra\nUz+6LDlHWx94oKB+9NDVHKw5rVu31uLF/9Q//jGvUZOw6upqbd26RSkpENoB1wAADUxJREFUKerU\nqZO6deumgQOPkWmWqrBwaaPXWL68UJ9++okGDjwmakpz09LSdOKJQ/XZZ//R6tXv1t+/ZcvvWrr0\nGXXu3EVZWdl+vdamTc757Z7Wq26JL774TG+99Xr9zxUVuzR//kNKTEzUsGFnenlmaJjmRj300Gyl\npKRo1qyHgxq9P+mkU1RbW6v58x+Ww/G/aQRvv/2m1qxZrf79B9Yvc3f66WfK4XBo9uyZqq7+39z6\nLVu2qKDgXv3rX082u1ScJ66+A5mZh3t8PCcnt75aouF/J5zg7Jqene18nIQb8Y4RbgAAEBU2b/5R\nY8aMUlZWtn7//VetWvWuunTZV9dcM7F+m0su+bPWrVurpUuf0X/+s0EDBhytHTt26J133lJl5W7d\ndttdatPGOY/6tNOG69//fkrjxl2q7Oxc1dTU6P331+r77/+rDh06avv2P1RWVqbOnTs3F5I6deqs\nCy64WM8+u1ijR1+oQYOGKDExQevWrdV3332ryy4bV7+/G2+8RX/5y3jdf/+9Kip6W4ce2lvffPOV\nPvhgnTp37qJJk6ZY+waG2BVX/EXvv/+epkyZpFNO+T916NBBb775mv744w9Nmzaz0fJTmzaZKi4u\nUu/ehnKaLGX4vzW9e3rdn6uRmatCwZeMjHaaOvVWvf32G+rSpavWrFmlzZt/0mWXjatft91Kjz8+\nXzU1NTr00N56770Svfdeids2xx+fVV8JUFxcpE2bzEZzqS+7bJzWrVuj5ctf1Ndfb9JRR/XX99//\nV2vXrlanTp11882317/W8OFnafXqYhUVva2vv75Qxx8/SHv31uidd95QWVmZrrrqGrd13r3ZvPlH\ntW7dur6/AIDgkHADAICocNddM1RY+LxeeWWZUlNTNWzYGRo/fkKjZmqtW6dq7txH9fTTT+mtt17X\niy8uVZs2bXXkkf106aWXacCAo+u3veKKq5Wenq7XXluhF19cqg4dOuiggw7R9dffqO+++1Zz5hTo\nvfdW68wz8zyFU+/qq69Tz549tWxZoVauXK6amhoddNAhmjLljkZLjvXseYD+8Y9FeuKJf2jt2tX6\n5JMN6ty5i84//yL9+c+Xq2PHfUL/plmoW7dumj//Cc2bN1clJatUW1urXr1669Zbp+rYY09otO2m\nTV/qiScW6vTTz3RLuF1N7Pbd170pXkOuRmYDBhztV8Ldv/8AnXLKMC1cOE/vvbdGBx54sG677U63\n9cut4po+8OWXG/Xllxs9bpORkVGfcK9aVaSVK19uNJc6IyND8+Y9rieeWKB3331HS5c+o/btO+jM\nM8/R2LFXNboYlJCQoLvvnqEXXnhOK1Ys0/LlhWrdOlUHH3yILrxwlNv77ktZWZm6dImOigsgkiU0\nLE+JBr//viO6Ao4BHTo4y4+2b6+wORJEEo4LeMJxAU9aelxMm3aHVq58WU88sbhRUydEt2COizFj\nRio//yYdccRRzW7z88+bdcEFZys7+0Tdc09Bi+NEeHk7Lrp0yWi+oUKIkXOgqWCPP+ZwAwAAIOJ9\n883X+uGH7/3ufg4AkYCEGwAAABHvlVde0k033Vbf9A4AogFzuAEAABDxrr12ou+NACDCMIcbPjEn\nE55wXMATjgt4wnEBTzgu4AlzuBGpmMMNAAAAAEAEIeEGAAAAAMACJNwAAAAAAFiAhBsAAAAAAAuQ\ncAMAAAAAYAESbgAAAAAALEDCDQAAAACABUi4AQAAAACwAAk3AAAAAAAWIOEGAAAAAMACJNwAAAAA\nAFiAhBsAAAAAAAuQcAMAAAAAYAESbgAAAAAALEDCDQAAAACABUi4AQAAAACwAAk3AAAAAAAWSHA4\nHHbHAAAAAABAzGGEGwAAAAAAC5BwAwAAAABgARJuAAAAAAAsQMINAAAAAIAFSLgBAAAAALAACTcA\nAAAAABZoZXcAiB6GYdwvKV/SSaZpFtkcDmxkGMbdkqY08/CzpmleFM54EBkMwxgl6a+SjpBUJqlE\n0i2maX5pa2AIO8Mw/FlzlL8lccowjE6S7pZ0tqQukjZLWiLpDtM0K+yMDfYxDKOLpDslnSOpg6Qv\nJc2XNN80zVo7YwNagoQbfjEM4zhJ19sdByLGUZL2SLrXw2OfhTkWRIAGF2E2SXpEUg9JF0gaahjG\nQNM0v7MxPITf1Gbu31fSBEm/SdoYvnAQKQzDaCtptaS+kt6R9LSkwZJulDTYMIwTTdPca2OIsIFh\nGPtKek/SwZLWSXpG0kA5/56caBjGxaZp+nMhD4g4JNzwyTCMFEmPSUqyOxZEjKMkfWGa5h12BwL7\nGYZxrKRbJL0r6XTTNHfX3f+8pOck3S7pcvsiRLg192+DYRjL6/53tGmav4QvIkSQK+VMth80TfN6\nSTIMI0HSU5JG1f33T/vCg01myplsz5X0V1dybRjGTDkvxrwq6UnbogNagDnc8McUSX0kvWl3ILCf\nYRjtJB0o6T92x4KIcU3d7RWuZFuSTNNcKmmBpK9tiQoRxTCMyySdKelJ0zRfszkc2OfYutvHXXfU\nJVf/qPvxhLBHBFsZhtFK0nmStkm6qclI9u2Sdkj6mx2xAaFAwg2vDMM4StLNku6R9LnN4SAyHFV3\nS8INl9MlfepprrZpmleapjnNhpgQQQzDSJc0TdJOSZNtDgf22lp3e2CT+3vU3f4exlgQGbpIaivn\n35FGc/hN06yUcy73kXUX/IGoQ0k5mmUYRpKcV6A3SZouZ7kP4Eq4OxuG8YakY+p+fkvSFNM0TXvC\ngh3q5t11kfSmYRh95fy3YqikBEmvS5pkmua3NoaIyHC9pP0k3WWa5m92BwNbPS5pnKTZhmFsk7RB\n0nGSZsjZbPFxL89FbNpTd9u6mcfby/k35QDRJwZRiBFueHODpAGSxpmmWWV3MIgYroT7RknlkhbK\n2eDkPEnrDMPob1dgsMV+dbc9JL0v6SA5vzCvlnS+pPcMw2g6koU4UtcH5FpJlXLOz0QcM01zvaRT\nJaXJ+e/ELjmbp9VIGkyDxfhjmuY2Sd9K6m8YxsENHzMM43BJh9T92D7csQGhwAg3PDIMo4+kOyQ9\nYprmWpvDQWSpkfRfSZc1XNKnbkmof8mZbA20JzTYoE3dbY6cTY/GmKZZI0mGYVwraY6kByT9yZ7w\nEAFGSOomaYFpmpQLx7m6qpjpkrpLWi5nufDRknIlzTcM40zTNLfbFyFsUiDpIUnLDMO4StInkvrL\neVF/t5x/axLsCw8IHiPccFPXLfQxOZdtudnmcBBhTNP8i2maBzVdP9c0zcWSiiUNMAzDsCU42MG1\nNmqNpOtdyXadhyV9I+mMujm8iE+j624X2hoFIoVrGbCLTNM82zTNG0zTPEnSxLr7F9gaHWxhmubD\nkh6UdLiclQ87JK2StF7Oi7mSxBrtiEok3PDkL5KGSJpgmuZOu4NBVPmo7vZgr1shlpTV3X5XVxZY\nzzTNWjmb6yXLOfcOcaauyVGunMfHhzaHA5sZhrG/pJMlFZumuaThY6Zpzpb0haTzDMPIsCM+2Ktu\nmbh+cl58yZd0rGmal0jqXLfJr3bFBrQEJeXw5Py621eaGah8p+7+g5lrFV/qlu4YICnRNM11HjZJ\nq7utDF9UsNk3co5upzTzeHLdLSMT8elUOY+BF+wOBBGhZ91taTOPfyHpMDl7QmwMS0SIKKZpfirp\n0yZ3HyOpzDTNn2wICWgxEm548qSkIg/3D5N0vKR/SvpOEnOs4k+SpBJJOw3D6NKwfLhuKkKWpL2S\nPrYpPoSZaZqVhmF8KOl4wzB6m6a5yfVY3QWafnIuA8QXpfjkWlO52NYoEClcI5R9mnm8tySHnFPa\nEEcMw/i3nL1ADmjy3WKAnM04n7MpNKDFSLjhxjTNJz3dbxhGBzkT7iebzt9FfDBNc49hGMslnSvp\nJjnX1XXJl3SkpEU0vIk7C+T8t+FBwzDOMU2zuu7+fEn7S5rdZG434seAutsPbI0CEcE0zW8Mw1gv\nKbfu34qXXI8ZhjFWzgt0rzadnoK4sFHSRZIulrMBqwzDaC/pH3WPz7ApLqDFSLgBBCpfzpHsuw3D\nyJWzk6irw2ypnHOvEF+ekHSWpDxJHxuGsVJSpqThcnYgnmpjbLDXoZJ2m6a52e5AEDHGyllF90Ld\nBVxTzuUmh0n6WdLV9oUGG82WdJmkxw3DOE3OKoc/ybkk2O11y8kBUYmmaQACUjdv/xg5l/86QtJ1\ncjZJK5A0yDTNrfZFBzuYpumQdIH+d7HlGjmXc5knKcs0zbLmnouY10nSj3YHgchhmuYncv4N+Zec\nlTET5ayOWiDpaNM0v7UxPNjENM1yObvUPytnY70rJP0i6TzTNO+yMzagpRIcDofdMQAAAAAAEHMY\n4QYAAAAAwAIk3AAAAAAAWICEGwAAAAAAC5BwAwAAAABgARJuAAAAAAAsQMINAAAAAIAFSLgBAAAA\nALAACTcAAAAAABYg4QYAAAAAwAIk3AAAAAAAWICEGwAAAAAAC5BwAwAAAABgARJuAAAAAAAsQMIN\nAAAAAIAFSLgBAAAAALAACTcAAAAAABYg4QYAAAAAwAL/D4MJFXOHqP4rAAAAAElFTkSuQmCC\n",
      "text/plain": [
       "<matplotlib.figure.Figure at 0x20fed3e1be0>"
      ]
     },
     "metadata": {
      "image/png": {
       "height": 497,
       "width": 494
      }
     },
     "output_type": "display_data"
    }
   ],
   "source": [
    "# data.target = target = MEDV\n",
    "sns.jointplot(df['RM'].values, target, color='r', size= 7)\n"
   ]
  },
  {
   "cell_type": "code",
   "execution_count": 31,
   "metadata": {},
   "outputs": [
    {
     "data": {
      "text/plain": [
       "<seaborn.axisgrid.JointGrid at 0x20fed967da0>"
      ]
     },
     "execution_count": 31,
     "metadata": {},
     "output_type": "execute_result"
    },
    {
     "data": {
      "image/png": "iVBORw0KGgoAAAANSUhEUgAAA0wAAANSCAYAAABWQU5cAAAABHNCSVQICAgIfAhkiAAAAAlwSFlz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\nAABSkDABAAAAQIr/B6aJQPuSjS8aAAAAAElFTkSuQmCC\n",
      "text/plain": [
       "<matplotlib.figure.Figure at 0x20fed967e80>"
      ]
     },
     "metadata": {
      "image/png": {
       "height": 425,
       "width": 422
      }
     },
     "output_type": "display_data"
    }
   ],
   "source": [
    "sns.jointplot(df['LSTAT'].values, target)"
   ]
  },
  {
   "cell_type": "markdown",
   "metadata": {},
   "source": [
    "**Below we fit a linear regression model predicting `MEDV` (the target vector) from `RM`.**\n",
    "\n",
    "> **Note:** sklearn models expect the predictor matrix to be 2D and the target to be 1D."
   ]
  },
  {
   "cell_type": "code",
   "execution_count": 32,
   "metadata": {},
   "outputs": [
    {
     "data": {
      "text/plain": [
       "LinearRegression(copy_X=True, fit_intercept=True, n_jobs=1, normalize=False)"
      ]
     },
     "execution_count": 32,
     "metadata": {},
     "output_type": "execute_result"
    }
   ],
   "source": [
    "lm = linear_model.LinearRegression()\n",
    "\n",
    "X = df[[\"RM\", \"LSTAT\"]]\n",
    "y = target \n",
    "\n",
    "model = lm.fit(X, y)\n",
    "model"
   ]
  },
  {
   "cell_type": "markdown",
   "metadata": {},
   "source": [
    "**Make predictions for the X matrix using `.predict(X)`, and score the model ($R^2$) using `model.score(X, y)`.**\n",
    "\n",
    "Plot the predicted values against the true values of the target, and print the model $R^2$.\n",
    "\n",
    "> **`.score(predictors, target)`**: a class method / function that returns the coefficient of determination R^2 of the prediction (for regression models).  Found in many models in scikit-learn (but not all)."
   ]
  },
  {
   "cell_type": "code",
   "execution_count": 33,
   "metadata": {},
   "outputs": [
    {
     "data": {
      "text/plain": [
       "0.63856160626034031"
      ]
     },
     "execution_count": 33,
     "metadata": {},
     "output_type": "execute_result"
    }
   ],
   "source": [
    "# R^2\n",
    "model.score(X, y)"
   ]
  },
  {
   "cell_type": "code",
   "execution_count": null,
   "metadata": {
    "collapsed": true
   },
   "outputs": [],
   "source": []
  },
  {
   "cell_type": "markdown",
   "metadata": {},
   "source": [
    "**What can this plot tell us about the model?**"
   ]
  },
  {
   "cell_type": "code",
   "execution_count": 46,
   "metadata": {},
   "outputs": [
    {
     "data": {
      "image/png": "iVBORw0KGgoAAAANSUhEUgAAA9EAAAO+CAYAAAADkpb8AAAABHNCSVQICAgIfAhkiAAAAAlwSFlz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\nAAAAAElFTkSuQmCC\n",
      "text/plain": [
       "<matplotlib.figure.Figure at 0x20fedd1ba20>"
      ]
     },
     "metadata": {
      "image/png": {
       "height": 479,
       "width": 488
      }
     },
     "output_type": "display_data"
    }
   ],
   "source": [
    "#\n",
    "# Y - Y_hat\n",
    "predictions  =  model.predict(X)\n",
    "\n",
    "# Plot the model\n",
    "plt.figure(figsize=(8,8))\n",
    "plt.scatter(predictions, y, s=30, c='r', marker='+', zorder=10)\n",
    "plt.xlabel(\"Predicted Values from RM - $\\hat{y}$\")\n",
    "plt.ylabel(\"Actual Values MEDV - y\")\n",
    "\n",
    "plt.plot([0, np.max(y)], [0, np.max(y)])\n",
    "\n",
    "plt.show()"
   ]
  },
  {
   "cell_type": "markdown",
   "metadata": {},
   "source": [
    "<a id='model-attributes'></a>\n",
    "\n",
    "## sklearn model class attributes\n",
    "\n",
    "---\n",
    "\n",
    "After you run `.fit()`, a sklearn model object often contains a variety of calculated metrics, coefficients, and other information. Which metrics and attributes are present will depend on the model – consult the documentation for specifics. \n",
    "\n",
    "Attributes in the `LinearRegression` object include:\n",
    "- **`.coef_`**: property containing the coeffients for the predictor variables\n",
    "- **`.intercept_`**: value of the intercept\n",
    "\n",
    "**Print out the beta coefficient and intercept for the model.**\n"
   ]
  },
  {
   "cell_type": "code",
   "execution_count": 35,
   "metadata": {},
   "outputs": [
    {
     "name": "stdout",
     "output_type": "stream",
     "text": [
      "[ 5.09478798 -0.64235833]\n",
      "-1.35827281187\n"
     ]
    }
   ],
   "source": [
    "# y = beta_0 + beta_1 * x\n",
    "\n",
    "print(model.coef_)\n",
    "print(model.intercept_)"
   ]
  },
  {
   "cell_type": "markdown",
   "metadata": {},
   "source": [
    "**What does the coefficient mean in the context of your model?**"
   ]
  },
  {
   "cell_type": "code",
   "execution_count": 36,
   "metadata": {
    "collapsed": true
   },
   "outputs": [],
   "source": [
    "#"
   ]
  },
  {
   "cell_type": "markdown",
   "metadata": {},
   "source": [
    "<a id='common-metrics'></a>\n",
    "\n",
    "## Review: common metrics for evaluating regression models\n",
    "\n",
    "---\n",
    "\n",
    "The [root mean squared error (RMSE)](https://en.wikipedia.org/wiki/Root-mean-square_deviation) is a standard measure of model performance. It is the square root of the mean of the sum of squared residuals:\n",
    "\n",
    "### $$ \\operatorname{RMSE}= \\sqrt{\\frac{1}{n}\\sum_{i=1}^n(\\hat{y_i} - y_i)^2} $$\n",
    "\n",
    "The smaller the root mean squared error, the better your model fits the data. \n",
    "\n",
    "You are already familiar with the [coefficient of determination $R^2$](https://en.wikipedia.org/wiki/Coefficient_of_determination):\n",
    "\n",
    "### $$ R^2 = 1 - \\frac{SS_{reg}}{SS_{tot}} $$\n",
    "\n",
    "Where the regression sum of squares is the sum of squared residuals for our model:\n",
    "\n",
    "$SS_{reg}=\\sum_i (\\hat{y} -\\bar{y})^2$\n",
    "\n",
    "And the total sum of squares is the sum of squared residuals for the *baseline* model. This is essentially the variance of our target.\n",
    "\n",
    "$SS_{tot} = \\sum_i (y_i-\\bar{y})^2$\n",
    "\n",
    "$R^2$ is the most common metric to evaluate a regression and is the default scoring measure in sklearn. When we cover classification models, the `.score` function instead defaults to accuracy.\n",
    "\n",
    "\n",
    "**Calculate the RMSE of your model by leveraging `sklearn.metrics.mean_squared_error`.**"
   ]
  },
  {
   "cell_type": "code",
   "execution_count": 47,
   "metadata": {},
   "outputs": [
    {
     "name": "stdout",
     "output_type": "stream",
     "text": [
      "5.5238092633 0.63856160626\n"
     ]
    }
   ],
   "source": [
    "#\n",
    "from sklearn.metrics import mean_squared_error, r2_score\n",
    "\n",
    "predictiions = model.predict(X)\n",
    "\n",
    "rmse = np.sqrt(mean_squared_error(target, predictions))\n",
    "r2 = r2_score(target, predictions)\n",
    "print(rmse, r2)"
   ]
  },
  {
   "cell_type": "markdown",
   "metadata": {},
   "source": [
    "<a id='mlr-sklearn'></a>\n",
    "\n",
    "## Fit a MLR using sklearn\n",
    "\n",
    "---\n",
    "\n",
    "We have fit a simple linear regression predicting `MEDV ~ RM + 1` (where the 1 represents the intercept). Use the same sklearn process and `LinearRegression` model to estimate the target with both `RM` and `LSTAT`."
   ]
  },
  {
   "cell_type": "markdown",
   "metadata": {},
   "source": [
    "**Print out the coefficients from this MLR model and interpret them.**"
   ]
  },
  {
   "cell_type": "code",
   "execution_count": 38,
   "metadata": {
    "collapsed": true
   },
   "outputs": [],
   "source": [
    "#"
   ]
  },
  {
   "cell_type": "markdown",
   "metadata": {},
   "source": [
    "<a id='negative-r2'></a>\n",
    "\n",
    "## A note on negative $R^2$ values\n",
    "\n",
    "---\n",
    "\n",
    "Over the course of this class you will encounter negative $R^2$ values. This may seem impossible, and it is in the standard scenario where we are calculating the $R^2$ score on the data we fit the model with.\n",
    "\n",
    "However, if you fit your model on one sample of data, *then score the model on new data not used to fit the model*, it is possible to end up with negative $R^2$.\n",
    "\n",
    "**What does it mean to have a negative $R^2$?**\n",
    "\n",
    "Remember that $R^2$ is 1 minus the error of your regression model divided by the error of the baseline model. A negative $R^2$ means that the regression model is performing *worse* than the baseline model. In the context of fitting our data on one sample of data and scoring on another sample, this means that we would have been better off making predictions on the test sample just using the mean of the target variable in our training set.\n",
    "\n",
    "We will return to the topic of negative $R^2$ when we talk about training and testing sets and cross-validation."
   ]
  },
  {
   "cell_type": "markdown",
   "metadata": {},
   "source": [
    "<a id='statsmodels-intro'></a>\n",
    "\n",
    "## Fitting a linear regression using `statsmodels`\n",
    "\n",
    "---\n",
    "\n",
    "Now we will fit the linear regression model predicting the target from `RM` and `LSTAT`, but this time using `statsmodels`.\n",
    "\n",
    "The format looks like:\n",
    "\n",
    "```python\n",
    "import statsmodels.api as sm\n",
    "\n",
    "X = df[[\"RM\",\"LSTAT\"]].values\n",
    "# manually add the intercept column:\n",
    "X = np.concatenate([X, np.ones((X.shape[0], 1))], axis=1)\n",
    "y = target\n",
    "\n",
    "model = sm.OLS(y, X)\n",
    "model = model.fit()\n",
    "predictions = model.predict()\n",
    "```\n",
    "\n",
    "First we load the statsmodels api module, which contains the ordinary least squares `OLS` model class. The statsmodels process is slightly different:\n",
    "- We manually make a new column for the intercept in our design matrix $X$.\n",
    "- The $y$ target variable comes before the $X$ predictor\n",
    "- The data is provided during the instantiation of the model object, then fit is called without the data.\n",
    "\n",
    "**Fit the model using statsmodels.**"
   ]
  },
  {
   "cell_type": "code",
   "execution_count": 48,
   "metadata": {},
   "outputs": [
    {
     "name": "stderr",
     "output_type": "stream",
     "text": [
      "C:\\ProgramData\\Anaconda3\\lib\\site-packages\\statsmodels\\compat\\pandas.py:56: FutureWarning: The pandas.core.datetools module is deprecated and will be removed in a future version. Please use the pandas.tseries module instead.\n",
      "  from pandas.core import datetools\n"
     ]
    }
   ],
   "source": [
    "#\n",
    "import statsmodels.api as sm\n",
    "\n",
    "# y = beta_0 + beta_1 * RM + beta_2 * LSTAT\n",
    "\n",
    "X = df[[\"RM\",\"LSTAT\"]].values\n",
    "# manually add the intercept column:\n",
    "X = np.concatenate([X, np.ones((X.shape[0], 1))], axis=1)\n",
    "y = target\n",
    "\n",
    "model = sm.OLS(y, X) # OLS is oridinary least squares\n",
    "model = model.fit()\n",
    "predictions = model.predict()"
   ]
  },
  {
   "cell_type": "markdown",
   "metadata": {},
   "source": [
    "<a id='statsmodels-summary'></a>\n",
    "\n",
    "### Statsmodels `.summary()`  function\n",
    "\n",
    "Once a model is fit with statsmodels, you can print out a variety of summary statistics, metrics, and properties of the model using the `model.summary()` function.\n",
    "\n",
    "You are already familiar with some of the information available in the summary:\n",
    "- R-squared\n",
    "- Number of observations\n",
    "- Coefficients for the variables and the intercept (const)\n",
    "- Standard errors of the coefficients, t-statistics, p-values, and confidence intervals\n",
    "\n",
    "There is also a variety of different metrics that we have not yet talked about. Don't hesitate to look up any of the statistics online if you are curious."
   ]
  },
  {
   "cell_type": "code",
   "execution_count": 49,
   "metadata": {},
   "outputs": [
    {
     "data": {
      "text/html": [
       "<table class=\"simpletable\">\n",
       "<caption>OLS Regression Results</caption>\n",
       "<tr>\n",
       "  <th>Dep. Variable:</th>            <td>y</td>        <th>  R-squared:         </th> <td>   0.639</td> \n",
       "</tr>\n",
       "<tr>\n",
       "  <th>Model:</th>                   <td>OLS</td>       <th>  Adj. R-squared:    </th> <td>   0.637</td> \n",
       "</tr>\n",
       "<tr>\n",
       "  <th>Method:</th>             <td>Least Squares</td>  <th>  F-statistic:       </th> <td>   444.3</td> \n",
       "</tr>\n",
       "<tr>\n",
       "  <th>Date:</th>             <td>Mon, 16 Oct 2017</td> <th>  Prob (F-statistic):</th> <td>7.01e-112</td>\n",
       "</tr>\n",
       "<tr>\n",
       "  <th>Time:</th>                 <td>14:45:26</td>     <th>  Log-Likelihood:    </th> <td> -1582.8</td> \n",
       "</tr>\n",
       "<tr>\n",
       "  <th>No. Observations:</th>      <td>   506</td>      <th>  AIC:               </th> <td>   3172.</td> \n",
       "</tr>\n",
       "<tr>\n",
       "  <th>Df Residuals:</th>          <td>   503</td>      <th>  BIC:               </th> <td>   3184.</td> \n",
       "</tr>\n",
       "<tr>\n",
       "  <th>Df Model:</th>              <td>     2</td>      <th>                     </th>     <td> </td>    \n",
       "</tr>\n",
       "<tr>\n",
       "  <th>Covariance Type:</th>      <td>nonrobust</td>    <th>                     </th>     <td> </td>    \n",
       "</tr>\n",
       "</table>\n",
       "<table class=\"simpletable\">\n",
       "<tr>\n",
       "    <td></td>       <th>coef</th>     <th>std err</th>      <th>t</th>      <th>P>|t|</th>  <th>[0.025</th>    <th>0.975]</th>  \n",
       "</tr>\n",
       "<tr>\n",
       "  <th>x1</th>    <td>    5.0948</td> <td>    0.444</td> <td>   11.463</td> <td> 0.000</td> <td>    4.222</td> <td>    5.968</td>\n",
       "</tr>\n",
       "<tr>\n",
       "  <th>x2</th>    <td>   -0.6424</td> <td>    0.044</td> <td>  -14.689</td> <td> 0.000</td> <td>   -0.728</td> <td>   -0.556</td>\n",
       "</tr>\n",
       "<tr>\n",
       "  <th>const</th> <td>   -1.3583</td> <td>    3.173</td> <td>   -0.428</td> <td> 0.669</td> <td>   -7.592</td> <td>    4.875</td>\n",
       "</tr>\n",
       "</table>\n",
       "<table class=\"simpletable\">\n",
       "<tr>\n",
       "  <th>Omnibus:</th>       <td>145.712</td> <th>  Durbin-Watson:     </th> <td>   0.834</td> \n",
       "</tr>\n",
       "<tr>\n",
       "  <th>Prob(Omnibus):</th> <td> 0.000</td>  <th>  Jarque-Bera (JB):  </th> <td> 457.690</td> \n",
       "</tr>\n",
       "<tr>\n",
       "  <th>Skew:</th>          <td> 1.343</td>  <th>  Prob(JB):          </th> <td>4.11e-100</td>\n",
       "</tr>\n",
       "<tr>\n",
       "  <th>Kurtosis:</th>      <td> 6.807</td>  <th>  Cond. No.          </th> <td>    202.</td> \n",
       "</tr>\n",
       "</table>"
      ],
      "text/plain": [
       "<class 'statsmodels.iolib.summary.Summary'>\n",
       "\"\"\"\n",
       "                            OLS Regression Results                            \n",
       "==============================================================================\n",
       "Dep. Variable:                      y   R-squared:                       0.639\n",
       "Model:                            OLS   Adj. R-squared:                  0.637\n",
       "Method:                 Least Squares   F-statistic:                     444.3\n",
       "Date:                Mon, 16 Oct 2017   Prob (F-statistic):          7.01e-112\n",
       "Time:                        14:45:26   Log-Likelihood:                -1582.8\n",
       "No. Observations:                 506   AIC:                             3172.\n",
       "Df Residuals:                     503   BIC:                             3184.\n",
       "Df Model:                           2                                         \n",
       "Covariance Type:            nonrobust                                         \n",
       "==============================================================================\n",
       "                 coef    std err          t      P>|t|      [0.025      0.975]\n",
       "------------------------------------------------------------------------------\n",
       "x1             5.0948      0.444     11.463      0.000       4.222       5.968\n",
       "x2            -0.6424      0.044    -14.689      0.000      -0.728      -0.556\n",
       "const         -1.3583      3.173     -0.428      0.669      -7.592       4.875\n",
       "==============================================================================\n",
       "Omnibus:                      145.712   Durbin-Watson:                   0.834\n",
       "Prob(Omnibus):                  0.000   Jarque-Bera (JB):              457.690\n",
       "Skew:                           1.343   Prob(JB):                    4.11e-100\n",
       "Kurtosis:                       6.807   Cond. No.                         202.\n",
       "==============================================================================\n",
       "\n",
       "Warnings:\n",
       "[1] Standard Errors assume that the covariance matrix of the errors is correctly specified.\n",
       "\"\"\""
      ]
     },
     "execution_count": 49,
     "metadata": {},
     "output_type": "execute_result"
    }
   ],
   "source": [
    "#\n",
    "model.summary()"
   ]
  },
  {
   "cell_type": "markdown",
   "metadata": {},
   "source": [
    "<a id='independent-practice'></a>\n",
    "\n",
    "## Independent practice\n",
    "\n",
    "---\n",
    "\n",
    "Using either scikit-learn or statsmodels (or both, if you prefer), build a model using any set of **continuous** variables of your choice. Evaluate your model using $R^2$. Describe what the $R^2$ means."
   ]
  },
  {
   "cell_type": "code",
   "execution_count": 41,
   "metadata": {
    "collapsed": true
   },
   "outputs": [],
   "source": [
    "#"
   ]
  },
  {
   "cell_type": "code",
   "execution_count": 42,
   "metadata": {
    "collapsed": true
   },
   "outputs": [],
   "source": [
    "#"
   ]
  },
  {
   "cell_type": "markdown",
   "metadata": {},
   "source": [
    "<a id='patsy'></a>\n",
    "\n",
    "## A brief introduction to `patsy` formulas (optional)\n",
    "\n",
    "---\n",
    "\n",
    "Why slice and dice the data yourself when you just write a formula that defines your model?\n",
    "\n",
    "The `patsy` package allows you to specify the construction of your model using a formula string, and then returns the matrices required to fit the model.\n",
    "\n",
    "Let's say we wanted to predict `CRIM` from `TAX`, `AGE` and `ZN`. We would write a string formula like so:\n",
    "\n",
    "```\n",
    "formula = 'CRIM ~ TAX + AGE + ZN'\n",
    "```\n",
    "\n",
    "Then, after importing patsy, we can generate our target and predictor matrix by supplying the formula and the dataframe that contains the corresponding columns.\n",
    "\n",
    "```python\n",
    "import patsy\n",
    "\n",
    "y, X = patsy.dmatrices(formula, data=df, return_type='dataframe')\n",
    "```"
   ]
  },
  {
   "cell_type": "code",
   "execution_count": 43,
   "metadata": {
    "collapsed": true
   },
   "outputs": [],
   "source": [
    "#"
   ]
  },
  {
   "cell_type": "markdown",
   "metadata": {},
   "source": [
    "You'll notice that with `return_type='dataframe'` patsy's `.dmatrices()` function returns two pandas dataframes, one for the target and one for the design matrix. \n",
    "\n",
    "You'll also notice that it creates an intercept column by default. **If you do not want it to create an intercept column, add a -1 to the formula string**"
   ]
  },
  {
   "cell_type": "code",
   "execution_count": 44,
   "metadata": {
    "collapsed": true
   },
   "outputs": [],
   "source": [
    "# formula = 'CRIM ~ TAX + AGE + ZN -1'\n"
   ]
  },
  {
   "cell_type": "markdown",
   "metadata": {},
   "source": [
    "You can then feed in these matrices into statsmodels or sklearn. It is generally a good practice to convert your target matrix into a 1D vector, especially when using sklearn.\n",
    "\n",
    "> **Tip:** The `.ravel()` function for numpy arrays will \"unravel\" a multidimensional matrix into a one dimensional vector of values."
   ]
  },
  {
   "cell_type": "code",
   "execution_count": 45,
   "metadata": {
    "collapsed": true
   },
   "outputs": [],
   "source": [
    "# "
   ]
  },
  {
   "cell_type": "code",
   "execution_count": null,
   "metadata": {
    "collapsed": true
   },
   "outputs": [],
   "source": []
  },
  {
   "cell_type": "markdown",
   "metadata": {},
   "source": [
    "<a id=\"final-notes-on-linear-regression\"></a>\n",
    "## Final notes on linear regression\n",
    "\n",
    "---\n",
    "\n",
    "The term \"linear\" here means linear in the coefficient. That means that we expect $Y$ to change by a constant amount for a constant change in $X$. A linear regression model could include $X^2$, $X^3$, $log(X)$, etc. as long as the coefficient is linear! (This might be a bit confusing, but imagine that instead of squaring $X$, we created a new column called 'Z' that was equal to $X^2$.)\n",
    "\n",
    "<a id=\"categorical-predictors\"></a>\n",
    "### Categorical predictors\n",
    "\n",
    "You may note that in our examples so far our independent variable $X$ is quantitative. This need not be the case. In many cases, we'll use qualitative variables to explain quantitative outcomes. Some examples:\n",
    "\n",
    "- One's sex and race are often linked to income.\n",
    "- The day of the week might explain a bar's profits or the month of the year might affect an airlines' revenues.\n",
    "- Whether or not someone has children under 5 might help to predict the number of days missed by that employee.\n",
    "\n",
    "If you have variable that is categorical, you will need to \"dummy code\" it:\n",
    "- Check out [a worked out example](http://chrisalbon.com/python/pandas_convert_categorical_to_dummies.html) \n",
    "- and/or [the Pandas documentation](http://pandas.pydata.org/pandas-docs/version/0.17.0/generated/pandas.get_dummies.html) to see this implemented in Python.\n",
    "\n",
    "Practically, dummy variables come into play more in **multiple linear regression** (MLR), but it can technically apply to SLR and it's something of which you should be aware of."
   ]
  }
 ],
 "metadata": {
  "kernelspec": {
   "display_name": "Python 3",
   "language": "python",
   "name": "python3"
  },
  "language_info": {
   "codemirror_mode": {
    "name": "ipython",
    "version": 3
   },
   "file_extension": ".py",
   "mimetype": "text/x-python",
   "name": "python",
   "nbconvert_exporter": "python",
   "pygments_lexer": "ipython3",
   "version": "3.6.2"
  }
 },
 "nbformat": 4,
 "nbformat_minor": 2
}
