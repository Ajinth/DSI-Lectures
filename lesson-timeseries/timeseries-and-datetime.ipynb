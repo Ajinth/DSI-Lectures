{
 "cells": [
  {
   "cell_type": "code",
   "execution_count": 61,
   "metadata": {},
   "outputs": [],
   "source": [
    "import matplotlib.pyplot as plt\n",
    "%matplotlib inline"
   ]
  },
  {
   "cell_type": "markdown",
   "metadata": {},
   "source": [
    "<img src=\"http://imgur.com/1ZcRyrc.png\" style=\"float: left; margin: 20px; height: 55px\">\n",
    "\n",
    "# Timeseries and Datetime\n",
    "\n",
    "_Authors: Samuel Stack (DC)_\n",
    "\n",
    "---\n",
    "\n",
    "### Learning Objectives\n",
    "- Use the datetime library to represent dates as objects\n",
    "- Calculate time differences with timedelta\n",
    "- Use datetime objects in pandas on the UFO dataset"
   ]
  },
  {
   "cell_type": "markdown",
   "metadata": {},
   "source": [
    "### Lesson Guide\n",
    "- [The `datetime` library](#the-datetime-library)\n",
    "- [`datetime` object](#datetime-object)\n",
    "- [`timedelta`](#timedelta)\n",
    "- [Load the UFO reports data](#load-the-ufo-reports-data)\n",
    "- [Pandas' `pd.datetime`](#pandas-pddatetime)\n",
    "\t- [The `.dt` attribute](#the-dt-attribute)\n",
    "- [Time stamps](#time-stamps)\n",
    "- [Additional resources](#additional-resources)\n"
   ]
  },
  {
   "cell_type": "markdown",
   "metadata": {},
   "source": [
    "# What is a *time series*?\n",
    "\n",
    "**Definition:** A *series* of data points listed at successive points in time.\n",
    "\n",
    "**Think of examples.**\n"
   ]
  },
  {
   "cell_type": "markdown",
   "metadata": {},
   "source": [
    "![](images/dataframe.png)"
   ]
  },
  {
   "cell_type": "markdown",
   "metadata": {},
   "source": [
    "**Time series are inevitably stored in different formats.**\n",
    "\n",
    "---\n",
    "\n",
    "![](images/weather1.png)\n",
    "\n",
    "---\n",
    "\n",
    "![](images/weather2.png)\n"
   ]
  },
  {
   "cell_type": "markdown",
   "metadata": {},
   "source": [
    "# A Surprisingly (?) Frustrating Aspect of Working with Time\n",
    "\n",
    "*Working with* **time**!!\n",
    "\n",
    "- Measurements:\n",
    "  - Year, month day\n",
    "  - Day of week\n",
    "  - Hour, minute, second, microsecond\n",
    "- Policies:\n",
    "  - Time zone, daylight savings\n",
    "\n"
   ]
  },
  {
   "cell_type": "markdown",
   "metadata": {},
   "source": [
    "# Pythonic Dates\n",
    "\n",
    "- Standard library\n",
    "  - `date`\n",
    "  - *`datetime`*\n",
    "  - `time`\n",
    "  - *`timedelta`*\n",
    "\n",
    "[https://docs.python.org/3.6/library/datetime.html](https://docs.python.org/3.6/library/datetime.html)\n"
   ]
  },
  {
   "cell_type": "markdown",
   "metadata": {},
   "source": [
    "<a id=\"the-datetime-library\"></a>\n",
    "## The `datetime` library\n",
    "---\n",
    "\n",
    "The python library `datetime` is great for dealing with time-related data. Pandas being Pandas has incorporated this `datetime` library into its own datetime series and objects.\n",
    "\n",
    "We're going to review these data types and learn a little more about them.\n",
    "- Datetime Object\n",
    "- Datetime Series\n",
    "- Time Stamp\n",
    "- Time Delta\n"
   ]
  },
  {
   "cell_type": "markdown",
   "metadata": {},
   "source": [
    "<a id=\"datetime-object\"></a>\n",
    "## `datetime` object\n",
    "---\n",
    "\n",
    "Below we can load in the datetime library. Using this we can create a datetime object by entering in the different components of the date as arguments."
   ]
  },
  {
   "cell_type": "code",
   "execution_count": 2,
   "metadata": {},
   "outputs": [],
   "source": [
    "# The Date time library is something you should already have because of Anaconda.\n",
    "from datetime import datetime\n",
    "# \n",
    "lesson_date = datetime(2012,12,21,12,21,12, 840265)"
   ]
  },
  {
   "cell_type": "code",
   "execution_count": 27,
   "metadata": {},
   "outputs": [],
   "source": [
    "tz = lesson_date.astimezone"
   ]
  },
  {
   "cell_type": "code",
   "execution_count": 29,
   "metadata": {},
   "outputs": [
    {
     "data": {
      "text/plain": [
       "840265"
      ]
     },
     "execution_count": 29,
     "metadata": {},
     "output_type": "execute_result"
    }
   ],
   "source": [
    "lesson_date.microsecond"
   ]
  },
  {
   "cell_type": "markdown",
   "metadata": {},
   "source": [
    "The components of the date are accessible via attributes of the object."
   ]
  },
  {
   "cell_type": "code",
   "execution_count": 6,
   "metadata": {},
   "outputs": [
    {
     "name": "stdout",
     "output_type": "stream",
     "text": [
      "Microsecond 840265\n",
      "Day 21\n",
      "4\n",
      "F\n"
     ]
    }
   ],
   "source": [
    "print('Microsecond', lesson_date.microsecond)\n",
    "print('Day', lesson_date.day)\n",
    "print(lesson_date.weekday())\n",
    "\n",
    "dow = ['M', 'T', 'W', 'R', 'F', 'Sa', 'Su']\n",
    "print(dow[lesson_date.weekday()])"
   ]
  },
  {
   "cell_type": "markdown",
   "metadata": {},
   "source": [
    "<a id=\"timedelta\"></a>\n",
    "## `timedelta`\n",
    "---\n",
    "\n",
    "Say we want to add time to a date or subtract time.  Maybe we are using time as an index and we want to get everything that happened a week before a specific observation.\n",
    "\n",
    "We can use a timedelta object to shift (do arithmatic, more or less) a datetime object. Here's an example:\n"
   ]
  },
  {
   "cell_type": "code",
   "execution_count": 30,
   "metadata": {},
   "outputs": [
    {
     "name": "stdout",
     "output_type": "stream",
     "text": [
      "offset days 1\n",
      "offset microseconds: 0\n"
     ]
    }
   ],
   "source": [
    "# Import timedelta from datetime library\n",
    "from datetime import timedelta\n",
    "\n",
    "# A:\n",
    "offset = timedelta(days=1, seconds=20)\n",
    "print('offset days', offset.days)\n",
    "print('offset microseconds:', offset.microseconds)"
   ]
  },
  {
   "cell_type": "code",
   "execution_count": 9,
   "metadata": {},
   "outputs": [
    {
     "data": {
      "text/plain": [
       "20"
      ]
     },
     "execution_count": 9,
     "metadata": {},
     "output_type": "execute_result"
    }
   ],
   "source": [
    "offset.seconds"
   ]
  },
  {
   "cell_type": "markdown",
   "metadata": {},
   "source": [
    "The `.now()` function of datetime will give you the datetime object of this very moment."
   ]
  },
  {
   "cell_type": "code",
   "execution_count": 18,
   "metadata": {},
   "outputs": [
    {
     "data": {
      "text/plain": [
       "datetime.datetime(2017, 12, 10, 22, 40, 3, 623150)"
      ]
     },
     "execution_count": 18,
     "metadata": {},
     "output_type": "execute_result"
    }
   ],
   "source": [
    "# A:\n",
    "now = datetime.now()\n",
    "now"
   ]
  },
  {
   "cell_type": "markdown",
   "metadata": {},
   "source": [
    "The current time is particularly useful when using timedeltas."
   ]
  },
  {
   "cell_type": "code",
   "execution_count": 19,
   "metadata": {},
   "outputs": [
    {
     "name": "stdout",
     "output_type": "stream",
     "text": [
      "Future 2017-12-11 22:40:23.623150\n",
      "Past 2017-12-09 22:39:43.623150\n"
     ]
    }
   ],
   "source": [
    "# A:\n",
    "print('Future', now+offset)\n",
    "print('Past', now-offset)"
   ]
  },
  {
   "cell_type": "code",
   "execution_count": 32,
   "metadata": {},
   "outputs": [],
   "source": [
    "offset2 = timedelta(days=34, seconds=35)"
   ]
  },
  {
   "cell_type": "code",
   "execution_count": 35,
   "metadata": {},
   "outputs": [
    {
     "data": {
      "text/plain": [
       "datetime.datetime(2017, 11, 6, 22, 39, 28, 623150)"
      ]
     },
     "execution_count": 35,
     "metadata": {},
     "output_type": "execute_result"
    }
   ],
   "source": [
    "now-offset2"
   ]
  },
  {
   "cell_type": "markdown",
   "metadata": {},
   "source": [
    "> _Note: The largest value a Time Delta can hold is 'Days'.  I.e. you can't say your want you an offset to be 2 years, 44 days and 12 hours.  You would have to manually convert the time of those years to be represented in days._\n",
    "\n",
    "You can read more about that here in the timedeltas category.\n",
    "https://docs.python.org/2/library/datetime.html"
   ]
  },
  {
   "cell_type": "markdown",
   "metadata": {},
   "source": [
    "<a id=\"load-the-ufo-reports-data\"></a>\n",
    "## Load the UFO reports data\n",
    "---\n",
    "\n",
    "We can practice using datetime functions and objects with the UFO reports data."
   ]
  },
  {
   "cell_type": "code",
   "execution_count": 36,
   "metadata": {},
   "outputs": [],
   "source": [
    "# Get a dataset from the internets\n",
    "import pandas as pd\n",
    "ufo = pd.read_csv('http://bit.ly/uforeports')"
   ]
  },
  {
   "cell_type": "code",
   "execution_count": 37,
   "metadata": {},
   "outputs": [
    {
     "data": {
      "text/html": [
       "<div>\n",
       "<style scoped>\n",
       "    .dataframe tbody tr th:only-of-type {\n",
       "        vertical-align: middle;\n",
       "    }\n",
       "\n",
       "    .dataframe tbody tr th {\n",
       "        vertical-align: top;\n",
       "    }\n",
       "\n",
       "    .dataframe thead th {\n",
       "        text-align: right;\n",
       "    }\n",
       "</style>\n",
       "<table border=\"1\" class=\"dataframe\">\n",
       "  <thead>\n",
       "    <tr style=\"text-align: right;\">\n",
       "      <th></th>\n",
       "      <th>City</th>\n",
       "      <th>Colors Reported</th>\n",
       "      <th>Shape Reported</th>\n",
       "      <th>State</th>\n",
       "      <th>Time</th>\n",
       "    </tr>\n",
       "  </thead>\n",
       "  <tbody>\n",
       "    <tr>\n",
       "      <th>0</th>\n",
       "      <td>Ithaca</td>\n",
       "      <td>NaN</td>\n",
       "      <td>TRIANGLE</td>\n",
       "      <td>NY</td>\n",
       "      <td>6/1/1930 22:00</td>\n",
       "    </tr>\n",
       "    <tr>\n",
       "      <th>1</th>\n",
       "      <td>Willingboro</td>\n",
       "      <td>NaN</td>\n",
       "      <td>OTHER</td>\n",
       "      <td>NJ</td>\n",
       "      <td>6/30/1930 20:00</td>\n",
       "    </tr>\n",
       "    <tr>\n",
       "      <th>2</th>\n",
       "      <td>Holyoke</td>\n",
       "      <td>NaN</td>\n",
       "      <td>OVAL</td>\n",
       "      <td>CO</td>\n",
       "      <td>2/15/1931 14:00</td>\n",
       "    </tr>\n",
       "    <tr>\n",
       "      <th>3</th>\n",
       "      <td>Abilene</td>\n",
       "      <td>NaN</td>\n",
       "      <td>DISK</td>\n",
       "      <td>KS</td>\n",
       "      <td>6/1/1931 13:00</td>\n",
       "    </tr>\n",
       "    <tr>\n",
       "      <th>4</th>\n",
       "      <td>New York Worlds Fair</td>\n",
       "      <td>NaN</td>\n",
       "      <td>LIGHT</td>\n",
       "      <td>NY</td>\n",
       "      <td>4/18/1933 19:00</td>\n",
       "    </tr>\n",
       "  </tbody>\n",
       "</table>\n",
       "</div>"
      ],
      "text/plain": [
       "                   City Colors Reported Shape Reported State             Time\n",
       "0                Ithaca             NaN       TRIANGLE    NY   6/1/1930 22:00\n",
       "1           Willingboro             NaN          OTHER    NJ  6/30/1930 20:00\n",
       "2               Holyoke             NaN           OVAL    CO  2/15/1931 14:00\n",
       "3               Abilene             NaN           DISK    KS   6/1/1931 13:00\n",
       "4  New York Worlds Fair             NaN          LIGHT    NY  4/18/1933 19:00"
      ]
     },
     "execution_count": 37,
     "metadata": {},
     "output_type": "execute_result"
    }
   ],
   "source": [
    "# A:\n",
    "ufo.head()"
   ]
  },
  {
   "cell_type": "code",
   "execution_count": 38,
   "metadata": {},
   "outputs": [
    {
     "data": {
      "text/plain": [
       "City               object\n",
       "Colors Reported    object\n",
       "Shape Reported     object\n",
       "State              object\n",
       "Time               object\n",
       "dtype: object"
      ]
     },
     "execution_count": 38,
     "metadata": {},
     "output_type": "execute_result"
    }
   ],
   "source": [
    "ufo.dtypes"
   ]
  },
  {
   "cell_type": "code",
   "execution_count": 41,
   "metadata": {
    "scrolled": true
   },
   "outputs": [],
   "source": [
    "ufo['Time'] = pd.to_datetime(ufo['Time'])"
   ]
  },
  {
   "cell_type": "code",
   "execution_count": 42,
   "metadata": {},
   "outputs": [
    {
     "data": {
      "text/plain": [
       "City                       object\n",
       "Colors Reported            object\n",
       "Shape Reported             object\n",
       "State                      object\n",
       "Time               datetime64[ns]\n",
       "dtype: object"
      ]
     },
     "execution_count": 42,
     "metadata": {},
     "output_type": "execute_result"
    }
   ],
   "source": [
    "ufo.dtypes #datetime 64 is a numpy object"
   ]
  },
  {
   "cell_type": "code",
   "execution_count": 45,
   "metadata": {},
   "outputs": [
    {
     "data": {
      "text/plain": [
       "Timestamp('1930-06-01 22:00:00')"
      ]
     },
     "execution_count": 45,
     "metadata": {},
     "output_type": "execute_result"
    }
   ],
   "source": [
    "ufo['Time'][0]"
   ]
  },
  {
   "cell_type": "code",
   "execution_count": 47,
   "metadata": {},
   "outputs": [
    {
     "data": {
      "text/plain": [
       "0   1930-06-01 22:00:00\n",
       "1   1930-06-30 20:00:00\n",
       "2   1931-02-15 14:00:00\n",
       "3   1931-06-01 13:00:00\n",
       "4   1933-04-18 19:00:00\n",
       "Name: Time, dtype: datetime64[ns]"
      ]
     },
     "execution_count": 47,
     "metadata": {},
     "output_type": "execute_result"
    }
   ],
   "source": [
    "ufo['Time'].head()"
   ]
  },
  {
   "cell_type": "markdown",
   "metadata": {},
   "source": [
    "The \"Time\" column starts off as just an object."
   ]
  },
  {
   "cell_type": "code",
   "execution_count": 8,
   "metadata": {
    "collapsed": true
   },
   "outputs": [],
   "source": [
    "# A:"
   ]
  },
  {
   "cell_type": "markdown",
   "metadata": {},
   "source": [
    "<a id=\"pandas-pddatetime\"></a>\n",
    "## Pandas' `pd.datetime`\n",
    "---\n",
    "\n",
    "When using pandas we can convert columns of data from string objects into date objects with the `pd.to_datetime` function.\n",
    "\n",
    "> **Note**: dates can be tricky to parse as they come in many formats. The `to_datetime` function comes with a keyword argument `infer_datetime_format` that can be particularly useful to parse dates."
   ]
  },
  {
   "cell_type": "code",
   "execution_count": 55,
   "metadata": {},
   "outputs": [],
   "source": [
    "# A:\n",
    "ufo['Time'] = pd.to_datetime(ufo.Time, format='%Y%m%d', errors='coerce')"
   ]
  },
  {
   "cell_type": "markdown",
   "metadata": {},
   "source": [
    "<a id=\"the-dt-attribute\"></a>\n",
    "### The `.dt` attribute\n",
    "\n",
    "Pandas datetime columns have a `.dt` attribute that allows you to access attributes specific to the dates. For example:\n",
    "```python\n",
    "ufo.Time.dt.day\n",
    "ufo.Time.dt.month\n",
    "ufo.Time.dt.year\n",
    "ufo.Time.dt.weekday_name\n",
    "```\n",
    "\n",
    "And many more."
   ]
  },
  {
   "cell_type": "code",
   "execution_count": 77,
   "metadata": {},
   "outputs": [
    {
     "data": {
      "text/plain": [
       "0        152\n",
       "1        181\n",
       "2         46\n",
       "3        152\n",
       "4        108\n",
       "5        258\n",
       "6        166\n",
       "7        197\n",
       "8        289\n",
       "9        166\n",
       "10       227\n",
       "11       152\n",
       "12       181\n",
       "13       188\n",
       "14       152\n",
       "15       183\n",
       "16        56\n",
       "17       152\n",
       "18       196\n",
       "19       120\n",
       "20       152\n",
       "21       227\n",
       "22       227\n",
       "23       288\n",
       "24         1\n",
       "25         1\n",
       "26         1\n",
       "27        93\n",
       "28       153\n",
       "29       182\n",
       "        ... \n",
       "18211    363\n",
       "18212    363\n",
       "18213    363\n",
       "18214    364\n",
       "18215    364\n",
       "18216    364\n",
       "18217    364\n",
       "18218    364\n",
       "18219    364\n",
       "18220    364\n",
       "18221    364\n",
       "18222    364\n",
       "18223    364\n",
       "18224    364\n",
       "18225    365\n",
       "18226    365\n",
       "18227    365\n",
       "18228    366\n",
       "18229    366\n",
       "18230    366\n",
       "18231    366\n",
       "18232    366\n",
       "18233    366\n",
       "18234    366\n",
       "18235    366\n",
       "18236    366\n",
       "18237    366\n",
       "18238    366\n",
       "18239    366\n",
       "18240    366\n",
       "Name: Time, Length: 18241, dtype: int64"
      ]
     },
     "execution_count": 77,
     "metadata": {},
     "output_type": "execute_result"
    }
   ],
   "source": [
    "ufo.Time.dt.dayofyear"
   ]
  },
  {
   "cell_type": "code",
   "execution_count": 79,
   "metadata": {},
   "outputs": [
    {
     "data": {
      "text/plain": [
       "0    6\n",
       "1    0\n",
       "2    6\n",
       "3    0\n",
       "4    1\n",
       "Name: Time, dtype: int64"
      ]
     },
     "execution_count": 79,
     "metadata": {},
     "output_type": "execute_result"
    }
   ],
   "source": [
    "# A:\n",
    "ufo.Time.dt.dayofweek.head()"
   ]
  },
  {
   "cell_type": "markdown",
   "metadata": {},
   "source": [
    "<a id=\"time-stamps\"></a>\n",
    "## Time stamps\n",
    "---\n",
    "\n",
    "Timestamps are useful objects for comparisons. You can create a timestamp object with the `pd.to_datetime` function and a string specifying the date. These timestamps are useful when you need to do logical filtering with dates."
   ]
  },
  {
   "cell_type": "code",
   "execution_count": 80,
   "metadata": {},
   "outputs": [
    {
     "data": {
      "text/plain": [
       "pandas._libs.tslib.Timestamp"
      ]
     },
     "execution_count": 80,
     "metadata": {},
     "output_type": "execute_result"
    }
   ],
   "source": [
    "# A:\n",
    "type(ufo.Time[0])"
   ]
  },
  {
   "cell_type": "code",
   "execution_count": 83,
   "metadata": {},
   "outputs": [
    {
     "name": "stdout",
     "output_type": "stream",
     "text": [
      "2000-01-01 00:00:00\n"
     ]
    }
   ],
   "source": [
    "# Use that Time Stamp for a comparison.\n",
    "ts = pd.to_datetime('1/1/1999')\n",
    "ts\n",
    "dt = datetime(2000,1,1)\n",
    "print(dt)"
   ]
  },
  {
   "cell_type": "code",
   "execution_count": 85,
   "metadata": {},
   "outputs": [
    {
     "data": {
      "text/html": [
       "<div>\n",
       "<style scoped>\n",
       "    .dataframe tbody tr th:only-of-type {\n",
       "        vertical-align: middle;\n",
       "    }\n",
       "\n",
       "    .dataframe tbody tr th {\n",
       "        vertical-align: top;\n",
       "    }\n",
       "\n",
       "    .dataframe thead th {\n",
       "        text-align: right;\n",
       "    }\n",
       "</style>\n",
       "<table border=\"1\" class=\"dataframe\">\n",
       "  <thead>\n",
       "    <tr style=\"text-align: right;\">\n",
       "      <th></th>\n",
       "      <th>City</th>\n",
       "      <th>Colors Reported</th>\n",
       "      <th>Shape Reported</th>\n",
       "      <th>State</th>\n",
       "      <th>Time</th>\n",
       "    </tr>\n",
       "  </thead>\n",
       "  <tbody>\n",
       "    <tr>\n",
       "      <th>15606</th>\n",
       "      <td>Bakersfield</td>\n",
       "      <td>NaN</td>\n",
       "      <td>NaN</td>\n",
       "      <td>CA</td>\n",
       "      <td>2000-01-01 00:01:00</td>\n",
       "    </tr>\n",
       "    <tr>\n",
       "      <th>15607</th>\n",
       "      <td>New York City</td>\n",
       "      <td>NaN</td>\n",
       "      <td>SPHERE</td>\n",
       "      <td>NY</td>\n",
       "      <td>2000-01-01 00:01:00</td>\n",
       "    </tr>\n",
       "    <tr>\n",
       "      <th>15608</th>\n",
       "      <td>Los Angeles</td>\n",
       "      <td>NaN</td>\n",
       "      <td>NaN</td>\n",
       "      <td>CA</td>\n",
       "      <td>2000-01-01 00:03:00</td>\n",
       "    </tr>\n",
       "    <tr>\n",
       "      <th>15609</th>\n",
       "      <td>San Diego</td>\n",
       "      <td>GREEN</td>\n",
       "      <td>LIGHT</td>\n",
       "      <td>CA</td>\n",
       "      <td>2000-01-01 00:23:00</td>\n",
       "    </tr>\n",
       "    <tr>\n",
       "      <th>15610</th>\n",
       "      <td>Laporte</td>\n",
       "      <td>NaN</td>\n",
       "      <td>OTHER</td>\n",
       "      <td>TX</td>\n",
       "      <td>2000-01-01 02:13:00</td>\n",
       "    </tr>\n",
       "    <tr>\n",
       "      <th>15611</th>\n",
       "      <td>Bellefontaine</td>\n",
       "      <td>RED</td>\n",
       "      <td>LIGHT</td>\n",
       "      <td>OH</td>\n",
       "      <td>2000-01-01 03:00:00</td>\n",
       "    </tr>\n",
       "    <tr>\n",
       "      <th>15612</th>\n",
       "      <td>Nellis AFB</td>\n",
       "      <td>NaN</td>\n",
       "      <td>LIGHT</td>\n",
       "      <td>NV</td>\n",
       "      <td>2000-01-01 03:30:00</td>\n",
       "    </tr>\n",
       "    <tr>\n",
       "      <th>15613</th>\n",
       "      <td>Clovis</td>\n",
       "      <td>NaN</td>\n",
       "      <td>LIGHT</td>\n",
       "      <td>CA</td>\n",
       "      <td>2000-01-01 05:00:00</td>\n",
       "    </tr>\n",
       "    <tr>\n",
       "      <th>15614</th>\n",
       "      <td>Gurnee</td>\n",
       "      <td>NaN</td>\n",
       "      <td>LIGHT</td>\n",
       "      <td>IL</td>\n",
       "      <td>2000-01-01 14:45:00</td>\n",
       "    </tr>\n",
       "    <tr>\n",
       "      <th>15615</th>\n",
       "      <td>San Francisco</td>\n",
       "      <td>NaN</td>\n",
       "      <td>LIGHT</td>\n",
       "      <td>CA</td>\n",
       "      <td>2000-01-01 16:20:00</td>\n",
       "    </tr>\n",
       "    <tr>\n",
       "      <th>15616</th>\n",
       "      <td>Medford</td>\n",
       "      <td>NaN</td>\n",
       "      <td>FORMATION</td>\n",
       "      <td>OR</td>\n",
       "      <td>2000-01-01 17:00:00</td>\n",
       "    </tr>\n",
       "    <tr>\n",
       "      <th>15617</th>\n",
       "      <td>Houston</td>\n",
       "      <td>NaN</td>\n",
       "      <td>FLASH</td>\n",
       "      <td>TX</td>\n",
       "      <td>2000-01-01 20:30:00</td>\n",
       "    </tr>\n",
       "    <tr>\n",
       "      <th>15618</th>\n",
       "      <td>Patoka</td>\n",
       "      <td>NaN</td>\n",
       "      <td>TRIANGLE</td>\n",
       "      <td>IL</td>\n",
       "      <td>2000-01-01 21:00:00</td>\n",
       "    </tr>\n",
       "    <tr>\n",
       "      <th>15619</th>\n",
       "      <td>Houston</td>\n",
       "      <td>GREEN</td>\n",
       "      <td>SPHERE</td>\n",
       "      <td>TX</td>\n",
       "      <td>2000-01-01 21:35:00</td>\n",
       "    </tr>\n",
       "    <tr>\n",
       "      <th>15620</th>\n",
       "      <td>Evansville</td>\n",
       "      <td>NaN</td>\n",
       "      <td>CIGAR</td>\n",
       "      <td>IN</td>\n",
       "      <td>2000-01-01 22:00:00</td>\n",
       "    </tr>\n",
       "    <tr>\n",
       "      <th>15621</th>\n",
       "      <td>Erath</td>\n",
       "      <td>NaN</td>\n",
       "      <td>EGG</td>\n",
       "      <td>LA</td>\n",
       "      <td>2000-01-01 23:00:00</td>\n",
       "    </tr>\n",
       "    <tr>\n",
       "      <th>15622</th>\n",
       "      <td>Coral Springs</td>\n",
       "      <td>NaN</td>\n",
       "      <td>NaN</td>\n",
       "      <td>FL</td>\n",
       "      <td>2000-01-01 23:30:00</td>\n",
       "    </tr>\n",
       "    <tr>\n",
       "      <th>15623</th>\n",
       "      <td>Jacksonville</td>\n",
       "      <td>NaN</td>\n",
       "      <td>RECTANGLE</td>\n",
       "      <td>FL</td>\n",
       "      <td>2000-01-02 00:00:00</td>\n",
       "    </tr>\n",
       "    <tr>\n",
       "      <th>15624</th>\n",
       "      <td>Mesa</td>\n",
       "      <td>NaN</td>\n",
       "      <td>OVAL</td>\n",
       "      <td>AZ</td>\n",
       "      <td>2000-01-02 00:30:00</td>\n",
       "    </tr>\n",
       "    <tr>\n",
       "      <th>15625</th>\n",
       "      <td>Chandler</td>\n",
       "      <td>NaN</td>\n",
       "      <td>DIAMOND</td>\n",
       "      <td>AZ</td>\n",
       "      <td>2000-01-02 18:30:00</td>\n",
       "    </tr>\n",
       "    <tr>\n",
       "      <th>15626</th>\n",
       "      <td>Murrieta</td>\n",
       "      <td>NaN</td>\n",
       "      <td>FIREBALL</td>\n",
       "      <td>CA</td>\n",
       "      <td>2000-01-02 19:33:00</td>\n",
       "    </tr>\n",
       "    <tr>\n",
       "      <th>15627</th>\n",
       "      <td>Kennewick</td>\n",
       "      <td>NaN</td>\n",
       "      <td>LIGHT</td>\n",
       "      <td>WA</td>\n",
       "      <td>2000-01-02 19:34:00</td>\n",
       "    </tr>\n",
       "    <tr>\n",
       "      <th>15628</th>\n",
       "      <td>Oroville</td>\n",
       "      <td>NaN</td>\n",
       "      <td>LIGHT</td>\n",
       "      <td>CA</td>\n",
       "      <td>2000-01-02 20:00:00</td>\n",
       "    </tr>\n",
       "    <tr>\n",
       "      <th>15629</th>\n",
       "      <td>Studio City</td>\n",
       "      <td>BLUE</td>\n",
       "      <td>RECTANGLE</td>\n",
       "      <td>CA</td>\n",
       "      <td>2000-01-02 21:00:00</td>\n",
       "    </tr>\n",
       "    <tr>\n",
       "      <th>15630</th>\n",
       "      <td>Anaheim Hills</td>\n",
       "      <td>GREEN</td>\n",
       "      <td>LIGHT</td>\n",
       "      <td>CA</td>\n",
       "      <td>2000-01-02 21:30:00</td>\n",
       "    </tr>\n",
       "    <tr>\n",
       "      <th>15631</th>\n",
       "      <td>Redlands</td>\n",
       "      <td>GREEN</td>\n",
       "      <td>FIREBALL</td>\n",
       "      <td>CA</td>\n",
       "      <td>2000-01-02 21:30:00</td>\n",
       "    </tr>\n",
       "    <tr>\n",
       "      <th>15632</th>\n",
       "      <td>Temecula</td>\n",
       "      <td>GREEN</td>\n",
       "      <td>FIREBALL</td>\n",
       "      <td>CA</td>\n",
       "      <td>2000-01-02 21:30:00</td>\n",
       "    </tr>\n",
       "    <tr>\n",
       "      <th>15633</th>\n",
       "      <td>Glendale</td>\n",
       "      <td>NaN</td>\n",
       "      <td>FIREBALL</td>\n",
       "      <td>CA</td>\n",
       "      <td>2000-01-02 21:33:00</td>\n",
       "    </tr>\n",
       "    <tr>\n",
       "      <th>15634</th>\n",
       "      <td>Big Bear Lake</td>\n",
       "      <td>BLUE</td>\n",
       "      <td>OTHER</td>\n",
       "      <td>CA</td>\n",
       "      <td>2000-01-02 21:35:00</td>\n",
       "    </tr>\n",
       "    <tr>\n",
       "      <th>15635</th>\n",
       "      <td>La Quinta</td>\n",
       "      <td>NaN</td>\n",
       "      <td>FORMATION</td>\n",
       "      <td>CA</td>\n",
       "      <td>2000-01-02 21:35:00</td>\n",
       "    </tr>\n",
       "    <tr>\n",
       "      <th>15636</th>\n",
       "      <td>Sanger</td>\n",
       "      <td>BLUE</td>\n",
       "      <td>OTHER</td>\n",
       "      <td>CA</td>\n",
       "      <td>2000-01-02 21:35:00</td>\n",
       "    </tr>\n",
       "    <tr>\n",
       "      <th>15637</th>\n",
       "      <td>Claremont</td>\n",
       "      <td>NaN</td>\n",
       "      <td>NaN</td>\n",
       "      <td>CA</td>\n",
       "      <td>2000-01-02 21:36:00</td>\n",
       "    </tr>\n",
       "    <tr>\n",
       "      <th>15638</th>\n",
       "      <td>Vista</td>\n",
       "      <td>NaN</td>\n",
       "      <td>DISK</td>\n",
       "      <td>CA</td>\n",
       "      <td>2000-01-02 21:37:00</td>\n",
       "    </tr>\n",
       "    <tr>\n",
       "      <th>15639</th>\n",
       "      <td>Jurupa</td>\n",
       "      <td>BLUE</td>\n",
       "      <td>LIGHT</td>\n",
       "      <td>CA</td>\n",
       "      <td>2000-01-02 21:40:00</td>\n",
       "    </tr>\n",
       "    <tr>\n",
       "      <th>15640</th>\n",
       "      <td>San Fernando Valley</td>\n",
       "      <td>NaN</td>\n",
       "      <td>TRIANGLE</td>\n",
       "      <td>CA</td>\n",
       "      <td>2000-01-02 21:40:00</td>\n",
       "    </tr>\n",
       "    <tr>\n",
       "      <th>15641</th>\n",
       "      <td>Sierra Madre</td>\n",
       "      <td>GREEN</td>\n",
       "      <td>FIREBALL</td>\n",
       "      <td>CA</td>\n",
       "      <td>2000-01-02 21:50:00</td>\n",
       "    </tr>\n",
       "    <tr>\n",
       "      <th>15642</th>\n",
       "      <td>Tustin</td>\n",
       "      <td>BLUE</td>\n",
       "      <td>LIGHT</td>\n",
       "      <td>CA</td>\n",
       "      <td>2000-01-02 22:00:00</td>\n",
       "    </tr>\n",
       "    <tr>\n",
       "      <th>15643</th>\n",
       "      <td>South Pasadena</td>\n",
       "      <td>NaN</td>\n",
       "      <td>CHEVRON</td>\n",
       "      <td>CA</td>\n",
       "      <td>2000-01-02 22:40:00</td>\n",
       "    </tr>\n",
       "    <tr>\n",
       "      <th>15644</th>\n",
       "      <td>no data</td>\n",
       "      <td>NaN</td>\n",
       "      <td>TRIANGLE</td>\n",
       "      <td>NV</td>\n",
       "      <td>2000-01-02 23:00:00</td>\n",
       "    </tr>\n",
       "    <tr>\n",
       "      <th>15645</th>\n",
       "      <td>El Centro</td>\n",
       "      <td>NaN</td>\n",
       "      <td>OTHER</td>\n",
       "      <td>CA</td>\n",
       "      <td>2000-01-03 07:30:00</td>\n",
       "    </tr>\n",
       "    <tr>\n",
       "      <th>15646</th>\n",
       "      <td>Union City</td>\n",
       "      <td>NaN</td>\n",
       "      <td>CIGAR</td>\n",
       "      <td>TN</td>\n",
       "      <td>2000-01-03 15:18:00</td>\n",
       "    </tr>\n",
       "    <tr>\n",
       "      <th>15647</th>\n",
       "      <td>West Manchester</td>\n",
       "      <td>NaN</td>\n",
       "      <td>LIGHT</td>\n",
       "      <td>OH</td>\n",
       "      <td>2000-01-03 21:30:00</td>\n",
       "    </tr>\n",
       "    <tr>\n",
       "      <th>15648</th>\n",
       "      <td>Reno</td>\n",
       "      <td>NaN</td>\n",
       "      <td>LIGHT</td>\n",
       "      <td>NV</td>\n",
       "      <td>2000-01-03 22:43:00</td>\n",
       "    </tr>\n",
       "    <tr>\n",
       "      <th>15649</th>\n",
       "      <td>Union</td>\n",
       "      <td>NaN</td>\n",
       "      <td>TRIANGLE</td>\n",
       "      <td>MO</td>\n",
       "      <td>2000-01-04 03:15:00</td>\n",
       "    </tr>\n",
       "    <tr>\n",
       "      <th>15650</th>\n",
       "      <td>Duryea</td>\n",
       "      <td>RED GREEN BLUE</td>\n",
       "      <td>OVAL</td>\n",
       "      <td>PA</td>\n",
       "      <td>2000-01-04 19:00:00</td>\n",
       "    </tr>\n",
       "    <tr>\n",
       "      <th>15651</th>\n",
       "      <td>Scottsdale</td>\n",
       "      <td>NaN</td>\n",
       "      <td>LIGHT</td>\n",
       "      <td>AZ</td>\n",
       "      <td>2000-01-04 20:30:00</td>\n",
       "    </tr>\n",
       "    <tr>\n",
       "      <th>15652</th>\n",
       "      <td>Coleman</td>\n",
       "      <td>NaN</td>\n",
       "      <td>FIREBALL</td>\n",
       "      <td>TX</td>\n",
       "      <td>2000-01-04 21:30:00</td>\n",
       "    </tr>\n",
       "    <tr>\n",
       "      <th>15653</th>\n",
       "      <td>Dupo</td>\n",
       "      <td>NaN</td>\n",
       "      <td>TRIANGLE</td>\n",
       "      <td>IL</td>\n",
       "      <td>2000-01-04 23:35:00</td>\n",
       "    </tr>\n",
       "    <tr>\n",
       "      <th>15654</th>\n",
       "      <td>Spokane</td>\n",
       "      <td>NaN</td>\n",
       "      <td>NaN</td>\n",
       "      <td>WA</td>\n",
       "      <td>2000-01-05 00:00:00</td>\n",
       "    </tr>\n",
       "    <tr>\n",
       "      <th>15655</th>\n",
       "      <td>Florissant</td>\n",
       "      <td>NaN</td>\n",
       "      <td>RECTANGLE</td>\n",
       "      <td>MO</td>\n",
       "      <td>2000-01-05 02:00:00</td>\n",
       "    </tr>\n",
       "  </tbody>\n",
       "</table>\n",
       "</div>"
      ],
      "text/plain": [
       "                      City Colors Reported Shape Reported State  \\\n",
       "15606          Bakersfield             NaN            NaN    CA   \n",
       "15607        New York City             NaN         SPHERE    NY   \n",
       "15608          Los Angeles             NaN            NaN    CA   \n",
       "15609            San Diego           GREEN          LIGHT    CA   \n",
       "15610              Laporte             NaN          OTHER    TX   \n",
       "15611        Bellefontaine             RED          LIGHT    OH   \n",
       "15612           Nellis AFB             NaN          LIGHT    NV   \n",
       "15613               Clovis             NaN          LIGHT    CA   \n",
       "15614               Gurnee             NaN          LIGHT    IL   \n",
       "15615        San Francisco             NaN          LIGHT    CA   \n",
       "15616              Medford             NaN      FORMATION    OR   \n",
       "15617              Houston             NaN          FLASH    TX   \n",
       "15618               Patoka             NaN       TRIANGLE    IL   \n",
       "15619              Houston           GREEN         SPHERE    TX   \n",
       "15620           Evansville             NaN          CIGAR    IN   \n",
       "15621                Erath             NaN            EGG    LA   \n",
       "15622        Coral Springs             NaN            NaN    FL   \n",
       "15623         Jacksonville             NaN      RECTANGLE    FL   \n",
       "15624                 Mesa             NaN           OVAL    AZ   \n",
       "15625             Chandler             NaN        DIAMOND    AZ   \n",
       "15626             Murrieta             NaN       FIREBALL    CA   \n",
       "15627            Kennewick             NaN          LIGHT    WA   \n",
       "15628             Oroville             NaN          LIGHT    CA   \n",
       "15629          Studio City            BLUE      RECTANGLE    CA   \n",
       "15630        Anaheim Hills           GREEN          LIGHT    CA   \n",
       "15631             Redlands           GREEN       FIREBALL    CA   \n",
       "15632             Temecula           GREEN       FIREBALL    CA   \n",
       "15633             Glendale             NaN       FIREBALL    CA   \n",
       "15634        Big Bear Lake            BLUE          OTHER    CA   \n",
       "15635            La Quinta             NaN      FORMATION    CA   \n",
       "15636               Sanger            BLUE          OTHER    CA   \n",
       "15637            Claremont             NaN            NaN    CA   \n",
       "15638                Vista             NaN           DISK    CA   \n",
       "15639               Jurupa            BLUE          LIGHT    CA   \n",
       "15640  San Fernando Valley             NaN       TRIANGLE    CA   \n",
       "15641         Sierra Madre           GREEN       FIREBALL    CA   \n",
       "15642               Tustin            BLUE          LIGHT    CA   \n",
       "15643       South Pasadena             NaN        CHEVRON    CA   \n",
       "15644              no data             NaN       TRIANGLE    NV   \n",
       "15645            El Centro             NaN          OTHER    CA   \n",
       "15646           Union City             NaN          CIGAR    TN   \n",
       "15647      West Manchester             NaN          LIGHT    OH   \n",
       "15648                 Reno             NaN          LIGHT    NV   \n",
       "15649                Union             NaN       TRIANGLE    MO   \n",
       "15650               Duryea  RED GREEN BLUE           OVAL    PA   \n",
       "15651           Scottsdale             NaN          LIGHT    AZ   \n",
       "15652              Coleman             NaN       FIREBALL    TX   \n",
       "15653                 Dupo             NaN       TRIANGLE    IL   \n",
       "15654              Spokane             NaN            NaN    WA   \n",
       "15655           Florissant             NaN      RECTANGLE    MO   \n",
       "\n",
       "                     Time  \n",
       "15606 2000-01-01 00:01:00  \n",
       "15607 2000-01-01 00:01:00  \n",
       "15608 2000-01-01 00:03:00  \n",
       "15609 2000-01-01 00:23:00  \n",
       "15610 2000-01-01 02:13:00  \n",
       "15611 2000-01-01 03:00:00  \n",
       "15612 2000-01-01 03:30:00  \n",
       "15613 2000-01-01 05:00:00  \n",
       "15614 2000-01-01 14:45:00  \n",
       "15615 2000-01-01 16:20:00  \n",
       "15616 2000-01-01 17:00:00  \n",
       "15617 2000-01-01 20:30:00  \n",
       "15618 2000-01-01 21:00:00  \n",
       "15619 2000-01-01 21:35:00  \n",
       "15620 2000-01-01 22:00:00  \n",
       "15621 2000-01-01 23:00:00  \n",
       "15622 2000-01-01 23:30:00  \n",
       "15623 2000-01-02 00:00:00  \n",
       "15624 2000-01-02 00:30:00  \n",
       "15625 2000-01-02 18:30:00  \n",
       "15626 2000-01-02 19:33:00  \n",
       "15627 2000-01-02 19:34:00  \n",
       "15628 2000-01-02 20:00:00  \n",
       "15629 2000-01-02 21:00:00  \n",
       "15630 2000-01-02 21:30:00  \n",
       "15631 2000-01-02 21:30:00  \n",
       "15632 2000-01-02 21:30:00  \n",
       "15633 2000-01-02 21:33:00  \n",
       "15634 2000-01-02 21:35:00  \n",
       "15635 2000-01-02 21:35:00  \n",
       "15636 2000-01-02 21:35:00  \n",
       "15637 2000-01-02 21:36:00  \n",
       "15638 2000-01-02 21:37:00  \n",
       "15639 2000-01-02 21:40:00  \n",
       "15640 2000-01-02 21:40:00  \n",
       "15641 2000-01-02 21:50:00  \n",
       "15642 2000-01-02 22:00:00  \n",
       "15643 2000-01-02 22:40:00  \n",
       "15644 2000-01-02 23:00:00  \n",
       "15645 2000-01-03 07:30:00  \n",
       "15646 2000-01-03 15:18:00  \n",
       "15647 2000-01-03 21:30:00  \n",
       "15648 2000-01-03 22:43:00  \n",
       "15649 2000-01-04 03:15:00  \n",
       "15650 2000-01-04 19:00:00  \n",
       "15651 2000-01-04 20:30:00  \n",
       "15652 2000-01-04 21:30:00  \n",
       "15653 2000-01-04 23:35:00  \n",
       "15654 2000-01-05 00:00:00  \n",
       "15655 2000-01-05 02:00:00  "
      ]
     },
     "execution_count": 85,
     "metadata": {},
     "output_type": "execute_result"
    }
   ],
   "source": [
    "ufo.loc[ufo.Time >= dt, :].head(50)"
   ]
  },
  {
   "cell_type": "markdown",
   "metadata": {},
   "source": [
    "<a id=\"additional-resources\"></a>\n",
    "## Additional resources\n",
    "---\n",
    "- search for .dt. on http://pandas.pydata.org/pandas-docs/stable/api.html for more information about pandas Datetime."
   ]
  }
 ],
 "metadata": {
  "anaconda-cloud": {},
  "kernelspec": {
   "display_name": "Python 3",
   "language": "python",
   "name": "python3"
  },
  "language_info": {
   "codemirror_mode": {
    "name": "ipython",
    "version": 3
   },
   "file_extension": ".py",
   "mimetype": "text/x-python",
   "name": "python",
   "nbconvert_exporter": "python",
   "pygments_lexer": "ipython3",
   "version": "3.6.3"
  }
 },
 "nbformat": 4,
 "nbformat_minor": 1
}
