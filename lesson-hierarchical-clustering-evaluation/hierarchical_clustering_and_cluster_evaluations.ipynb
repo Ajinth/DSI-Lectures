{
 "cells": [
  {
   "cell_type": "code",
   "execution_count": 13,
   "metadata": {},
   "outputs": [],
   "source": [
    "import matplotlib.pyplot as plt\n",
    "import seaborn as sns\n",
    "from sklearn.datasets import load_iris\n",
    "from sklearn.preprocessing import StandardScaler\n",
    "from sklearn.cluster import AgglomerativeClustering, KMeans\n",
    "from sklearn.metrics import confusion_matrix, silhouette_score\n",
    "from scipy.cluster.hierarchy import dendrogram, linkage, cophenet, fcluster\n",
    "from scipy.spatial.distance import pdist\n",
    "import numpy as np\n",
    "import pandas as pd\n",
    "\n",
    "%matplotlib inline"
   ]
  },
  {
   "cell_type": "markdown",
   "metadata": {},
   "source": [
    "# Hierarchical Clustering"
   ]
  },
  {
   "cell_type": "markdown",
   "metadata": {},
   "source": [
    "## What is it?\n",
    "\n",
    "Hierarchical clustering, like k-means clustering, is another common form of clustering analysis. With this type of clustering - we seek to do exactly what the name suggests: build hierarchies of links that ultimately form clusters. Once these links are determined, they are displayed in what is called a dendrogram - a graph that displays all of these links in a hierarchical manner.\n",
    "\n",
    "![](./images/denex.png)\n",
    "\n",
    "To find clusters in a dendrogram, we can cut the graph at a cutoff of our choosing and use that as our mechanism identify clusters - we'll go over this later in the lesson."
   ]
  },
  {
   "cell_type": "markdown",
   "metadata": {},
   "source": [
    "## How is Hierarchical Clustering Different from K-Means Clustering?\n",
    "\n",
    "Much like we learned about k-means clustering, hierarchical clustering is another method for classifying our data. If you recall, in k-means clustering, the algorithm groups data into a pre-defined set of clusters based on various attributes. However in the case of hierarchical clustering, the algorithm builds classifications trees of the data that merges groups of similar data points.\n",
    "\n",
    "With k-means, the boundaries between the various clusters are distinct and independent (see graph), whereas in hierarchical clustering, there are shared similarities between those groups that are represented by the classification tree. Going further - unlike with k-means, hierarchical clustering does not require you to define \"k\" as an input.\n",
    "\n",
    "![](./images/kmeans.png)\n",
    "\n",
    "All of these attributes can lend themselves to certain clustering situations - for instance, hierarchical clustering is more beneficial for smaller datasets - think about the complexity of a dendrogram from a 1000 point dataset! Likewise, this form of clustering works better when we have binary data or dummy variables: as k-means computes means in forming clusters, performing k-means on a dataset with a significant amount of variables would skew the resulting clusters and distributions."
   ]
  },
  {
   "cell_type": "markdown",
   "metadata": {},
   "source": [
    "## How Does Hierarchical Clustering Work? - Demo\n",
    "\n",
    "In hierarchical clustering, instead of clustering in one step, the clusters are determined over a set of steps. At each step, the algorithm makes a choice to pair up two points based on the surrounding datapoints, with the ultimate goal that these best choices will lead to the best choice of clusters overall. Given the algorithm's method of calculating linkages based on immediate datapoints, it's known as a _greedy_ algorithm.\n",
    "\n",
    "There are two forms of hierarchical clustering: **agglomerative hierarchical clustering** and **divisive hierarchical clustering**, also known as bottom-up and top-down clustering.\n",
    "\n",
    "![](./images/hier.png)\n",
    "\n",
    "Today, we're going to look at one of the most fundamental methods for agglomerative hierarchical cluster, known as linkage clustering. Linkage clustering iterates through datapoints and computes the distance between groups by computing the distance between two neighboring datapoints, using the nearest neighbor technique that was also used by KNN.\n",
    "\n",
    "To think about the difference between agglomerative vs divisive, with the former we start with the leaves of the tree and build the trunk, and with the latter we start with the trunk of the tree and build the leaves. Both methods are applicable when using hierarchical clustering, it's just a matter of computational preference!"
   ]
  },
  {
   "cell_type": "markdown",
   "metadata": {},
   "source": [
    "### Hierarchical Clustering in Python\n",
    "\n",
    "Implementing hierarchical clustering in Python involves calling a function from the SciPy library:\n",
    "\n",
    "```python\n",
    "from scipy.cluster.hierarchy import linkage\n",
    "Z = linkage(X, 'ward')\n",
    "``` \n",
    "\n",
    "Here, `X` represents the matrix of data that we are clustering, and `ward` tells our algorithm which method to use to calculate distance between our newly formed clusters - in this case Ward's Method (which seeks to minimize the variance when forming clusters). \n",
    "\n",
    "After we cluster, we can calculate the dendrogram using the `dendrogram()` function from SciPy.\n",
    "\n",
    "To check how well our algorithm has measured distance, we can use a value known as the _cophenetic correlation coefficient_. This metric, which measures the height of the dendrogram at the point where the last two branches merge, can tell us how well the dendrogram has measured the distance between data points in the original dataset (compared to their non-hierarchical distance) and is a helpful measure to see how well our clustering test has run.\n",
    "\n",
    "> In other words, is our algorithm gluing points that are far apart from each other because it has no choice left at that point or is it doing so because that would be the most appropriate pair to make?\n",
    "\n",
    "```python\n",
    "from scipy.cluster.hierarchy import cophenet\n",
    "from scipy.spatial.distance import pdist\n",
    "c, coph_dists = cophenet(Z, pdist(X))\n",
    "```\n",
    "\n",
    "Here, we call the cophenetic function using `cophenet` from SciPy and apply it to our clustered set, `Z`, and the distance of our original set, `X`.\n",
    "\n",
    "> For interpretation, higher values of the _cophenetic correlation coefficient_ are better -- it means that our algorithm has correctly put together clusters that are cohesive."
   ]
  },
  {
   "cell_type": "markdown",
   "metadata": {},
   "source": [
    "## Preparing Your Analysis & Handling Data in SciPy"
   ]
  },
  {
   "cell_type": "markdown",
   "metadata": {},
   "source": [
    "First, let's import the `iris` dataset, loading it in from the `sklearn.datasets` module:"
   ]
  },
  {
   "cell_type": "code",
   "execution_count": 14,
   "metadata": {},
   "outputs": [
    {
     "data": {
      "text/html": [
       "<div>\n",
       "<style scoped>\n",
       "    .dataframe tbody tr th:only-of-type {\n",
       "        vertical-align: middle;\n",
       "    }\n",
       "\n",
       "    .dataframe tbody tr th {\n",
       "        vertical-align: top;\n",
       "    }\n",
       "\n",
       "    .dataframe thead th {\n",
       "        text-align: right;\n",
       "    }\n",
       "</style>\n",
       "<table border=\"1\" class=\"dataframe\">\n",
       "  <thead>\n",
       "    <tr style=\"text-align: right;\">\n",
       "      <th></th>\n",
       "      <th>sepal length (cm)</th>\n",
       "      <th>sepal width (cm)</th>\n",
       "      <th>petal length (cm)</th>\n",
       "      <th>petal width (cm)</th>\n",
       "    </tr>\n",
       "  </thead>\n",
       "  <tbody>\n",
       "    <tr>\n",
       "      <th>0</th>\n",
       "      <td>5.1</td>\n",
       "      <td>3.5</td>\n",
       "      <td>1.4</td>\n",
       "      <td>0.2</td>\n",
       "    </tr>\n",
       "    <tr>\n",
       "      <th>1</th>\n",
       "      <td>4.9</td>\n",
       "      <td>3.0</td>\n",
       "      <td>1.4</td>\n",
       "      <td>0.2</td>\n",
       "    </tr>\n",
       "    <tr>\n",
       "      <th>2</th>\n",
       "      <td>4.7</td>\n",
       "      <td>3.2</td>\n",
       "      <td>1.3</td>\n",
       "      <td>0.2</td>\n",
       "    </tr>\n",
       "    <tr>\n",
       "      <th>3</th>\n",
       "      <td>4.6</td>\n",
       "      <td>3.1</td>\n",
       "      <td>1.5</td>\n",
       "      <td>0.2</td>\n",
       "    </tr>\n",
       "    <tr>\n",
       "      <th>4</th>\n",
       "      <td>5.0</td>\n",
       "      <td>3.6</td>\n",
       "      <td>1.4</td>\n",
       "      <td>0.2</td>\n",
       "    </tr>\n",
       "  </tbody>\n",
       "</table>\n",
       "</div>"
      ],
      "text/plain": [
       "   sepal length (cm)  sepal width (cm)  petal length (cm)  petal width (cm)\n",
       "0                5.1               3.5                1.4               0.2\n",
       "1                4.9               3.0                1.4               0.2\n",
       "2                4.7               3.2                1.3               0.2\n",
       "3                4.6               3.1                1.5               0.2\n",
       "4                5.0               3.6                1.4               0.2"
      ]
     },
     "execution_count": 14,
     "metadata": {},
     "output_type": "execute_result"
    }
   ],
   "source": [
    "iris = load_iris()\n",
    "df = pd.DataFrame(iris.data, columns=iris.feature_names)\n",
    "df.head()"
   ]
  },
  {
   "cell_type": "markdown",
   "metadata": {},
   "source": [
    "Let's do a couple of plots using Seaborn to give us a sense of how the clusters might naturally fall."
   ]
  },
  {
   "cell_type": "code",
   "execution_count": 4,
   "metadata": {},
   "outputs": [
    {
     "data": {
      "text/plain": [
       "<seaborn.axisgrid.JointGrid at 0x27f2efba748>"
      ]
     },
     "execution_count": 4,
     "metadata": {},
     "output_type": "execute_result"
    },
    {
     "data": {
      "image/png": "[encoded data removed]",
      "text/plain": [
       "<matplotlib.figure.Figure at 0x27f2efba5f8>"
      ]
     },
     "metadata": {},
     "output_type": "display_data"
    }
   ],
   "source": [
    "sns.jointplot(x='sepal length (cm)', y='sepal width (cm)', data=df)"
   ]
  },
  {
   "cell_type": "code",
   "execution_count": 5,
   "metadata": {},
   "outputs": [
    {
     "data": {
      "text/plain": [
       "<seaborn.axisgrid.JointGrid at 0x27f2efba208>"
      ]
     },
     "execution_count": 5,
     "metadata": {},
     "output_type": "execute_result"
    },
    {
     "data": {
      "image/png": "[encoded data removed]",
      "text/plain": [
       "<matplotlib.figure.Figure at 0x27f2efba438>"
      ]
     },
     "metadata": {},
     "output_type": "display_data"
    }
   ],
   "source": [
    "sns.jointplot(x='petal length (cm)', y='petal width (cm)', data=df)"
   ]
  },
  {
   "cell_type": "markdown",
   "metadata": {},
   "source": [
    "Now, let's convert our data to a matrix to pass to the clustering algorithm - the matrix makes it easier for our algorithm to compute distance. Additionally, we'll standardize our inputs (because we're looking at distance)."
   ]
  },
  {
   "cell_type": "code",
   "execution_count": 15,
   "metadata": {},
   "outputs": [],
   "source": [
    "ss = StandardScaler()\n",
    "X = ss.fit_transform(df)"
   ]
  },
  {
   "cell_type": "code",
   "execution_count": 17,
   "metadata": {},
   "outputs": [
    {
     "data": {
      "text/plain": [
       "array([[ -9.00681170e-01,   1.03205722e+00,  -1.34127240e+00,\n",
       "         -1.31297673e+00],\n",
       "       [ -1.14301691e+00,  -1.24957601e-01,  -1.34127240e+00,\n",
       "         -1.31297673e+00],\n",
       "       [ -1.38535265e+00,   3.37848329e-01,  -1.39813811e+00,\n",
       "         -1.31297673e+00],\n",
       "       [ -1.50652052e+00,   1.06445364e-01,  -1.28440670e+00,\n",
       "         -1.31297673e+00],\n",
       "       [ -1.02184904e+00,   1.26346019e+00,  -1.34127240e+00,\n",
       "         -1.31297673e+00],\n",
       "       [ -5.37177559e-01,   1.95766909e+00,  -1.17067529e+00,\n",
       "         -1.05003079e+00],\n",
       "       [ -1.50652052e+00,   8.00654259e-01,  -1.34127240e+00,\n",
       "         -1.18150376e+00],\n",
       "       [ -1.02184904e+00,   8.00654259e-01,  -1.28440670e+00,\n",
       "         -1.31297673e+00],\n",
       "       [ -1.74885626e+00,  -3.56360566e-01,  -1.34127240e+00,\n",
       "         -1.31297673e+00],\n",
       "       [ -1.14301691e+00,   1.06445364e-01,  -1.28440670e+00,\n",
       "         -1.44444970e+00],\n",
       "       [ -5.37177559e-01,   1.49486315e+00,  -1.28440670e+00,\n",
       "         -1.31297673e+00],\n",
       "       [ -1.26418478e+00,   8.00654259e-01,  -1.22754100e+00,\n",
       "         -1.31297673e+00],\n",
       "       [ -1.26418478e+00,  -1.24957601e-01,  -1.34127240e+00,\n",
       "         -1.44444970e+00],\n",
       "       [ -1.87002413e+00,  -1.24957601e-01,  -1.51186952e+00,\n",
       "         -1.44444970e+00],\n",
       "       [ -5.25060772e-02,   2.18907205e+00,  -1.45500381e+00,\n",
       "         -1.31297673e+00],\n",
       "       [ -1.73673948e-01,   3.11468391e+00,  -1.28440670e+00,\n",
       "         -1.05003079e+00],\n",
       "       [ -5.37177559e-01,   1.95766909e+00,  -1.39813811e+00,\n",
       "         -1.05003079e+00],\n",
       "       [ -9.00681170e-01,   1.03205722e+00,  -1.34127240e+00,\n",
       "         -1.18150376e+00],\n",
       "       [ -1.73673948e-01,   1.72626612e+00,  -1.17067529e+00,\n",
       "         -1.18150376e+00],\n",
       "       [ -9.00681170e-01,   1.72626612e+00,  -1.28440670e+00,\n",
       "         -1.18150376e+00],\n",
       "       [ -5.37177559e-01,   8.00654259e-01,  -1.17067529e+00,\n",
       "         -1.31297673e+00],\n",
       "       [ -9.00681170e-01,   1.49486315e+00,  -1.28440670e+00,\n",
       "         -1.05003079e+00],\n",
       "       [ -1.50652052e+00,   1.26346019e+00,  -1.56873522e+00,\n",
       "         -1.31297673e+00],\n",
       "       [ -9.00681170e-01,   5.69251294e-01,  -1.17067529e+00,\n",
       "         -9.18557817e-01],\n",
       "       [ -1.26418478e+00,   8.00654259e-01,  -1.05694388e+00,\n",
       "         -1.31297673e+00],\n",
       "       [ -1.02184904e+00,  -1.24957601e-01,  -1.22754100e+00,\n",
       "         -1.31297673e+00],\n",
       "       [ -1.02184904e+00,   8.00654259e-01,  -1.22754100e+00,\n",
       "         -1.05003079e+00],\n",
       "       [ -7.79513300e-01,   1.03205722e+00,  -1.28440670e+00,\n",
       "         -1.31297673e+00],\n",
       "       [ -7.79513300e-01,   8.00654259e-01,  -1.34127240e+00,\n",
       "         -1.31297673e+00],\n",
       "       [ -1.38535265e+00,   3.37848329e-01,  -1.22754100e+00,\n",
       "         -1.31297673e+00],\n",
       "       [ -1.26418478e+00,   1.06445364e-01,  -1.22754100e+00,\n",
       "         -1.31297673e+00],\n",
       "       [ -5.37177559e-01,   8.00654259e-01,  -1.28440670e+00,\n",
       "         -1.05003079e+00],\n",
       "       [ -7.79513300e-01,   2.42047502e+00,  -1.28440670e+00,\n",
       "         -1.44444970e+00],\n",
       "       [ -4.16009689e-01,   2.65187798e+00,  -1.34127240e+00,\n",
       "         -1.31297673e+00],\n",
       "       [ -1.14301691e+00,   1.06445364e-01,  -1.28440670e+00,\n",
       "         -1.44444970e+00],\n",
       "       [ -1.02184904e+00,   3.37848329e-01,  -1.45500381e+00,\n",
       "         -1.31297673e+00],\n",
       "       [ -4.16009689e-01,   1.03205722e+00,  -1.39813811e+00,\n",
       "         -1.31297673e+00],\n",
       "       [ -1.14301691e+00,   1.06445364e-01,  -1.28440670e+00,\n",
       "         -1.44444970e+00],\n",
       "       [ -1.74885626e+00,  -1.24957601e-01,  -1.39813811e+00,\n",
       "         -1.31297673e+00],\n",
       "       [ -9.00681170e-01,   8.00654259e-01,  -1.28440670e+00,\n",
       "         -1.31297673e+00],\n",
       "       [ -1.02184904e+00,   1.03205722e+00,  -1.39813811e+00,\n",
       "         -1.18150376e+00],\n",
       "       [ -1.62768839e+00,  -1.74477836e+00,  -1.39813811e+00,\n",
       "         -1.18150376e+00],\n",
       "       [ -1.74885626e+00,   3.37848329e-01,  -1.39813811e+00,\n",
       "         -1.31297673e+00],\n",
       "       [ -1.02184904e+00,   1.03205722e+00,  -1.22754100e+00,\n",
       "         -7.87084847e-01],\n",
       "       [ -9.00681170e-01,   1.72626612e+00,  -1.05694388e+00,\n",
       "         -1.05003079e+00],\n",
       "       [ -1.26418478e+00,  -1.24957601e-01,  -1.34127240e+00,\n",
       "         -1.18150376e+00],\n",
       "       [ -9.00681170e-01,   1.72626612e+00,  -1.22754100e+00,\n",
       "         -1.31297673e+00],\n",
       "       [ -1.50652052e+00,   3.37848329e-01,  -1.34127240e+00,\n",
       "         -1.31297673e+00],\n",
       "       [ -6.58345429e-01,   1.49486315e+00,  -1.28440670e+00,\n",
       "         -1.31297673e+00],\n",
       "       [ -1.02184904e+00,   5.69251294e-01,  -1.34127240e+00,\n",
       "         -1.31297673e+00],\n",
       "       [  1.40150837e+00,   3.37848329e-01,   5.35295827e-01,\n",
       "          2.64698913e-01],\n",
       "       [  6.74501145e-01,   3.37848329e-01,   4.21564419e-01,\n",
       "          3.96171883e-01],\n",
       "       [  1.28034050e+00,   1.06445364e-01,   6.49027235e-01,\n",
       "          3.96171883e-01],\n",
       "       [ -4.16009689e-01,  -1.74477836e+00,   1.37235899e-01,\n",
       "          1.33225943e-01],\n",
       "       [  7.95669016e-01,  -5.87763531e-01,   4.78430123e-01,\n",
       "          3.96171883e-01],\n",
       "       [ -1.73673948e-01,  -5.87763531e-01,   4.21564419e-01,\n",
       "          1.33225943e-01],\n",
       "       [  5.53333275e-01,   5.69251294e-01,   5.35295827e-01,\n",
       "          5.27644853e-01],\n",
       "       [ -1.14301691e+00,  -1.51337539e+00,  -2.60824029e-01,\n",
       "         -2.61192967e-01],\n",
       "       [  9.16836886e-01,  -3.56360566e-01,   4.78430123e-01,\n",
       "          1.33225943e-01],\n",
       "       [ -7.79513300e-01,  -8.19166497e-01,   8.03701950e-02,\n",
       "          2.64698913e-01],\n",
       "       [ -1.02184904e+00,  -2.43898725e+00,  -1.47092621e-01,\n",
       "         -2.61192967e-01],\n",
       "       [  6.86617933e-02,  -1.24957601e-01,   2.50967307e-01,\n",
       "          3.96171883e-01],\n",
       "       [  1.89829664e-01,  -1.97618132e+00,   1.37235899e-01,\n",
       "         -2.61192967e-01],\n",
       "       [  3.10997534e-01,  -3.56360566e-01,   5.35295827e-01,\n",
       "          2.64698913e-01],\n",
       "       [ -2.94841818e-01,  -3.56360566e-01,  -9.02269170e-02,\n",
       "          1.33225943e-01],\n",
       "       [  1.03800476e+00,   1.06445364e-01,   3.64698715e-01,\n",
       "          2.64698913e-01],\n",
       "       [ -2.94841818e-01,  -1.24957601e-01,   4.21564419e-01,\n",
       "          3.96171883e-01],\n",
       "       [ -5.25060772e-02,  -8.19166497e-01,   1.94101603e-01,\n",
       "         -2.61192967e-01],\n",
       "       [  4.32165405e-01,  -1.97618132e+00,   4.21564419e-01,\n",
       "          3.96171883e-01],\n",
       "       [ -2.94841818e-01,  -1.28197243e+00,   8.03701950e-02,\n",
       "         -1.29719997e-01],\n",
       "       [  6.86617933e-02,   3.37848329e-01,   5.92161531e-01,\n",
       "          7.90590793e-01],\n",
       "       [  3.10997534e-01,  -5.87763531e-01,   1.37235899e-01,\n",
       "          1.33225943e-01],\n",
       "       [  5.53333275e-01,  -1.28197243e+00,   6.49027235e-01,\n",
       "          3.96171883e-01],\n",
       "       [  3.10997534e-01,  -5.87763531e-01,   5.35295827e-01,\n",
       "          1.75297293e-03],\n",
       "       [  6.74501145e-01,  -3.56360566e-01,   3.07833011e-01,\n",
       "          1.33225943e-01],\n",
       "       [  9.16836886e-01,  -1.24957601e-01,   3.64698715e-01,\n",
       "          2.64698913e-01],\n",
       "       [  1.15917263e+00,  -5.87763531e-01,   5.92161531e-01,\n",
       "          2.64698913e-01],\n",
       "       [  1.03800476e+00,  -1.24957601e-01,   7.05892939e-01,\n",
       "          6.59117823e-01],\n",
       "       [  1.89829664e-01,  -3.56360566e-01,   4.21564419e-01,\n",
       "          3.96171883e-01],\n",
       "       [ -1.73673948e-01,  -1.05056946e+00,  -1.47092621e-01,\n",
       "         -2.61192967e-01],\n",
       "       [ -4.16009689e-01,  -1.51337539e+00,   2.35044910e-02,\n",
       "         -1.29719997e-01],\n",
       "       [ -4.16009689e-01,  -1.51337539e+00,  -3.33612130e-02,\n",
       "         -2.61192967e-01],\n",
       "       [ -5.25060772e-02,  -8.19166497e-01,   8.03701950e-02,\n",
       "          1.75297293e-03],\n",
       "       [  1.89829664e-01,  -8.19166497e-01,   7.62758643e-01,\n",
       "          5.27644853e-01],\n",
       "       [ -5.37177559e-01,  -1.24957601e-01,   4.21564419e-01,\n",
       "          3.96171883e-01],\n",
       "       [  1.89829664e-01,   8.00654259e-01,   4.21564419e-01,\n",
       "          5.27644853e-01],\n",
       "       [  1.03800476e+00,   1.06445364e-01,   5.35295827e-01,\n",
       "          3.96171883e-01],\n",
       "       [  5.53333275e-01,  -1.74477836e+00,   3.64698715e-01,\n",
       "          1.33225943e-01],\n",
       "       [ -2.94841818e-01,  -1.24957601e-01,   1.94101603e-01,\n",
       "          1.33225943e-01],\n",
       "       [ -4.16009689e-01,  -1.28197243e+00,   1.37235899e-01,\n",
       "          1.33225943e-01],\n",
       "       [ -4.16009689e-01,  -1.05056946e+00,   3.64698715e-01,\n",
       "          1.75297293e-03],\n",
       "       [  3.10997534e-01,  -1.24957601e-01,   4.78430123e-01,\n",
       "          2.64698913e-01],\n",
       "       [ -5.25060772e-02,  -1.05056946e+00,   1.37235899e-01,\n",
       "          1.75297293e-03],\n",
       "       [ -1.02184904e+00,  -1.74477836e+00,  -2.60824029e-01,\n",
       "         -2.61192967e-01],\n",
       "       [ -2.94841818e-01,  -8.19166497e-01,   2.50967307e-01,\n",
       "          1.33225943e-01],\n",
       "       [ -1.73673948e-01,  -1.24957601e-01,   2.50967307e-01,\n",
       "          1.75297293e-03],\n",
       "       [ -1.73673948e-01,  -3.56360566e-01,   2.50967307e-01,\n",
       "          1.33225943e-01],\n",
       "       [  4.32165405e-01,  -3.56360566e-01,   3.07833011e-01,\n",
       "          1.33225943e-01],\n",
       "       [ -9.00681170e-01,  -1.28197243e+00,  -4.31421141e-01,\n",
       "         -1.29719997e-01],\n",
       "       [ -1.73673948e-01,  -5.87763531e-01,   1.94101603e-01,\n",
       "          1.33225943e-01],\n",
       "       [  5.53333275e-01,   5.69251294e-01,   1.27454998e+00,\n",
       "          1.71090158e+00],\n",
       "       [ -5.25060772e-02,  -8.19166497e-01,   7.62758643e-01,\n",
       "          9.22063763e-01],\n",
       "       [  1.52267624e+00,  -1.24957601e-01,   1.21768427e+00,\n",
       "          1.18500970e+00],\n",
       "       [  5.53333275e-01,  -3.56360566e-01,   1.04708716e+00,\n",
       "          7.90590793e-01],\n",
       "       [  7.95669016e-01,  -1.24957601e-01,   1.16081857e+00,\n",
       "          1.31648267e+00],\n",
       "       [  2.12851559e+00,  -1.24957601e-01,   1.61574420e+00,\n",
       "          1.18500970e+00],\n",
       "       [ -1.14301691e+00,  -1.28197243e+00,   4.21564419e-01,\n",
       "          6.59117823e-01],\n",
       "       [  1.76501198e+00,  -3.56360566e-01,   1.44514709e+00,\n",
       "          7.90590793e-01],\n",
       "       [  1.03800476e+00,  -1.28197243e+00,   1.16081857e+00,\n",
       "          7.90590793e-01],\n",
       "       [  1.64384411e+00,   1.26346019e+00,   1.33141568e+00,\n",
       "          1.71090158e+00],\n",
       "       [  7.95669016e-01,   3.37848329e-01,   7.62758643e-01,\n",
       "          1.05353673e+00],\n",
       "       [  6.74501145e-01,  -8.19166497e-01,   8.76490051e-01,\n",
       "          9.22063763e-01],\n",
       "       [  1.15917263e+00,  -1.24957601e-01,   9.90221459e-01,\n",
       "          1.18500970e+00],\n",
       "       [ -1.73673948e-01,  -1.28197243e+00,   7.05892939e-01,\n",
       "          1.05353673e+00],\n",
       "       [ -5.25060772e-02,  -5.87763531e-01,   7.62758643e-01,\n",
       "          1.57942861e+00],\n",
       "       [  6.74501145e-01,   3.37848329e-01,   8.76490051e-01,\n",
       "          1.44795564e+00],\n",
       "       [  7.95669016e-01,  -1.24957601e-01,   9.90221459e-01,\n",
       "          7.90590793e-01],\n",
       "       [  2.24968346e+00,   1.72626612e+00,   1.67260991e+00,\n",
       "          1.31648267e+00],\n",
       "       [  2.24968346e+00,  -1.05056946e+00,   1.78634131e+00,\n",
       "          1.44795564e+00],\n",
       "       [  1.89829664e-01,  -1.97618132e+00,   7.05892939e-01,\n",
       "          3.96171883e-01],\n",
       "       [  1.28034050e+00,   3.37848329e-01,   1.10395287e+00,\n",
       "          1.44795564e+00],\n",
       "       [ -2.94841818e-01,  -5.87763531e-01,   6.49027235e-01,\n",
       "          1.05353673e+00],\n",
       "       [  2.24968346e+00,  -5.87763531e-01,   1.67260991e+00,\n",
       "          1.05353673e+00],\n",
       "       [  5.53333275e-01,  -8.19166497e-01,   6.49027235e-01,\n",
       "          7.90590793e-01],\n",
       "       [  1.03800476e+00,   5.69251294e-01,   1.10395287e+00,\n",
       "          1.18500970e+00],\n",
       "       [  1.64384411e+00,   3.37848329e-01,   1.27454998e+00,\n",
       "          7.90590793e-01],\n",
       "       [  4.32165405e-01,  -5.87763531e-01,   5.92161531e-01,\n",
       "          7.90590793e-01],\n",
       "       [  3.10997534e-01,  -1.24957601e-01,   6.49027235e-01,\n",
       "          7.90590793e-01],\n",
       "       [  6.74501145e-01,  -5.87763531e-01,   1.04708716e+00,\n",
       "          1.18500970e+00],\n",
       "       [  1.64384411e+00,  -1.24957601e-01,   1.16081857e+00,\n",
       "          5.27644853e-01],\n",
       "       [  1.88617985e+00,  -5.87763531e-01,   1.33141568e+00,\n",
       "          9.22063763e-01],\n",
       "       [  2.49201920e+00,   1.72626612e+00,   1.50201279e+00,\n",
       "          1.05353673e+00],\n",
       "       [  6.74501145e-01,  -5.87763531e-01,   1.04708716e+00,\n",
       "          1.31648267e+00],\n",
       "       [  5.53333275e-01,  -5.87763531e-01,   7.62758643e-01,\n",
       "          3.96171883e-01],\n",
       "       [  3.10997534e-01,  -1.05056946e+00,   1.04708716e+00,\n",
       "          2.64698913e-01],\n",
       "       [  2.24968346e+00,  -1.24957601e-01,   1.33141568e+00,\n",
       "          1.44795564e+00],\n",
       "       [  5.53333275e-01,   8.00654259e-01,   1.04708716e+00,\n",
       "          1.57942861e+00],\n",
       "       [  6.74501145e-01,   1.06445364e-01,   9.90221459e-01,\n",
       "          7.90590793e-01],\n",
       "       [  1.89829664e-01,  -1.24957601e-01,   5.92161531e-01,\n",
       "          7.90590793e-01],\n",
       "       [  1.28034050e+00,   1.06445364e-01,   9.33355755e-01,\n",
       "          1.18500970e+00],\n",
       "       [  1.03800476e+00,   1.06445364e-01,   1.04708716e+00,\n",
       "          1.57942861e+00],\n",
       "       [  1.28034050e+00,   1.06445364e-01,   7.62758643e-01,\n",
       "          1.44795564e+00],\n",
       "       [ -5.25060772e-02,  -8.19166497e-01,   7.62758643e-01,\n",
       "          9.22063763e-01],\n",
       "       [  1.15917263e+00,   3.37848329e-01,   1.21768427e+00,\n",
       "          1.44795564e+00],\n",
       "       [  1.03800476e+00,   5.69251294e-01,   1.10395287e+00,\n",
       "          1.71090158e+00],\n",
       "       [  1.03800476e+00,  -1.24957601e-01,   8.19624347e-01,\n",
       "          1.44795564e+00],\n",
       "       [  5.53333275e-01,  -1.28197243e+00,   7.05892939e-01,\n",
       "          9.22063763e-01],\n",
       "       [  7.95669016e-01,  -1.24957601e-01,   8.19624347e-01,\n",
       "          1.05353673e+00],\n",
       "       [  4.32165405e-01,   8.00654259e-01,   9.33355755e-01,\n",
       "          1.44795564e+00],\n",
       "       [  6.86617933e-02,  -1.24957601e-01,   7.62758643e-01,\n",
       "          7.90590793e-01]])"
      ]
     },
     "execution_count": 17,
     "metadata": {},
     "output_type": "execute_result"
    }
   ],
   "source": [
    "X"
   ]
  },
  {
   "cell_type": "markdown",
   "metadata": {},
   "source": [
    "Next, we'll implement the actual clustering algorithm using the ward method:"
   ]
  },
  {
   "cell_type": "code",
   "execution_count": 18,
   "metadata": {},
   "outputs": [],
   "source": [
    "Z = linkage(X, 'ward')"
   ]
  },
  {
   "cell_type": "markdown",
   "metadata": {},
   "source": [
    "Now, we can calculate the cophenetic correlation coefficient to see how well our algorithm has measured the distances between the points:"
   ]
  },
  {
   "cell_type": "code",
   "execution_count": 20,
   "metadata": {},
   "outputs": [
    {
     "name": "stdout",
     "output_type": "stream",
     "text": [
      "0.822575433145\n"
     ]
    }
   ],
   "source": [
    "C, coph_dist = cophenet(Z, pdist(X))\n",
    "print(C)"
   ]
  },
  {
   "cell_type": "code",
   "execution_count": 21,
   "metadata": {},
   "outputs": [
    {
     "name": "stdout",
     "output_type": "stream",
     "text": [
      "[ 3.93747731  3.93747731  3.93747731 ...,  8.01166643  2.30710277\n",
      "  8.01166643]\n"
     ]
    }
   ],
   "source": [
    "print(coph_dist)"
   ]
  },
  {
   "cell_type": "markdown",
   "metadata": {},
   "source": [
    "This correlation is near 1.0, which suggests that our clustering is fairly cohesive (i.e., our clusters are coherent and well-formed)."
   ]
  },
  {
   "cell_type": "markdown",
   "metadata": {},
   "source": [
    "Now, let's plot the dendrogram. To do this, we call dendrogram from scipy.cluster.hierarchy and input our links, and rotate the labels so we can view the graph in a more organized matter. We can then plot the denrogram with pyplot from matplotlib."
   ]
  },
  {
   "cell_type": "code",
   "execution_count": 22,
   "metadata": {},
   "outputs": [
    {
     "data": {
      "image/png": "[encoded data removed]",
      "text/plain": [
       "<matplotlib.figure.Figure at 0x24f7753e8d0>"
      ]
     },
     "metadata": {},
     "output_type": "display_data"
    }
   ],
   "source": [
    "fig, ax = plt.subplots(figsize=(12,12))\n",
    "plt.title('Dendrogram')\n",
    "plt.xlabel('Index Numbers')\n",
    "plt.ylabel('Distance')\n",
    "dendrogram(\n",
    "    Z,\n",
    "    leaf_rotation=90.,  \n",
    "    leaf_font_size=8,\n",
    ")\n",
    "bounds = ax.get_xbound()\n",
    "plt.plot(bounds, [7.20, 7.20], '--', c='k')\n",
    "plt.text(bounds[1], 7.20, 'three clusters', va='center', fontdict={'size':20})\n",
    "\n",
    "plt.plot(bounds, [6.4, 6.4], '--', c='k')\n",
    "plt.text(bounds[1], 6.4, 'four clusters', va='center', fontdict={'size':20})\n",
    "\n",
    "plt.plot(bounds, [6.03, 6.03], '--', c='k')\n",
    "plt.text(bounds[1], 6.03, 'five clusters', va='center', fontdict={'size':15})\n",
    "\n",
    "plt.plot(bounds, [5.9, 5.9], '--', c='k')\n",
    "plt.text(bounds[1], 5.9, 'six clusters', va='center', fontdict={'size':15})\n",
    "\n",
    "plt.plot(bounds, [5.5, 5.5], '--', c='k')\n",
    "plt.text(bounds[1], 5.5, 'seven clusters', va='center', fontdict={'size':20})\n",
    "\n",
    "plt.show()"
   ]
  },
  {
   "cell_type": "code",
   "execution_count": 23,
   "metadata": {
    "scrolled": true
   },
   "outputs": [
    {
     "data": {
      "image/png": "[encoded data removed]",
      "text/plain": [
       "<matplotlib.figure.Figure at 0x24f770eed30>"
      ]
     },
     "metadata": {},
     "output_type": "display_data"
    }
   ],
   "source": [
    "plt.figure(figsize=(16,20))\n",
    "plt.title('Dendrogram')\n",
    "plt.xlabel('Index Numbers')\n",
    "plt.ylabel('Distance')\n",
    "dendrogram(\n",
    "    Z,\n",
    "    leaf_rotation=90.,  \n",
    "    leaf_font_size=8.,\n",
    ")\n",
    "plt.show()"
   ]
  },
  {
   "cell_type": "markdown",
   "metadata": {},
   "source": [
    "How to interpret this graph:\n",
    "\n",
    "1. The values on the x-axis are the **index number** of each point.\n",
    "2. During each fitting step, the _two closest points_ are paired together.\n",
    "3. The height of the horizontal line joining two points together is the **ward** distance between those two points.\n",
    "4. Each successive step of the algorithm pairs together either:\n",
    "  - the next closest pair of points\n",
    "  - the next closest pair of clusters\n",
    "  - the next closest cluster and a point \n",
    "5. As the clusters in a given point are farther and farther from each other, the distance between them has to be bigger.\n",
    "6. If we draw a horizontal line at a given distance, we can see all the clusters that have been made below that distance. Our job as modelers is to pick an appropriate distance."
   ]
  },
  {
   "cell_type": "markdown",
   "metadata": {},
   "source": [
    "For our purposes, a distance of 10 looks to be a place where we can make a good set of clusters, so we'll set it there and have the algorithm tell us which points fall into which clusters at that point.\n",
    "\n",
    "> We may choose where to put that split at one of two ways:\n",
    ">  - How many clusters do we need for a given purpose?\n",
    ">  - What separating boundary looks the best?\n",
    "\n",
    "`clusters` will give us, in order of data points, what cluster they have been assigned to."
   ]
  },
  {
   "cell_type": "code",
   "execution_count": 25,
   "metadata": {},
   "outputs": [
    {
     "data": {
      "text/plain": [
       "array([1, 1, 1, 1, 1, 1, 1, 1, 1, 1, 1, 1, 1, 1, 1, 1, 1, 1, 1, 1, 1, 1, 1,\n",
       "       1, 1, 1, 1, 1, 1, 1, 1, 1, 1, 1, 1, 1, 1, 1, 1, 1, 1, 2, 1, 1, 1, 1,\n",
       "       1, 1, 1, 1, 3, 3, 3, 2, 3, 2, 3, 2, 3, 2, 2, 3, 2, 3, 2, 3, 2, 2, 2,\n",
       "       2, 3, 3, 3, 3, 3, 3, 3, 3, 3, 2, 2, 2, 2, 3, 2, 3, 3, 2, 2, 2, 2, 3,\n",
       "       2, 2, 2, 2, 2, 3, 2, 2, 3, 3, 3, 3, 3, 3, 2, 3, 3, 3, 3, 3, 3, 3, 3,\n",
       "       3, 3, 3, 3, 2, 3, 3, 3, 3, 3, 3, 3, 3, 3, 3, 3, 3, 3, 3, 3, 3, 3, 3,\n",
       "       3, 3, 3, 3, 3, 3, 3, 3, 3, 3, 3, 3], dtype=int32)"
      ]
     },
     "execution_count": 25,
     "metadata": {},
     "output_type": "execute_result"
    }
   ],
   "source": [
    "clusters = fcluster(Z, 10, criterion='distance')\n",
    "clusters"
   ]
  },
  {
   "cell_type": "code",
   "execution_count": 10,
   "metadata": {},
   "outputs": [
    {
     "data": {
      "text/plain": [
       "array([1, 1, 1, 1, 1, 1, 1, 1, 1, 1, 1, 1, 1, 1, 1, 1, 1, 1, 1, 1, 1, 1, 1,\n",
       "       1, 1, 1, 1, 1, 1, 1, 1, 1, 1, 1, 1, 1, 1, 1, 1, 1, 1, 2, 1, 1, 1, 1,\n",
       "       1, 1, 1, 1, 3, 3, 3, 2, 3, 2, 3, 2, 3, 2, 2, 3, 2, 3, 2, 3, 2, 2, 2,\n",
       "       2, 3, 3, 3, 3, 3, 3, 3, 3, 3, 2, 2, 2, 2, 3, 2, 3, 3, 2, 2, 2, 2, 3,\n",
       "       2, 2, 2, 2, 2, 3, 2, 2, 3, 3, 3, 3, 3, 3, 2, 3, 3, 3, 3, 3, 3, 3, 3,\n",
       "       3, 3, 3, 3, 2, 3, 3, 3, 3, 3, 3, 3, 3, 3, 3, 3, 3, 3, 3, 3, 3, 3, 3,\n",
       "       3, 3, 3, 3, 3, 3, 3, 3, 3, 3, 3, 3], dtype=int32)"
      ]
     },
     "execution_count": 10,
     "metadata": {},
     "output_type": "execute_result"
    }
   ],
   "source": [
    "max_dist = 10\n",
    "clusters = fcluster(Z, max_dist, criterion='distance')\n",
    "clusters"
   ]
  },
  {
   "cell_type": "markdown",
   "metadata": {},
   "source": [
    "Lastly, let's plot our data and assign the class labels as the color:"
   ]
  },
  {
   "cell_type": "code",
   "execution_count": 28,
   "metadata": {},
   "outputs": [
    {
     "data": {
      "text/plain": [
       "<matplotlib.collections.PathCollection at 0x24f76b60438>"
      ]
     },
     "execution_count": 28,
     "metadata": {},
     "output_type": "execute_result"
    },
    {
     "data": {
      "image/png": "[encoded data removed]",
      "text/plain": [
       "<matplotlib.figure.Figure at 0x24f779c7080>"
      ]
     },
     "metadata": {},
     "output_type": "display_data"
    }
   ],
   "source": [
    "plt.scatter(X[:, 0], X[:, 1], c=clusters, cmap='copper')"
   ]
  },
  {
   "cell_type": "markdown",
   "metadata": {},
   "source": [
    "## Check for Understanding 1 (20 Minutes)\n",
    "\n",
    "For this Check for Understanding, we will be using a (very small) dataset on countries and the languages that their citizens speak. Each row in this dataset is a country and the values in each column are the percent of speakers for that language in the country."
   ]
  },
  {
   "cell_type": "code",
   "execution_count": 30,
   "metadata": {
    "scrolled": true
   },
   "outputs": [
    {
     "data": {
      "text/html": [
       "<div>\n",
       "<style scoped>\n",
       "    .dataframe tbody tr th:only-of-type {\n",
       "        vertical-align: middle;\n",
       "    }\n",
       "\n",
       "    .dataframe tbody tr th {\n",
       "        vertical-align: top;\n",
       "    }\n",
       "\n",
       "    .dataframe thead th {\n",
       "        text-align: right;\n",
       "    }\n",
       "</style>\n",
       "<table border=\"1\" class=\"dataframe\">\n",
       "  <thead>\n",
       "    <tr style=\"text-align: right;\">\n",
       "      <th></th>\n",
       "      <th>country</th>\n",
       "      <th>finnish</th>\n",
       "      <th>swedish</th>\n",
       "      <th>danish</th>\n",
       "      <th>norwegian</th>\n",
       "      <th>english</th>\n",
       "      <th>german</th>\n",
       "      <th>dutch</th>\n",
       "      <th>flemish</th>\n",
       "      <th>french</th>\n",
       "      <th>italian</th>\n",
       "      <th>spanish</th>\n",
       "      <th>portuguese</th>\n",
       "    </tr>\n",
       "  </thead>\n",
       "  <tbody>\n",
       "    <tr>\n",
       "      <th>0</th>\n",
       "      <td>1</td>\n",
       "      <td>0</td>\n",
       "      <td>0</td>\n",
       "      <td>0</td>\n",
       "      <td>0</td>\n",
       "      <td>21</td>\n",
       "      <td>100</td>\n",
       "      <td>2</td>\n",
       "      <td>1</td>\n",
       "      <td>10</td>\n",
       "      <td>2</td>\n",
       "      <td>1</td>\n",
       "      <td>0</td>\n",
       "    </tr>\n",
       "    <tr>\n",
       "      <th>1</th>\n",
       "      <td>2</td>\n",
       "      <td>0</td>\n",
       "      <td>0</td>\n",
       "      <td>0</td>\n",
       "      <td>0</td>\n",
       "      <td>5</td>\n",
       "      <td>3</td>\n",
       "      <td>0</td>\n",
       "      <td>0</td>\n",
       "      <td>11</td>\n",
       "      <td>100</td>\n",
       "      <td>1</td>\n",
       "      <td>0</td>\n",
       "    </tr>\n",
       "    <tr>\n",
       "      <th>2</th>\n",
       "      <td>3</td>\n",
       "      <td>0</td>\n",
       "      <td>2</td>\n",
       "      <td>3</td>\n",
       "      <td>0</td>\n",
       "      <td>10</td>\n",
       "      <td>7</td>\n",
       "      <td>1</td>\n",
       "      <td>1</td>\n",
       "      <td>100</td>\n",
       "      <td>12</td>\n",
       "      <td>7</td>\n",
       "      <td>1</td>\n",
       "    </tr>\n",
       "    <tr>\n",
       "      <th>3</th>\n",
       "      <td>4</td>\n",
       "      <td>0</td>\n",
       "      <td>0</td>\n",
       "      <td>0</td>\n",
       "      <td>0</td>\n",
       "      <td>41</td>\n",
       "      <td>47</td>\n",
       "      <td>100</td>\n",
       "      <td>100</td>\n",
       "      <td>16</td>\n",
       "      <td>2</td>\n",
       "      <td>2</td>\n",
       "      <td>0</td>\n",
       "    </tr>\n",
       "    <tr>\n",
       "      <th>4</th>\n",
       "      <td>5</td>\n",
       "      <td>0</td>\n",
       "      <td>0</td>\n",
       "      <td>0</td>\n",
       "      <td>0</td>\n",
       "      <td>14</td>\n",
       "      <td>15</td>\n",
       "      <td>0</td>\n",
       "      <td>59</td>\n",
       "      <td>44</td>\n",
       "      <td>2</td>\n",
       "      <td>1</td>\n",
       "      <td>0</td>\n",
       "    </tr>\n",
       "  </tbody>\n",
       "</table>\n",
       "</div>"
      ],
      "text/plain": [
       "   country  finnish  swedish  danish  norwegian  english  german  dutch  \\\n",
       "0        1        0        0       0          0       21     100      2   \n",
       "1        2        0        0       0          0        5       3      0   \n",
       "2        3        0        2       3          0       10       7      1   \n",
       "3        4        0        0       0          0       41      47    100   \n",
       "4        5        0        0       0          0       14      15      0   \n",
       "\n",
       "   flemish  french  italian  spanish  portuguese  \n",
       "0        1      10        2        1           0  \n",
       "1        0      11      100        1           0  \n",
       "2        1     100       12        7           1  \n",
       "3      100      16        2        2           0  \n",
       "4       59      44        2        1           0  "
      ]
     },
     "execution_count": 30,
     "metadata": {},
     "output_type": "execute_result"
    }
   ],
   "source": [
    "languages = pd.read_csv('datasets/languages.csv')\n",
    "languages.head()"
   ]
  },
  {
   "cell_type": "markdown",
   "metadata": {},
   "source": [
    "Your task for this Check for Understanding is to do the following:\n",
    "\n",
    "1. Drop `country` from this dataset as it is not informative. Standardize the remaining data.\n",
    "2. Create a correlation table and heatmap. Are there any languages that appear particularly related? \n",
    "3. Use scipy to hierarchically cluster countries together.\n",
    "4. What is the cophenetic correlation coefficient of your clusters? Does this value suggest that good clusters or bad clusters were made?\n",
    "4. Display a dendrogram of the results -- in your estimation, where is a good distance to draw the clusters at?\n",
    "5. **Bonus**: Using the clusters that you have made, use Pandas and plotting to investigate your clusters. What types of countries have been grouped together?"
   ]
  },
  {
   "cell_type": "code",
   "execution_count": 32,
   "metadata": {},
   "outputs": [
    {
     "data": {
      "text/html": [
       "<div>\n",
       "<style scoped>\n",
       "    .dataframe tbody tr th:only-of-type {\n",
       "        vertical-align: middle;\n",
       "    }\n",
       "\n",
       "    .dataframe tbody tr th {\n",
       "        vertical-align: top;\n",
       "    }\n",
       "\n",
       "    .dataframe thead th {\n",
       "        text-align: right;\n",
       "    }\n",
       "</style>\n",
       "<table border=\"1\" class=\"dataframe\">\n",
       "  <thead>\n",
       "    <tr style=\"text-align: right;\">\n",
       "      <th></th>\n",
       "      <th>country</th>\n",
       "      <th>finnish</th>\n",
       "      <th>swedish</th>\n",
       "      <th>danish</th>\n",
       "      <th>norwegian</th>\n",
       "      <th>english</th>\n",
       "      <th>german</th>\n",
       "      <th>dutch</th>\n",
       "      <th>flemish</th>\n",
       "      <th>french</th>\n",
       "      <th>italian</th>\n",
       "      <th>spanish</th>\n",
       "      <th>portuguese</th>\n",
       "    </tr>\n",
       "  </thead>\n",
       "  <tbody>\n",
       "    <tr>\n",
       "      <th>0</th>\n",
       "      <td>1</td>\n",
       "      <td>0</td>\n",
       "      <td>0</td>\n",
       "      <td>0</td>\n",
       "      <td>0</td>\n",
       "      <td>21</td>\n",
       "      <td>100</td>\n",
       "      <td>2</td>\n",
       "      <td>1</td>\n",
       "      <td>10</td>\n",
       "      <td>2</td>\n",
       "      <td>1</td>\n",
       "      <td>0</td>\n",
       "    </tr>\n",
       "    <tr>\n",
       "      <th>1</th>\n",
       "      <td>2</td>\n",
       "      <td>0</td>\n",
       "      <td>0</td>\n",
       "      <td>0</td>\n",
       "      <td>0</td>\n",
       "      <td>5</td>\n",
       "      <td>3</td>\n",
       "      <td>0</td>\n",
       "      <td>0</td>\n",
       "      <td>11</td>\n",
       "      <td>100</td>\n",
       "      <td>1</td>\n",
       "      <td>0</td>\n",
       "    </tr>\n",
       "    <tr>\n",
       "      <th>2</th>\n",
       "      <td>3</td>\n",
       "      <td>0</td>\n",
       "      <td>2</td>\n",
       "      <td>3</td>\n",
       "      <td>0</td>\n",
       "      <td>10</td>\n",
       "      <td>7</td>\n",
       "      <td>1</td>\n",
       "      <td>1</td>\n",
       "      <td>100</td>\n",
       "      <td>12</td>\n",
       "      <td>7</td>\n",
       "      <td>1</td>\n",
       "    </tr>\n",
       "    <tr>\n",
       "      <th>3</th>\n",
       "      <td>4</td>\n",
       "      <td>0</td>\n",
       "      <td>0</td>\n",
       "      <td>0</td>\n",
       "      <td>0</td>\n",
       "      <td>41</td>\n",
       "      <td>47</td>\n",
       "      <td>100</td>\n",
       "      <td>100</td>\n",
       "      <td>16</td>\n",
       "      <td>2</td>\n",
       "      <td>2</td>\n",
       "      <td>0</td>\n",
       "    </tr>\n",
       "    <tr>\n",
       "      <th>4</th>\n",
       "      <td>5</td>\n",
       "      <td>0</td>\n",
       "      <td>0</td>\n",
       "      <td>0</td>\n",
       "      <td>0</td>\n",
       "      <td>14</td>\n",
       "      <td>15</td>\n",
       "      <td>0</td>\n",
       "      <td>59</td>\n",
       "      <td>44</td>\n",
       "      <td>2</td>\n",
       "      <td>1</td>\n",
       "      <td>0</td>\n",
       "    </tr>\n",
       "  </tbody>\n",
       "</table>\n",
       "</div>"
      ],
      "text/plain": [
       "   country  finnish  swedish  danish  norwegian  english  german  dutch  \\\n",
       "0        1        0        0       0          0       21     100      2   \n",
       "1        2        0        0       0          0        5       3      0   \n",
       "2        3        0        2       3          0       10       7      1   \n",
       "3        4        0        0       0          0       41      47    100   \n",
       "4        5        0        0       0          0       14      15      0   \n",
       "\n",
       "   flemish  french  italian  spanish  portuguese  \n",
       "0        1      10        2        1           0  \n",
       "1        0      11      100        1           0  \n",
       "2        1     100       12        7           1  \n",
       "3      100      16        2        2           0  \n",
       "4       59      44        2        1           0  "
      ]
     },
     "execution_count": 32,
     "metadata": {},
     "output_type": "execute_result"
    }
   ],
   "source": [
    "languages = pd.read_csv('datasets/languages.csv')\n",
    "languages.head()"
   ]
  },
  {
   "cell_type": "code",
   "execution_count": 33,
   "metadata": {},
   "outputs": [],
   "source": [
    "languages.drop('country', axis=1, inplace=True)"
   ]
  },
  {
   "cell_type": "code",
   "execution_count": 34,
   "metadata": {},
   "outputs": [
    {
     "data": {
      "text/html": [
       "<div>\n",
       "<style scoped>\n",
       "    .dataframe tbody tr th:only-of-type {\n",
       "        vertical-align: middle;\n",
       "    }\n",
       "\n",
       "    .dataframe tbody tr th {\n",
       "        vertical-align: top;\n",
       "    }\n",
       "\n",
       "    .dataframe thead th {\n",
       "        text-align: right;\n",
       "    }\n",
       "</style>\n",
       "<table border=\"1\" class=\"dataframe\">\n",
       "  <thead>\n",
       "    <tr style=\"text-align: right;\">\n",
       "      <th></th>\n",
       "      <th>finnish</th>\n",
       "      <th>swedish</th>\n",
       "      <th>danish</th>\n",
       "      <th>norwegian</th>\n",
       "      <th>english</th>\n",
       "      <th>german</th>\n",
       "      <th>dutch</th>\n",
       "      <th>flemish</th>\n",
       "      <th>french</th>\n",
       "      <th>italian</th>\n",
       "      <th>spanish</th>\n",
       "      <th>portuguese</th>\n",
       "    </tr>\n",
       "  </thead>\n",
       "  <tbody>\n",
       "    <tr>\n",
       "      <th>0</th>\n",
       "      <td>0</td>\n",
       "      <td>0</td>\n",
       "      <td>0</td>\n",
       "      <td>0</td>\n",
       "      <td>21</td>\n",
       "      <td>100</td>\n",
       "      <td>2</td>\n",
       "      <td>1</td>\n",
       "      <td>10</td>\n",
       "      <td>2</td>\n",
       "      <td>1</td>\n",
       "      <td>0</td>\n",
       "    </tr>\n",
       "    <tr>\n",
       "      <th>1</th>\n",
       "      <td>0</td>\n",
       "      <td>0</td>\n",
       "      <td>0</td>\n",
       "      <td>0</td>\n",
       "      <td>5</td>\n",
       "      <td>3</td>\n",
       "      <td>0</td>\n",
       "      <td>0</td>\n",
       "      <td>11</td>\n",
       "      <td>100</td>\n",
       "      <td>1</td>\n",
       "      <td>0</td>\n",
       "    </tr>\n",
       "    <tr>\n",
       "      <th>2</th>\n",
       "      <td>0</td>\n",
       "      <td>2</td>\n",
       "      <td>3</td>\n",
       "      <td>0</td>\n",
       "      <td>10</td>\n",
       "      <td>7</td>\n",
       "      <td>1</td>\n",
       "      <td>1</td>\n",
       "      <td>100</td>\n",
       "      <td>12</td>\n",
       "      <td>7</td>\n",
       "      <td>1</td>\n",
       "    </tr>\n",
       "    <tr>\n",
       "      <th>3</th>\n",
       "      <td>0</td>\n",
       "      <td>0</td>\n",
       "      <td>0</td>\n",
       "      <td>0</td>\n",
       "      <td>41</td>\n",
       "      <td>47</td>\n",
       "      <td>100</td>\n",
       "      <td>100</td>\n",
       "      <td>16</td>\n",
       "      <td>2</td>\n",
       "      <td>2</td>\n",
       "      <td>0</td>\n",
       "    </tr>\n",
       "    <tr>\n",
       "      <th>4</th>\n",
       "      <td>0</td>\n",
       "      <td>0</td>\n",
       "      <td>0</td>\n",
       "      <td>0</td>\n",
       "      <td>14</td>\n",
       "      <td>15</td>\n",
       "      <td>0</td>\n",
       "      <td>59</td>\n",
       "      <td>44</td>\n",
       "      <td>2</td>\n",
       "      <td>1</td>\n",
       "      <td>0</td>\n",
       "    </tr>\n",
       "  </tbody>\n",
       "</table>\n",
       "</div>"
      ],
      "text/plain": [
       "   finnish  swedish  danish  norwegian  english  german  dutch  flemish  \\\n",
       "0        0        0       0          0       21     100      2        1   \n",
       "1        0        0       0          0        5       3      0        0   \n",
       "2        0        2       3          0       10       7      1        1   \n",
       "3        0        0       0          0       41      47    100      100   \n",
       "4        0        0       0          0       14      15      0       59   \n",
       "\n",
       "   french  italian  spanish  portuguese  \n",
       "0      10        2        1           0  \n",
       "1      11      100        1           0  \n",
       "2     100       12        7           1  \n",
       "3      16        2        2           0  \n",
       "4      44        2        1           0  "
      ]
     },
     "execution_count": 34,
     "metadata": {},
     "output_type": "execute_result"
    }
   ],
   "source": [
    "languages.head()"
   ]
  },
  {
   "cell_type": "code",
   "execution_count": 35,
   "metadata": {},
   "outputs": [],
   "source": [
    "lcorr = languages.corr()"
   ]
  },
  {
   "cell_type": "code",
   "execution_count": 36,
   "metadata": {
    "scrolled": true
   },
   "outputs": [
    {
     "data": {
      "text/plain": [
       "<matplotlib.axes._subplots.AxesSubplot at 0x24f77607ef0>"
      ]
     },
     "execution_count": 36,
     "metadata": {},
     "output_type": "execute_result"
    },
    {
     "data": {
      "image/png": "[encoded data removed]",
      "text/plain": [
       "<matplotlib.figure.Figure at 0x24f77a91b00>"
      ]
     },
     "metadata": {},
     "output_type": "display_data"
    }
   ],
   "source": [
    "sns.heatmap(lcorr, annot=True)"
   ]
  },
  {
   "cell_type": "code",
   "execution_count": 50,
   "metadata": {},
   "outputs": [
    {
     "data": {
      "text/plain": [
       "<matplotlib.axes._subplots.AxesSubplot at 0x24f77c3df28>"
      ]
     },
     "execution_count": 50,
     "metadata": {},
     "output_type": "execute_result"
    },
    {
     "data": {
      "image/png": "[encoded data removed]",
      "text/plain": [
       "<matplotlib.figure.Figure at 0x24f778412e8>"
      ]
     },
     "metadata": {},
     "output_type": "display_data"
    }
   ],
   "source": [
    "sns.heatmap(lcorr, annot=True)"
   ]
  },
  {
   "cell_type": "code",
   "execution_count": 37,
   "metadata": {},
   "outputs": [
    {
     "data": {
      "text/plain": [
       "<seaborn.axisgrid.JointGrid at 0x24f779d5b38>"
      ]
     },
     "execution_count": 37,
     "metadata": {},
     "output_type": "execute_result"
    },
    {
     "data": {
      "image/png": "[encoded data removed]",
      "text/plain": [
       "<matplotlib.figure.Figure at 0x24f779d5a20>"
      ]
     },
     "metadata": {},
     "output_type": "display_data"
    }
   ],
   "source": [
    "sns.jointplot(x='dutch', y='flemish', data=languages)"
   ]
  },
  {
   "cell_type": "code",
   "execution_count": 51,
   "metadata": {},
   "outputs": [],
   "source": [
    "ss = StandardScaler()\n",
    "X = ss.fit_transform(languages)"
   ]
  },
  {
   "cell_type": "code",
   "execution_count": 52,
   "metadata": {},
   "outputs": [],
   "source": [
    "Z = linkage(X, 'ward')"
   ]
  },
  {
   "cell_type": "code",
   "execution_count": 53,
   "metadata": {},
   "outputs": [
    {
     "name": "stdout",
     "output_type": "stream",
     "text": [
      "[ 4.88353593  3.85697448  5.69414107  3.30895223  2.67653268  3.71180008\n",
      "  4.93993766  0.2230645   1.9980373   4.62153232  4.66709887  4.84519345\n",
      "  4.87757192  4.94082159  3.82610008  4.67761914  7.12051762  4.78705437\n",
      "  5.33809081  5.24942311  5.86229689  4.87719523  4.26179495  6.00778989\n",
      "  6.09481053  6.08597076  5.94976594  5.83184486  5.35279672  6.32911582\n",
      "  2.85138356  2.61979559  4.18675006  5.04420757  3.99420473  2.41607072\n",
      "  5.19184275  5.24163728  5.36903602  5.29889213  4.85201915  4.48950075\n",
      "  4.68754754  6.11662644  6.0202043   7.13051409  5.74733436  5.87655577\n",
      "  6.93335224  6.9934017   7.08557812  7.14265277  7.12516505  6.06806482\n",
      "  3.54377377  3.82994283  4.82150585  3.37056856  2.99160169  4.90653664\n",
      "  5.03051297  5.04530309  4.95688012  4.82056011  3.96450108  4.261378\n",
      "  5.64844625  2.88209638  1.21026237  5.35750093  5.33945213  5.60123269\n",
      "  5.70639073  5.67073688  4.61439162  5.22481755  3.80265911  3.85858234\n",
      "  4.5870548   4.88250876  4.91185002  5.2580597   5.27763192  0.47143542\n",
      "  4.9353841   5.07013122  5.97982097  6.13273634  6.0351339   5.9416056\n",
      "  5.82712866  5.22557018  2.16919975  4.63821207  4.68535253  4.85178135\n",
      "  4.8650678   4.9345545   3.89374262  4.90492381  4.91478525  5.12415655\n",
      "  5.15798704  5.02105424  4.15764562  4.90694681  4.78712355  5.18254032\n",
      "  6.00830107  4.59863457  4.72415557  6.01812982  6.15404303  4.91598333\n",
      "  5.94439722  6.1134744   4.91132445  5.97599969  5.24599776  5.34722767]\n"
     ]
    }
   ],
   "source": [
    "pdist()"
   ]
  },
  {
   "cell_type": "code",
   "execution_count": 54,
   "metadata": {},
   "outputs": [],
   "source": [
    "C, coph_dist = cophenet(Z, pdist(X))"
   ]
  },
  {
   "cell_type": "code",
   "execution_count": 55,
   "metadata": {},
   "outputs": [
    {
     "name": "stdout",
     "output_type": "stream",
     "text": [
      "0.768042393156\n"
     ]
    }
   ],
   "source": [
    "print(C) # suggests good clusters"
   ]
  },
  {
   "cell_type": "code",
   "execution_count": 59,
   "metadata": {},
   "outputs": [
    {
     "data": {
      "image/png": "[encoded data removed]",
      "text/plain": [
       "<matplotlib.figure.Figure at 0x24f793ab390>"
      ]
     },
     "metadata": {},
     "output_type": "display_data"
    }
   ],
   "source": [
    "%matplotlib inline\n",
    "fig, ax = plt.subplots(figsize=(12,12))\n",
    "plt.title('Dendrogram')\n",
    "plt.xlabel('Index Numbers')\n",
    "plt.ylabel('Distance')\n",
    "dendrogram(\n",
    "    Z,\n",
    "    leaf_rotation=90.,  \n",
    "    leaf_font_size=8,\n",
    ")\n",
    "plt.show()"
   ]
  },
  {
   "cell_type": "code",
   "execution_count": 72,
   "metadata": {},
   "outputs": [],
   "source": [
    "languages['clusters'] = fcluster(Z, 6, criterion='distance')"
   ]
  },
  {
   "cell_type": "code",
   "execution_count": 74,
   "metadata": {
    "scrolled": true
   },
   "outputs": [
    {
     "data": {
      "text/html": [
       "<div>\n",
       "<style scoped>\n",
       "    .dataframe tbody tr th:only-of-type {\n",
       "        vertical-align: middle;\n",
       "    }\n",
       "\n",
       "    .dataframe tbody tr th {\n",
       "        vertical-align: top;\n",
       "    }\n",
       "\n",
       "    .dataframe thead th {\n",
       "        text-align: right;\n",
       "    }\n",
       "</style>\n",
       "<table border=\"1\" class=\"dataframe\">\n",
       "  <thead>\n",
       "    <tr style=\"text-align: right;\">\n",
       "      <th></th>\n",
       "      <th>finnish</th>\n",
       "      <th>swedish</th>\n",
       "      <th>danish</th>\n",
       "      <th>norwegian</th>\n",
       "      <th>english</th>\n",
       "      <th>german</th>\n",
       "      <th>dutch</th>\n",
       "      <th>flemish</th>\n",
       "      <th>french</th>\n",
       "      <th>italian</th>\n",
       "      <th>spanish</th>\n",
       "      <th>portuguese</th>\n",
       "      <th>clusters</th>\n",
       "    </tr>\n",
       "  </thead>\n",
       "  <tbody>\n",
       "    <tr>\n",
       "      <th>6</th>\n",
       "      <td>0</td>\n",
       "      <td>0</td>\n",
       "      <td>0</td>\n",
       "      <td>0</td>\n",
       "      <td>100</td>\n",
       "      <td>7</td>\n",
       "      <td>0</td>\n",
       "      <td>0</td>\n",
       "      <td>15</td>\n",
       "      <td>3</td>\n",
       "      <td>2</td>\n",
       "      <td>0</td>\n",
       "      <td>1</td>\n",
       "    </tr>\n",
       "    <tr>\n",
       "      <th>15</th>\n",
       "      <td>0</td>\n",
       "      <td>0</td>\n",
       "      <td>0</td>\n",
       "      <td>0</td>\n",
       "      <td>100</td>\n",
       "      <td>1</td>\n",
       "      <td>0</td>\n",
       "      <td>0</td>\n",
       "      <td>2</td>\n",
       "      <td>0</td>\n",
       "      <td>0</td>\n",
       "      <td>0</td>\n",
       "      <td>1</td>\n",
       "    </tr>\n",
       "    <tr>\n",
       "      <th>10</th>\n",
       "      <td>5</td>\n",
       "      <td>100</td>\n",
       "      <td>10</td>\n",
       "      <td>11</td>\n",
       "      <td>43</td>\n",
       "      <td>25</td>\n",
       "      <td>0</td>\n",
       "      <td>0</td>\n",
       "      <td>6</td>\n",
       "      <td>1</td>\n",
       "      <td>1</td>\n",
       "      <td>0</td>\n",
       "      <td>2</td>\n",
       "    </tr>\n",
       "    <tr>\n",
       "      <th>11</th>\n",
       "      <td>0</td>\n",
       "      <td>22</td>\n",
       "      <td>100</td>\n",
       "      <td>20</td>\n",
       "      <td>38</td>\n",
       "      <td>36</td>\n",
       "      <td>1</td>\n",
       "      <td>1</td>\n",
       "      <td>10</td>\n",
       "      <td>3</td>\n",
       "      <td>1</td>\n",
       "      <td>0</td>\n",
       "      <td>2</td>\n",
       "    </tr>\n",
       "    <tr>\n",
       "      <th>12</th>\n",
       "      <td>0</td>\n",
       "      <td>25</td>\n",
       "      <td>19</td>\n",
       "      <td>100</td>\n",
       "      <td>34</td>\n",
       "      <td>19</td>\n",
       "      <td>0</td>\n",
       "      <td>0</td>\n",
       "      <td>4</td>\n",
       "      <td>1</td>\n",
       "      <td>0</td>\n",
       "      <td>1</td>\n",
       "      <td>2</td>\n",
       "    </tr>\n",
       "  </tbody>\n",
       "</table>\n",
       "</div>"
      ],
      "text/plain": [
       "    finnish  swedish  danish  norwegian  english  german  dutch  flemish  \\\n",
       "6         0        0       0          0      100       7      0        0   \n",
       "15        0        0       0          0      100       1      0        0   \n",
       "10        5      100      10         11       43      25      0        0   \n",
       "11        0       22     100         20       38      36      1        1   \n",
       "12        0       25      19        100       34      19      0        0   \n",
       "\n",
       "    french  italian  spanish  portuguese  clusters  \n",
       "6       15        3        2           0         1  \n",
       "15       2        0        0           0         1  \n",
       "10       6        1        1           0         2  \n",
       "11      10        3        1           0         2  \n",
       "12       4        1        0           1         2  "
      ]
     },
     "execution_count": 74,
     "metadata": {},
     "output_type": "execute_result"
    }
   ],
   "source": [
    "languages.sort_values('clusters').head()"
   ]
  },
  {
   "cell_type": "code",
   "execution_count": 75,
   "metadata": {},
   "outputs": [
    {
     "data": {
      "text/plain": [
       "3    7\n",
       "2    3\n",
       "4    2\n",
       "1    2\n",
       "6    1\n",
       "5    1\n",
       "Name: clusters, dtype: int64"
      ]
     },
     "execution_count": 75,
     "metadata": {},
     "output_type": "execute_result"
    }
   ],
   "source": [
    "languages['clusters'].value_counts()"
   ]
  },
  {
   "cell_type": "code",
   "execution_count": 21,
   "metadata": {
    "collapsed": true
   },
   "outputs": [],
   "source": [
    "X = ss.transform(languages)\n",
    "\n",
    "Z = linkage(X, 'ward')"
   ]
  },
  {
   "cell_type": "code",
   "execution_count": 22,
   "metadata": {
    "collapsed": true
   },
   "outputs": [],
   "source": [
    "c, coph_dists = cophenet(Z, pdist(X))"
   ]
  },
  {
   "cell_type": "code",
   "execution_count": 23,
   "metadata": {},
   "outputs": [
    {
     "name": "stdout",
     "output_type": "stream",
     "text": [
      "0.768042393156\n"
     ]
    }
   ],
   "source": [
    "print(c)"
   ]
  },
  {
   "cell_type": "code",
   "execution_count": 33,
   "metadata": {},
   "outputs": [
    {
     "data": {
      "image/png": "[encoded data removed]",
      "text/plain": [
       "<matplotlib.figure.Figure at 0x27f350ffdd8>"
      ]
     },
     "metadata": {},
     "output_type": "display_data"
    }
   ],
   "source": [
    "plt.figure(figsize=(16,20))\n",
    "plt.title('Dendrogram')\n",
    "plt.xlabel('Index Numbers')\n",
    "plt.ylabel('Distance')\n",
    "dendrogram(\n",
    "    Z,\n",
    "    leaf_rotation=90.,  \n",
    "    leaf_font_size=8.,\n",
    ")\n",
    "plt.show()"
   ]
  },
  {
   "cell_type": "code",
   "execution_count": 35,
   "metadata": {},
   "outputs": [
    {
     "data": {
      "image/png": "[encoded data removed]",
      "text/plain": [
       "<matplotlib.figure.Figure at 0x27f3529c908>"
      ]
     },
     "metadata": {},
     "output_type": "display_data"
    }
   ],
   "source": [
    "fig, ax = plt.subplots(figsize=(12,12))\n",
    "plt.title('Dendrogram')\n",
    "plt.xlabel('Index Numbers')\n",
    "plt.ylabel('Distance')\n",
    "dendrogram(\n",
    "    Z,\n",
    "    leaf_rotation=90.,  \n",
    "    leaf_font_size=8,\n",
    ")\n",
    "bounds = ax.get_xbound()\n",
    "plt.plot(bounds, [7.20, 7.20], '--', c='k')\n",
    "plt.text(bounds[1], 7.20, 'three clusters', va='center', fontdict={'size':20})\n",
    "\n",
    "plt.plot(bounds, [6.4, 6.4], '--', c='k')\n",
    "plt.text(bounds[1], 6.4, 'four clusters', va='center', fontdict={'size':20})\n",
    "\n",
    "plt.plot(bounds, [6.03, 6.03], '--', c='k')\n",
    "plt.text(bounds[1], 6.03, 'five clusters', va='center', fontdict={'size':15})\n",
    "\n",
    "plt.plot(bounds, [5.9, 5.9], '--', c='k')\n",
    "plt.text(bounds[1], 5.9, 'six clusters', va='center', fontdict={'size':15})\n",
    "\n",
    "plt.plot(bounds, [5.5, 5.5], '--', c='k')\n",
    "plt.text(bounds[1], 5.5, 'seven clusters', va='center', fontdict={'size':20})\n",
    "\n",
    "plt.show()"
   ]
  },
  {
   "cell_type": "code",
   "execution_count": 25,
   "metadata": {},
   "outputs": [
    {
     "data": {
      "text/plain": [
       "array([1, 1, 1, 1, 1, 1, 1, 1, 1, 1, 1, 1, 1, 1, 1, 1], dtype=int32)"
      ]
     },
     "execution_count": 25,
     "metadata": {},
     "output_type": "execute_result"
    }
   ],
   "source": [
    "max_dist = 10\n",
    "clusters = fcluster(Z, max_dist, criterion='distance')\n",
    "clusters"
   ]
  },
  {
   "cell_type": "code",
   "execution_count": 26,
   "metadata": {},
   "outputs": [
    {
     "data": {
      "image/png": "[encoded data removed]",
      "text/plain": [
       "<matplotlib.figure.Figure at 0x27f33f635f8>"
      ]
     },
     "metadata": {},
     "output_type": "display_data"
    }
   ],
   "source": [
    "plt.scatter(X[:,0], X[:,1], c=clusters, cmap='copper')\n",
    "plt.xlabel('First Column')\n",
    "plt.ylabel('Second Column')\n",
    "plt.show()"
   ]
  },
  {
   "cell_type": "code",
   "execution_count": 77,
   "metadata": {},
   "outputs": [
    {
     "name": "stdout",
     "output_type": "stream",
     "text": [
      "Score at 4 clusters 0.0700767013391\n",
      "Score at 2 clusters 0.120177783717\n"
     ]
    }
   ],
   "source": [
    "languages.head()\n",
    "\n",
    "from sklearn.metrics import silhouette_score\n",
    "\n",
    "kmeans = KMeans(n_clusters=4)\n",
    "kmeans.fit(X)\n",
    "labels = kmeans.predict(X)\n",
    "print('Score at 4 clusters', silhouette_score(X, labels))\n",
    "\n",
    "kmeans = KMeans(n_clusters=2)\n",
    "kmeans.fit(X)\n",
    "labels = kmeans.predict(X)\n",
    "print('Score at 2 clusters', silhouette_score(X, labels))"
   ]
  },
  {
   "cell_type": "markdown",
   "metadata": {},
   "source": [
    "### Hierarchical Clustering in sklearn\n",
    "\n",
    "Scikit-learn also offers a hierarchical clustering algorithm known as [`AgglomerativeClustering`](http://scikit-learn.org/stable/modules/generated/sklearn.cluster.AgglomerativeClustering.html):\n",
    "\n",
    "`AgglomerativeClustering` optionally takes a few different parameters, but most important is the `n_clusters` parameter -- once the algorithm has fit the clusters (such as with the dendrogram), it prunes back those clusters until it hits the number of clusters specified by that parameter. It defaults to using Ward linkage, but this can be changed if required.\n",
    "\n",
    "There's a little more control (but less deployability) in the scipy version (as well as the very useful dendrogram) but ultimately, the scikit-learn version may be easier to use, given how similar it is to other sklearn techniques we've covered in the past."
   ]
  },
  {
   "cell_type": "markdown",
   "metadata": {},
   "source": [
    "We'll show a brief example using the Iris dataset:"
   ]
  },
  {
   "cell_type": "code",
   "execution_count": 78,
   "metadata": {},
   "outputs": [
    {
     "data": {
      "text/html": [
       "<div>\n",
       "<style scoped>\n",
       "    .dataframe tbody tr th:only-of-type {\n",
       "        vertical-align: middle;\n",
       "    }\n",
       "\n",
       "    .dataframe tbody tr th {\n",
       "        vertical-align: top;\n",
       "    }\n",
       "\n",
       "    .dataframe thead th {\n",
       "        text-align: right;\n",
       "    }\n",
       "</style>\n",
       "<table border=\"1\" class=\"dataframe\">\n",
       "  <thead>\n",
       "    <tr style=\"text-align: right;\">\n",
       "      <th></th>\n",
       "      <th>sepal length (cm)</th>\n",
       "      <th>sepal width (cm)</th>\n",
       "      <th>petal length (cm)</th>\n",
       "      <th>petal width (cm)</th>\n",
       "    </tr>\n",
       "  </thead>\n",
       "  <tbody>\n",
       "    <tr>\n",
       "      <th>0</th>\n",
       "      <td>5.1</td>\n",
       "      <td>3.5</td>\n",
       "      <td>1.4</td>\n",
       "      <td>0.2</td>\n",
       "    </tr>\n",
       "    <tr>\n",
       "      <th>1</th>\n",
       "      <td>4.9</td>\n",
       "      <td>3.0</td>\n",
       "      <td>1.4</td>\n",
       "      <td>0.2</td>\n",
       "    </tr>\n",
       "    <tr>\n",
       "      <th>2</th>\n",
       "      <td>4.7</td>\n",
       "      <td>3.2</td>\n",
       "      <td>1.3</td>\n",
       "      <td>0.2</td>\n",
       "    </tr>\n",
       "    <tr>\n",
       "      <th>3</th>\n",
       "      <td>4.6</td>\n",
       "      <td>3.1</td>\n",
       "      <td>1.5</td>\n",
       "      <td>0.2</td>\n",
       "    </tr>\n",
       "    <tr>\n",
       "      <th>4</th>\n",
       "      <td>5.0</td>\n",
       "      <td>3.6</td>\n",
       "      <td>1.4</td>\n",
       "      <td>0.2</td>\n",
       "    </tr>\n",
       "  </tbody>\n",
       "</table>\n",
       "</div>"
      ],
      "text/plain": [
       "   sepal length (cm)  sepal width (cm)  petal length (cm)  petal width (cm)\n",
       "0                5.1               3.5                1.4               0.2\n",
       "1                4.9               3.0                1.4               0.2\n",
       "2                4.7               3.2                1.3               0.2\n",
       "3                4.6               3.1                1.5               0.2\n",
       "4                5.0               3.6                1.4               0.2"
      ]
     },
     "execution_count": 78,
     "metadata": {},
     "output_type": "execute_result"
    }
   ],
   "source": [
    "df.head()"
   ]
  },
  {
   "cell_type": "markdown",
   "metadata": {},
   "source": [
    "We'll begin by standardizing the data:"
   ]
  },
  {
   "cell_type": "code",
   "execution_count": 80,
   "metadata": {},
   "outputs": [],
   "source": [
    "ss= StandardScaler()\n",
    "X = ss.fit_transform(df)"
   ]
  },
  {
   "cell_type": "markdown",
   "metadata": {},
   "source": [
    "Next we'll ask `AgglomerativeClustering` to return back two clusters for Iris:"
   ]
  },
  {
   "cell_type": "code",
   "execution_count": 93,
   "metadata": {},
   "outputs": [],
   "source": [
    "ag = AgglomerativeClustering(n_clusters=3)\n",
    "ag.fit(X)\n",
    "predicted_labels = ag.labels_"
   ]
  },
  {
   "cell_type": "code",
   "execution_count": 94,
   "metadata": {},
   "outputs": [
    {
     "data": {
      "text/plain": [
       "array([1, 1, 1, 1, 1, 1, 1, 1, 1, 1, 1, 1, 1, 1, 1, 1, 1, 1, 1, 1, 1, 1, 1,\n",
       "       1, 1, 1, 1, 1, 1, 1, 1, 1, 1, 1, 1, 1, 1, 1, 1, 1, 1, 2, 1, 1, 1, 1,\n",
       "       1, 1, 1, 1, 0, 0, 0, 2, 0, 2, 0, 2, 0, 2, 2, 0, 2, 0, 2, 0, 2, 2, 2,\n",
       "       2, 0, 0, 0, 0, 0, 0, 0, 0, 0, 2, 2, 2, 2, 0, 2, 0, 0, 2, 2, 2, 2, 0,\n",
       "       2, 2, 2, 2, 2, 0, 2, 2, 0, 0, 0, 0, 0, 0, 2, 0, 0, 0, 0, 0, 0, 0, 0,\n",
       "       0, 0, 0, 0, 2, 0, 0, 0, 0, 0, 0, 0, 0, 0, 0, 0, 0, 0, 0, 0, 0, 0, 0,\n",
       "       0, 0, 0, 0, 0, 0, 0, 0, 0, 0, 0, 0], dtype=int64)"
      ]
     },
     "execution_count": 94,
     "metadata": {},
     "output_type": "execute_result"
    }
   ],
   "source": [
    "predicted_labels"
   ]
  },
  {
   "cell_type": "markdown",
   "metadata": {},
   "source": [
    "We could plot these labels as before:"
   ]
  },
  {
   "cell_type": "code",
   "execution_count": 95,
   "metadata": {
    "scrolled": false
   },
   "outputs": [
    {
     "data": {
      "text/plain": [
       "<matplotlib.collections.PathCollection at 0x24f790f1128>"
      ]
     },
     "execution_count": 95,
     "metadata": {},
     "output_type": "execute_result"
    },
    {
     "data": {
      "image/png": "[encoded data removed]",
      "text/plain": [
       "<matplotlib.figure.Figure at 0x24f79399588>"
      ]
     },
     "metadata": {},
     "output_type": "display_data"
    }
   ],
   "source": [
    "plt.scatter(X[:, 0], X[:, 1], c=predicted_labels, cmap='copper')"
   ]
  },
  {
   "cell_type": "code",
   "execution_count": 101,
   "metadata": {},
   "outputs": [
    {
     "data": {
      "text/plain": [
       "<matplotlib.legend.Legend at 0x24f77ae7470>"
      ]
     },
     "execution_count": 101,
     "metadata": {},
     "output_type": "execute_result"
    },
    {
     "data": {
      "image/png": "[encoded data removed]",
      "text/plain": [
       "<matplotlib.figure.Figure at 0x24f77ab9208>"
      ]
     },
     "metadata": {},
     "output_type": "display_data"
    }
   ],
   "source": [
    "df['predicted_labels'] = predicted_labels\n",
    "for group,color in zip([0,1,2],\n",
    "                      ['red', 'green', 'blue']):\n",
    "    temp_df = df.loc[(df['predicted_labels'] == group)]\n",
    "    plt.scatter(temp_df['sepal length (cm)'],\n",
    "                temp_df['sepal width (cm)'],\n",
    "                color=color,\n",
    "                label='group {}'.format(group))\n",
    "plt.title('Iris dataset sepal length vs. sepal width')\n",
    "plt.xlabel('Sepal Length (cm)')\n",
    "plt.ylabel('sepal width (cm)')\n",
    "plt.legend()"
   ]
  },
  {
   "cell_type": "code",
   "execution_count": 31,
   "metadata": {},
   "outputs": [
    {
     "name": "stdout",
     "output_type": "stream",
     "text": [
      "{0, 1}\n"
     ]
    },
    {
     "data": {
      "text/plain": [
       "<matplotlib.legend.Legend at 0x27f332873c8>"
      ]
     },
     "execution_count": 31,
     "metadata": {},
     "output_type": "execute_result"
    },
    {
     "data": {
      "image/png": "[encoded data removed]",
      "text/plain": [
       "<matplotlib.figure.Figure at 0x27f336ad2b0>"
      ]
     },
     "metadata": {},
     "output_type": "display_data"
    }
   ],
   "source": [
    "print(set(predicted_labels))\n",
    "df['predicted_labels'] = predicted_labels\n",
    "for group, color in zip([0, 1, 2], \n",
    "                        ['red', 'green', 'blue']):\n",
    "    temp_df = df.loc[(df['predicted_labels'] == group)]\n",
    "    plt.scatter(temp_df['sepal length (cm)'],\n",
    "               temp_df['sepal width (cm)'],\n",
    "               color=color,\n",
    "               label='group {}'.format(group))\n",
    "    \n",
    "plt.title('Iris Dataset Sepal Length v Sepal Width')\n",
    "plt.xlabel('Sepal Length (cm)')\n",
    "plt.ylabel('Sepal Width (cm)')\n",
    "plt.legend()"
   ]
  },
  {
   "cell_type": "code",
   "execution_count": null,
   "metadata": {
    "collapsed": true
   },
   "outputs": [],
   "source": []
  },
  {
   "cell_type": "markdown",
   "metadata": {},
   "source": [
    "Unfortunately, sklearn's form of agglomerative clustering doesn't really give us much of an opportuntity to consider how good (or poorly) 2 clusters fits (versus some other number of clusters). Scipy's `dendrogram` gives us a much better visual display and cna help us make decisions that way. \n",
    "\n",
    "I'll typically use both -- scipy to help me figure out what a good amount of clusters might be (for example, if there is a very large distance separating the next set of clusters from being joined, that might be a good cutoff). I'll do the actual fitting in sklearn to take advantage of things like a standard API, `Pipeline` objects, etc. afterwards."
   ]
  },
  {
   "cell_type": "markdown",
   "metadata": {},
   "source": [
    "## Check for Understanding 2 (20 Minutes)\n",
    "\n",
    "In this Check for Understanding, we will be using a dataset from the UCI MLR on weekly prices on the [Dow Jones](https://archive.ics.uci.edu/ml/datasets/Dow+Jones+Index) -- it contains 750 weekly observations of stocks on the Dow Jones stock index. Those stocks available during the data were collected are:\n",
    "\n",
    "\t\t3M\t\t \tMMM\n",
    "\t\tAmerican Express \tAXP\n",
    "\t\tAlcoa\t\t\tAA\n",
    "\t\tAT&T \t\t\tT\n",
    "\t\tBank of America\t\tBAC\n",
    "\t\tBoeing \t\t \tBA\n",
    "\t\tCaterpillar \t \tCAT\n",
    "\t\tChevron \t \tCVX\n",
    "\t\tCisco Systems \t\tCSCO\n",
    "\t\tCoca-Cola \t \tKO\n",
    "\t\tDuPont \t\t \tDD\n",
    "\t\tExxonMobil \t \tXOM\n",
    "\t\tGeneral Electric \tGE\n",
    "\t\tHewlett-Packard\t\tHPQ\n",
    "\t\tThe Home Depot \t \tHD\n",
    "\t\tIntel \t\t \tINTC\n",
    "\t\tIBM \t\t \tIBM\n",
    "\t\tJohnson & Johnson \tJNJ\t\n",
    "\t\tJPMorgan Chase \t \tJPM\n",
    "\t\tKraft\t\t\tKRFT\n",
    "\t\tMcDonald's \t\tMCD\n",
    "\t\tMerck \t\t \tMRK\n",
    "\t\tMicrosoft \t \tMSFT\n",
    "\t\tPfizer \t\t \tPFE\n",
    "\t\tProcter & Gamble \tPG\n",
    "\t\tTravelers \t \tTRV\n",
    "\t\tUnited Technologies \tUTX\n",
    "\t\tVerizon \t \tVZ\n",
    "\t\tWal-Mart \t \tWMT\n",
    "\t\tWalt Disney \t \tDIS\n",
    "        \n",
    "And the features in the dataset are:\n",
    "\n",
    " - `quarter`:  the yearly quarter (1 = Jan-Mar; 2 = Apr=Jun).\n",
    " - `stock`: the stock symbol (see above)\n",
    " - `date`: the last business day of the work (this is typically a Friday)\n",
    " - `open`: the price of the stock at the beginning of the week\n",
    " - `high`: the highest price of the stock during the week\n",
    " - `low`: the lowest price of the stock during the week\n",
    " - `close`: the price of the stock at the end of the week\n",
    " - `volume`: the number of shares of stock that traded hands in the week\n",
    " - `percent_change_price`: the percentage change in price throughout the week\n",
    "percent_chagne_volume_over_last_wek: the percentage change in the number of shares of stock that traded  - `hands` for this week compared to the previous week\n",
    " - `previous_weeks_volume`: the number of shares of stock that traded hands in the previous week\n",
    " - `next_weeks_open`: the opening price of the stock in the following week\n",
    " - `next_weeks_close`: the closing price of the stock in the following week\n",
    "percent_change_next_weeks_price: the percentage change in price of the stock in the following week  - `days_to_next_dividend`: the number of days until the next dividend\n",
    " - `percent_return_next_dividend`: the percentage of return on the next dividend"
   ]
  },
  {
   "cell_type": "code",
   "execution_count": 148,
   "metadata": {},
   "outputs": [
    {
     "data": {
      "text/html": [
       "<div>\n",
       "<style scoped>\n",
       "    .dataframe tbody tr th:only-of-type {\n",
       "        vertical-align: middle;\n",
       "    }\n",
       "\n",
       "    .dataframe tbody tr th {\n",
       "        vertical-align: top;\n",
       "    }\n",
       "\n",
       "    .dataframe thead th {\n",
       "        text-align: right;\n",
       "    }\n",
       "</style>\n",
       "<table border=\"1\" class=\"dataframe\">\n",
       "  <thead>\n",
       "    <tr style=\"text-align: right;\">\n",
       "      <th></th>\n",
       "      <th>quarter</th>\n",
       "      <th>stock</th>\n",
       "      <th>date</th>\n",
       "      <th>open</th>\n",
       "      <th>high</th>\n",
       "      <th>low</th>\n",
       "      <th>close</th>\n",
       "      <th>volume</th>\n",
       "      <th>percent_change_price</th>\n",
       "      <th>percent_change_volume_over_last_wk</th>\n",
       "      <th>previous_weeks_volume</th>\n",
       "      <th>next_weeks_open</th>\n",
       "      <th>next_weeks_close</th>\n",
       "      <th>percent_change_next_weeks_price</th>\n",
       "      <th>days_to_next_dividend</th>\n",
       "      <th>percent_return_next_dividend</th>\n",
       "    </tr>\n",
       "  </thead>\n",
       "  <tbody>\n",
       "    <tr>\n",
       "      <th>0</th>\n",
       "      <td>1</td>\n",
       "      <td>AA</td>\n",
       "      <td>1/7/2011</td>\n",
       "      <td>$15.82</td>\n",
       "      <td>$16.72</td>\n",
       "      <td>$15.78</td>\n",
       "      <td>$16.42</td>\n",
       "      <td>239655616</td>\n",
       "      <td>3.79267</td>\n",
       "      <td>NaN</td>\n",
       "      <td>NaN</td>\n",
       "      <td>$16.71</td>\n",
       "      <td>$15.97</td>\n",
       "      <td>-4.428490</td>\n",
       "      <td>26</td>\n",
       "      <td>0.182704</td>\n",
       "    </tr>\n",
       "    <tr>\n",
       "      <th>1</th>\n",
       "      <td>1</td>\n",
       "      <td>AA</td>\n",
       "      <td>1/14/2011</td>\n",
       "      <td>$16.71</td>\n",
       "      <td>$16.71</td>\n",
       "      <td>$15.64</td>\n",
       "      <td>$15.97</td>\n",
       "      <td>242963398</td>\n",
       "      <td>-4.42849</td>\n",
       "      <td>1.380223</td>\n",
       "      <td>239655616.0</td>\n",
       "      <td>$16.19</td>\n",
       "      <td>$15.79</td>\n",
       "      <td>-2.470660</td>\n",
       "      <td>19</td>\n",
       "      <td>0.187852</td>\n",
       "    </tr>\n",
       "    <tr>\n",
       "      <th>2</th>\n",
       "      <td>1</td>\n",
       "      <td>AA</td>\n",
       "      <td>1/21/2011</td>\n",
       "      <td>$16.19</td>\n",
       "      <td>$16.38</td>\n",
       "      <td>$15.60</td>\n",
       "      <td>$15.79</td>\n",
       "      <td>138428495</td>\n",
       "      <td>-2.47066</td>\n",
       "      <td>-43.024959</td>\n",
       "      <td>242963398.0</td>\n",
       "      <td>$15.87</td>\n",
       "      <td>$16.13</td>\n",
       "      <td>1.638310</td>\n",
       "      <td>12</td>\n",
       "      <td>0.189994</td>\n",
       "    </tr>\n",
       "    <tr>\n",
       "      <th>3</th>\n",
       "      <td>1</td>\n",
       "      <td>AA</td>\n",
       "      <td>1/28/2011</td>\n",
       "      <td>$15.87</td>\n",
       "      <td>$16.63</td>\n",
       "      <td>$15.82</td>\n",
       "      <td>$16.13</td>\n",
       "      <td>151379173</td>\n",
       "      <td>1.63831</td>\n",
       "      <td>9.355500</td>\n",
       "      <td>138428495.0</td>\n",
       "      <td>$16.18</td>\n",
       "      <td>$17.14</td>\n",
       "      <td>5.933250</td>\n",
       "      <td>5</td>\n",
       "      <td>0.185989</td>\n",
       "    </tr>\n",
       "    <tr>\n",
       "      <th>4</th>\n",
       "      <td>1</td>\n",
       "      <td>AA</td>\n",
       "      <td>2/4/2011</td>\n",
       "      <td>$16.18</td>\n",
       "      <td>$17.39</td>\n",
       "      <td>$16.18</td>\n",
       "      <td>$17.14</td>\n",
       "      <td>154387761</td>\n",
       "      <td>5.93325</td>\n",
       "      <td>1.987452</td>\n",
       "      <td>151379173.0</td>\n",
       "      <td>$17.33</td>\n",
       "      <td>$17.37</td>\n",
       "      <td>0.230814</td>\n",
       "      <td>97</td>\n",
       "      <td>0.175029</td>\n",
       "    </tr>\n",
       "  </tbody>\n",
       "</table>\n",
       "</div>"
      ],
      "text/plain": [
       "   quarter stock       date    open    high     low   close     volume  \\\n",
       "0        1    AA   1/7/2011  $15.82  $16.72  $15.78  $16.42  239655616   \n",
       "1        1    AA  1/14/2011  $16.71  $16.71  $15.64  $15.97  242963398   \n",
       "2        1    AA  1/21/2011  $16.19  $16.38  $15.60  $15.79  138428495   \n",
       "3        1    AA  1/28/2011  $15.87  $16.63  $15.82  $16.13  151379173   \n",
       "4        1    AA   2/4/2011  $16.18  $17.39  $16.18  $17.14  154387761   \n",
       "\n",
       "   percent_change_price  percent_change_volume_over_last_wk  \\\n",
       "0               3.79267                                 NaN   \n",
       "1              -4.42849                            1.380223   \n",
       "2              -2.47066                          -43.024959   \n",
       "3               1.63831                            9.355500   \n",
       "4               5.93325                            1.987452   \n",
       "\n",
       "   previous_weeks_volume next_weeks_open next_weeks_close  \\\n",
       "0                    NaN          $16.71           $15.97   \n",
       "1            239655616.0          $16.19           $15.79   \n",
       "2            242963398.0          $15.87           $16.13   \n",
       "3            138428495.0          $16.18           $17.14   \n",
       "4            151379173.0          $17.33           $17.37   \n",
       "\n",
       "   percent_change_next_weeks_price  days_to_next_dividend  \\\n",
       "0                        -4.428490                     26   \n",
       "1                        -2.470660                     19   \n",
       "2                         1.638310                     12   \n",
       "3                         5.933250                      5   \n",
       "4                         0.230814                     97   \n",
       "\n",
       "   percent_return_next_dividend  \n",
       "0                      0.182704  \n",
       "1                      0.187852  \n",
       "2                      0.189994  \n",
       "3                      0.185989  \n",
       "4                      0.175029  "
      ]
     },
     "execution_count": 148,
     "metadata": {},
     "output_type": "execute_result"
    }
   ],
   "source": [
    "stocks = pd.read_csv('datasets/dow_jones_index.csv')\n",
    "stocks.head()"
   ]
  },
  {
   "cell_type": "markdown",
   "metadata": {},
   "source": [
    "Please attempt the following questions on your own:\n",
    "\n",
    "1. What data cleaning (missing data, identifiers, data encoded as strings, etc.) do you need to do to prepare this for clustering? Make those changes. Standardize your remaining features.\n",
    "2. Use scipy to cluster and answer the following questions:\n",
    "    1. What is the cophenetic correlation coefficient? What does it tell you about the clusters you've made?\n",
    "    2. Plot a dendrogram. What appears to be a good number of clusters? \n",
    "3. Use sklearn to fit a model with your chosen number of clusters (number of stocks in the dataset). Use Pandas and / or plotting to investigate the clusters you have made. What, if any, trends do you find?"
   ]
  },
  {
   "cell_type": "code",
   "execution_count": 150,
   "metadata": {},
   "outputs": [],
   "source": [
    "stocks.dtypes\n",
    "for x in ['open', 'high', 'low', 'close', 'next_weeks_open', 'next_weeks_close']:\n",
    "    stocks[x] = stocks[x].apply(lambda x: float(x.replace('$','')))"
   ]
  },
  {
   "cell_type": "code",
   "execution_count": 151,
   "metadata": {},
   "outputs": [
    {
     "data": {
      "text/plain": [
       "quarter                                0\n",
       "stock                                  0\n",
       "date                                   0\n",
       "open                                   0\n",
       "high                                   0\n",
       "low                                    0\n",
       "close                                  0\n",
       "volume                                 0\n",
       "percent_change_price                   0\n",
       "percent_change_volume_over_last_wk    30\n",
       "previous_weeks_volume                 30\n",
       "next_weeks_open                        0\n",
       "next_weeks_close                       0\n",
       "percent_change_next_weeks_price        0\n",
       "days_to_next_dividend                  0\n",
       "percent_return_next_dividend           0\n",
       "dtype: int64"
      ]
     },
     "execution_count": 151,
     "metadata": {},
     "output_type": "execute_result"
    }
   ],
   "source": [
    "stocks.isnull().sum()"
   ]
  },
  {
   "cell_type": "code",
   "execution_count": 152,
   "metadata": {},
   "outputs": [],
   "source": [
    "for x in ['percent_change_volume_over_last_wk', 'previous_weeks_volume']:\n",
    "    stocks[x].fillna(0, inplace=True)"
   ]
  },
  {
   "cell_type": "code",
   "execution_count": 157,
   "metadata": {
    "scrolled": true
   },
   "outputs": [
    {
     "data": {
      "text/plain": [
       "quarter                               0\n",
       "stock                                 0\n",
       "date                                  0\n",
       "open                                  0\n",
       "high                                  0\n",
       "low                                   0\n",
       "close                                 0\n",
       "volume                                0\n",
       "percent_change_price                  0\n",
       "percent_change_volume_over_last_wk    0\n",
       "previous_weeks_volume                 0\n",
       "next_weeks_open                       0\n",
       "next_weeks_close                      0\n",
       "percent_change_next_weeks_price       0\n",
       "days_to_next_dividend                 0\n",
       "percent_return_next_dividend          0\n",
       "dtype: int64"
      ]
     },
     "execution_count": 157,
     "metadata": {},
     "output_type": "execute_result"
    }
   ],
   "source": [
    "stocks.isnull().sum()"
   ]
  },
  {
   "cell_type": "code",
   "execution_count": 162,
   "metadata": {},
   "outputs": [],
   "source": [
    "X = stocks[[col for col in stocks if col not in ['quarter', 'stock', 'date']]]"
   ]
  },
  {
   "cell_type": "code",
   "execution_count": 165,
   "metadata": {},
   "outputs": [
    {
     "data": {
      "text/plain": [
       "open                                  0\n",
       "high                                  0\n",
       "low                                   0\n",
       "close                                 0\n",
       "volume                                0\n",
       "percent_change_price                  0\n",
       "percent_change_volume_over_last_wk    0\n",
       "previous_weeks_volume                 0\n",
       "next_weeks_open                       0\n",
       "next_weeks_close                      0\n",
       "percent_change_next_weeks_price       0\n",
       "days_to_next_dividend                 0\n",
       "percent_return_next_dividend          0\n",
       "dtype: int64"
      ]
     },
     "execution_count": 165,
     "metadata": {},
     "output_type": "execute_result"
    }
   ],
   "source": [
    "X.isnull().sum()"
   ]
  },
  {
   "cell_type": "code",
   "execution_count": 166,
   "metadata": {},
   "outputs": [],
   "source": [
    "ss = StandardScaler()\n",
    "Xs = ss.fit_transform(X)"
   ]
  },
  {
   "cell_type": "code",
   "execution_count": 167,
   "metadata": {},
   "outputs": [
    {
     "name": "stdout",
     "output_type": "stream",
     "text": [
      "0.442062419385\n"
     ]
    }
   ],
   "source": [
    "Z = linkage(Xs, 'ward')\n",
    "C, coph_dist = cophenet(Z, pdist(Xs))\n",
    "print(C)"
   ]
  },
  {
   "cell_type": "code",
   "execution_count": 169,
   "metadata": {},
   "outputs": [
    {
     "data": {
      "image/png": "[encoded data removed]",
      "text/plain": [
       "<matplotlib.figure.Figure at 0x24f79c93a58>"
      ]
     },
     "metadata": {},
     "output_type": "display_data"
    }
   ],
   "source": [
    "fig, ax = plt.subplots(figsize=(12,12))\n",
    "plt.title('Dendrogram')\n",
    "plt.xlabel('Index Numbers')\n",
    "plt.ylabel('Distance')\n",
    "dendrogram(\n",
    "    Z,\n",
    "    leaf_rotation=90.,  \n",
    "    leaf_font_size=8,\n",
    ")\n",
    "plt.show()"
   ]
  },
  {
   "cell_type": "code",
   "execution_count": 230,
   "metadata": {},
   "outputs": [],
   "source": [
    "ag = AgglomerativeClustering(n_clusters=5)\n",
    "ag.fit(Xs)\n",
    "predict_labels = ag.labels_"
   ]
  },
  {
   "cell_type": "code",
   "execution_count": 231,
   "metadata": {
    "scrolled": true
   },
   "outputs": [
    {
     "ename": "AttributeError",
     "evalue": "'numpy.ndarray' object has no attribute 'values'",
     "output_type": "error",
     "traceback": [
      "\u001b[1;31m---------------------------------------------------------------------------\u001b[0m",
      "\u001b[1;31mAttributeError\u001b[0m                            Traceback (most recent call last)",
      "\u001b[1;32m<ipython-input-231-b1c85260a8df>\u001b[0m in \u001b[0;36m<module>\u001b[1;34m()\u001b[0m\n\u001b[1;32m----> 1\u001b[1;33m \u001b[0mpredict_labels\u001b[0m\u001b[1;33m.\u001b[0m\u001b[0mvalues\u001b[0m\u001b[1;33m\u001b[0m\u001b[0m\n\u001b[0m",
      "\u001b[1;31mAttributeError\u001b[0m: 'numpy.ndarray' object has no attribute 'values'"
     ]
    }
   ],
   "source": [
    "predict_labels.values"
   ]
  },
  {
   "cell_type": "code",
   "execution_count": 232,
   "metadata": {},
   "outputs": [],
   "source": [
    "stocks['clusters'] = predict_labels"
   ]
  },
  {
   "cell_type": "code",
   "execution_count": 235,
   "metadata": {},
   "outputs": [
    {
     "data": {
      "text/plain": [
       "0    356\n",
       "1    319\n",
       "3     26\n",
       "2     25\n",
       "4     24\n",
       "Name: clusters, dtype: int64"
      ]
     },
     "execution_count": 235,
     "metadata": {},
     "output_type": "execute_result"
    }
   ],
   "source": [
    "stocks['clusters'].value_counts()"
   ]
  },
  {
   "cell_type": "code",
   "execution_count": null,
   "metadata": {},
   "outputs": [],
   "source": []
  },
  {
   "cell_type": "code",
   "execution_count": 238,
   "metadata": {},
   "outputs": [
    {
     "data": {
      "image/png": "[encoded data removed]",
      "text/plain": [
       "<matplotlib.figure.Figure at 0x24f7a4d5128>"
      ]
     },
     "metadata": {},
     "output_type": "display_data"
    },
    {
     "data": {
      "image/png": "[encoded data removed]",
      "text/plain": [
       "<matplotlib.figure.Figure at 0x24f7a99fba8>"
      ]
     },
     "metadata": {},
     "output_type": "display_data"
    }
   ],
   "source": [
    "plt.figure(figsize=(10, 6))\n",
    "for color, cluster in zip(['red', 'orange', 'green', 'purple', 'blue'], [0, 1, 2, 3, 4]):\n",
    "    clustered_df = stocks.loc[(stocks['clusters'] == cluster)]\n",
    "    plt.scatter(clustered_df['open'], clustered_df['close'], c=color, alpha=0.5, label='Cluster {}'.format(cluster))\n",
    "plt.ylabel('High price')\n",
    "plt.xlabel('Low price')\n",
    "plt.legend()\n",
    "plt.show()\n",
    "sns.boxplot(x='clusters', y='volume', data=stocks)\n",
    "plt.ticklabel_format(style='plain', axis='y')"
   ]
  },
  {
   "cell_type": "code",
   "execution_count": 197,
   "metadata": {},
   "outputs": [
    {
     "data": {
      "text/plain": [
       "<matplotlib.axes._subplots.AxesSubplot at 0x24f7a2f56a0>"
      ]
     },
     "execution_count": 197,
     "metadata": {},
     "output_type": "execute_result"
    },
    {
     "data": {
      "image/png": "[encoded data removed]",
      "text/plain": [
       "<matplotlib.figure.Figure at 0x24f7a1b8c50>"
      ]
     },
     "metadata": {},
     "output_type": "display_data"
    }
   ],
   "source": [
    "sns.boxplot(x='predicted_labels', y='volume', data=stocks)"
   ]
  },
  {
   "cell_type": "markdown",
   "metadata": {},
   "source": [
    "# Cluster Evaluations\n",
    "\n",
    "As we don't have a real version of \"the truth\" (like we do in a structured machine learning world), it's important to really dive into how we assess and discuss clusters that we have created.\n",
    "\n",
    "In this section, we're going to identify a few techniques that you can do to evaluate how well (or poorly) your clusters fit. However, because we don't know the \"true\" values for our clusters, ultimately **we** will be the ones making the determination of whether or not to keep fitting a clustering algorithm. There is no objective truth that we'll be able to use to judge our goodness of fit. "
   ]
  },
  {
   "cell_type": "markdown",
   "metadata": {},
   "source": [
    "### Visually Evaluating Clusters\n",
    "\n",
    "When evaluating clusters, the best and easiest method when the data allows is to visually examine the output of the clustering algorithm. After we run the algorithm, we can plot the clusters to see where the clusters are and if they make sense. \n",
    "\n",
    "It can be tricky to plot out data that has >2 dimensions (as sadly, we're limited to 3 dimensions for sight) -- there are some options around that (in practice, dimensionality reduction techniques such as t-SNE or PCA, or plotting various dimensions against each other) but those techniques can also be sensitive to hyperparameters or feature selection.\n",
    "\n",
    "Scatterplots and boxplots (in particular) can be very useful in these cases."
   ]
  },
  {
   "cell_type": "markdown",
   "metadata": {},
   "source": [
    "### Evaluating Clusters without a ground truth -- Silhouette Score\n",
    "\n",
    "The silhouette evaluates the validity of your model's clusters based on the ideas of cohesion and separation.\n",
    "\n",
    "#### Cohesion\n",
    "\n",
    "Cohesion measures clustering effectiveness within a cluster. It is calculated:\n",
    "\n",
    "- C: a given cluster\n",
    "- c: the centroid of that cluster\n",
    "- d: distance metric (such as euclidian)\n",
    "- x: observation\n",
    "- $\\in$: a set of / containing\n",
    "\n",
    "$$ \\hat{C}(C_i) = \\sum_{x \\in C_i} d(x, c_i)$$\n",
    "\n",
    "#### Separation\n",
    "\n",
    "Separation measures clustering effectiveness between clusters. It is calculated (using the same notation as above):\n",
    "\n",
    "$$ \\hat{S}(C_i, C_j) = d(c_i, c_j) $$\n",
    "\n",
    "($i$ and $j$ denote two different clusters)\n",
    "\n",
    "![](images/cohesion.jpg)"
   ]
  },
  {
   "cell_type": "markdown",
   "metadata": {},
   "source": [
    "#### Silhouette coefficient\n",
    "\n",
    "The silhouette coefficient combines the cohesion and the separation into a single metric:\n",
    "\n",
    "$$ SC_i = \\frac{b_i - a_i}{\\max({a_i, b_i})}$$\n",
    "\n",
    "- $a_i$ = mean intra-cluster distance of the sample to others within the cluster (cohesion)\n",
    "- $b_i$= the mean nearest-cluster distance from the sample to those within the nearest non-assigned cluster (separation)\n",
    "\n",
    "The coefficient ranges from -1 to 1:\n",
    "\n",
    "- A score of 1 indicates the maximum cohesion and separation of clusters.\n",
    "- A score of -1 indicates the minimum cohesion and separation of clusters.\n",
    "\n",
    "![](./images/sil_coef_visual.jpg)"
   ]
  },
  {
   "cell_type": "markdown",
   "metadata": {},
   "source": [
    "When you calculate the silhouette score using sklearn you get out a single number. This is the average silhouette score for all of the individual observations.\n",
    "\n",
    "In general, we want separation to be high and cohesion to be low. This corresponds to a value of SC close to +1.\n",
    "\n",
    "A negative silhouette coefficient means the cluster radius is larger than the space between clusters, and thus clusters overlap. Another way to think about this is that negative values indicate that non-assigned clusters are more similar than the assigned cluster.\n",
    "\n",
    "We can use the silhouette coefficient to determine an number of clusters. **It is important to keep in mind that this is still a subjective measure and not an official measure of quality. It can help you but it's no substitute for knowing your data.**\n",
    "\n",
    "Visually inspecting your data and evaluating how the silhouette changes across numbers of clusters can give you a rough sense of the quality for K clusters in terms in cohesion and seperation."
   ]
  },
  {
   "cell_type": "code",
   "execution_count": 199,
   "metadata": {},
   "outputs": [
    {
     "data": {
      "text/html": [
       "<div>\n",
       "<style scoped>\n",
       "    .dataframe tbody tr th:only-of-type {\n",
       "        vertical-align: middle;\n",
       "    }\n",
       "\n",
       "    .dataframe tbody tr th {\n",
       "        vertical-align: top;\n",
       "    }\n",
       "\n",
       "    .dataframe thead th {\n",
       "        text-align: right;\n",
       "    }\n",
       "</style>\n",
       "<table border=\"1\" class=\"dataframe\">\n",
       "  <thead>\n",
       "    <tr style=\"text-align: right;\">\n",
       "      <th></th>\n",
       "      <th>finnish</th>\n",
       "      <th>swedish</th>\n",
       "      <th>danish</th>\n",
       "      <th>norwegian</th>\n",
       "      <th>english</th>\n",
       "      <th>german</th>\n",
       "      <th>dutch</th>\n",
       "      <th>flemish</th>\n",
       "      <th>french</th>\n",
       "      <th>italian</th>\n",
       "      <th>spanish</th>\n",
       "      <th>portuguese</th>\n",
       "      <th>clusters</th>\n",
       "    </tr>\n",
       "  </thead>\n",
       "  <tbody>\n",
       "    <tr>\n",
       "      <th>0</th>\n",
       "      <td>0</td>\n",
       "      <td>0</td>\n",
       "      <td>0</td>\n",
       "      <td>0</td>\n",
       "      <td>21</td>\n",
       "      <td>100</td>\n",
       "      <td>2</td>\n",
       "      <td>1</td>\n",
       "      <td>10</td>\n",
       "      <td>2</td>\n",
       "      <td>1</td>\n",
       "      <td>0</td>\n",
       "      <td>3</td>\n",
       "    </tr>\n",
       "    <tr>\n",
       "      <th>1</th>\n",
       "      <td>0</td>\n",
       "      <td>0</td>\n",
       "      <td>0</td>\n",
       "      <td>0</td>\n",
       "      <td>5</td>\n",
       "      <td>3</td>\n",
       "      <td>0</td>\n",
       "      <td>0</td>\n",
       "      <td>11</td>\n",
       "      <td>100</td>\n",
       "      <td>1</td>\n",
       "      <td>0</td>\n",
       "      <td>3</td>\n",
       "    </tr>\n",
       "    <tr>\n",
       "      <th>2</th>\n",
       "      <td>0</td>\n",
       "      <td>2</td>\n",
       "      <td>3</td>\n",
       "      <td>0</td>\n",
       "      <td>10</td>\n",
       "      <td>7</td>\n",
       "      <td>1</td>\n",
       "      <td>1</td>\n",
       "      <td>100</td>\n",
       "      <td>12</td>\n",
       "      <td>7</td>\n",
       "      <td>1</td>\n",
       "      <td>3</td>\n",
       "    </tr>\n",
       "    <tr>\n",
       "      <th>3</th>\n",
       "      <td>0</td>\n",
       "      <td>0</td>\n",
       "      <td>0</td>\n",
       "      <td>0</td>\n",
       "      <td>41</td>\n",
       "      <td>47</td>\n",
       "      <td>100</td>\n",
       "      <td>100</td>\n",
       "      <td>16</td>\n",
       "      <td>2</td>\n",
       "      <td>2</td>\n",
       "      <td>0</td>\n",
       "      <td>6</td>\n",
       "    </tr>\n",
       "    <tr>\n",
       "      <th>4</th>\n",
       "      <td>0</td>\n",
       "      <td>0</td>\n",
       "      <td>0</td>\n",
       "      <td>0</td>\n",
       "      <td>14</td>\n",
       "      <td>15</td>\n",
       "      <td>0</td>\n",
       "      <td>59</td>\n",
       "      <td>44</td>\n",
       "      <td>2</td>\n",
       "      <td>1</td>\n",
       "      <td>0</td>\n",
       "      <td>3</td>\n",
       "    </tr>\n",
       "  </tbody>\n",
       "</table>\n",
       "</div>"
      ],
      "text/plain": [
       "   finnish  swedish  danish  norwegian  english  german  dutch  flemish  \\\n",
       "0        0        0       0          0       21     100      2        1   \n",
       "1        0        0       0          0        5       3      0        0   \n",
       "2        0        2       3          0       10       7      1        1   \n",
       "3        0        0       0          0       41      47    100      100   \n",
       "4        0        0       0          0       14      15      0       59   \n",
       "\n",
       "   french  italian  spanish  portuguese  clusters  \n",
       "0      10        2        1           0         3  \n",
       "1      11      100        1           0         3  \n",
       "2     100       12        7           1         3  \n",
       "3      16        2        2           0         6  \n",
       "4      44        2        1           0         3  "
      ]
     },
     "execution_count": 199,
     "metadata": {},
     "output_type": "execute_result"
    }
   ],
   "source": [
    "languages.head()"
   ]
  },
  {
   "cell_type": "code",
   "execution_count": 205,
   "metadata": {},
   "outputs": [],
   "source": [
    "kmeans= KMeans(n_clusters=2)\n",
    "ss = StandardScaler()\n",
    "ss_lang = ss.fit_transform(languages)\n",
    "\n",
    "kmeans.fit(ss_lang)\n",
    "labels = kmeans.predict(ss_lang)\n",
    "\n",
    "silhouette_score(ss_lang, labels)"
   ]
  },
  {
   "cell_type": "code",
   "execution_count": null,
   "metadata": {},
   "outputs": [],
   "source": []
  },
  {
   "cell_type": "markdown",
   "metadata": {},
   "source": [
    "### The Elbow Method\n",
    "\n",
    "If we are using `KMeans`, we can also make use of the Elbow method. In essence, we will plot the average distance of all points from their closest centroid for a number of candidate clusters. When doing this, we should see an elbow or kink point where the rate of change of the average distance slopes off."
   ]
  },
  {
   "cell_type": "markdown",
   "metadata": {},
   "source": [
    "Let's do a quick example with the Iris prices dataset that we worked with earlier:"
   ]
  },
  {
   "cell_type": "code",
   "execution_count": 217,
   "metadata": {},
   "outputs": [
    {
     "data": {
      "text/plain": [
       "Text(0,0.5,'Average Distance to Centroid')"
      ]
     },
     "execution_count": 217,
     "metadata": {},
     "output_type": "execute_result"
    },
    {
     "data": {
      "image/png": "[encoded data removed]",
      "text/plain": [
       "<matplotlib.figure.Figure at 0x24f7ad21128>"
      ]
     },
     "metadata": {},
     "output_type": "display_data"
    }
   ],
   "source": [
    "ss = StandardScaler()\n",
    "ss.fit(df)\n",
    "X = ss.transform(df)\n",
    "\n",
    "distances = []\n",
    "for clusters in range(2, 11):\n",
    "    kmeans = KMeans(n_clusters=clusters)\n",
    "    kmeans.fit(Xs)\n",
    "    distances.append(kmeans.score(Xs))\n",
    "    \n",
    "plt.plot(list(range(2, 11)), distances)\n",
    "plt.xlabel('Number of Clusters')\n",
    "plt.ylabel('Average Distance to Centroid')"
   ]
  },
  {
   "cell_type": "markdown",
   "metadata": {},
   "source": [
    "At k=3, we see a stark change in the rate of change (with a more minor one at 5) -- these might be good values to investigate. \n",
    "\n",
    "One major challenge with this approach is that there is no ambiguous location to choose. In most cases, this will be a good place for a hint more than anything else."
   ]
  },
  {
   "cell_type": "markdown",
   "metadata": {},
   "source": [
    "## Check for Understanding (15 Minutes)\n",
    "\n",
    "1. Pick one of the other two datasets we have used in this section (Stocks or Language)\n",
    "2. Use the elbow method to find a couple of number of potential clusters (using KMeans)\n",
    "3. Report the average silhouette score for each of those potential number of clusters -- is one better or worse than the other?"
   ]
  },
  {
   "cell_type": "code",
   "execution_count": 211,
   "metadata": {},
   "outputs": [
    {
     "data": {
      "image/png": "[encoded data removed]",
      "text/plain": [
       "<matplotlib.figure.Figure at 0x24f79cbf5c0>"
      ]
     },
     "metadata": {},
     "output_type": "display_data"
    },
    {
     "data": {
      "image/png": "[encoded data removed]",
      "text/plain": [
       "<matplotlib.figure.Figure at 0x24f779e5240>"
      ]
     },
     "metadata": {},
     "output_type": "display_data"
    }
   ],
   "source": [
    "plt.figure(figsize=(10, 6))\n",
    "for color, cluster in zip(['red', 'orange', 'green'], [0, 1, 2]):\n",
    "    clustered_df = stocks.loc[(stocks['clusters'] == cluster)]\n",
    "    plt.scatter(clustered_df['low'], clustered_df['high'], c=color, alpha=0.5, label='Cluster {}'.format(cluster))\n",
    "plt.ylabel('High price')\n",
    "plt.xlabel('Low price')\n",
    "plt.legend()\n",
    "plt.show()\n",
    "sns.boxplot(x='clusters', y='volume', data=stocks)\n",
    "plt.ticklabel_format(style='plain', axis='y')"
   ]
  },
  {
   "cell_type": "code",
   "execution_count": 215,
   "metadata": {},
   "outputs": [
    {
     "data": {
      "text/plain": [
       "array([[ -9.00681170e-01,   1.03205722e+00,  -1.34127240e+00,\n",
       "         -1.31297673e+00,   3.53277664e-01],\n",
       "       [ -1.14301691e+00,  -1.24957601e-01,  -1.34127240e+00,\n",
       "         -1.31297673e+00,   3.53277664e-01],\n",
       "       [ -1.38535265e+00,   3.37848329e-01,  -1.39813811e+00,\n",
       "         -1.31297673e+00,   3.53277664e-01],\n",
       "       [ -1.50652052e+00,   1.06445364e-01,  -1.28440670e+00,\n",
       "         -1.31297673e+00,   3.53277664e-01],\n",
       "       [ -1.02184904e+00,   1.26346019e+00,  -1.34127240e+00,\n",
       "         -1.31297673e+00,   3.53277664e-01],\n",
       "       [ -5.37177559e-01,   1.95766909e+00,  -1.17067529e+00,\n",
       "         -1.05003079e+00,   3.53277664e-01],\n",
       "       [ -1.50652052e+00,   8.00654259e-01,  -1.34127240e+00,\n",
       "         -1.18150376e+00,   3.53277664e-01],\n",
       "       [ -1.02184904e+00,   8.00654259e-01,  -1.28440670e+00,\n",
       "         -1.31297673e+00,   3.53277664e-01],\n",
       "       [ -1.74885626e+00,  -3.56360566e-01,  -1.34127240e+00,\n",
       "         -1.31297673e+00,   3.53277664e-01],\n",
       "       [ -1.14301691e+00,   1.06445364e-01,  -1.28440670e+00,\n",
       "         -1.44444970e+00,   3.53277664e-01],\n",
       "       [ -5.37177559e-01,   1.49486315e+00,  -1.28440670e+00,\n",
       "         -1.31297673e+00,   3.53277664e-01],\n",
       "       [ -1.26418478e+00,   8.00654259e-01,  -1.22754100e+00,\n",
       "         -1.31297673e+00,   3.53277664e-01],\n",
       "       [ -1.26418478e+00,  -1.24957601e-01,  -1.34127240e+00,\n",
       "         -1.44444970e+00,   3.53277664e-01],\n",
       "       [ -1.87002413e+00,  -1.24957601e-01,  -1.51186952e+00,\n",
       "         -1.44444970e+00,   3.53277664e-01],\n",
       "       [ -5.25060772e-02,   2.18907205e+00,  -1.45500381e+00,\n",
       "         -1.31297673e+00,   3.53277664e-01],\n",
       "       [ -1.73673948e-01,   3.11468391e+00,  -1.28440670e+00,\n",
       "         -1.05003079e+00,   3.53277664e-01],\n",
       "       [ -5.37177559e-01,   1.95766909e+00,  -1.39813811e+00,\n",
       "         -1.05003079e+00,   3.53277664e-01],\n",
       "       [ -9.00681170e-01,   1.03205722e+00,  -1.34127240e+00,\n",
       "         -1.18150376e+00,   3.53277664e-01],\n",
       "       [ -1.73673948e-01,   1.72626612e+00,  -1.17067529e+00,\n",
       "         -1.18150376e+00,   3.53277664e-01],\n",
       "       [ -9.00681170e-01,   1.72626612e+00,  -1.28440670e+00,\n",
       "         -1.18150376e+00,   3.53277664e-01],\n",
       "       [ -5.37177559e-01,   8.00654259e-01,  -1.17067529e+00,\n",
       "         -1.31297673e+00,   3.53277664e-01],\n",
       "       [ -9.00681170e-01,   1.49486315e+00,  -1.28440670e+00,\n",
       "         -1.05003079e+00,   3.53277664e-01],\n",
       "       [ -1.50652052e+00,   1.26346019e+00,  -1.56873522e+00,\n",
       "         -1.31297673e+00,   3.53277664e-01],\n",
       "       [ -9.00681170e-01,   5.69251294e-01,  -1.17067529e+00,\n",
       "         -9.18557817e-01,   3.53277664e-01],\n",
       "       [ -1.26418478e+00,   8.00654259e-01,  -1.05694388e+00,\n",
       "         -1.31297673e+00,   3.53277664e-01],\n",
       "       [ -1.02184904e+00,  -1.24957601e-01,  -1.22754100e+00,\n",
       "         -1.31297673e+00,   3.53277664e-01],\n",
       "       [ -1.02184904e+00,   8.00654259e-01,  -1.22754100e+00,\n",
       "         -1.05003079e+00,   3.53277664e-01],\n",
       "       [ -7.79513300e-01,   1.03205722e+00,  -1.28440670e+00,\n",
       "         -1.31297673e+00,   3.53277664e-01],\n",
       "       [ -7.79513300e-01,   8.00654259e-01,  -1.34127240e+00,\n",
       "         -1.31297673e+00,   3.53277664e-01],\n",
       "       [ -1.38535265e+00,   3.37848329e-01,  -1.22754100e+00,\n",
       "         -1.31297673e+00,   3.53277664e-01],\n",
       "       [ -1.26418478e+00,   1.06445364e-01,  -1.22754100e+00,\n",
       "         -1.31297673e+00,   3.53277664e-01],\n",
       "       [ -5.37177559e-01,   8.00654259e-01,  -1.28440670e+00,\n",
       "         -1.05003079e+00,   3.53277664e-01],\n",
       "       [ -7.79513300e-01,   2.42047502e+00,  -1.28440670e+00,\n",
       "         -1.44444970e+00,   3.53277664e-01],\n",
       "       [ -4.16009689e-01,   2.65187798e+00,  -1.34127240e+00,\n",
       "         -1.31297673e+00,   3.53277664e-01],\n",
       "       [ -1.14301691e+00,   1.06445364e-01,  -1.28440670e+00,\n",
       "         -1.44444970e+00,   3.53277664e-01],\n",
       "       [ -1.02184904e+00,   3.37848329e-01,  -1.45500381e+00,\n",
       "         -1.31297673e+00,   3.53277664e-01],\n",
       "       [ -4.16009689e-01,   1.03205722e+00,  -1.39813811e+00,\n",
       "         -1.31297673e+00,   3.53277664e-01],\n",
       "       [ -1.14301691e+00,   1.06445364e-01,  -1.28440670e+00,\n",
       "         -1.44444970e+00,   3.53277664e-01],\n",
       "       [ -1.74885626e+00,  -1.24957601e-01,  -1.39813811e+00,\n",
       "         -1.31297673e+00,   3.53277664e-01],\n",
       "       [ -9.00681170e-01,   8.00654259e-01,  -1.28440670e+00,\n",
       "         -1.31297673e+00,   3.53277664e-01],\n",
       "       [ -1.02184904e+00,   1.03205722e+00,  -1.39813811e+00,\n",
       "         -1.18150376e+00,   3.53277664e-01],\n",
       "       [ -1.62768839e+00,  -1.74477836e+00,  -1.39813811e+00,\n",
       "         -1.18150376e+00,   1.64575692e+00],\n",
       "       [ -1.74885626e+00,   3.37848329e-01,  -1.39813811e+00,\n",
       "         -1.31297673e+00,   3.53277664e-01],\n",
       "       [ -1.02184904e+00,   1.03205722e+00,  -1.22754100e+00,\n",
       "         -7.87084847e-01,   3.53277664e-01],\n",
       "       [ -9.00681170e-01,   1.72626612e+00,  -1.05694388e+00,\n",
       "         -1.05003079e+00,   3.53277664e-01],\n",
       "       [ -1.26418478e+00,  -1.24957601e-01,  -1.34127240e+00,\n",
       "         -1.18150376e+00,   3.53277664e-01],\n",
       "       [ -9.00681170e-01,   1.72626612e+00,  -1.22754100e+00,\n",
       "         -1.31297673e+00,   3.53277664e-01],\n",
       "       [ -1.50652052e+00,   3.37848329e-01,  -1.34127240e+00,\n",
       "         -1.31297673e+00,   3.53277664e-01],\n",
       "       [ -6.58345429e-01,   1.49486315e+00,  -1.28440670e+00,\n",
       "         -1.31297673e+00,   3.53277664e-01],\n",
       "       [ -1.02184904e+00,   5.69251294e-01,  -1.34127240e+00,\n",
       "         -1.31297673e+00,   3.53277664e-01],\n",
       "       [  1.40150837e+00,   3.37848329e-01,   5.35295827e-01,\n",
       "          2.64698913e-01,  -9.39201595e-01],\n",
       "       [  6.74501145e-01,   3.37848329e-01,   4.21564419e-01,\n",
       "          3.96171883e-01,  -9.39201595e-01],\n",
       "       [  1.28034050e+00,   1.06445364e-01,   6.49027235e-01,\n",
       "          3.96171883e-01,  -9.39201595e-01],\n",
       "       [ -4.16009689e-01,  -1.74477836e+00,   1.37235899e-01,\n",
       "          1.33225943e-01,   1.64575692e+00],\n",
       "       [  7.95669016e-01,  -5.87763531e-01,   4.78430123e-01,\n",
       "          3.96171883e-01,  -9.39201595e-01],\n",
       "       [ -1.73673948e-01,  -5.87763531e-01,   4.21564419e-01,\n",
       "          1.33225943e-01,   1.64575692e+00],\n",
       "       [  5.53333275e-01,   5.69251294e-01,   5.35295827e-01,\n",
       "          5.27644853e-01,  -9.39201595e-01],\n",
       "       [ -1.14301691e+00,  -1.51337539e+00,  -2.60824029e-01,\n",
       "         -2.61192967e-01,   1.64575692e+00],\n",
       "       [  9.16836886e-01,  -3.56360566e-01,   4.78430123e-01,\n",
       "          1.33225943e-01,  -9.39201595e-01],\n",
       "       [ -7.79513300e-01,  -8.19166497e-01,   8.03701950e-02,\n",
       "          2.64698913e-01,   1.64575692e+00],\n",
       "       [ -1.02184904e+00,  -2.43898725e+00,  -1.47092621e-01,\n",
       "         -2.61192967e-01,   1.64575692e+00],\n",
       "       [  6.86617933e-02,  -1.24957601e-01,   2.50967307e-01,\n",
       "          3.96171883e-01,  -9.39201595e-01],\n",
       "       [  1.89829664e-01,  -1.97618132e+00,   1.37235899e-01,\n",
       "         -2.61192967e-01,   1.64575692e+00],\n",
       "       [  3.10997534e-01,  -3.56360566e-01,   5.35295827e-01,\n",
       "          2.64698913e-01,  -9.39201595e-01],\n",
       "       [ -2.94841818e-01,  -3.56360566e-01,  -9.02269170e-02,\n",
       "          1.33225943e-01,   1.64575692e+00],\n",
       "       [  1.03800476e+00,   1.06445364e-01,   3.64698715e-01,\n",
       "          2.64698913e-01,  -9.39201595e-01],\n",
       "       [ -2.94841818e-01,  -1.24957601e-01,   4.21564419e-01,\n",
       "          3.96171883e-01,   1.64575692e+00],\n",
       "       [ -5.25060772e-02,  -8.19166497e-01,   1.94101603e-01,\n",
       "         -2.61192967e-01,   1.64575692e+00],\n",
       "       [  4.32165405e-01,  -1.97618132e+00,   4.21564419e-01,\n",
       "          3.96171883e-01,   1.64575692e+00],\n",
       "       [ -2.94841818e-01,  -1.28197243e+00,   8.03701950e-02,\n",
       "         -1.29719997e-01,   1.64575692e+00],\n",
       "       [  6.86617933e-02,   3.37848329e-01,   5.92161531e-01,\n",
       "          7.90590793e-01,  -9.39201595e-01],\n",
       "       [  3.10997534e-01,  -5.87763531e-01,   1.37235899e-01,\n",
       "          1.33225943e-01,  -9.39201595e-01],\n",
       "       [  5.53333275e-01,  -1.28197243e+00,   6.49027235e-01,\n",
       "          3.96171883e-01,  -9.39201595e-01],\n",
       "       [  3.10997534e-01,  -5.87763531e-01,   5.35295827e-01,\n",
       "          1.75297293e-03,  -9.39201595e-01],\n",
       "       [  6.74501145e-01,  -3.56360566e-01,   3.07833011e-01,\n",
       "          1.33225943e-01,  -9.39201595e-01],\n",
       "       [  9.16836886e-01,  -1.24957601e-01,   3.64698715e-01,\n",
       "          2.64698913e-01,  -9.39201595e-01],\n",
       "       [  1.15917263e+00,  -5.87763531e-01,   5.92161531e-01,\n",
       "          2.64698913e-01,  -9.39201595e-01],\n",
       "       [  1.03800476e+00,  -1.24957601e-01,   7.05892939e-01,\n",
       "          6.59117823e-01,  -9.39201595e-01],\n",
       "       [  1.89829664e-01,  -3.56360566e-01,   4.21564419e-01,\n",
       "          3.96171883e-01,  -9.39201595e-01],\n",
       "       [ -1.73673948e-01,  -1.05056946e+00,  -1.47092621e-01,\n",
       "         -2.61192967e-01,   1.64575692e+00],\n",
       "       [ -4.16009689e-01,  -1.51337539e+00,   2.35044910e-02,\n",
       "         -1.29719997e-01,   1.64575692e+00],\n",
       "       [ -4.16009689e-01,  -1.51337539e+00,  -3.33612130e-02,\n",
       "         -2.61192967e-01,   1.64575692e+00],\n",
       "       [ -5.25060772e-02,  -8.19166497e-01,   8.03701950e-02,\n",
       "          1.75297293e-03,   1.64575692e+00],\n",
       "       [  1.89829664e-01,  -8.19166497e-01,   7.62758643e-01,\n",
       "          5.27644853e-01,  -9.39201595e-01],\n",
       "       [ -5.37177559e-01,  -1.24957601e-01,   4.21564419e-01,\n",
       "          3.96171883e-01,   1.64575692e+00],\n",
       "       [  1.89829664e-01,   8.00654259e-01,   4.21564419e-01,\n",
       "          5.27644853e-01,  -9.39201595e-01],\n",
       "       [  1.03800476e+00,   1.06445364e-01,   5.35295827e-01,\n",
       "          3.96171883e-01,  -9.39201595e-01],\n",
       "       [  5.53333275e-01,  -1.74477836e+00,   3.64698715e-01,\n",
       "          1.33225943e-01,   1.64575692e+00],\n",
       "       [ -2.94841818e-01,  -1.24957601e-01,   1.94101603e-01,\n",
       "          1.33225943e-01,   1.64575692e+00],\n",
       "       [ -4.16009689e-01,  -1.28197243e+00,   1.37235899e-01,\n",
       "          1.33225943e-01,   1.64575692e+00],\n",
       "       [ -4.16009689e-01,  -1.05056946e+00,   3.64698715e-01,\n",
       "          1.75297293e-03,   1.64575692e+00],\n",
       "       [  3.10997534e-01,  -1.24957601e-01,   4.78430123e-01,\n",
       "          2.64698913e-01,  -9.39201595e-01],\n",
       "       [ -5.25060772e-02,  -1.05056946e+00,   1.37235899e-01,\n",
       "          1.75297293e-03,   1.64575692e+00],\n",
       "       [ -1.02184904e+00,  -1.74477836e+00,  -2.60824029e-01,\n",
       "         -2.61192967e-01,   1.64575692e+00],\n",
       "       [ -2.94841818e-01,  -8.19166497e-01,   2.50967307e-01,\n",
       "          1.33225943e-01,   1.64575692e+00],\n",
       "       [ -1.73673948e-01,  -1.24957601e-01,   2.50967307e-01,\n",
       "          1.75297293e-03,   1.64575692e+00],\n",
       "       [ -1.73673948e-01,  -3.56360566e-01,   2.50967307e-01,\n",
       "          1.33225943e-01,   1.64575692e+00],\n",
       "       [  4.32165405e-01,  -3.56360566e-01,   3.07833011e-01,\n",
       "          1.33225943e-01,  -9.39201595e-01],\n",
       "       [ -9.00681170e-01,  -1.28197243e+00,  -4.31421141e-01,\n",
       "         -1.29719997e-01,   1.64575692e+00],\n",
       "       [ -1.73673948e-01,  -5.87763531e-01,   1.94101603e-01,\n",
       "          1.33225943e-01,   1.64575692e+00],\n",
       "       [  5.53333275e-01,   5.69251294e-01,   1.27454998e+00,\n",
       "          1.71090158e+00,  -9.39201595e-01],\n",
       "       [ -5.25060772e-02,  -8.19166497e-01,   7.62758643e-01,\n",
       "          9.22063763e-01,  -9.39201595e-01],\n",
       "       [  1.52267624e+00,  -1.24957601e-01,   1.21768427e+00,\n",
       "          1.18500970e+00,  -9.39201595e-01],\n",
       "       [  5.53333275e-01,  -3.56360566e-01,   1.04708716e+00,\n",
       "          7.90590793e-01,  -9.39201595e-01],\n",
       "       [  7.95669016e-01,  -1.24957601e-01,   1.16081857e+00,\n",
       "          1.31648267e+00,  -9.39201595e-01],\n",
       "       [  2.12851559e+00,  -1.24957601e-01,   1.61574420e+00,\n",
       "          1.18500970e+00,  -9.39201595e-01],\n",
       "       [ -1.14301691e+00,  -1.28197243e+00,   4.21564419e-01,\n",
       "          6.59117823e-01,   1.64575692e+00],\n",
       "       [  1.76501198e+00,  -3.56360566e-01,   1.44514709e+00,\n",
       "          7.90590793e-01,  -9.39201595e-01],\n",
       "       [  1.03800476e+00,  -1.28197243e+00,   1.16081857e+00,\n",
       "          7.90590793e-01,  -9.39201595e-01],\n",
       "       [  1.64384411e+00,   1.26346019e+00,   1.33141568e+00,\n",
       "          1.71090158e+00,  -9.39201595e-01],\n",
       "       [  7.95669016e-01,   3.37848329e-01,   7.62758643e-01,\n",
       "          1.05353673e+00,  -9.39201595e-01],\n",
       "       [  6.74501145e-01,  -8.19166497e-01,   8.76490051e-01,\n",
       "          9.22063763e-01,  -9.39201595e-01],\n",
       "       [  1.15917263e+00,  -1.24957601e-01,   9.90221459e-01,\n",
       "          1.18500970e+00,  -9.39201595e-01],\n",
       "       [ -1.73673948e-01,  -1.28197243e+00,   7.05892939e-01,\n",
       "          1.05353673e+00,  -9.39201595e-01],\n",
       "       [ -5.25060772e-02,  -5.87763531e-01,   7.62758643e-01,\n",
       "          1.57942861e+00,  -9.39201595e-01],\n",
       "       [  6.74501145e-01,   3.37848329e-01,   8.76490051e-01,\n",
       "          1.44795564e+00,  -9.39201595e-01],\n",
       "       [  7.95669016e-01,  -1.24957601e-01,   9.90221459e-01,\n",
       "          7.90590793e-01,  -9.39201595e-01],\n",
       "       [  2.24968346e+00,   1.72626612e+00,   1.67260991e+00,\n",
       "          1.31648267e+00,  -9.39201595e-01],\n",
       "       [  2.24968346e+00,  -1.05056946e+00,   1.78634131e+00,\n",
       "          1.44795564e+00,  -9.39201595e-01],\n",
       "       [  1.89829664e-01,  -1.97618132e+00,   7.05892939e-01,\n",
       "          3.96171883e-01,   1.64575692e+00],\n",
       "       [  1.28034050e+00,   3.37848329e-01,   1.10395287e+00,\n",
       "          1.44795564e+00,  -9.39201595e-01],\n",
       "       [ -2.94841818e-01,  -5.87763531e-01,   6.49027235e-01,\n",
       "          1.05353673e+00,  -9.39201595e-01],\n",
       "       [  2.24968346e+00,  -5.87763531e-01,   1.67260991e+00,\n",
       "          1.05353673e+00,  -9.39201595e-01],\n",
       "       [  5.53333275e-01,  -8.19166497e-01,   6.49027235e-01,\n",
       "          7.90590793e-01,  -9.39201595e-01],\n",
       "       [  1.03800476e+00,   5.69251294e-01,   1.10395287e+00,\n",
       "          1.18500970e+00,  -9.39201595e-01],\n",
       "       [  1.64384411e+00,   3.37848329e-01,   1.27454998e+00,\n",
       "          7.90590793e-01,  -9.39201595e-01],\n",
       "       [  4.32165405e-01,  -5.87763531e-01,   5.92161531e-01,\n",
       "          7.90590793e-01,  -9.39201595e-01],\n",
       "       [  3.10997534e-01,  -1.24957601e-01,   6.49027235e-01,\n",
       "          7.90590793e-01,  -9.39201595e-01],\n",
       "       [  6.74501145e-01,  -5.87763531e-01,   1.04708716e+00,\n",
       "          1.18500970e+00,  -9.39201595e-01],\n",
       "       [  1.64384411e+00,  -1.24957601e-01,   1.16081857e+00,\n",
       "          5.27644853e-01,  -9.39201595e-01],\n",
       "       [  1.88617985e+00,  -5.87763531e-01,   1.33141568e+00,\n",
       "          9.22063763e-01,  -9.39201595e-01],\n",
       "       [  2.49201920e+00,   1.72626612e+00,   1.50201279e+00,\n",
       "          1.05353673e+00,  -9.39201595e-01],\n",
       "       [  6.74501145e-01,  -5.87763531e-01,   1.04708716e+00,\n",
       "          1.31648267e+00,  -9.39201595e-01],\n",
       "       [  5.53333275e-01,  -5.87763531e-01,   7.62758643e-01,\n",
       "          3.96171883e-01,  -9.39201595e-01],\n",
       "       [  3.10997534e-01,  -1.05056946e+00,   1.04708716e+00,\n",
       "          2.64698913e-01,  -9.39201595e-01],\n",
       "       [  2.24968346e+00,  -1.24957601e-01,   1.33141568e+00,\n",
       "          1.44795564e+00,  -9.39201595e-01],\n",
       "       [  5.53333275e-01,   8.00654259e-01,   1.04708716e+00,\n",
       "          1.57942861e+00,  -9.39201595e-01],\n",
       "       [  6.74501145e-01,   1.06445364e-01,   9.90221459e-01,\n",
       "          7.90590793e-01,  -9.39201595e-01],\n",
       "       [  1.89829664e-01,  -1.24957601e-01,   5.92161531e-01,\n",
       "          7.90590793e-01,  -9.39201595e-01],\n",
       "       [  1.28034050e+00,   1.06445364e-01,   9.33355755e-01,\n",
       "          1.18500970e+00,  -9.39201595e-01],\n",
       "       [  1.03800476e+00,   1.06445364e-01,   1.04708716e+00,\n",
       "          1.57942861e+00,  -9.39201595e-01],\n",
       "       [  1.28034050e+00,   1.06445364e-01,   7.62758643e-01,\n",
       "          1.44795564e+00,  -9.39201595e-01],\n",
       "       [ -5.25060772e-02,  -8.19166497e-01,   7.62758643e-01,\n",
       "          9.22063763e-01,  -9.39201595e-01],\n",
       "       [  1.15917263e+00,   3.37848329e-01,   1.21768427e+00,\n",
       "          1.44795564e+00,  -9.39201595e-01],\n",
       "       [  1.03800476e+00,   5.69251294e-01,   1.10395287e+00,\n",
       "          1.71090158e+00,  -9.39201595e-01],\n",
       "       [  1.03800476e+00,  -1.24957601e-01,   8.19624347e-01,\n",
       "          1.44795564e+00,  -9.39201595e-01],\n",
       "       [  5.53333275e-01,  -1.28197243e+00,   7.05892939e-01,\n",
       "          9.22063763e-01,  -9.39201595e-01],\n",
       "       [  7.95669016e-01,  -1.24957601e-01,   8.19624347e-01,\n",
       "          1.05353673e+00,  -9.39201595e-01],\n",
       "       [  4.32165405e-01,   8.00654259e-01,   9.33355755e-01,\n",
       "          1.44795564e+00,  -9.39201595e-01],\n",
       "       [  6.86617933e-02,  -1.24957601e-01,   7.62758643e-01,\n",
       "          7.90590793e-01,  -9.39201595e-01]])"
      ]
     },
     "execution_count": 215,
     "metadata": {},
     "output_type": "execute_result"
    }
   ],
   "source": [
    "X"
   ]
  },
  {
   "cell_type": "code",
   "execution_count": 219,
   "metadata": {},
   "outputs": [
    {
     "data": {
      "text/plain": [
       "Text(0,0.5,'Average Distance to Centroid')"
      ]
     },
     "execution_count": 219,
     "metadata": {},
     "output_type": "execute_result"
    },
    {
     "data": {
      "image/png": "[encoded data removed]",
      "text/plain": [
       "<matplotlib.figure.Figure at 0x24f7754e9e8>"
      ]
     },
     "metadata": {},
     "output_type": "display_data"
    }
   ],
   "source": [
    "distances = []\n",
    "for clusters in range(2, 11):\n",
    "    kmeans = KMeans(n_clusters=clusters)\n",
    "    kmeans.fit(Xs)\n",
    "    distances.append(kmeans.score(Xs))\n",
    "    \n",
    "plt.plot(list(range(2, 11)), distances)\n",
    "plt.xlabel('Number of Clusters')\n",
    "plt.ylabel('Average Distance to Centroid')"
   ]
  },
  {
   "cell_type": "code",
   "execution_count": 220,
   "metadata": {},
   "outputs": [
    {
     "name": "stdout",
     "output_type": "stream",
     "text": [
      "3 0.233638263273\n",
      "4 0.229635376034\n",
      "5 0.223492607416\n",
      "6 0.24398506134\n",
      "7 0.234800388379\n",
      "8 0.242077244223\n",
      "9 0.222319292118\n",
      "10 0.213935103664\n"
     ]
    }
   ],
   "source": [
    "for cluster in range(3,11):\n",
    "    kmeans= KMeans(n_clusters=cluster)\n",
    "    kmeans.fit(Xs)\n",
    "    labels = kmeans.predict(Xs)\n",
    "    print(cluster, silhouette_score(Xs, labels))"
   ]
  },
  {
   "cell_type": "markdown",
   "metadata": {},
   "source": [
    "## Evaluating clusters when the ground truth is available\n",
    "\n",
    "The silhouette score is a particularly useful metric in that it does not require us to have the true labels for the clusters (which is most often the case if we need to do clustering to begin with!).\n",
    "\n",
    "Very, very rarely we have some true labels available (though, that begs the question as to whether or not it makes sense to use an unstructured technique when your data can be modeled with a structured technique). When the true labels are available, there are other methods we can use to evaluate the performance of our clustering algorithm and choice of clusters.\n",
    "\n",
    "- Completeness Score\n",
    "- Homogeneity\n",
    "- V Measure Score\n",
    "- Mutual Information Score\n",
    "\n",
    "For each of these techniques, I'll score how well it performs on the Iris dataset:"
   ]
  },
  {
   "cell_type": "code",
   "execution_count": 224,
   "metadata": {},
   "outputs": [],
   "source": [
    "ss = StandardScaler()\n",
    "ss.fit(df)\n",
    "X = ss.transform(df)\n",
    "\n",
    "targets = iris.target\n",
    "\n",
    "km = KMeans(n_clusters=5)\n",
    "km.fit(X)\n",
    "\n",
    "predicted_labels = km.predict(X)"
   ]
  },
  {
   "cell_type": "markdown",
   "metadata": {},
   "source": [
    "#### Completeness score\n",
    "\n",
    "Completeness indicates that all members of a given class are assigned to the same cluster.\n",
    "\n",
    "A clustering result satisfies completeness if all the data points that are members of a given class are elements of the same cluster. (If a cluster contains all of the data points of a single class.)\n",
    "\n",
    "Score between 0.0 and 1.0. 1.0 stands for perfectly complete labeling."
   ]
  },
  {
   "cell_type": "code",
   "execution_count": 225,
   "metadata": {},
   "outputs": [
    {
     "data": {
      "text/plain": [
       "0.53506646045013428"
      ]
     },
     "execution_count": 225,
     "metadata": {},
     "output_type": "execute_result"
    }
   ],
   "source": [
    "from sklearn.metrics import completeness_score\n",
    "completeness_score(targets, predicted_labels)"
   ]
  },
  {
   "cell_type": "markdown",
   "metadata": {},
   "source": [
    "This looks like a pretty good set of clusters!"
   ]
  },
  {
   "cell_type": "markdown",
   "metadata": {},
   "source": [
    "#### Homogeneity\n",
    "\n",
    "Homogeneity indicates each cluster contains only members of a single class.\n",
    "\n",
    "A clustering result satisfies homogeneity if all of its clusters contain only data points which are members of a single class.\n",
    "\n",
    "Score between 0.0 and 1.0. 1.0 stands for perfectly homogeneous labeling"
   ]
  },
  {
   "cell_type": "code",
   "execution_count": 226,
   "metadata": {},
   "outputs": [
    {
     "data": {
      "text/plain": [
       "0.77104027538866315"
      ]
     },
     "execution_count": 226,
     "metadata": {},
     "output_type": "execute_result"
    }
   ],
   "source": [
    "from sklearn.metrics import homogeneity_score\n",
    "homogeneity_score(targets, predicted_labels)"
   ]
  },
  {
   "cell_type": "markdown",
   "metadata": {},
   "source": [
    "Unsurprisingly, this scores fairly well on homogeneity. "
   ]
  },
  {
   "cell_type": "markdown",
   "metadata": {},
   "source": [
    "#### V measure score\n",
    "\n",
    "The V measure score is a combination of the homogeneity and completeness metrics -- it is 2 times the quotient of the completeness and homogeneity scores divided by their sum (in other words, the harmonic mean of those two scores)"
   ]
  },
  {
   "cell_type": "code",
   "execution_count": 227,
   "metadata": {},
   "outputs": [
    {
     "data": {
      "text/plain": [
       "0.63173671752295069"
      ]
     },
     "execution_count": 227,
     "metadata": {},
     "output_type": "execute_result"
    }
   ],
   "source": [
    "from sklearn.metrics import v_measure_score\n",
    "v_measure_score(targets, predicted_labels)"
   ]
  },
  {
   "cell_type": "markdown",
   "metadata": {},
   "source": [
    "Because V Measure Score is the harmonic mean of two strongly performing metrics, this is (unsurprisingly) high as well."
   ]
  },
  {
   "cell_type": "markdown",
   "metadata": {},
   "source": [
    "### Mutual information score\n",
    "\n",
    "Mutual information measures the agreement between two assignments (clusters, in this case).\n",
    "\n",
    "There are various mutual information scores in Sklearn. Be wary of the basic `mutual_info_score` as the output is not normalized, thus making it harder to compare across runs:\n",
    "\n",
    "$${\\displaystyle MI(X;Y)=\\sum _{y\\in Y}\\sum _{x\\in X}p(x,y)\\log {\\left({\\frac {p(x,y)}{p(x)\\,p(y)}}\\right)},}$$\n",
    "\n",
    "Where:\n",
    "\n",
    "$MI(X;Y)$ is the mutual information of group $X$ and $Y$ which can be predicted vs. true.\n",
    "\n",
    "$P(x,y)$ is the probability that observation $x$ in group $X$ is the same as observation $y$ in group $Y$. In other words, the probability that the predicted value (or cluster) and true value are the same.\n",
    "\n",
    "$P(x)$ is the probability of observation $x$ in group $X$, and $P(y)$ is the probability of observation $y$ in group $Y$."
   ]
  },
  {
   "cell_type": "code",
   "execution_count": 228,
   "metadata": {},
   "outputs": [
    {
     "data": {
      "text/plain": [
       "0.84707432160002871"
      ]
     },
     "execution_count": 228,
     "metadata": {},
     "output_type": "execute_result"
    }
   ],
   "source": [
    "from sklearn.metrics import mutual_info_score\n",
    "mutual_info_score(targets, predicted_labels)"
   ]
  },
  {
   "cell_type": "markdown",
   "metadata": {},
   "source": [
    "Because it is not guaranteed to be between 0 and 1, it's better to use the adjusted mutual information score, which will normalize the result so that it always comes out be between 0 and 1."
   ]
  },
  {
   "cell_type": "code",
   "execution_count": 229,
   "metadata": {},
   "outputs": [
    {
     "data": {
      "text/plain": [
       "0.52685543819058001"
      ]
     },
     "execution_count": 229,
     "metadata": {},
     "output_type": "execute_result"
    }
   ],
   "source": [
    "from sklearn.metrics import adjusted_mutual_info_score\n",
    "adjusted_mutual_info_score(targets, predicted_labels)"
   ]
  },
  {
   "cell_type": "code",
   "execution_count": null,
   "metadata": {},
   "outputs": [],
   "source": []
  }
 ],
 "metadata": {
  "kernelspec": {
   "display_name": "Python 3",
   "language": "python",
   "name": "python3"
  },
  "language_info": {
   "codemirror_mode": {
    "name": "ipython",
    "version": 3
   },
   "file_extension": ".py",
   "mimetype": "text/x-python",
   "name": "python",
   "nbconvert_exporter": "python",
   "pygments_lexer": "ipython3",
   "version": "3.6.3"
  }
 },
 "nbformat": 4,
 "nbformat_minor": 2
}
