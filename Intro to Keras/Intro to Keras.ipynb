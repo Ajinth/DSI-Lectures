{
 "cells": [
  {
   "cell_type": "code",
   "execution_count": 57,
   "metadata": {},
   "outputs": [],
   "source": [
    "from keras.models import Sequential\n",
    "from keras.layers import Dense, Dropout\n",
    "import tensorflow as tf\n",
    "\n",
    "from keras.utils import to_categorical"
   ]
  },
  {
   "cell_type": "code",
   "execution_count": 54,
   "metadata": {},
   "outputs": [],
   "source": [
    "from sklearn.datasets import fetch_lfw_people, load_breast_cancer, load_iris\n",
    "people = fetch_lfw_people(min_faces_per_person=70)"
   ]
  },
  {
   "cell_type": "code",
   "execution_count": 9,
   "metadata": {},
   "outputs": [],
   "source": [
    "from sklearn.datasets import load_boston\n",
    "import pandas as pd"
   ]
  },
  {
   "cell_type": "code",
   "execution_count": 11,
   "metadata": {},
   "outputs": [],
   "source": [
    "data = load_boston()"
   ]
  },
  {
   "cell_type": "code",
   "execution_count": 16,
   "metadata": {},
   "outputs": [],
   "source": [
    "from sklearn.model_selection import train_test_split\n",
    "from sklearn.preprocessing import StandardScaler\n",
    "\n",
    "X_train, X_test, y_train, y_test = train_test_split(data.data, data.target)\n",
    "\n",
    "ss = StandardScaler()\n",
    "X_train = ss.fit_transform(X_train)\n",
    "X_test = ss.fit_transform(X_test)"
   ]
  },
  {
   "cell_type": "code",
   "execution_count": 17,
   "metadata": {},
   "outputs": [
    {
     "data": {
      "text/plain": [
       "(379, 13)"
      ]
     },
     "execution_count": 17,
     "metadata": {},
     "output_type": "execute_result"
    }
   ],
   "source": [
    "model = Sequential()\n",
    "X_train.shape # shows how many features"
   ]
  },
  {
   "cell_type": "code",
   "execution_count": 22,
   "metadata": {},
   "outputs": [],
   "source": [
    "model.add(Dense(13, input_dim=X_train.shape[1], activation='relu'))\n",
    "model.add(Dense(1))"
   ]
  },
  {
   "cell_type": "code",
   "execution_count": 23,
   "metadata": {},
   "outputs": [],
   "source": [
    "model.compile(loss='mean_squared_error', optimizer='adam')"
   ]
  },
  {
   "cell_type": "code",
   "execution_count": 28,
   "metadata": {},
   "outputs": [
    {
     "name": "stdout",
     "output_type": "stream",
     "text": [
      "Train on 379 samples, validate on 127 samples\n",
      "Epoch 1/20\n",
      "379/379 [==============================] - 0s 48us/step - loss: 17.6612 - val_loss: 24.7176\n",
      "Epoch 2/20\n",
      "379/379 [==============================] - 0s 45us/step - loss: 17.5652 - val_loss: 24.6105\n",
      "Epoch 3/20\n",
      "379/379 [==============================] - 0s 48us/step - loss: 17.4400 - val_loss: 24.6698\n",
      "Epoch 4/20\n",
      "379/379 [==============================] - 0s 45us/step - loss: 17.2978 - val_loss: 24.4757\n",
      "Epoch 5/20\n",
      "379/379 [==============================] - 0s 48us/step - loss: 17.1658 - val_loss: 24.2497\n",
      "Epoch 6/20\n",
      "379/379 [==============================] - 0s 42us/step - loss: 17.0609 - val_loss: 24.2217\n",
      "Epoch 7/20\n",
      "379/379 [==============================] - 0s 42us/step - loss: 16.9284 - val_loss: 24.0070\n",
      "Epoch 8/20\n",
      "379/379 [==============================] - 0s 42us/step - loss: 16.8308 - val_loss: 23.8259\n",
      "Epoch 9/20\n",
      "379/379 [==============================] - 0s 45us/step - loss: 16.7377 - val_loss: 23.7528\n",
      "Epoch 10/20\n",
      "379/379 [==============================] - 0s 42us/step - loss: 16.6251 - val_loss: 23.5382\n",
      "Epoch 11/20\n",
      "379/379 [==============================] - 0s 40us/step - loss: 16.5656 - val_loss: 23.7527\n",
      "Epoch 12/20\n",
      "379/379 [==============================] - 0s 42us/step - loss: 16.3844 - val_loss: 23.4867\n",
      "Epoch 13/20\n",
      "379/379 [==============================] - 0s 42us/step - loss: 16.3134 - val_loss: 23.1868\n",
      "Epoch 14/20\n",
      "379/379 [==============================] - 0s 45us/step - loss: 16.2107 - val_loss: 23.1690\n",
      "Epoch 15/20\n",
      "379/379 [==============================] - 0s 42us/step - loss: 16.0895 - val_loss: 23.2110\n",
      "Epoch 16/20\n",
      "379/379 [==============================] - 0s 42us/step - loss: 15.9768 - val_loss: 23.0433\n",
      "Epoch 17/20\n",
      "379/379 [==============================] - 0s 42us/step - loss: 15.8760 - val_loss: 22.9298\n",
      "Epoch 18/20\n",
      "379/379 [==============================] - 0s 45us/step - loss: 15.8018 - val_loss: 22.7768\n",
      "Epoch 19/20\n",
      "379/379 [==============================] - 0s 42us/step - loss: 15.7115 - val_loss: 22.8368\n",
      "Epoch 20/20\n",
      "379/379 [==============================] - 0s 42us/step - loss: 15.6222 - val_loss: 22.7436\n"
     ]
    },
    {
     "data": {
      "text/plain": [
       "<keras.callbacks.History at 0x2049af99c50>"
      ]
     },
     "execution_count": 28,
     "metadata": {},
     "output_type": "execute_result"
    }
   ],
   "source": [
    "model.fit(X_train, y_train, validation_data=(X_test, y_test), epochs=20)"
   ]
  },
  {
   "cell_type": "markdown",
   "metadata": {},
   "source": [
    "# Binary classfication"
   ]
  },
  {
   "cell_type": "code",
   "execution_count": 32,
   "metadata": {},
   "outputs": [
    {
     "data": {
      "text/plain": [
       "array([0, 0, 0, 0, 0, 0, 0, 0, 0, 0, 0, 0, 0, 0, 0, 0, 0, 0, 0, 1, 1, 1, 0,\n",
       "       0, 0, 0, 0, 0, 0, 0, 0, 0, 0, 0, 0, 0, 0, 1, 0, 0, 0, 0, 0, 0, 0, 0,\n",
       "       1, 0, 1, 1, 1, 1, 1, 0, 0, 1, 0, 0, 1, 1, 1, 1, 0, 1, 0, 0, 1, 1, 1,\n",
       "       1, 0, 1, 0, 0, 1, 0, 1, 0, 0, 1, 1, 1, 0, 0, 1, 0, 0, 0, 1, 1, 1, 0,\n",
       "       1, 1, 0, 0, 1, 1, 1, 0, 0, 1, 1, 1, 1, 0, 1, 1, 0, 1, 1, 1, 1, 1, 1,\n",
       "       1, 1, 0, 0, 0, 1, 0, 0, 1, 1, 1, 0, 0, 1, 0, 1, 0, 0, 1, 0, 0, 1, 1,\n",
       "       0, 1, 1, 0, 1, 1, 1, 1, 0, 1, 1, 1, 1, 1, 1, 1, 1, 1, 0, 1, 1, 1, 1,\n",
       "       0, 0, 1, 0, 1, 1, 0, 0, 1, 1, 0, 0, 1, 1, 1, 1, 0, 1, 1, 0, 0, 0, 1,\n",
       "       0, 1, 0, 1, 1, 1, 0, 1, 1, 0, 0, 1, 0, 0, 0, 0, 1, 0, 0, 0, 1, 0, 1,\n",
       "       0, 1, 1, 0, 1, 0, 0, 0, 0, 1, 1, 0, 0, 1, 1, 1, 0, 1, 1, 1, 1, 1, 0,\n",
       "       0, 1, 1, 0, 1, 1, 0, 0, 1, 0, 1, 1, 1, 1, 0, 1, 1, 1, 1, 1, 0, 1, 0,\n",
       "       0, 0, 0, 0, 0, 0, 0, 0, 0, 0, 0, 0, 0, 1, 1, 1, 1, 1, 1, 0, 1, 0, 1,\n",
       "       1, 0, 1, 1, 0, 1, 0, 0, 1, 1, 1, 1, 1, 1, 1, 1, 1, 1, 1, 1, 1, 0, 1,\n",
       "       1, 0, 1, 0, 1, 1, 1, 1, 1, 1, 1, 1, 1, 1, 1, 1, 1, 1, 0, 1, 1, 1, 0,\n",
       "       1, 0, 1, 1, 1, 1, 0, 0, 0, 1, 1, 1, 1, 0, 1, 0, 1, 0, 1, 1, 1, 0, 1,\n",
       "       1, 1, 1, 1, 1, 1, 0, 0, 0, 1, 1, 1, 1, 1, 1, 1, 1, 1, 1, 1, 0, 0, 1,\n",
       "       0, 0, 0, 1, 0, 0, 1, 1, 1, 1, 1, 0, 1, 1, 1, 1, 1, 0, 1, 1, 1, 0, 1,\n",
       "       1, 0, 0, 1, 1, 1, 1, 1, 1, 0, 1, 1, 1, 1, 1, 1, 1, 0, 1, 1, 1, 1, 1,\n",
       "       0, 1, 1, 0, 1, 1, 1, 1, 1, 1, 1, 1, 1, 1, 1, 1, 0, 1, 0, 0, 1, 0, 1,\n",
       "       1, 1, 1, 1, 0, 1, 1, 0, 1, 0, 1, 1, 0, 1, 0, 1, 1, 1, 1, 1, 1, 1, 1,\n",
       "       0, 0, 1, 1, 1, 1, 1, 1, 0, 1, 1, 1, 1, 1, 1, 1, 1, 1, 1, 0, 1, 1, 1,\n",
       "       1, 1, 1, 1, 0, 1, 0, 1, 1, 0, 1, 1, 1, 1, 1, 0, 0, 1, 0, 1, 0, 1, 1,\n",
       "       1, 1, 1, 0, 1, 1, 0, 1, 0, 1, 0, 0, 1, 1, 1, 0, 1, 1, 1, 1, 1, 1, 1,\n",
       "       1, 1, 1, 1, 0, 1, 0, 0, 1, 1, 1, 1, 1, 1, 1, 1, 1, 1, 1, 1, 1, 1, 1,\n",
       "       1, 1, 1, 1, 1, 1, 1, 1, 1, 1, 0, 0, 0, 0, 0, 0, 1])"
      ]
     },
     "execution_count": 32,
     "metadata": {},
     "output_type": "execute_result"
    }
   ],
   "source": [
    "data = load_breast_cancer()\n",
    "data.target"
   ]
  },
  {
   "cell_type": "code",
   "execution_count": 33,
   "metadata": {},
   "outputs": [
    {
     "name": "stdout",
     "output_type": "stream",
     "text": [
      "Breast Cancer Wisconsin (Diagnostic) Database\n",
      "=============================================\n",
      "\n",
      "Notes\n",
      "-----\n",
      "Data Set Characteristics:\n",
      "    :Number of Instances: 569\n",
      "\n",
      "    :Number of Attributes: 30 numeric, predictive attributes and the class\n",
      "\n",
      "    :Attribute Information:\n",
      "        - radius (mean of distances from center to points on the perimeter)\n",
      "        - texture (standard deviation of gray-scale values)\n",
      "        - perimeter\n",
      "        - area\n",
      "        - smoothness (local variation in radius lengths)\n",
      "        - compactness (perimeter^2 / area - 1.0)\n",
      "        - concavity (severity of concave portions of the contour)\n",
      "        - concave points (number of concave portions of the contour)\n",
      "        - symmetry \n",
      "        - fractal dimension (\"coastline approximation\" - 1)\n",
      "\n",
      "        The mean, standard error, and \"worst\" or largest (mean of the three\n",
      "        largest values) of these features were computed for each image,\n",
      "        resulting in 30 features.  For instance, field 3 is Mean Radius, field\n",
      "        13 is Radius SE, field 23 is Worst Radius.\n",
      "\n",
      "        - class:\n",
      "                - WDBC-Malignant\n",
      "                - WDBC-Benign\n",
      "\n",
      "    :Summary Statistics:\n",
      "\n",
      "    ===================================== ====== ======\n",
      "                                           Min    Max\n",
      "    ===================================== ====== ======\n",
      "    radius (mean):                        6.981  28.11\n",
      "    texture (mean):                       9.71   39.28\n",
      "    perimeter (mean):                     43.79  188.5\n",
      "    area (mean):                          143.5  2501.0\n",
      "    smoothness (mean):                    0.053  0.163\n",
      "    compactness (mean):                   0.019  0.345\n",
      "    concavity (mean):                     0.0    0.427\n",
      "    concave points (mean):                0.0    0.201\n",
      "    symmetry (mean):                      0.106  0.304\n",
      "    fractal dimension (mean):             0.05   0.097\n",
      "    radius (standard error):              0.112  2.873\n",
      "    texture (standard error):             0.36   4.885\n",
      "    perimeter (standard error):           0.757  21.98\n",
      "    area (standard error):                6.802  542.2\n",
      "    smoothness (standard error):          0.002  0.031\n",
      "    compactness (standard error):         0.002  0.135\n",
      "    concavity (standard error):           0.0    0.396\n",
      "    concave points (standard error):      0.0    0.053\n",
      "    symmetry (standard error):            0.008  0.079\n",
      "    fractal dimension (standard error):   0.001  0.03\n",
      "    radius (worst):                       7.93   36.04\n",
      "    texture (worst):                      12.02  49.54\n",
      "    perimeter (worst):                    50.41  251.2\n",
      "    area (worst):                         185.2  4254.0\n",
      "    smoothness (worst):                   0.071  0.223\n",
      "    compactness (worst):                  0.027  1.058\n",
      "    concavity (worst):                    0.0    1.252\n",
      "    concave points (worst):               0.0    0.291\n",
      "    symmetry (worst):                     0.156  0.664\n",
      "    fractal dimension (worst):            0.055  0.208\n",
      "    ===================================== ====== ======\n",
      "\n",
      "    :Missing Attribute Values: None\n",
      "\n",
      "    :Class Distribution: 212 - Malignant, 357 - Benign\n",
      "\n",
      "    :Creator:  Dr. William H. Wolberg, W. Nick Street, Olvi L. Mangasarian\n",
      "\n",
      "    :Donor: Nick Street\n",
      "\n",
      "    :Date: November, 1995\n",
      "\n",
      "This is a copy of UCI ML Breast Cancer Wisconsin (Diagnostic) datasets.\n",
      "https://goo.gl/U2Uwz2\n",
      "\n",
      "Features are computed from a digitized image of a fine needle\n",
      "aspirate (FNA) of a breast mass.  They describe\n",
      "characteristics of the cell nuclei present in the image.\n",
      "\n",
      "Separating plane described above was obtained using\n",
      "Multisurface Method-Tree (MSM-T) [K. P. Bennett, \"Decision Tree\n",
      "Construction Via Linear Programming.\" Proceedings of the 4th\n",
      "Midwest Artificial Intelligence and Cognitive Science Society,\n",
      "pp. 97-101, 1992], a classification method which uses linear\n",
      "programming to construct a decision tree.  Relevant features\n",
      "were selected using an exhaustive search in the space of 1-4\n",
      "features and 1-3 separating planes.\n",
      "\n",
      "The actual linear program used to obtain the separating plane\n",
      "in the 3-dimensional space is that described in:\n",
      "[K. P. Bennett and O. L. Mangasarian: \"Robust Linear\n",
      "Programming Discrimination of Two Linearly Inseparable Sets\",\n",
      "Optimization Methods and Software 1, 1992, 23-34].\n",
      "\n",
      "This database is also available through the UW CS ftp server:\n",
      "\n",
      "ftp ftp.cs.wisc.edu\n",
      "cd math-prog/cpo-dataset/machine-learn/WDBC/\n",
      "\n",
      "References\n",
      "----------\n",
      "   - W.N. Street, W.H. Wolberg and O.L. Mangasarian. Nuclear feature extraction \n",
      "     for breast tumor diagnosis. IS&T/SPIE 1993 International Symposium on \n",
      "     Electronic Imaging: Science and Technology, volume 1905, pages 861-870,\n",
      "     San Jose, CA, 1993.\n",
      "   - O.L. Mangasarian, W.N. Street and W.H. Wolberg. Breast cancer diagnosis and \n",
      "     prognosis via linear programming. Operations Research, 43(4), pages 570-577, \n",
      "     July-August 1995.\n",
      "   - W.H. Wolberg, W.N. Street, and O.L. Mangasarian. Machine learning techniques\n",
      "     to diagnose breast cancer from fine-needle aspirates. Cancer Letters 77 (1994) \n",
      "     163-171.\n",
      "\n"
     ]
    }
   ],
   "source": [
    "print(data.DESCR)"
   ]
  },
  {
   "cell_type": "code",
   "execution_count": 34,
   "metadata": {},
   "outputs": [],
   "source": [
    "target = data.target * -1 + 1"
   ]
  },
  {
   "cell_type": "code",
   "execution_count": 35,
   "metadata": {},
   "outputs": [],
   "source": [
    "X_train, X_test, y_train, y_test = train_test_split(data.data, target)\n",
    "ss = StandardScaler()"
   ]
  },
  {
   "cell_type": "code",
   "execution_count": 37,
   "metadata": {},
   "outputs": [],
   "source": [
    "ss.fit(X_train)\n",
    "X_train = ss.transform(X_train)\n",
    "X_test = ss.transform(X_test)"
   ]
  },
  {
   "cell_type": "code",
   "execution_count": 45,
   "metadata": {},
   "outputs": [],
   "source": [
    "model = Sequential()\n",
    "model.add(Dense(X_train.shape[1], input_dim=X_train.shape[1], activation='relu'))\n",
    "\n",
    "model.add(Dense(1, activation='sigmoid'))\n",
    "\n",
    "model.compile(optimizer='adam', loss='binary_crossentropy', metrics=['accuracy'])"
   ]
  },
  {
   "cell_type": "code",
   "execution_count": 47,
   "metadata": {},
   "outputs": [
    {
     "name": "stdout",
     "output_type": "stream",
     "text": [
      "Train on 426 samples, validate on 143 samples\n",
      "Epoch 1/10\n",
      "426/426 [==============================] - 1s 1ms/step - loss: 0.8639 - acc: 0.4319 - val_loss: 0.7304 - val_acc: 0.5105\n",
      "Epoch 2/10\n",
      "426/426 [==============================] - 0s 68us/step - loss: 0.5658 - acc: 0.6690 - val_loss: 0.5040 - val_acc: 0.7273\n",
      "Epoch 3/10\n",
      "426/426 [==============================] - 0s 56us/step - loss: 0.3980 - acc: 0.8474 - val_loss: 0.3669 - val_acc: 0.8741\n",
      "Epoch 4/10\n",
      "426/426 [==============================] - 0s 49us/step - loss: 0.3015 - acc: 0.9225 - val_loss: 0.2864 - val_acc: 0.9161\n",
      "Epoch 5/10\n",
      "426/426 [==============================] - 0s 61us/step - loss: 0.2448 - acc: 0.9437 - val_loss: 0.2365 - val_acc: 0.9301\n",
      "Epoch 6/10\n",
      "426/426 [==============================] - 0s 56us/step - loss: 0.2084 - acc: 0.9460 - val_loss: 0.2034 - val_acc: 0.9441\n",
      "Epoch 7/10\n",
      "426/426 [==============================] - 0s 47us/step - loss: 0.1824 - acc: 0.9460 - val_loss: 0.1809 - val_acc: 0.9510\n",
      "Epoch 8/10\n",
      "426/426 [==============================] - 0s 47us/step - loss: 0.1632 - acc: 0.9507 - val_loss: 0.1630 - val_acc: 0.9510\n",
      "Epoch 9/10\n",
      "426/426 [==============================] - 0s 46us/step - loss: 0.1480 - acc: 0.9624 - val_loss: 0.1495 - val_acc: 0.9650\n",
      "Epoch 10/10\n",
      "426/426 [==============================] - 0s 52us/step - loss: 0.1353 - acc: 0.9648 - val_loss: 0.1388 - val_acc: 0.9720\n"
     ]
    },
    {
     "data": {
      "text/plain": [
       "<keras.callbacks.History at 0x2049e051dd8>"
      ]
     },
     "execution_count": 47,
     "metadata": {},
     "output_type": "execute_result"
    }
   ],
   "source": [
    "model.fit(X_train,y_train, validation_data=(X_test, y_test), epochs=10)"
   ]
  },
  {
   "cell_type": "code",
   "execution_count": 48,
   "metadata": {},
   "outputs": [
    {
     "data": {
      "text/plain": [
       "array([[ 0.02562111],\n",
       "       [ 0.99456537],\n",
       "       [ 0.99950421],\n",
       "       [ 0.58101761],\n",
       "       [ 0.12250246],\n",
       "       [ 0.07875784],\n",
       "       [ 0.34652734],\n",
       "       [ 0.99992824],\n",
       "       [ 0.99377811],\n",
       "       [ 0.00602841],\n",
       "       [ 0.99233961],\n",
       "       [ 0.03063892],\n",
       "       [ 0.10232757],\n",
       "       [ 0.2472126 ],\n",
       "       [ 0.08395835],\n",
       "       [ 0.06561336],\n",
       "       [ 0.99999332],\n",
       "       [ 0.99940383],\n",
       "       [ 0.02966477],\n",
       "       [ 0.09148387],\n",
       "       [ 0.93057573],\n",
       "       [ 0.02453707],\n",
       "       [ 0.11719768],\n",
       "       [ 0.08402832],\n",
       "       [ 0.0878014 ],\n",
       "       [ 0.99969876],\n",
       "       [ 0.98739803],\n",
       "       [ 1.        ],\n",
       "       [ 0.13559192],\n",
       "       [ 0.05173052],\n",
       "       [ 0.99987435],\n",
       "       [ 0.06505246],\n",
       "       [ 0.03045276],\n",
       "       [ 0.8742128 ],\n",
       "       [ 0.0149174 ],\n",
       "       [ 0.15162793],\n",
       "       [ 0.00514573],\n",
       "       [ 0.07250049],\n",
       "       [ 0.99993587],\n",
       "       [ 0.06274789],\n",
       "       [ 0.05601579],\n",
       "       [ 0.06322663],\n",
       "       [ 0.14306934],\n",
       "       [ 0.04808632],\n",
       "       [ 0.98365849],\n",
       "       [ 0.9377864 ],\n",
       "       [ 0.07729083],\n",
       "       [ 0.08272371],\n",
       "       [ 0.00581814],\n",
       "       [ 0.99948931],\n",
       "       [ 0.15768108],\n",
       "       [ 0.15866724],\n",
       "       [ 0.012472  ],\n",
       "       [ 0.04366458],\n",
       "       [ 0.91536969],\n",
       "       [ 0.01412478],\n",
       "       [ 0.99873525],\n",
       "       [ 0.34685621],\n",
       "       [ 0.01571743],\n",
       "       [ 0.00605887],\n",
       "       [ 0.11937524],\n",
       "       [ 0.93065524],\n",
       "       [ 0.9999851 ],\n",
       "       [ 0.99527031],\n",
       "       [ 0.89803898],\n",
       "       [ 0.94339776],\n",
       "       [ 0.0291364 ],\n",
       "       [ 0.1859224 ],\n",
       "       [ 0.93197364],\n",
       "       [ 0.02608866],\n",
       "       [ 0.31224701],\n",
       "       [ 0.23148382],\n",
       "       [ 0.06512514],\n",
       "       [ 0.04184747],\n",
       "       [ 0.95725077],\n",
       "       [ 0.02209481],\n",
       "       [ 0.03498279],\n",
       "       [ 0.091506  ],\n",
       "       [ 0.53628343],\n",
       "       [ 0.45292357],\n",
       "       [ 0.07184817],\n",
       "       [ 0.80815136],\n",
       "       [ 0.09805243],\n",
       "       [ 0.07864141],\n",
       "       [ 0.99940431],\n",
       "       [ 0.0290202 ],\n",
       "       [ 0.06701324],\n",
       "       [ 0.99420089],\n",
       "       [ 0.97285819],\n",
       "       [ 0.37082529],\n",
       "       [ 0.78498274],\n",
       "       [ 0.9664169 ],\n",
       "       [ 0.10350953],\n",
       "       [ 0.04559763],\n",
       "       [ 0.0139951 ],\n",
       "       [ 0.07702392],\n",
       "       [ 0.00522835],\n",
       "       [ 0.92298925],\n",
       "       [ 0.46077502],\n",
       "       [ 0.08250748],\n",
       "       [ 0.64231008],\n",
       "       [ 0.05006221],\n",
       "       [ 0.36942789],\n",
       "       [ 0.45299819],\n",
       "       [ 0.04398404],\n",
       "       [ 0.87717587],\n",
       "       [ 0.13169764],\n",
       "       [ 0.12481597],\n",
       "       [ 0.99969804],\n",
       "       [ 0.0489689 ],\n",
       "       [ 0.00840702],\n",
       "       [ 0.08103097],\n",
       "       [ 0.01146976],\n",
       "       [ 0.04663303],\n",
       "       [ 0.19415504],\n",
       "       [ 0.10845558],\n",
       "       [ 0.03976464],\n",
       "       [ 0.10545832],\n",
       "       [ 0.89407855],\n",
       "       [ 0.02600169],\n",
       "       [ 0.0458592 ],\n",
       "       [ 0.46815452],\n",
       "       [ 0.99899918],\n",
       "       [ 0.11832002],\n",
       "       [ 0.05849018],\n",
       "       [ 0.04416529],\n",
       "       [ 0.04568558],\n",
       "       [ 0.62044829],\n",
       "       [ 0.03981424],\n",
       "       [ 0.0129315 ],\n",
       "       [ 0.222311  ],\n",
       "       [ 0.31514227],\n",
       "       [ 0.00967134],\n",
       "       [ 0.01030382],\n",
       "       [ 0.95672208],\n",
       "       [ 0.07609427],\n",
       "       [ 0.05542484],\n",
       "       [ 0.00939813],\n",
       "       [ 0.03129892],\n",
       "       [ 0.01203269],\n",
       "       [ 0.80809313],\n",
       "       [ 0.16603771],\n",
       "       [ 0.00973996]], dtype=float32)"
      ]
     },
     "execution_count": 48,
     "metadata": {},
     "output_type": "execute_result"
    }
   ],
   "source": [
    "model.predict(X_test)"
   ]
  },
  {
   "cell_type": "code",
   "execution_count": 51,
   "metadata": {},
   "outputs": [
    {
     "name": "stdout",
     "output_type": "stream",
     "text": [
      "143/143 [==============================] - 0s 42us/step\n"
     ]
    },
    {
     "data": {
      "text/plain": [
       "array([0, 1, 1, 1, 0, 0, 0, 1, 1, 0, 1, 0, 0, 0, 0, 0, 1, 1, 0, 0, 1, 0, 0,\n",
       "       0, 0, 1, 1, 1, 0, 0, 1, 0, 0, 1, 0, 0, 0, 0, 1, 0, 0, 0, 0, 0, 1, 1,\n",
       "       0, 0, 0, 1, 0, 0, 0, 0, 1, 0, 1, 0, 0, 0, 0, 1, 1, 1, 1, 1, 0, 0, 1,\n",
       "       0, 0, 0, 0, 0, 1, 0, 0, 0, 1, 0, 0, 1, 0, 0, 1, 0, 0, 1, 1, 0, 1, 1,\n",
       "       0, 0, 0, 0, 0, 1, 0, 0, 1, 0, 0, 0, 0, 1, 0, 0, 1, 0, 0, 0, 0, 0, 0,\n",
       "       0, 0, 0, 1, 0, 0, 0, 1, 0, 0, 0, 0, 1, 0, 0, 0, 0, 0, 0, 1, 0, 0, 0,\n",
       "       0, 0, 1, 0, 0])"
      ]
     },
     "execution_count": 51,
     "metadata": {},
     "output_type": "execute_result"
    }
   ],
   "source": [
    "pred = model.predict_classes(X_test)\n",
    "pred[:, 0]"
   ]
  },
  {
   "cell_type": "markdown",
   "metadata": {},
   "source": [
    "# Iris dataset"
   ]
  },
  {
   "cell_type": "code",
   "execution_count": 55,
   "metadata": {},
   "outputs": [],
   "source": [
    "data = load_iris()"
   ]
  },
  {
   "cell_type": "code",
   "execution_count": 56,
   "metadata": {},
   "outputs": [],
   "source": [
    "X_train, X_test, y_train, y_test = train_test_split(data.data, data.target)"
   ]
  },
  {
   "cell_type": "code",
   "execution_count": 58,
   "metadata": {},
   "outputs": [],
   "source": [
    "y_train = to_categorical(y_train)\n",
    "y_test = to_categorical(y_test)"
   ]
  },
  {
   "cell_type": "code",
   "execution_count": 59,
   "metadata": {},
   "outputs": [
    {
     "data": {
      "text/plain": [
       "array([[ 1.,  0.,  0.],\n",
       "       [ 1.,  0.,  0.],\n",
       "       [ 1.,  0.,  0.],\n",
       "       [ 0.,  0.,  1.],\n",
       "       [ 0.,  0.,  1.],\n",
       "       [ 1.,  0.,  0.],\n",
       "       [ 0.,  1.,  0.],\n",
       "       [ 0.,  0.,  1.],\n",
       "       [ 0.,  1.,  0.],\n",
       "       [ 0.,  0.,  1.],\n",
       "       [ 1.,  0.,  0.],\n",
       "       [ 1.,  0.,  0.],\n",
       "       [ 0.,  1.,  0.],\n",
       "       [ 0.,  1.,  0.],\n",
       "       [ 0.,  0.,  1.],\n",
       "       [ 0.,  1.,  0.],\n",
       "       [ 1.,  0.,  0.],\n",
       "       [ 1.,  0.,  0.],\n",
       "       [ 0.,  0.,  1.],\n",
       "       [ 0.,  0.,  1.],\n",
       "       [ 1.,  0.,  0.],\n",
       "       [ 1.,  0.,  0.],\n",
       "       [ 1.,  0.,  0.],\n",
       "       [ 0.,  1.,  0.],\n",
       "       [ 1.,  0.,  0.],\n",
       "       [ 0.,  1.,  0.],\n",
       "       [ 0.,  0.,  1.],\n",
       "       [ 0.,  0.,  1.],\n",
       "       [ 1.,  0.,  0.],\n",
       "       [ 0.,  1.,  0.],\n",
       "       [ 1.,  0.,  0.],\n",
       "       [ 1.,  0.,  0.],\n",
       "       [ 0.,  0.,  1.],\n",
       "       [ 0.,  1.,  0.],\n",
       "       [ 0.,  1.,  0.],\n",
       "       [ 0.,  0.,  1.],\n",
       "       [ 0.,  1.,  0.],\n",
       "       [ 0.,  1.,  0.],\n",
       "       [ 0.,  1.,  0.],\n",
       "       [ 0.,  0.,  1.],\n",
       "       [ 1.,  0.,  0.],\n",
       "       [ 1.,  0.,  0.],\n",
       "       [ 1.,  0.,  0.],\n",
       "       [ 1.,  0.,  0.],\n",
       "       [ 0.,  0.,  1.],\n",
       "       [ 1.,  0.,  0.],\n",
       "       [ 0.,  0.,  1.],\n",
       "       [ 0.,  0.,  1.],\n",
       "       [ 0.,  0.,  1.],\n",
       "       [ 0.,  0.,  1.],\n",
       "       [ 0.,  1.,  0.],\n",
       "       [ 1.,  0.,  0.],\n",
       "       [ 0.,  0.,  1.],\n",
       "       [ 0.,  0.,  1.],\n",
       "       [ 1.,  0.,  0.],\n",
       "       [ 0.,  1.,  0.],\n",
       "       [ 0.,  0.,  1.],\n",
       "       [ 1.,  0.,  0.],\n",
       "       [ 0.,  0.,  1.],\n",
       "       [ 0.,  1.,  0.],\n",
       "       [ 0.,  1.,  0.],\n",
       "       [ 1.,  0.,  0.],\n",
       "       [ 1.,  0.,  0.],\n",
       "       [ 1.,  0.,  0.],\n",
       "       [ 0.,  1.,  0.],\n",
       "       [ 1.,  0.,  0.],\n",
       "       [ 0.,  1.,  0.],\n",
       "       [ 0.,  0.,  1.],\n",
       "       [ 0.,  0.,  1.],\n",
       "       [ 1.,  0.,  0.],\n",
       "       [ 1.,  0.,  0.],\n",
       "       [ 0.,  1.,  0.],\n",
       "       [ 1.,  0.,  0.],\n",
       "       [ 0.,  0.,  1.],\n",
       "       [ 0.,  1.,  0.],\n",
       "       [ 1.,  0.,  0.],\n",
       "       [ 0.,  0.,  1.],\n",
       "       [ 0.,  1.,  0.],\n",
       "       [ 1.,  0.,  0.],\n",
       "       [ 0.,  1.,  0.],\n",
       "       [ 0.,  1.,  0.],\n",
       "       [ 0.,  0.,  1.],\n",
       "       [ 0.,  1.,  0.],\n",
       "       [ 0.,  1.,  0.],\n",
       "       [ 1.,  0.,  0.],\n",
       "       [ 0.,  0.,  1.],\n",
       "       [ 1.,  0.,  0.],\n",
       "       [ 0.,  1.,  0.],\n",
       "       [ 0.,  1.,  0.],\n",
       "       [ 0.,  0.,  1.],\n",
       "       [ 1.,  0.,  0.],\n",
       "       [ 0.,  1.,  0.],\n",
       "       [ 1.,  0.,  0.],\n",
       "       [ 0.,  1.,  0.],\n",
       "       [ 1.,  0.,  0.],\n",
       "       [ 0.,  0.,  1.],\n",
       "       [ 1.,  0.,  0.],\n",
       "       [ 0.,  0.,  1.],\n",
       "       [ 0.,  1.,  0.],\n",
       "       [ 0.,  1.,  0.],\n",
       "       [ 1.,  0.,  0.],\n",
       "       [ 0.,  0.,  1.],\n",
       "       [ 0.,  0.,  1.],\n",
       "       [ 0.,  0.,  1.],\n",
       "       [ 0.,  0.,  1.],\n",
       "       [ 0.,  0.,  1.],\n",
       "       [ 0.,  0.,  1.],\n",
       "       [ 0.,  0.,  1.],\n",
       "       [ 1.,  0.,  0.],\n",
       "       [ 0.,  1.,  0.],\n",
       "       [ 0.,  1.,  0.],\n",
       "       [ 0.,  1.,  0.]])"
      ]
     },
     "execution_count": 59,
     "metadata": {},
     "output_type": "execute_result"
    }
   ],
   "source": [
    "y_train"
   ]
  },
  {
   "cell_type": "code",
   "execution_count": 60,
   "metadata": {},
   "outputs": [],
   "source": [
    "ss = StandardScaler()\n",
    "X_train= ss.fit_transform(X_train)\n",
    "X_test = ss.fit_transform(X_test)"
   ]
  },
  {
   "cell_type": "code",
   "execution_count": 64,
   "metadata": {},
   "outputs": [
    {
     "name": "stdout",
     "output_type": "stream",
     "text": [
      "Train on 112 samples, validate on 38 samples\n",
      "Epoch 1/20\n",
      "112/112 [==============================] - 0s 4ms/step - loss: 1.3104 - acc: 0.3571 - val_loss: 1.2300 - val_acc: 0.2632\n",
      "Epoch 2/20\n",
      "112/112 [==============================] - 0s 63us/step - loss: 1.4100 - acc: 0.2857 - val_loss: 1.2194 - val_acc: 0.2632\n",
      "Epoch 3/20\n",
      "112/112 [==============================] - 0s 63us/step - loss: 1.3886 - acc: 0.3125 - val_loss: 1.2093 - val_acc: 0.2632\n",
      "Epoch 4/20\n",
      "112/112 [==============================] - 0s 54us/step - loss: 1.2924 - acc: 0.2589 - val_loss: 1.1998 - val_acc: 0.2632\n",
      "Epoch 5/20\n",
      "112/112 [==============================] - 0s 54us/step - loss: 1.3369 - acc: 0.3393 - val_loss: 1.1907 - val_acc: 0.2895\n",
      "Epoch 6/20\n",
      "112/112 [==============================] - 0s 54us/step - loss: 1.2961 - acc: 0.3393 - val_loss: 1.1814 - val_acc: 0.2895\n",
      "Epoch 7/20\n",
      "112/112 [==============================] - 0s 63us/step - loss: 1.2119 - acc: 0.3482 - val_loss: 1.1721 - val_acc: 0.2895\n",
      "Epoch 8/20\n",
      "112/112 [==============================] - 0s 45us/step - loss: 1.1614 - acc: 0.3393 - val_loss: 1.1631 - val_acc: 0.2895\n",
      "Epoch 9/20\n",
      "112/112 [==============================] - 0s 45us/step - loss: 1.2525 - acc: 0.3482 - val_loss: 1.1540 - val_acc: 0.2895\n",
      "Epoch 10/20\n",
      "112/112 [==============================] - 0s 63us/step - loss: 1.2183 - acc: 0.4196 - val_loss: 1.1452 - val_acc: 0.2895\n",
      "Epoch 11/20\n",
      "112/112 [==============================] - 0s 54us/step - loss: 1.2453 - acc: 0.3125 - val_loss: 1.1368 - val_acc: 0.2895\n",
      "Epoch 12/20\n",
      "112/112 [==============================] - 0s 54us/step - loss: 1.1803 - acc: 0.3839 - val_loss: 1.1287 - val_acc: 0.2632\n",
      "Epoch 13/20\n",
      "112/112 [==============================] - 0s 54us/step - loss: 1.2339 - acc: 0.2946 - val_loss: 1.1213 - val_acc: 0.2632\n",
      "Epoch 14/20\n",
      "112/112 [==============================] - 0s 54us/step - loss: 1.2028 - acc: 0.3214 - val_loss: 1.1138 - val_acc: 0.2632\n",
      "Epoch 15/20\n",
      "112/112 [==============================] - 0s 54us/step - loss: 1.1852 - acc: 0.3482 - val_loss: 1.1063 - val_acc: 0.2895\n",
      "Epoch 16/20\n",
      "112/112 [==============================] - 0s 63us/step - loss: 1.1466 - acc: 0.3036 - val_loss: 1.0986 - val_acc: 0.2895\n",
      "Epoch 17/20\n",
      "112/112 [==============================] - 0s 54us/step - loss: 1.2630 - acc: 0.2857 - val_loss: 1.0910 - val_acc: 0.2895\n",
      "Epoch 18/20\n",
      "112/112 [==============================] - 0s 63us/step - loss: 1.1497 - acc: 0.3750 - val_loss: 1.0837 - val_acc: 0.2895\n",
      "Epoch 19/20\n",
      "112/112 [==============================] - 0s 54us/step - loss: 1.1340 - acc: 0.3036 - val_loss: 1.0767 - val_acc: 0.2895\n",
      "Epoch 20/20\n",
      "112/112 [==============================] - 0s 45us/step - loss: 1.1394 - acc: 0.4464 - val_loss: 1.0704 - val_acc: 0.3421\n"
     ]
    },
    {
     "data": {
      "text/plain": [
       "<keras.callbacks.History at 0x2049d6f2780>"
      ]
     },
     "execution_count": 64,
     "metadata": {},
     "output_type": "execute_result"
    }
   ],
   "source": [
    "model = Sequential()\n",
    "model.add(Dropout(.5, input_shape=(X_train.shape[1],)))\n",
    "model.add(Dense(10, activation='relu'))\n",
    "model.add(Dropout(.5))\n",
    "model.add(Dense(5, activation='relu'))\n",
    "model.add(Dense(y_train.shape[1], activation='softmax'))\n",
    "\n",
    "model.compile(optimizer='adam', loss='categorical_crossentropy', metrics=['accuracy'])\n",
    "\n",
    "model.fit(X_train, y_train, validation_data=(X_test, y_test), epochs=20, batch_size=70)"
   ]
  },
  {
   "cell_type": "markdown",
   "metadata": {},
   "source": [
    "## Image Recognition"
   ]
  },
  {
   "cell_type": "code",
   "execution_count": 65,
   "metadata": {},
   "outputs": [],
   "source": [
    "data = fetch_lfw_people(min_faces_per_person=70)"
   ]
  },
  {
   "cell_type": "code",
   "execution_count": 66,
   "metadata": {},
   "outputs": [],
   "source": [
    "import matplotlib.pyplot as plt\n",
    "%matplotlib inline"
   ]
  },
  {
   "cell_type": "code",
   "execution_count": 69,
   "metadata": {},
   "outputs": [
    {
     "data": {
      "text/plain": [
       "<matplotlib.image.AxesImage at 0x204a453b278>"
      ]
     },
     "execution_count": 69,
     "metadata": {},
     "output_type": "execute_result"
    },
    {
     "data": {
      "image/png": "[encoded data removed]",
      "text/plain": [
       "<matplotlib.figure.Figure at 0x204a4326d30>"
      ]
     },
     "metadata": {},
     "output_type": "display_data"
    }
   ],
   "source": [
    "plt.imshow(data.images[0])"
   ]
  },
  {
   "cell_type": "code",
   "execution_count": 70,
   "metadata": {},
   "outputs": [
    {
     "data": {
      "text/plain": [
       "array(['Ariel Sharon', 'Colin Powell', 'Donald Rumsfeld', 'George W Bush',\n",
       "       'Gerhard Schroeder', 'Hugo Chavez', 'Tony Blair'],\n",
       "      dtype='<U17')"
      ]
     },
     "execution_count": 70,
     "metadata": {},
     "output_type": "execute_result"
    }
   ],
   "source": [
    "data.target_names"
   ]
  },
  {
   "cell_type": "code",
   "execution_count": 71,
   "metadata": {},
   "outputs": [
    {
     "data": {
      "text/plain": [
       "array([5, 6, 3, ..., 5, 3, 5], dtype=int64)"
      ]
     },
     "execution_count": 71,
     "metadata": {},
     "output_type": "execute_result"
    }
   ],
   "source": [
    "data.target"
   ]
  },
  {
   "cell_type": "code",
   "execution_count": 72,
   "metadata": {},
   "outputs": [
    {
     "data": {
      "text/plain": [
       "1288"
      ]
     },
     "execution_count": 72,
     "metadata": {},
     "output_type": "execute_result"
    }
   ],
   "source": [
    "len(data.target)"
   ]
  },
  {
   "cell_type": "code",
   "execution_count": 73,
   "metadata": {},
   "outputs": [],
   "source": [
    "y = to_categorical(data.target)"
   ]
  },
  {
   "cell_type": "code",
   "execution_count": 74,
   "metadata": {},
   "outputs": [],
   "source": [
    "X_train, X_test, y_train, y_test = train_test_split(data.data, y)"
   ]
  },
  {
   "cell_type": "code",
   "execution_count": 75,
   "metadata": {},
   "outputs": [
    {
     "data": {
      "text/plain": [
       "array([  77.33333588,   80.        ,  112.33333588, ...,   43.33333206,\n",
       "         41.33333206,   52.        ], dtype=float32)"
      ]
     },
     "execution_count": 75,
     "metadata": {},
     "output_type": "execute_result"
    }
   ],
   "source": [
    "X_train[0,:]"
   ]
  },
  {
   "cell_type": "code",
   "execution_count": 76,
   "metadata": {},
   "outputs": [],
   "source": [
    "X_train = X_train / 255.\n",
    "X_test = X_test / 255"
   ]
  },
  {
   "cell_type": "code",
   "execution_count": 77,
   "metadata": {},
   "outputs": [
    {
     "name": "stdout",
     "output_type": "stream",
     "text": [
      "Train on 966 samples, validate on 322 samples\n",
      "Epoch 1/5\n",
      "966/966 [==============================] - 2s 2ms/step - loss: 8.6271 - acc: 0.3799 - val_loss: 10.0112 - val_acc: 0.3789\n",
      "Epoch 2/5\n",
      "966/966 [==============================] - 2s 2ms/step - loss: 9.3105 - acc: 0.4224 - val_loss: 10.0112 - val_acc: 0.3789\n",
      "Epoch 3/5\n",
      "966/966 [==============================] - 2s 2ms/step - loss: 9.3105 - acc: 0.4224 - val_loss: 10.0112 - val_acc: 0.3789\n",
      "Epoch 4/5\n",
      "966/966 [==============================] - 2s 2ms/step - loss: 9.3105 - acc: 0.4224 - val_loss: 10.0112 - val_acc: 0.3789\n",
      "Epoch 5/5\n",
      "966/966 [==============================] - 2s 2ms/step - loss: 9.3105 - acc: 0.4224 - val_loss: 10.0112 - val_acc: 0.3789\n"
     ]
    },
    {
     "data": {
      "text/plain": [
       "<keras.callbacks.History at 0x204a48650b8>"
      ]
     },
     "execution_count": 77,
     "metadata": {},
     "output_type": "execute_result"
    }
   ],
   "source": [
    "model = Sequential()\n",
    "model.add(Dense(X_train.shape[1], input_dim=X_train.shape[1], activation='relu'))\n",
    "model.add(Dense(y.shape[1], activation='softmax'))\n",
    "\n",
    "model.compile(loss='categorical_crossentropy', optimizer='adam', metrics=['accuracy'])\n",
    "\n",
    "model.fit(X_train, y_train, validation_data=(X_test, y_test), epochs=5, batch_size=100)"
   ]
  },
  {
   "cell_type": "code",
   "execution_count": null,
   "metadata": {},
   "outputs": [],
   "source": []
  }
 ],
 "metadata": {
  "kernelspec": {
   "display_name": "Python 3",
   "language": "python",
   "name": "python3"
  },
  "language_info": {
   "codemirror_mode": {
    "name": "ipython",
    "version": 3
   },
   "file_extension": ".py",
   "mimetype": "text/x-python",
   "name": "python",
   "nbconvert_exporter": "python",
   "pygments_lexer": "ipython3",
   "version": "3.6.3"
  }
 },
 "nbformat": 4,
 "nbformat_minor": 2
}
